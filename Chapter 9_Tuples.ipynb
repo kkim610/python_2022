{
 "cells": [
  {
   "cell_type": "markdown",
   "metadata": {
    "Collapsed": "false"
   },
   "source": [
    "![](pic/pic_1.png)\n",
    "\n",
    "# **9장  &nbsp;&nbsp;튜플(Tuples)**  \n",
    "<br>\n"
   ]
  },
  {
   "cell_type": "markdown",
   "metadata": {
    "Collapsed": "false"
   },
   "source": [
    "## 1.  &nbsp;&nbsp;튜플은 불변(immutable)\n"
   ]
  },
  {
   "cell_type": "markdown",
   "metadata": {
    "Collapsed": "false"
   },
   "source": [
    "<br>\n",
    "튜플(tuple)은 리스트와 마찬가지로 값들의 순서있는 나열이다.   \n",
    "튜플에 저장된 값은 임의 자료형(type)이 될 수 있고, 정수로 색인 된다.   \n",
    "중요한 차이점은 튜플은 불변(immutable)이다는 것이다.   \n",
    "튜플은 또한 비교 가능(comparable)하고 해쉬형(hashable)이다.  \n",
    "따라서, 값을 정렬할 수 있고, 파이썬 딕셔너리의 키 값으로 튜플을 사용할 수 있다.  \n",
    "구문론적으로, 튜플은 콤마로 구분되는 리스트 값이다."
   ]
  },
  {
   "cell_type": "code",
   "execution_count": null,
   "metadata": {
    "Collapsed": "false"
   },
   "outputs": [],
   "source": [
    "t = 'a', 'b', 'c', 'd', 'e'\n",
    "print(type(t))\n",
    "print(t)"
   ]
  },
  {
   "cell_type": "markdown",
   "metadata": {
    "Collapsed": "false"
   },
   "source": [
    "<br>\n",
    "꼭 필요하지는 않지만, 파이썬 코드를 봤을 때, 가독성을 높여 튜플을 빠르게 알아볼 수 있도록 괄호로 튜플을 감싸는 것이 일반적이다."
   ]
  },
  {
   "cell_type": "code",
   "execution_count": null,
   "metadata": {
    "Collapsed": "false"
   },
   "outputs": [],
   "source": [
    "t = ('a', 'b', 'c', 'd', 'e')\n",
    "print(type(t))\n",
    "print(t)"
   ]
  },
  {
   "cell_type": "markdown",
   "metadata": {
    "Collapsed": "false"
   },
   "source": [
    "<br>단일 요소를 가진 튜플을 생성하기 위해서 마지막 콤마를 포함해야 한다."
   ]
  },
  {
   "cell_type": "code",
   "execution_count": null,
   "metadata": {
    "Collapsed": "false"
   },
   "outputs": [],
   "source": [
    "t1 = ('a',)\n",
    "print(type(t1))\n",
    "print(t1)"
   ]
  },
  {
   "cell_type": "markdown",
   "metadata": {
    "Collapsed": "false"
   },
   "source": [
    "<br>콤마가 없는 경우 파이썬에서는 ('a')을 괄호를 가진 문자열 표현으로 간주하여 문자열로 평가한다."
   ]
  },
  {
   "cell_type": "code",
   "execution_count": null,
   "metadata": {
    "Collapsed": "false"
   },
   "outputs": [],
   "source": [
    "t2 = ('a')\n",
    "print(type(t2))\n",
    "print(t2)"
   ]
  },
  {
   "cell_type": "markdown",
   "metadata": {
    "Collapsed": "false"
   },
   "source": [
    "<br>튜플을 구축하는 다른 방법은 내장함수 tuple()을 사용하는 것이다.   \n",
    "인자가 없는 경우, 빈 튜플을 생성한다."
   ]
  },
  {
   "cell_type": "code",
   "execution_count": null,
   "metadata": {
    "Collapsed": "false"
   },
   "outputs": [],
   "source": [
    "t = tuple()\n",
    "print(type(t))\n",
    "print(t)"
   ]
  },
  {
   "cell_type": "code",
   "execution_count": null,
   "metadata": {
    "Collapsed": "false"
   },
   "outputs": [],
   "source": [
    "t = ()\n",
    "print(type(t))\n",
    "print(t)"
   ]
  },
  {
   "cell_type": "markdown",
   "metadata": {
    "Collapsed": "false"
   },
   "source": [
    "<br>만약 인자가 문자열, 리스트 혹은 튜플 같은 순서(sequence)를 가지는 값인 경우, tuple( )에 호출한 결과는 그 요소의 순서를 그대로 유지한 튜플이 된다."
   ]
  },
  {
   "cell_type": "code",
   "execution_count": null,
   "metadata": {
    "Collapsed": "false"
   },
   "outputs": [],
   "source": [
    "t = tuple('lupins')\n",
    "print(t)"
   ]
  },
  {
   "cell_type": "code",
   "execution_count": null,
   "metadata": {
    "Collapsed": "false"
   },
   "outputs": [],
   "source": [
    "t= tuple(['apple', 32, ['nuclear bomb']])\n",
    "print(t)"
   ]
  },
  {
   "cell_type": "markdown",
   "metadata": {
    "Collapsed": "false"
   },
   "source": [
    "<br>튜플(tuple)이 생성자 이름이기 때문에 변수명으로 튜플 사용을 피해야 한다.  \n",
    "대부분의 리스트 연산자는 튜플에서도 사용 가능하다.   \n",
    "꺾쇠 연산자가 요소를 색인한다."
   ]
  },
  {
   "cell_type": "code",
   "execution_count": null,
   "metadata": {
    "Collapsed": "false"
   },
   "outputs": [],
   "source": [
    "t = ('a', 'b', 'c', 'd', 'e')\n",
    "print(t[0])"
   ]
  },
  {
   "cell_type": "markdown",
   "metadata": {
    "Collapsed": "false"
   },
   "source": [
    "<br>슬라이스 연산자(slice operator)는 요소 범위를 선택한다."
   ]
  },
  {
   "cell_type": "code",
   "execution_count": null,
   "metadata": {
    "Collapsed": "false"
   },
   "outputs": [],
   "source": [
    "t = ('a', 'b', 'c', 'd', 'e')\n",
    "print(t[1:3])"
   ]
  },
  {
   "cell_type": "markdown",
   "metadata": {
    "Collapsed": "false"
   },
   "source": [
    "<br>하지만, 튜플 요소 중 하나를 변경하고 하면, 오류가 발생한다."
   ]
  },
  {
   "cell_type": "code",
   "execution_count": null,
   "metadata": {
    "Collapsed": "false"
   },
   "outputs": [],
   "source": [
    "t = ('a', 'b', 'c', 'd', 'e')\n",
    "t[0]= 'A'"
   ]
  },
  {
   "cell_type": "markdown",
   "metadata": {
    "Collapsed": "false"
   },
   "source": [
    "<br>튜플 요소를 변경할 수는 없지만, 한 튜플을 다른 튜플로 교체는 할 수 있다."
   ]
  },
  {
   "cell_type": "code",
   "execution_count": null,
   "metadata": {
    "Collapsed": "false"
   },
   "outputs": [],
   "source": [
    "t = ('a', 'b', 'c', 'd', 'e')\n",
    "t = ('A',) + t[1:]\n",
    "print(t)"
   ]
  },
  {
   "cell_type": "markdown",
   "metadata": {
    "Collapsed": "false"
   },
   "source": [
    "## 2.  &nbsp;&nbsp;튜플 비교하기\n"
   ]
  },
  {
   "cell_type": "markdown",
   "metadata": {
    "Collapsed": "false"
   },
   "source": [
    "<br>\n",
    "튜플에서 비교 연산자를 사용할 수 있다.   \n",
    "파이썬은 비교를 첫 요소부터 시작한다.   \n",
    "만약 두 요소가 같다면, 다음 요소 비교를 진행하며 최초로 서로 다른 요소를 찾을 때까지 계속한다.   \n",
    "최초로 서로 같지 않아 비교가 끝나면, 후속 요소가 아무리 큰 값이라고 하더라도 더 이상 비교하지 않는다."
   ]
  },
  {
   "cell_type": "code",
   "execution_count": null,
   "metadata": {
    "Collapsed": "false"
   },
   "outputs": [],
   "source": [
    "(0, 1, 2) < (0, 3, 4)"
   ]
  },
  {
   "cell_type": "code",
   "execution_count": null,
   "metadata": {
    "Collapsed": "false"
   },
   "outputs": [],
   "source": [
    "(2, 1, 2) < (0, 3, 4)"
   ]
  },
  {
   "cell_type": "markdown",
   "metadata": {
    "Collapsed": "false"
   },
   "source": [
    "## 3.  &nbsp;&nbsp;튜플 대입(Tuple Assignment)\n"
   ]
  },
  {
   "cell_type": "markdown",
   "metadata": {
    "Collapsed": "false"
   },
   "source": [
    "<br>\n",
    "대입문의 경우, 오른편이 순서(sequence)인 경우 한 번에 하나 이상의 변수에 대입할 수 있다.  \n",
    "다음 예제에서, 순서(sequence)인 두 개 요소를 갖는 리스트가 있다.  \n",
    "하나의 문장으로 순서(sequence)의 첫 번째와 두 번째 요소를 변수 x와 y에 대입한다.\n"
   ]
  },
  {
   "cell_type": "code",
   "execution_count": null,
   "metadata": {
    "Collapsed": "false"
   },
   "outputs": [],
   "source": [
    "m = [ 'have', 'fun' ]\n",
    "x, y = m\n",
    "print(x)\n",
    "print(y)"
   ]
  },
  {
   "cell_type": "markdown",
   "metadata": {
    "Collapsed": "false"
   },
   "source": [
    "<br> 마술이 아니다. 파이썬은 대략 튜플 대입 구문을 다음과 같이 해석한다."
   ]
  },
  {
   "cell_type": "code",
   "execution_count": null,
   "metadata": {
    "Collapsed": "false"
   },
   "outputs": [],
   "source": [
    "m = [ 'have', 'fun' ]\n",
    "x = m[0]\n",
    "y = m[1]\n",
    "print(x)\n",
    "print(y)"
   ]
  },
  {
   "cell_type": "markdown",
   "metadata": {
    "Collapsed": "false"
   },
   "source": [
    "<br>\n",
    "스타일적으로 대입문 왼편에 튜플을 사용할 때, 괄호를 생략한다.   \n",
    "하지만 다음은 동일하게 적합한 구문이다."
   ]
  },
  {
   "cell_type": "code",
   "execution_count": null,
   "metadata": {
    "Collapsed": "false"
   },
   "outputs": [],
   "source": [
    "m = [ 'have', 'fun' ]\n",
    "(x,y) = m\n",
    "print(x)\n",
    "print(y)"
   ]
  },
  {
   "cell_type": "code",
   "execution_count": null,
   "metadata": {
    "Collapsed": "false"
   },
   "outputs": [],
   "source": [
    "m = 'Hi'\n",
    "x, y = m\n",
    "print(x)\n",
    "print(y)"
   ]
  },
  {
   "cell_type": "code",
   "execution_count": null,
   "metadata": {
    "Collapsed": "false"
   },
   "outputs": [],
   "source": [
    "m = ( 'nuclear', 5 )\n",
    "x, y = m\n",
    "print(x)\n",
    "print(y)"
   ]
  },
  {
   "cell_type": "markdown",
   "metadata": {
    "Collapsed": "false"
   },
   "source": [
    "<br>튜플 대입문을 사용하는 한 응용사례는 단일 문장으로 두 변수 값을 교환(swap)하는 것이다."
   ]
  },
  {
   "cell_type": "code",
   "execution_count": null,
   "metadata": {
    "Collapsed": "false"
   },
   "outputs": [],
   "source": [
    "x = 'nuclear'\n",
    "y = 5\n",
    "x , y = y, x\n",
    "print(\"x=\", x)\n",
    "print(\"y=\", y)"
   ]
  },
  {
   "cell_type": "markdown",
   "metadata": {
    "Collapsed": "false"
   },
   "source": [
    "<br>양쪽 문장이 모두 튜플이지만, 왼편은 튜플 변수이고 오른편은 튜플 표현식이다.   \n",
    "오른편 각각의 값이 왼편 해당 변수에 대입된다.   \n",
    "대입이 이루어지기 전에 오른편의 모든 표현식이 평가된다.  \n",
    "왼편의 변수 갯수와 오른편의 값의 갯수는 동일해야 한다."
   ]
  },
  {
   "cell_type": "code",
   "execution_count": null,
   "metadata": {
    "Collapsed": "false"
   },
   "outputs": [],
   "source": [
    "a, b = 1, 2, 3"
   ]
  },
  {
   "cell_type": "markdown",
   "metadata": {
    "Collapsed": "false"
   },
   "source": [
    "<br>\n",
    "좀더 일반적으로, 오른편은 임의의 순서(문자열, 리스트 혹은 튜플)가 될 수 있다.  \n",
    "예를 들어, 전자우편 주소를 사용자 이름과 도메인으로 분할하기 위해서 다음과 같이 프로그램을 작성할 수 있다."
   ]
  },
  {
   "cell_type": "code",
   "execution_count": null,
   "metadata": {
    "Collapsed": "false"
   },
   "outputs": [],
   "source": [
    "addr = 'monty@python.org'\n",
    "uname, domain = addr.split('@')\n",
    "print(uname)\n",
    "print(domain)"
   ]
  },
  {
   "cell_type": "markdown",
   "metadata": {
    "Collapsed": "false"
   },
   "source": [
    "<br>split( ) 함수로부터 반환되는 값은 두 개 요소를 가진 리스트다.  \n",
    "첫 번째 요소는 uname에 두 번째 요소는 domain에 대입된다."
   ]
  },
  {
   "cell_type": "markdown",
   "metadata": {
    "Collapsed": "false"
   },
   "source": [
    "## 4.  &nbsp;&nbsp;딕셔너리와 튜플\n"
   ]
  },
  {
   "cell_type": "markdown",
   "metadata": {
    "Collapsed": "false"
   },
   "source": [
    "<br>\n",
    "딕셔너리에는 튜플 리스트를 반환하는 items( ) 메쏘드가 있다.   \n",
    "각 튜플은 키-값 쌍(key-value pair)이다."
   ]
  },
  {
   "cell_type": "code",
   "execution_count": null,
   "metadata": {
    "Collapsed": "false"
   },
   "outputs": [],
   "source": [
    "d = {'b':10, 'a':1, 'c':22}\n",
    "t = list(d.items())\n",
    "print(t)"
   ]
  },
  {
   "cell_type": "markdown",
   "metadata": {
    "Collapsed": "false"
   },
   "source": [
    "<br>\n",
    "딕셔너리로부터 기대했듯이, 항목은 특별한 순서가 없다.   \n",
    "하지만 튜플 리스트는 리스트여서 비교가 가능하기 때문에, 튜플 리스트를 정렬할 수 있다.   \n",
    "딕셔너리를 튜플 리스트로 변환하는 것이 키로 정렬된 딕셔너리 내용을 출력할 수 있게 한다."
   ]
  },
  {
   "cell_type": "code",
   "execution_count": null,
   "metadata": {
    "Collapsed": "false"
   },
   "outputs": [],
   "source": [
    "d = {'b':10, 'a':1, 'c':22}\n",
    "t = list(d.items())\n",
    "t.sort()\n",
    "print(t)"
   ]
  },
  {
   "cell_type": "markdown",
   "metadata": {
    "Collapsed": "false"
   },
   "source": [
    "새로운 리스트는 키 값으로 오름차순 알파벳 순으로 정렬된다."
   ]
  },
  {
   "cell_type": "markdown",
   "metadata": {
    "Collapsed": "false"
   },
   "source": [
    "## 5.  &nbsp;&nbsp;딕셔너리로 다중 대입 \n"
   ]
  },
  {
   "cell_type": "markdown",
   "metadata": {
    "Collapsed": "false"
   },
   "source": [
    "<br>\n",
    "items( ) 함수, 튜플 대입, for문을 조합해서, 단일 루프로 딕셔너리의 키와 값을 운행하여 훑는 멋진 코드 패턴을 만들 수 있다."
   ]
  },
  {
   "cell_type": "code",
   "execution_count": null,
   "metadata": {
    "Collapsed": "false"
   },
   "outputs": [],
   "source": [
    "d = {'b':10, 'a':1, 'c':22}\n",
    "for key, val in d.items():\n",
    "    print(val, key)"
   ]
  },
  {
   "cell_type": "markdown",
   "metadata": {
    "Collapsed": "false"
   },
   "source": [
    "<br>\n",
    "다시 한번 해쉬 키 순서다. (즉, 특별한 순서가 없다.)  \n",
    "두 기술을 조합하면, 딕셔너리 내용을 키-값 쌍(key-value pair)에 저장된 값의 순서로 정렬하여 출력할 수 있다.  \n",
    "\n",
    "이것을 수행하기 위해서, 각 튜플이 (value, key) 형태인 튜플 리스트를 작성한다.  \n",
    "items() 메쏘드를 사용하여 리스트 (key, value) 튜플을 만든다.  \n",
    "하지만 이번에는 키가 아닌 값으로 정렬한다.   \n",
    "키-값(key-value) 튜플 리스트를 생성하면, 역순으로 리스트를 정렬하고 새로운 정렬 리스트를 출력하는 것은 쉽다."
   ]
  },
  {
   "cell_type": "code",
   "execution_count": null,
   "metadata": {
    "Collapsed": "false"
   },
   "outputs": [],
   "source": [
    "d = {'b':10, 'a':1, 'c':22}\n",
    "k=list( )\n",
    "for key, val in d.items():\n",
    "    k.append( (val, key) )\n",
    "\n",
    "print(k)\n",
    "k.sort(reverse=True)\n",
    "print(k)    "
   ]
  },
  {
   "cell_type": "markdown",
   "metadata": {
    "Collapsed": "false"
   },
   "source": [
    "<br>\n",
    "조심스럽게 각 튜플 첫 번째 요소로 값(value)을 갖는 튜플 리스트를 생성했다.\n",
    "튜플 리스트를 정렬하여 값으로 정렬된 딕셔너리가 생성되었다.\n"
   ]
  },
  {
   "cell_type": "markdown",
   "metadata": {
    "Collapsed": "false"
   },
   "source": [
    "## 6.  &nbsp;&nbsp;가장 빈도수가 높은 단어 \n"
   ]
  },
  {
   "cell_type": "markdown",
   "metadata": {
    "Collapsed": "false"
   },
   "source": [
    "<br>\n",
    "로미오와 쥴리엣 텍스트 파일로 다시 돌아와서, 텍스트에서 가장 빈도수가 높은 단어를 10개를 출력하기 위해서 지금까지 학습한 기법을 사용하여 프로그램을 보강해보자."
   ]
  },
  {
   "cell_type": "code",
   "execution_count": null,
   "metadata": {
    "Collapsed": "false"
   },
   "outputs": [],
   "source": [
    "import string\n",
    "fhand = open('romeo-full.txt')\n",
    "counts = dict()\n",
    "tr = str.maketrans(\"\", \"\", string.punctuation) \n",
    "\n",
    "for line in fhand:\n",
    "    line = line.translate(tr)\n",
    "    line = line.lower()\n",
    "    words = line.split()\n",
    "    for word in words:\n",
    "        if word not in counts:\n",
    "            counts[word] = 1\n",
    "        else:\n",
    "            counts[word] += 1\n",
    "\n",
    "# Sort the dictionary by value\n",
    "lst = list()\n",
    "for key, val in counts.items():\n",
    "    lst.append( (val, key) )\n",
    "\n",
    "lst.sort(reverse=True)\n",
    "\n",
    "for key, val in lst[:10] :\n",
    "    print(key, val)  "
   ]
  },
  {
   "cell_type": "markdown",
   "metadata": {
    "Collapsed": "false"
   },
   "source": [
    "<br>\n",
    "각 단어를 문서의 단어 빈도수에 매핑하여 딕셔너리를 계산하는 프로그램 첫 부분은 동일하다.   \n",
    "하지만, counts를 출력하는 대신에 (val, key)튜플 리스트를 생성하고 역순으로 리스트를 정렬한다.   \n",
    "비교 목적으로 첫번째 요소인 빈도수를 사용한다.   \n",
    "만약 동일한 값을 가진 튜플이 하나 이상 존재하면,   \n",
    "두 번째 요소(키, key)를 살펴본다. 이 경우, 알파벳 역순으로 추가 정렬된다.  \n",
    "다중대입반복을 수행하는 for 루프를 작성하고, 리스트 슬라이스(lst[:10])를 통해 가장 빈도수가 높은 상위 10개 단어를 출력한다.\n",
    "\n",
    "복잡한 데이터 파싱과 분석 작업이 이해하기 쉬운 19줄 파이썬 프로그램으로 수행된 사실이 왜 파이썬이 정보 탐색 언어로서 좋은 선택인지 보여준다."
   ]
  },
  {
   "cell_type": "markdown",
   "metadata": {
    "Collapsed": "false"
   },
   "source": [
    "## 7.  &nbsp;&nbsp;딕셔너리 키로 튜플 사용하기\n"
   ]
  },
  {
   "cell_type": "markdown",
   "metadata": {
    "Collapsed": "false"
   },
   "source": [
    "<br>\n",
    "튜플은 해쉬형(hashable)이고, 리스트는 그렇지 못하기 때문에, 만약 딕셔너리에 사용할 복합(composite)키를 생성하려면, 키로 튜플을 사용해야 한다.  \n",
    "만약 성(last-name)과 이름(first-name)을 가지고 전화번호에 매핑( mapping)하는 전화번호부를 생성하려고 하면, 복합키와 마주친다.   \n",
    "변수 last, first, number을 정의했다고 가정하면, 다음과 같이 딕셔너리 대입문을 작성할 수 있다.\n",
    "\n",
    "<p style=\"font-family: Courier New; font-size: 1.15em; \">\n",
    "directory[last,first] = number\n",
    "\n",
    "꺾쇠 괄호 표현은 튜플이다. 딕셔너리를 훑기 위해서 for 루프에 튜플 대입을 사용한다.\n",
    "```python\n",
    "for last, first in directory:\n",
    "    print first, last, directory[last,first]\n",
    "```\n",
    "위 루프가 튜플인 directory에 키를 훑는다. 각 튜플 요소를 last, first에 대입하고 나서, 이름과 해당 전화번호를 출력한다."
   ]
  },
  {
   "cell_type": "markdown",
   "metadata": {
    "Collapsed": "false"
   },
   "source": [
    "## 8.  &nbsp;&nbsp;순서(sequence): 문자열, 리스트, 튜플 \n"
   ]
  },
  {
   "cell_type": "markdown",
   "metadata": {
    "Collapsed": "false"
   },
   "source": [
    "<br>\n",
    "여기서 튜플의 리스트에 초점을 맞추었지만, 이장의 거의 모든 예제가 또한 리스트의 리스트, 튜플의 튜플, 리스트의 튜플 에도 동작한다.  \n",
    "가능한 모든 조합을 열거하는 것을 피하기 위해서, 순서의 순서(sequences of sequences)에 대해서 논의하는 것이 때로는 쉽다.\n",
    "\n",
    "대부분의 문맥에서 다른 종류의 순서(문자열, 리스트, 튜플)는 상호 호환해서 사용될 수 있다.   \n",
    "그런데 왜 그리고 어떻게 다른 것보다 특정한 것을 선택해야 할까?\n",
    "\n",
    "명확한 것부터 시작하자.   \n",
    "\n",
    "문자열은 요소가 문자여야 하기 때문에 다른 순서(sequence)보다 제약이 따른다.  \n",
    "또한 문자열은 불변(immutable)이다.   \n",
    "문자열에 있는 문자를 변경하고자 한다면, 문자열 대신에 문자 리스트를 사용하는 것을 좋을 수 있다.\n",
    "\n",
    "리스트는 튜플보다 좀더 일반적으로 사용된다.   \n",
    "이유는 대체로 변경가능(mutable)하기 때문이다.   \n",
    "\n",
    "하지만, 다음 몇 가지 경우에 튜플이 좀더 선호된다.\n",
    "\n",
    "1) return 문처럼 어떤 맥락에서, 리스트보다 튜플을 생성하는 것이 구문론적으로 더 간략하다. 다른 맥락에서는 리스트가 더 선호될 수 있다.\n",
    "\n",
    "2) 딕셔너리 키로서 순서(sequence)를 사용하려면, 튜플이나 문자열같은 불변 자료형(immutable type)을 사용해야 한다.\n",
    "\n",
    "3) 함수에 인자로 순서(sequence)를 전달하려면, 튜플을 사용하는 것이 에일리어싱(aliasing)으로 생기는 예기치 못한 행동에 대한 가능성을 줄여준다.\n",
    "\n",
    "튜플은 불변(immutable)이어서, 기존 리스트를 변경하는 sort( ), reverse( ) 같은 메쏘드를 제공하지는 않는다.   \n",
    "하지만, 파이썬이 제공하는 내장함수 sorted( ),reversed( ) 를 통해서,   \n",
    "매개 변수로 임의 순서(sequence)를 전달 받아서,   \n",
    "같은 요소를 다른 순서로 정렬된 새로운 리스트를 반환한다."
   ]
  },
  {
   "cell_type": "markdown",
   "metadata": {
    "Collapsed": "false"
   },
   "source": [
    "## 9. &nbsp;&nbsp;디버깅\n"
   ]
  },
  {
   "cell_type": "markdown",
   "metadata": {
    "Collapsed": "false"
   },
   "source": [
    "<br>\n",
    "리스트, 딕셔너리, 튜플은 일반적으로 자료 구조(data structures)로  알려져 있다.  \n",
    "이번 장에서 튜플들의 리스트 및, 키로 튜플, 값으로 리스트를 담고 있는 딕셔너리 같은 복합 자료 구조를 보기 시작했다.   \n",
    "\n",
    "복합 자료 구조는 유용하지만, 모양 오류(shape errors, 일반적인 용어는 아니며, 이책의 저자가 작명함)라고 불리는 오류에 노출되어 있다.   \n",
    "즉, 자료구조가 잘못된 자료형(type), 크기, 구성일 경우 오류가 발생한다.   \n",
    "혹은 코드를 작성하고, 자료의 모양이 생각나지 않는 경우도 오류의 원인이 된다.\n",
    "\n",
    "예를 들어, 정수 하나를 가진 리스트를 기대하고, (리스트가 아닌) 일반 정수를 넘긴다면, 작동하지 않는다.  \n",
    "프로그램을 디버깅할 때, 정말 어려운 버그를 잡으려고 작업을 한다면, 다음 네 가지를 시도할 수 있다.  \n",
    "\n",
    "* 코드 읽기(reading): 코드를 면밀히 조사하고, 스스로에게 다시 읽어 주고, 코드가 자신이 작성한 의도를 담고 있는지 점검하라.\n",
    "\n",
    "* 실행(running): 프로그램을 변경해서 다른 버젼을 실행해서 실험하라. 종종, 프로그램이 적절한 곳에 적절한 값을 인쇄하도록 한다면, 버그를 잡을 수 있다.\n",
    "\n",
    "* 반추(ruminating): 생각의 시간을 갖자. 어떤 종류의 오류인가: 구문, 실행, 의미(semantic). 오류 메시지로부터 혹은 프로그램 출력결과로부터 무슨 정보를 얻을 수 있는가? 어떤 종류 오류가 지금 보고 있는 문제를 만들었을까? 문제가 나타나기 전에, 마지막으로 변경한 것은 무엇인가?\n",
    "\n",
    "* 퇴각(retreating): 어느 시점에선가, 최선은 물러서서, 최근의 변경을 다시 무효화 시키고 원위치한다. 잘 동작하고 이해하는 프로그램으로 다시 돌아가서, 다시 프로그램을 작성한다.\n",
    "\n",
    "초보 프로그래머는 종종 위의 방법중 하나에 사로잡혀 다른 것을 잊곤 한다.\n",
    "각각의 방법 고유한 단점이 있다.\n",
    "\n",
    "예를 들어, 프로그램을 정독하는 것은 문제가 타이핑 오류에 있다면 도움이 되지만, 문제가 개념상 오해에 있다면 도움이 되지 못한다.  \n",
    "만약 작성한 프로그램을 이해하지 못한다면, 100번 읽어도, 오류를 발견할 수 없다.   \n",
    "왜냐하면, 오류는 여러분 머리에 있기 때문이다.\n",
    "\n",
    "만약 작고 간단한 테스트를 진행한다면, 실험을 수행하는 것이 도움이 될 수 있다.   \n",
    "하지만, 코드를 읽지 않거나, 생각 없이 실험을 수행한다면, 프로그램이 작동될 때까지 무작위 변경하여 개발하는 ”랜덤 워크(random walk) 프로그램” 패턴에 빠질 수 있다.   \n",
    "말할 필요 없이 랜덤 워크 프로그래밍은 시간이 오래 걸린다.\n",
    "\n",
    "생각할 시간을 가져야 한다.   \n",
    "문제가 무엇인지에 대한 최소한 한 가지 가설을 가져야 한다.   \n",
    "만약 두 개 이상의 가능성이 있다면, 이 가능성 중에서 하나라도 줄일 수 있는 테스트를 생각해야 한다.\n",
    "\n",
    "휴식 시간을 가지거나 대화를 하는 것도 도움이 된다.   \n",
    "문제를 다른 사람 혹은 자신에게 설명할 수 있다면, 질문을 마치기 전에 답을 종종 발견할 수 있다.  \n",
    "하지만, 오류가 너무 많고 수정하려는 코드가 매우 크고, 복잡하다면 최고의 디버깅 기술도 무용지물이다.   \n",
    "가끔, 최선의 선택은 퇴각하는 것이다.   \n",
    "작동하고 이해하는 곳까지 후퇴해서 프로그램을 간략화하라.\n",
    "\n",
    "초보 프로그래머는 종종 퇴각하기를 꺼려한다.   \n",
    "왜냐하면, 설사 잘못되었지만, 코드 한 줄조차 지울 수 없기 때문이다.   \n",
    "삭제하지 않는 것이 기분을 좋게 한다면, 삭제하기 전에 프로그램을 다른 파일에 복사하라.   \n",
    "그리고 나서, 한번에 조금씩 붙혀 넣어라."
   ]
  },
  {
   "cell_type": "markdown",
   "metadata": {
    "Collapsed": "false"
   },
   "source": [
    "## <span style=\"color:red\">** 연습문제 **</span>  "
   ]
  },
  {
   "cell_type": "markdown",
   "metadata": {
    "Collapsed": "false"
   },
   "source": [
    "<br><br><br>\n",
    "<span style=\"color:red\">연습문제 9.1 </span> &nbsp;&nbsp; \n",
    "\n",
    "앞서 작성한 프로그램을 다음과 같이 수정하라.  \n",
    "”From”라인을 읽고 파싱하여 라인에서 주소를 뽑아내라.  \n",
    "딕셔너리를 사용하여 각 사람으로부터 메시지 숫자를 카운트(count)한다.  \n",
    "모든 데이터를 읽은 후에 가장 많은 커밋(commit)을 한 사람을 출력하라.  \n",
    "딕셔너리로부터 (count, email) 튜플 리스트를 생성하고 역순으로 리스트를 정렬한 후에 가장 많은 커밋을 한 사람을 출력하라.\n",
    "\n",
    "<p style=\"font-family: Courier New; font-size: 1.15em; \">\n",
    "Sample Line:  \n",
    "From stephen.marquard@uct.ac.za Sat Jan 5 09:14:16 2008\n",
    "\n",
    "<span style=\"font-family: Courier New; font-size: 1.15em;\">  \n",
    "<span style=\"color:orange\">파일 이름: <span style=\"color:blue\">mbox-short.txt    \n",
    "<span style=\"color:orange\">cwen@iupui.edu 5\n",
    "\n",
    "<span style=\"font-family: Courier New; font-size: 1.15em;\">  \n",
    "<span style=\"color:orange\">파일 이름: <span style=\"color:blue\">mbox.txt    \n",
    "<span style=\"color:orange\">zqian@umich.edu 195"
   ]
  },
  {
   "cell_type": "code",
   "execution_count": null,
   "metadata": {
    "Collapsed": "false"
   },
   "outputs": [],
   "source": [
    "fhand = open('mbox-short.txt')\n",
    "\n",
    "for line in fhand:\n",
    "    if line.startswith('From:') :\n",
    "        line = line.rstrip()\n",
    "        print(line)\n",
    "        \n",
    "fhand.close()"
   ]
  },
  {
   "cell_type": "code",
   "execution_count": null,
   "metadata": {
    "Collapsed": "false"
   },
   "outputs": [],
   "source": [
    "import string\n",
    "fhand = open('mbox-short.txt')\n",
    "counts = dict()\n",
    "\n",
    "for line in fhand:\n",
    "    if line.startswith('From:') :\n",
    "        line = line.rstrip()\n",
    "        L=line.split()\n",
    "        if L[1] not in counts:\n",
    "            counts[L[1]] = 1\n",
    "        else:\n",
    "            counts[L[1]] += 1\n",
    "#print(counts)\n",
    "\n",
    "# Sort the dictionary by value\n",
    "lst = list()\n",
    "for key, val in counts.items():\n",
    "    lst.append( (val, key) )\n",
    "\n",
    "lst.sort(reverse=True)\n",
    "key, val = lst[0]\n",
    "print(val, key)  \n"
   ]
  },
  {
   "cell_type": "markdown",
   "metadata": {
    "Collapsed": "false"
   },
   "source": [
    "<br><br><br>\n",
    "<span style=\"color:red\">연습문제 9.2 </span> &nbsp;&nbsp; \n",
    "\n",
    "이번 프로그램은 각 메시지에 대한 하루 중 시간의 분포를 카운트(count)한다.  \n",
    "”From” 라인으로부터 시간 문자열을 찾고 콜론(:) 문자를 사용하여 문자열을 쪼개서 시간을 추출한다.\n",
    "각 시간 별로 카운트(count)를 누적하고 아래에 보여지듯이 시간 단위로 정렬하여 한 라인에 한시간씩 카운트(count)를 출력한다.\n",
    "\n",
    "<span style=\"font-family: Courier New; font-size: 1.15em;\">  \n",
    "<span style=\"color:orange\">파일 이름: <span style=\"color:blue\">mbox-short.txt         \n",
    "\n",
    "<span style=\"color:orange\">\n",
    "<pre>\n",
    "04 3    \n",
    "06 1  \n",
    "07 1  \n",
    "09 2  \n",
    "10 3  \n",
    "11 6  \n",
    "14 1  \n",
    "15 2  \n",
    "16 4    \n",
    "17 2  \n",
    "18 1  \n",
    "19 1  \n",
    "</pre>"
   ]
  },
  {
   "cell_type": "code",
   "execution_count": null,
   "metadata": {
    "Collapsed": "false",
    "collapsed": true,
    "jupyter": {
     "outputs_hidden": true
    }
   },
   "outputs": [],
   "source": []
  },
  {
   "cell_type": "code",
   "execution_count": null,
   "metadata": {
    "Collapsed": "false"
   },
   "outputs": [],
   "source": [
    "import string\n",
    "fhand = open('mbox-short.txt')\n",
    "counts = dict()\n",
    "\n",
    "for line in fhand:\n",
    "    if line.startswith('From ') :\n",
    "        line = line.rstrip()\n",
    "        #print(line)\n",
    "        n=line.find(\":\")\n",
    "        #print(n)\n",
    "        t=line[n-2:n]\n",
    "        #print(t)\n",
    "        if t not in counts:\n",
    "            counts[t] = 1\n",
    "        else:\n",
    "            counts[t] += 1\n",
    "#print(counts)\n",
    "\n",
    "# Sort the dictionary by value\n",
    "lst = list()\n",
    "for key, val in counts.items():\n",
    "    lst.append( (key, val) )\n",
    "\n",
    "lst.sort()\n",
    "#print(lst)\n",
    "\n",
    "for key, val in lst:\n",
    "    print(key, val)  \n"
   ]
  },
  {
   "cell_type": "markdown",
   "metadata": {
    "Collapsed": "false"
   },
   "source": [
    "<br><br><br>\n",
    "<span style=\"color:red\">연습문제 9.3 </span> &nbsp;&nbsp; \n",
    "\n",
    "파일을 읽고, 빈도(frequencey)에 따라 내림차순으로 문자(letters)를 출력하는 프로그램을 작성하라.   \n",
    "작성한 프로그램은 모든 입력을 소문자로 변환하고 a-z 문자만 카운트(count)한다.   \n",
    "공백, 숫자, 문장기호 a-z를 제외한 다른 어떤 것도 세지 않는다.   \n",
    "다른 언어로 구성된 텍스트 샘플을 구해서 언어마다 문자 빈도가 어떻게 변하는지 살펴보라.   \n",
    "결과를 wikipedia.org/wiki/Letter_frequencies 표와 비교하라."
   ]
  },
  {
   "cell_type": "code",
   "execution_count": null,
   "metadata": {
    "Collapsed": "false",
    "collapsed": true,
    "jupyter": {
     "outputs_hidden": true
    }
   },
   "outputs": [],
   "source": []
  }
 ],
 "metadata": {
  "anaconda-cloud": {},
  "kernelspec": {
   "display_name": "Python 3",
   "language": "python",
   "name": "python3"
  },
  "language_info": {
   "codemirror_mode": {
    "name": "ipython",
    "version": 3
   },
   "file_extension": ".py",
   "mimetype": "text/x-python",
   "name": "python",
   "nbconvert_exporter": "python",
   "pygments_lexer": "ipython3",
   "version": "3.7.3"
  }
 },
 "nbformat": 4,
 "nbformat_minor": 4
}
