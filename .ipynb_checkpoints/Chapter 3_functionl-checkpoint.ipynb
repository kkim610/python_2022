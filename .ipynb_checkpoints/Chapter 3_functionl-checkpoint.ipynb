{
 "cells": [
  {
   "cell_type": "markdown",
   "metadata": {
    "Collapsed": "false"
   },
   "source": [
    "![](pic/pic_1.png)\n",
    "<br>\n",
    "\n",
    "# **3장  &nbsp;&nbsp;함수**  <br>\n"
   ]
  },
  {
   "cell_type": "markdown",
   "metadata": {
    "Collapsed": "false",
    "heading_collapsed": true
   },
   "source": [
    "## 1.  &nbsp;&nbsp;함수 호출\n"
   ]
  },
  {
   "cell_type": "markdown",
   "metadata": {
    "Collapsed": "false",
    "hidden": true
   },
   "source": [
    "\n",
    "프로그래밍에서, 함수(function)는 연산을 수행하는, 이름이 주어진 일련의 문장이다.  \n",
    "함수를 정의할 때, 이름과 일련의 문장을 명기한다.   \n",
    "나중에, 함수를 이름으로 ”호출(call)” 한다.   \n",
    "우리는 이미 함수 호출(function call)의 예제를 살펴봤다."
   ]
  },
  {
   "cell_type": "code",
   "execution_count": null,
   "metadata": {
    "Collapsed": "false",
    "hidden": true,
    "scrolled": true
   },
   "outputs": [],
   "source": [
    "type(32)"
   ]
  },
  {
   "cell_type": "markdown",
   "metadata": {
    "Collapsed": "false",
    "hidden": true
   },
   "source": [
    "함수명은 type이다.   \n",
    "괄호 안의 표현식을 함수의 인수(argument)라고 한다.   \n",
    "인수는 함수 입력으로 함수 내부로 전달되는 값이나 변수이다.   \n",
    "앞선 type( ) 함수를 실행한 결과는 int 이다.  \n",
    "**<span style=\"color:red\">함수는 매개변수(parameter)를 통하여 인수(argument)를 받아서 결과를 반환(return) 한다.</span>**     \n",
    "반환한 결과를 결과값(return value)이라 부른다."
   ]
  },
  {
   "cell_type": "markdown",
   "metadata": {
    "Collapsed": "false",
    "hidden": true
   },
   "source": [
    "<br>"
   ]
  },
  {
   "cell_type": "markdown",
   "metadata": {
    "Collapsed": "false",
    "heading_collapsed": true
   },
   "source": [
    "## 2.  내장(Built-in) 함수"
   ]
  },
  {
   "cell_type": "markdown",
   "metadata": {
    "Collapsed": "false",
    "hidden": true
   },
   "source": [
    "\n",
    "함수가 파이썬 내부에 이미 정의되어 있는 함수를 내장함수라 한다.   \n",
    "이런 함수는 정의할 필요없이 사용하면 된다.   \n",
    "공통의 문제를 해결할 수 있는 함수를 누구나 사용할 수 있도록 파이썬에 포함했다.  \n",
    "\n",
    "max( )와 min( ) 함수는 내장함수로 리스트 최소값과 최대값을 각각 계산해서 출력한다.  "
   ]
  },
  {
   "cell_type": "code",
   "execution_count": null,
   "metadata": {
    "Collapsed": "false",
    "hidden": true
   },
   "outputs": [],
   "source": [
    "max(3,5,7)"
   ]
  },
  {
   "cell_type": "code",
   "execution_count": null,
   "metadata": {
    "Collapsed": "false",
    "hidden": true
   },
   "outputs": [],
   "source": [
    "max('hannam')"
   ]
  },
  {
   "cell_type": "code",
   "execution_count": null,
   "metadata": {
    "Collapsed": "false",
    "hidden": true
   },
   "outputs": [],
   "source": [
    "min(3,5,7)"
   ]
  },
  {
   "cell_type": "code",
   "execution_count": null,
   "metadata": {
    "Collapsed": "false",
    "hidden": true
   },
   "outputs": [],
   "source": [
    "min(\"hannam\")"
   ]
  },
  {
   "cell_type": "code",
   "execution_count": null,
   "metadata": {
    "Collapsed": "false",
    "hidden": true
   },
   "outputs": [],
   "source": [
    "min(\"AaBb\")"
   ]
  },
  {
   "cell_type": "code",
   "execution_count": null,
   "metadata": {
    "Collapsed": "false",
    "hidden": true
   },
   "outputs": [],
   "source": [
    "max(\"AaBb\")"
   ]
  },
  {
   "cell_type": "code",
   "execution_count": null,
   "metadata": {
    "Collapsed": "false",
    "hidden": true
   },
   "outputs": [],
   "source": [
    "'A'<'a'"
   ]
  },
  {
   "cell_type": "code",
   "execution_count": null,
   "metadata": {
    "Collapsed": "false",
    "hidden": true
   },
   "outputs": [],
   "source": [
    "ord('A')"
   ]
  },
  {
   "cell_type": "markdown",
   "metadata": {
    "Collapsed": "false",
    "hidden": true
   },
   "source": [
    "ord 는 ordinal(서수) 로부터 왔다."
   ]
  },
  {
   "cell_type": "code",
   "execution_count": null,
   "metadata": {
    "Collapsed": "false",
    "hidden": true
   },
   "outputs": [],
   "source": [
    "ord('a')"
   ]
  },
  {
   "cell_type": "code",
   "execution_count": null,
   "metadata": {
    "Collapsed": "false",
    "hidden": true
   },
   "outputs": [],
   "source": [
    "chr(65)"
   ]
  },
  {
   "cell_type": "code",
   "execution_count": null,
   "metadata": {
    "Collapsed": "false",
    "hidden": true
   },
   "outputs": [],
   "source": [
    "chr(97)"
   ]
  },
  {
   "cell_type": "code",
   "execution_count": null,
   "metadata": {
    "Collapsed": "false",
    "hidden": true
   },
   "outputs": [],
   "source": [
    "'A' < 'a'"
   ]
  },
  {
   "cell_type": "code",
   "execution_count": null,
   "metadata": {
    "Collapsed": "false",
    "hidden": true
   },
   "outputs": [],
   "source": [
    "'abc' > 'abC'"
   ]
  },
  {
   "cell_type": "code",
   "execution_count": null,
   "metadata": {
    "Collapsed": "false",
    "hidden": true
   },
   "outputs": [],
   "source": [
    "ord('1')"
   ]
  },
  {
   "cell_type": "code",
   "execution_count": null,
   "metadata": {
    "Collapsed": "false",
    "hidden": true
   },
   "outputs": [],
   "source": [
    "'A' > '1'"
   ]
  },
  {
   "cell_type": "markdown",
   "metadata": {
    "Collapsed": "false",
    "hidden": true
   },
   "source": [
    "**매우 자주 사용되는 내장 함수중에서 얼마나 많은 항목이 있는지 출력하는 len( ) 함수가 있다.**   \n",
    "len 은 length 를 의미한다.  \n",
    "만약 len( ) 함수의 인수가 문자열이면 문자열에 있는 문자 갯수를 반환한다.\n",
    "\n",
    "다음 코드의 결과 값은?\n",
    "\n",
    "<p style=\"font-family: Courier New; font-size: 1.15em;\">\n",
    "len('Hello world')\n",
    "</p>"
   ]
  },
  {
   "cell_type": "code",
   "execution_count": null,
   "metadata": {
    "Collapsed": "false",
    "hidden": true
   },
   "outputs": [],
   "source": []
  },
  {
   "cell_type": "markdown",
   "metadata": {
    "Collapsed": "false",
    "hidden": true
   },
   "source": [
    "이들 함수는 문자열에만 국한된 것이 아니라, 다양한 자료형에 사용된다.   \n",
    "내장함수 이름은 예약어로 취급해야 한다.   \n",
    "예를 들어, max 를 변수명으로 사용하지 말아야 한다."
   ]
  },
  {
   "cell_type": "markdown",
   "metadata": {
    "Collapsed": "false",
    "hidden": true
   },
   "source": [
    "<br>"
   ]
  },
  {
   "cell_type": "markdown",
   "metadata": {
    "Collapsed": "false",
    "heading_collapsed": true
   },
   "source": [
    "## 3.  자료형(type) 변환 함수"
   ]
  },
  {
   "cell_type": "markdown",
   "metadata": {
    "Collapsed": "false",
    "hidden": true
   },
   "source": [
    "한 자료형(type)에서 다른 자료형(type)으로 값을 변환하는 내장 함수가 있다.  \n",
    "\n",
    "int( ) 함수는 임의의 값을 입력받아 변환이 가능하면 정수형으로 변환하고, 그렇지 않으면 오류가 발생시킨다."
   ]
  },
  {
   "cell_type": "code",
   "execution_count": null,
   "metadata": {
    "Collapsed": "false",
    "hidden": true
   },
   "outputs": [],
   "source": [
    "int('32')"
   ]
  },
  {
   "cell_type": "code",
   "execution_count": null,
   "metadata": {
    "Collapsed": "false",
    "hidden": true
   },
   "outputs": [],
   "source": [
    "int('Hello')"
   ]
  },
  {
   "cell_type": "markdown",
   "metadata": {
    "Collapsed": "false",
    "hidden": true
   },
   "source": [
    "int( )는 부동 소수점 값을 정수로 변환할 수 있지만 소수점 이하를 절사한다."
   ]
  },
  {
   "cell_type": "code",
   "execution_count": null,
   "metadata": {
    "Collapsed": "false",
    "hidden": true
   },
   "outputs": [],
   "source": [
    "int(3.99999)"
   ]
  },
  {
   "cell_type": "code",
   "execution_count": null,
   "metadata": {
    "Collapsed": "false",
    "hidden": true
   },
   "outputs": [],
   "source": [
    "int(-2.3)"
   ]
  },
  {
   "cell_type": "markdown",
   "metadata": {
    "Collapsed": "false",
    "hidden": true
   },
   "source": [
    "float( )는 정수와 문자열을 부동 소수점으로 변환한다."
   ]
  },
  {
   "cell_type": "code",
   "execution_count": null,
   "metadata": {
    "Collapsed": "false",
    "hidden": true
   },
   "outputs": [],
   "source": [
    "float(32)"
   ]
  },
  {
   "cell_type": "code",
   "execution_count": null,
   "metadata": {
    "Collapsed": "false",
    "hidden": true
   },
   "outputs": [],
   "source": [
    "float('3.14159')"
   ]
  },
  {
   "cell_type": "markdown",
   "metadata": {
    "Collapsed": "false",
    "hidden": true
   },
   "source": [
    "마지막으로, str( )은 인자를 문자열로 변환한다."
   ]
  },
  {
   "cell_type": "code",
   "execution_count": null,
   "metadata": {
    "Collapsed": "false",
    "hidden": true
   },
   "outputs": [],
   "source": [
    "str(32)"
   ]
  },
  {
   "cell_type": "code",
   "execution_count": null,
   "metadata": {
    "Collapsed": "false",
    "hidden": true
   },
   "outputs": [],
   "source": [
    "str(3.14159)"
   ]
  },
  {
   "cell_type": "markdown",
   "metadata": {
    "Collapsed": "false",
    "hidden": true
   },
   "source": [
    "<br>"
   ]
  },
  {
   "cell_type": "markdown",
   "metadata": {
    "Collapsed": "false",
    "heading_collapsed": true
   },
   "source": [
    "## 4. &nbsp;난수(Random numbers)   \n"
   ]
  },
  {
   "cell_type": "markdown",
   "metadata": {
    "Collapsed": "false",
    "hidden": true
   },
   "source": [
    "<br>\n",
    "random 모듈 안에 의사(유사) 난수를 생성하는 함수가 있다. (이하 의사 난수 대신 ”랜덤(random)”으로 간략히 부르기로 한다.)  \n",
    "\n",
    "random( ) 함수는 0.0과 1.0 사이의 부동 소수점 난수를 반환한다.  \n",
    "random( ) 함수는 0.0은 포함하지만 1.0은 포함하지 않는다.   \n",
    "매번 random( ) 함수를 호출할 때 마다, 이미 생성된 아주 긴 난수열에서 하나씩 하나씩 뽑는다.   "
   ]
  },
  {
   "cell_type": "code",
   "execution_count": null,
   "metadata": {
    "Collapsed": "false",
    "hidden": true
   },
   "outputs": [],
   "source": [
    "random.random()"
   ]
  },
  {
   "cell_type": "markdown",
   "metadata": {
    "Collapsed": "false",
    "hidden": true
   },
   "source": [
    "random( ) 함수를 사용하기 위해서는, random( ) 함수가 정의된 random 모듈(module) 이라는 화일을 내 코드로 가져와야 한다. (포함 시켜야 한다.)  \n",
    "\n",
    "한번 모듈을 가져오면, 그 위치 아래의 모든 위치에서 가져온 모듈에 포함된 함수를 사용할 수 있다 (호출 할 수 있다)."
   ]
  },
  {
   "cell_type": "code",
   "execution_count": null,
   "metadata": {
    "Collapsed": "false",
    "hidden": true
   },
   "outputs": [],
   "source": [
    "import random"
   ]
  },
  {
   "cell_type": "markdown",
   "metadata": {
    "Collapsed": "false",
    "hidden": true
   },
   "source": [
    "위 명령문은 random 이라는 모듈 객체(object)를 생성한다.   \n",
    "모듈 객체는 모듈에 정의된 함수들과 변수들을 담고 있다.   \n",
    "함수들 중에서 한 함수에 접근하기 위해서는, 모듈 이름과 함수 이름을 명시해야 하는데, 둘 사이에 점(구두점)을 찍어 구분한다.  \n",
    "이런 형식을 점 표기법(dot notation)이라고 부른다."
   ]
  },
  {
   "cell_type": "code",
   "execution_count": null,
   "metadata": {
    "Collapsed": "false",
    "hidden": true
   },
   "outputs": [],
   "source": [
    "random.random()"
   ]
  },
  {
   "cell_type": "code",
   "execution_count": null,
   "metadata": {
    "Collapsed": "false",
    "hidden": true
   },
   "outputs": [],
   "source": [
    "random.random()"
   ]
  },
  {
   "cell_type": "code",
   "execution_count": null,
   "metadata": {
    "Collapsed": "false",
    "hidden": true
   },
   "outputs": [],
   "source": [
    "for i in range(10):\n",
    "    x = random.random()\n",
    "    print(x)"
   ]
  },
  {
   "cell_type": "markdown",
   "metadata": {
    "Collapsed": "false",
    "hidden": true
   },
   "source": [
    "randint( ) 함수는 최저(low)와 최고(high) 매개 변수를 입력받아 최저값(low)과 최고값(high) 사이 (최저값과, 최저값 모두 포함) 정수를 랜덤하게반환한다."
   ]
  },
  {
   "cell_type": "code",
   "execution_count": null,
   "metadata": {
    "Collapsed": "false",
    "hidden": true
   },
   "outputs": [],
   "source": [
    "random.randint(5, 10)"
   ]
  },
  {
   "cell_type": "code",
   "execution_count": null,
   "metadata": {
    "Collapsed": "false",
    "hidden": true
   },
   "outputs": [],
   "source": [
    "random.randint(5, 10)"
   ]
  },
  {
   "cell_type": "code",
   "execution_count": null,
   "metadata": {
    "Collapsed": "false",
    "hidden": true
   },
   "outputs": [],
   "source": [
    "for i in range(10):\n",
    "    x = random.randint(5,10)\n",
    "    print(x)"
   ]
  },
  {
   "cell_type": "markdown",
   "metadata": {
    "Collapsed": "false",
    "hidden": true
   },
   "source": [
    "무작위로 특정 열에서 하나의 요소를 뽑아내기 위해, choice( )를 사용한다."
   ]
  },
  {
   "cell_type": "code",
   "execution_count": null,
   "metadata": {
    "Collapsed": "false",
    "hidden": true
   },
   "outputs": [],
   "source": [
    "t = [1, 2, 3]\n",
    "random.choice(t)"
   ]
  },
  {
   "cell_type": "code",
   "execution_count": null,
   "metadata": {
    "Collapsed": "false",
    "hidden": true
   },
   "outputs": [],
   "source": [
    "random.choice(t)"
   ]
  },
  {
   "cell_type": "code",
   "execution_count": null,
   "metadata": {
    "Collapsed": "false",
    "hidden": true,
    "scrolled": true
   },
   "outputs": [],
   "source": [
    "for i in range(10):\n",
    "    x = random.choice(t)\n",
    "    print(x)"
   ]
  },
  {
   "cell_type": "markdown",
   "metadata": {
    "Collapsed": "false",
    "hidden": true
   },
   "source": [
    "또한 random 모듈은 정규분포, 지수분포, 감마분포 및 기타 연속형 분포에서 난수를 생성하는 함수도 제공한다."
   ]
  },
  {
   "cell_type": "markdown",
   "metadata": {
    "Collapsed": "false",
    "heading_collapsed": true
   },
   "source": [
    "## 5.  &nbsp;수학 함수"
   ]
  },
  {
   "cell_type": "markdown",
   "metadata": {
    "Collapsed": "false",
    "hidden": true
   },
   "source": [
    "\n",
    "파이썬은 수학 함수를 제공하는 수학 모듈이 있다. \n",
    "수학 함수를 사용하기 전에, 수학 모듈을  가져와야한다."
   ]
  },
  {
   "cell_type": "code",
   "execution_count": null,
   "metadata": {
    "Collapsed": "false",
    "hidden": true
   },
   "outputs": [],
   "source": [
    "import math"
   ]
  },
  {
   "cell_type": "markdown",
   "metadata": {
    "Collapsed": "false",
    "hidden": true
   },
   "source": [
    "상기 명령문은 math 라는 모듈 객체(object)를 생성한다.     \n",
    "모듈 객체를 출력하면, 모듈 객체에 대한 간단한 정보를 얻을 수 있다."
   ]
  },
  {
   "cell_type": "code",
   "execution_count": null,
   "metadata": {
    "Collapsed": "false",
    "hidden": true
   },
   "outputs": [],
   "source": [
    "help(math)"
   ]
  },
  {
   "cell_type": "code",
   "execution_count": null,
   "metadata": {
    "Collapsed": "false",
    "hidden": true
   },
   "outputs": [],
   "source": [
    "math.sqrt(2) "
   ]
  },
  {
   "cell_type": "code",
   "execution_count": null,
   "metadata": {
    "Collapsed": "false",
    "hidden": true
   },
   "outputs": [],
   "source": [
    "math.log2(8)"
   ]
  },
  {
   "cell_type": "code",
   "execution_count": null,
   "metadata": {
    "Collapsed": "false",
    "hidden": true
   },
   "outputs": [],
   "source": [
    "math.pow(2,10)"
   ]
  },
  {
   "cell_type": "markdown",
   "metadata": {
    "Collapsed": "false",
    "heading_collapsed": true
   },
   "source": [
    "## 6.  &nbsp;새로운 함수 만들기\n"
   ]
  },
  {
   "cell_type": "markdown",
   "metadata": {
    "Collapsed": "false",
    "hidden": true
   },
   "source": [
    "새로운 함수를 만들어 사용하려면, 먼저 함수를 정의하여야 한다.   \n",
    "함수 정의(function definition)단계에서는 새로운 함수 이름과 함수가 호출될 때 실행될 일련의 문장을 명시한다.  \n",
    "함수를 정의하면, 프로그램 실행 중에 반복해서 함수를 재사용할 수 있다.\n",
    "\n",
    "아무 노래나 일단 틀어 아무거나 신나는 걸로\n",
    "아무렇게나 춤춰 아무렇지 않아 보이게\n",
    "아무 생각 하기 싫어 아무개로 살래 잠시\n",
    "I'm sick and tired of my every day, keep it up 한 곡 더"
   ]
  },
  {
   "cell_type": "markdown",
   "metadata": {
    "Collapsed": "false",
    "hidden": true
   },
   "source": [
    "```python\n",
    "def zico(): \n",
    "    text = \"아무 노래나 일단 틀어 아무거나 신나는 걸로 \\n아무렇게나 춤춰 아무렇지 않아 보이게 \\n아무 생각 하기 싫어 아무개로 살래 잠시\\nI'm sick and tired of my every day, keep it up 한 곡 더\\n\"\n",
    "    return text\n",
    "```"
   ]
  },
  {
   "cell_type": "markdown",
   "metadata": {
    "Collapsed": "false",
    "hidden": true
   },
   "source": [
    "def는 \"함수 정의는 다음과 같다\"를 표시하는 예약어 이다.   \n",
    "함수 이름은 zico 이다.   \n",
    "\n",
    "함수이름을 만드는 규칙은 변수 이름을 만드는 규칙과 동일하다.   \n",
    "문자, 숫자, 그리고 몇몇 문장부호는 사용할 수 있지만, 첫 문자가 숫자는 될 수 없다.   \n",
    "함수이름으로 예약어를 사용할 수 없고, 함수 이름과 동일한 변수명은 피해야 한다.  \n",
    "\n",
    "함수 이름 뒤 빈 괄호는 이 함수가 어떠한 인수(argument)도 갖지 않는다는 것을 나타낸다.  \n",
    "함수 정의의 첫 번째줄을 머리부문(헤더, header), 나머지 부문을 몸통부문(body)라고 부른다.   \n",
    "**<p style=\"color:red\">함수 정의의 머리 부문은 콜론(:)으로 끝나고, 몸통 부문은 들여쓰기를 해야 한다.</p>** \n",
    "파이썬에서 들여쓰기는 항상 4칸 공백이다. \n",
    "\n",
    "함수는 일반적으로 함수 호출의 결과로 어떠한 값을 반환한다(돌려준다.)    \n",
    "함수는 뻥튀기 기계와 같다. 뻥튀기 기계에 뭔가를 넣으면(입력하면) 그것을 변형시켜 색다른 뭔가를 나오게한다(반환한다).  \n",
    "함수의 정의는 뻥튀기 기계를 만드는 일이다.  \n",
    "뻥튀기 기게에 뭔가를 넣고 튀기고 싶으면, 함수를 호출해야 한다.  \n",
    "물론 뻥튀기 기계에 뭔가를 넣어야 결과를 얻는 것처럼, 함수를 호출할 때, 입력이 무엇인지도 알려주어야 한다.  "
   ]
  },
  {
   "cell_type": "code",
   "execution_count": null,
   "metadata": {
    "Collapsed": "false",
    "hidden": true
   },
   "outputs": [],
   "source": [
    "def zico(): \n",
    "    text = \"아무 노래나 일단 틀어 아무거나 신나는 걸로\\n아무렇게나 춤춰 아무렇지 않아 보이게\\n아무 생각 하기 싫어 아무개로 살래 잠시\\nI'm sick and tired of my every day, keep it up 한 곡 더\\n\"\n",
    "    return text"
   ]
  },
  {
   "cell_type": "markdown",
   "metadata": {
    "Collapsed": "false",
    "hidden": true
   },
   "source": [
    "정의한 함수를 호출하는 방법은 내장 함수의 경우와 동일하다.  \n",
    "아래 셀에서 zico( )함수를 호출해 보자.  \n",
    "zico( )함수는 입력이 없는 함수이다. (입력이 없어도 결과를 반환하는 (마술? ㅋㅋㅋ) 함수이다.)"
   ]
  },
  {
   "cell_type": "code",
   "execution_count": null,
   "metadata": {
    "Collapsed": "false",
    "hidden": true
   },
   "outputs": [],
   "source": [
    "y = zico()\n",
    "print(y)"
   ]
  },
  {
   "cell_type": "code",
   "execution_count": null,
   "metadata": {
    "Collapsed": "false"
   },
   "outputs": [],
   "source": [
    "print(zico())"
   ]
  },
  {
   "cell_type": "markdown",
   "metadata": {
    "Collapsed": "false",
    "hidden": true
   },
   "source": [
    "한번 정의된 함수는 몇 번이고 반복해서 호출할 수 있다.  \n",
    "\n",
    "연달아 두번 호출해 보자."
   ]
  },
  {
   "cell_type": "code",
   "execution_count": null,
   "metadata": {
    "Collapsed": "false",
    "hidden": true
   },
   "outputs": [],
   "source": [
    "y = zico()\n",
    "print(y)\n",
    "print(y)\n"
   ]
  },
  {
   "cell_type": "markdown",
   "metadata": {
    "Collapsed": "false",
    "hidden": true
   },
   "source": [
    "정의된 함수는, 또 다른 함수의 내부에서 사용이 가능하다.     \n",
    "\n",
    "예를 들어, 이전에 선언한 함수 zico( )를 반복하기 위해 repeat_zico( ) 함수를 아래 셀과 같이 작성할 수 있다."
   ]
  },
  {
   "cell_type": "code",
   "execution_count": null,
   "metadata": {
    "Collapsed": "false",
    "hidden": true
   },
   "outputs": [],
   "source": [
    "def repeat_zico():\n",
    "    y= zico()+zico()+zico()\n",
    "    return y"
   ]
  },
  {
   "cell_type": "markdown",
   "metadata": {
    "Collapsed": "false"
   },
   "source": [
    "이제, repeat_zico( ) 함수를 호출하면, Zico의 노래가사가 몇 번 반복해서 인쇄될까?"
   ]
  },
  {
   "cell_type": "code",
   "execution_count": null,
   "metadata": {
    "Collapsed": "false",
    "hidden": true
   },
   "outputs": [],
   "source": [
    "y=repeat_zico()\n",
    "print(y)"
   ]
  },
  {
   "cell_type": "markdown",
   "metadata": {
    "Collapsed": "false",
    "heading_collapsed": true
   },
   "source": [
    "## 7.  &nbsp;함수 정의와 호출의 순서\n"
   ]
  },
  {
   "cell_type": "markdown",
   "metadata": {
    "Collapsed": "false",
    "hidden": true
   },
   "source": [
    "함수 정의는 다른 문장처럼 수행되지만, 함수 객체를 생성한다는 점에서 차이가 있다. \n",
    "\n",
    "함수의 내부 문장은 함수가 호출되기 전까지 수행되지 않으므로, 출력값도 생성하지 않는다.\n",
    "\n",
    "예상하듯이, 함수를 실행하기 전에 함수를 생성해야 한다. \n",
    "\n",
    "다시 말해서, 처음으로 함수를 호출되기 전에 함수가 정의 되어야 한다."
   ]
  },
  {
   "cell_type": "code",
   "execution_count": null,
   "metadata": {
    "Collapsed": "false",
    "hidden": true
   },
   "outputs": [],
   "source": [
    "y=obbaya()\n",
    "print(y)\n",
    "\n",
    "def obbaya():\n",
    "    text=\"오빠야\\n내가 진짜 좋아하는 사람이 생겨서\\n\"\n",
    "    return text"
   ]
  },
  {
   "cell_type": "code",
   "execution_count": null,
   "metadata": {
    "Collapsed": "false",
    "hidden": true
   },
   "outputs": [],
   "source": [
    "def obbaya():\n",
    "    text=\"오빠야\\n내가 진짜 좋아하는 사람이 생겨서\\n\"\n",
    "    return text\n",
    "\n",
    "y=obbaya()\n",
    "print(y)\n"
   ]
  },
  {
   "cell_type": "markdown",
   "metadata": {
    "Collapsed": "false",
    "heading_collapsed": true
   },
   "source": [
    "## 8. 매개변수(parameter) 및 전달인자(argument)\n"
   ]
  },
  {
   "cell_type": "markdown",
   "metadata": {
    "Collapsed": "false",
    "hidden": true
   },
   "source": [
    "\n",
    "* 함수를 정의할 때, 함수이름 다음에 나오는 괄호 안에 (고유한) 변수이름이 들어 갈 수 있는데, 이 변수들을 매개변수(파라메터)라 부른다.\n",
    "* 이 파라메터에 어떤 값을 전달하느냐에 따라 함수의 결과는 달라질 수 있다.\n",
    "* 함수를 호출할 때, 매개변수에 전달되는 값을 전달인자(argument)라고 부른다."
   ]
  },
  {
   "cell_type": "code",
   "execution_count": null,
   "metadata": {
    "Collapsed": "false",
    "hidden": true
   },
   "outputs": [],
   "source": [
    "def obbaya3(aaa):\n",
    "    text=str(aaa)+\" 내가 진짜 좋아하는 사람이 생겨서\"\n",
    "    return text\n",
    " \n",
    "    \n",
    "print(obbaya3(\"오빠야\"))\n",
    "print(obbaya3(\"누나야\"))"
   ]
  },
  {
   "cell_type": "code",
   "execution_count": null,
   "metadata": {
    "Collapsed": "false",
    "hidden": true
   },
   "outputs": [],
   "source": [
    "def obbaya4(name, sport):\n",
    "    text = str(name)+\"는 \"+str(sport)+\"를 좋아한다\"\n",
    "    return text\n",
    "    \n",
    "print(obbaya4(\"오빠야\", \"축구\"))\n",
    "print(obbaya4(\"정은이\", \"핵무기\"))"
   ]
  },
  {
   "cell_type": "code",
   "execution_count": null,
   "metadata": {
    "Collapsed": "false",
    "hidden": true
   },
   "outputs": [],
   "source": [
    "def plus20(x):\n",
    "    return x+20\n",
    "    \n",
    "print(plus20(5))"
   ]
  },
  {
   "cell_type": "code",
   "execution_count": null,
   "metadata": {
    "Collapsed": "false",
    "hidden": true
   },
   "outputs": [],
   "source": [
    "def repeat(name,num):\n",
    "    return name*num\n",
    "\n",
    "print(repeat(\"가을바람 \",3))"
   ]
  },
  {
   "cell_type": "markdown",
   "metadata": {
    "Collapsed": "false",
    "heading_collapsed": true
   },
   "source": [
    "## 9. 왜 함수를 사용하는가?\n"
   ]
  },
  {
   "cell_type": "markdown",
   "metadata": {
    "Collapsed": "false",
    "hidden": true
   },
   "source": [
    "\n",
    "* 문장을 그룹으로 만들어 새로운 함수로 명명하는 것이 프로그램을 읽고, 이해하고, 디버그하기 좋게한다. \n",
    "* 함수는 반복 코드를 제거해서 프로그램을 작고 콤팩트하게 만든다. 나중에 프로그램에 수정사항이 생기면, 단지 한 곳에서만 수정을 하면 된다.  \n",
    "* 긴 프로그램을 함수로 나누어 작성하는 것은 작은 부분에서 버그를 수정할 수 있게 하고, 이를 조합해서 전체적으로 동작하는 프로그램을 만들 수 있다.  \n",
    "* 잘 설계된 함수는 종종 많은 프로그램에서 유용하게 사용된다. 잘 설계된 프로그램을 작성하고 디버그를 해서 오류가 없이 만들게 되면, 나중에 재사용도 용이하다.\n",
    "\n"
   ]
  },
  {
   "cell_type": "markdown",
   "metadata": {
    "Collapsed": "false",
    "heading_collapsed": true
   },
   "source": [
    "## <span style=\"color:red\">** 연습문제 **</span>  "
   ]
  },
  {
   "cell_type": "markdown",
   "metadata": {
    "Collapsed": "false",
    "hidden": true
   },
   "source": [
    "<br>\n",
    "<span style=\"color:red\">연습문제 3.1 </span> \n",
    "\n",
    "다음 파이썬 프로그램은 무엇을 출력할까?\n",
    "\n",
    "<p style=\"font-family: Courier New; font-size: 1.15em; \">\n",
    "def jane():<br>  \n",
    "&nbsp;&nbsp;&nbsp;&nbsp;return \"Zap\"<p>\n",
    "\n",
    "<p style=\"font-family: Courier New; font-size: 1.15em; \">\n",
    "def fred():<br>  \n",
    " &nbsp;&nbsp;&nbsp;&nbsp;return \"ABC\"\n",
    "<p>\n",
    "\n",
    "<p style=\"font-family: Courier New; font-size: 1.15em; \">\n",
    "print(jane())<br>  \n",
    "print(fred())<br>  \n",
    "print(jane())<br>  \n",
    "<br>\n",
    "a) jane() fred() jane() <br> \n",
    "b) jane fred jane <br>\n",
    "c) Zap ABC Zap  <br>\n",
    "d) jane() ZAP fred() ABC jane() ZAP <br> \n",
    "e) jane ZAP fred ABC jane ZAP <br> \n",
    "f) jane(ZAP) fred(ABC) jane(ZAP) <br> \n",
    "g) ERROR\n",
    "</p>"
   ]
  },
  {
   "cell_type": "markdown",
   "metadata": {
    "Collapsed": "false",
    "hidden": true
   },
   "source": [
    "<br><br><br>\n",
    "<span style=\"color:red\">연습문제 3.2&nbsp;&nbsp; </span>   \n",
    "매개변수 city를 사용하여,  출생도시의 이름을 전달받아 다음과 같이 반환하는 함수 born(city)를 작성하라.<br>\n",
    "&nbsp;&nbsp;&nbsp;&nbsp;&nbsp;&nbsp;&nbsp;&nbsp;&nbsp;&nbsp;&nbsp;&nbsp;<span style=\"color:orange\">당신은 00에서 태어났습니다. </span> \n",
    "\n",
    "<br>\n",
    "다음은 프로그램 호출의 예를 보여준다.\n",
    "\n",
    "<span style=\"color:blue\"> print(born(\"대전\")) </span>  \n",
    "<span style=\"color:orange\">당신은 대전에서 태어났습니다. </span>   \n",
    "\n",
    "<span style=\"color:blue\"> print(born(\"서울\")) </span>  \n",
    "<span style=\"color:orange\">당신은 서울에서 태어났습니다. </span>   "
   ]
  },
  {
   "cell_type": "code",
   "execution_count": null,
   "metadata": {
    "Collapsed": "false",
    "hidden": true
   },
   "outputs": [],
   "source": [
    "def born(city):\n",
    "    # 여기에 코딩을 추가\n",
    "    \n",
    "    "
   ]
  },
  {
   "cell_type": "code",
   "execution_count": null,
   "metadata": {
    "Collapsed": "false"
   },
   "outputs": [],
   "source": [
    "print(born(\"대전\"))"
   ]
  },
  {
   "cell_type": "code",
   "execution_count": null,
   "metadata": {
    "Collapsed": "false"
   },
   "outputs": [],
   "source": [
    "print(born(\"서울\"))"
   ]
  },
  {
   "cell_type": "markdown",
   "metadata": {
    "Collapsed": "false",
    "hidden": true
   },
   "source": [
    "<br><br>\n",
    "<span style=\"color:red\">연습문제 3.3 </span><br> \n",
    "매개 변수 first 및 last로 이름 및 성을 받아 아래와 같은 문자열을 반환하는 name(first,last) 함수를 작성하라.\n",
    "\n",
    "<br>\n",
    "다음은 프로그램 호출의 예를 보여준다.\n",
    "\n",
    "<span style=\"color:blue\">print(name(\"흥민\", \"손\"))  \n",
    "<span style=\"color:orange\">나의 이름은 손흥민 입니다.\n",
    "\n",
    "<span style=\"color:blue\">print(name(\"호동\", \"강\"))  \n",
    "<span style=\"color:orange\">나의 이름은 강호동 입니다.\n"
   ]
  },
  {
   "cell_type": "code",
   "execution_count": null,
   "metadata": {
    "Collapsed": "false",
    "hidden": true
   },
   "outputs": [],
   "source": [
    "def name(first,last):\n",
    "    # 여기에 코딩 추가"
   ]
  },
  {
   "cell_type": "markdown",
   "metadata": {
    "Collapsed": "false",
    "hidden": true
   },
   "source": [
    "<br><br>\n",
    "<span style=\"color:red\">연습문제 3.4 </span><br> \n",
    "매개 변수 first, last, num으로 이름, 성, 및 반복횟수를 받아 아래와 같은 문자열을 반환하는 name2( ) 함수를 작성하라.\n",
    "\n",
    "다음은 프로그램 호출의 예를 보여준다.\n",
    "\n",
    "<span style=\"color:blue\">print(name2(\"흥민\", \"손\", 3))  \n",
    "<span style=\"color:orange\">나의 이름은 손흥민 손흥민 손흥민입니다."
   ]
  },
  {
   "cell_type": "markdown",
   "metadata": {
    "Collapsed": "false",
    "hidden": true
   },
   "source": [
    "<br><br>\n",
    "<span style=\"color:red\">연습문제 3.5 </span> <br>\n",
    "매개 변수 width 및 height로 가로 및 세로의 길이를 받아 아래와 같은 문자열을 반환하는 area( ) 함수를 작성하라.\n",
    "\n",
    "다음은 프로그램 호출의 예를 보여준다.\n",
    "\n",
    "<span style=\"color:blue\">print(area(10, 20))  \n",
    "<span style=\"color:orange\">200 "
   ]
  },
  {
   "cell_type": "markdown",
   "metadata": {
    "Collapsed": "false",
    "hidden": true
   },
   "source": [
    "<br><br>\n",
    "<span style=\"color:red\">연습문제 3.6 </span><br>\n",
    "매개 변수가 없으며 1 – 45 까지의 숫자 7개를 랜덤하게 선택하여 문자열로 반환하는 lotto( ) 함수를 작성하라.   \n",
    "단, 7개의 숫자중 일부가 중복되어도 무방하다. (중복되지 않도록 하기 위한 방법은 추후 배울 내용에 있다.)\n",
    "\n",
    "다음은 프로그램 호출의 예를 보여준다.\n",
    "\n",
    "<span style=\"color:blue\">print(lotto( ))  \n",
    "<span style=\"color:orange\">\n",
    "15 3 38 42 26 8 29  "
   ]
  },
  {
   "cell_type": "markdown",
   "metadata": {
    "Collapsed": "false",
    "hidden": true
   },
   "source": [
    "<br><br>\n",
    "<span style=\"color:red\">연습문제 3.7 </span> <br>\n",
    "computegrade( ) 함수를 사용하여 앞장의 등급 프로그램을 다시 작성하라.\n",
    "\n",
    "Score Grade  \n",
    "<pre>>= 0.9   A  \n",
    ">= 0.8   B  \n",
    ">= 0.7   C  \n",
    ">= 0.6   D  \n",
    "< 0.6    F  </pre>\n",
    "\n",
    "<br><br>\n",
    "다음은 프로그램 호출의 예를 보여준다.\n",
    "\n",
    "<span style=\"color:blue\">print(computegrade())   \n",
    "<span style=\"color:orange\">Enter score: <span style=\"color:blue\">0.95  \n",
    "<span style=\"color:orange\">A \n",
    "\n",
    "<span style=\"color:blue\">print(computegrade())   \n",
    "<span style=\"color:orange\">Enter score: <span style=\"color:blue\">perfect  \n",
    "<span style=\"color:orange\">Bad score\n",
    "\n",
    "<span style=\"color:blue\">print(computegrade())   \n",
    "<span style=\"color:orange\">Enter score: <span style=\"color:blue\">10.0  \n",
    "<span style=\"color:orange\">Bad score \n",
    " \n",
    "<span style=\"color:blue\">print(computegrade())   \n",
    "<span style=\"color:orange\">Enter score: <span style=\"color:blue\">0.75  \n",
    "<span style=\"color:orange\">C \n",
    "\n",
    "<span style=\"color:blue\">print(computegrade())   \n",
    "<span style=\"color:orange\">Enter score: <span style=\"color:blue\">0.5  \n",
    "<span style=\"color:orange\">F"
   ]
  }
 ],
 "metadata": {
  "anaconda-cloud": {},
  "kernelspec": {
   "display_name": "Python 3",
   "language": "python",
   "name": "python3"
  },
  "language_info": {
   "codemirror_mode": {
    "name": "ipython",
    "version": 3
   },
   "file_extension": ".py",
   "mimetype": "text/x-python",
   "name": "python",
   "nbconvert_exporter": "python",
   "pygments_lexer": "ipython3",
   "version": "3.7.3"
  }
 },
 "nbformat": 4,
 "nbformat_minor": 4
}
