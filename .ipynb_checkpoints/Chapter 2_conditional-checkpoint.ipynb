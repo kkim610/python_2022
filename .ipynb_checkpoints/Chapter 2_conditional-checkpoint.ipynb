{
 "cells": [
  {
   "cell_type": "markdown",
   "metadata": {
    "Collapsed": "false"
   },
   "source": [
    "![](pic/pic_1.png)"
   ]
  },
  {
   "cell_type": "code",
   "execution_count": null,
   "metadata": {
    "Collapsed": "false"
   },
   "outputs": [],
   "source": [
    "%%html\n",
    "<style>\n",
    "img{\n",
    "    float:left;\n",
    "}\n",
    "</style>"
   ]
  },
  {
   "cell_type": "markdown",
   "metadata": {
    "Collapsed": "false",
    "heading_collapsed": true
   },
   "source": [
    "# **2장  조건부 실행 (Conditional Execution)**  \n",
    "<br>\n"
   ]
  },
  {
   "cell_type": "markdown",
   "metadata": {
    "Collapsed": "false",
    "heading_collapsed": true,
    "hidden": true,
    "tags": []
   },
   "source": [
    "## 1.  불 표현식(Boolean expressions)\n"
   ]
  },
  {
   "cell_type": "markdown",
   "metadata": {
    "Collapsed": "false",
    "hidden": true
   },
   "source": [
    "불 표현식: True(참) 혹은 False (거짓)값을 갖는 표현식.  \n",
    "= = : 왼쪽값과 오른쪽 값이 같은지를 비교하여 True 또는 False 값을 갖는 비교연산자\n"
   ]
  },
  {
   "cell_type": "code",
   "execution_count": null,
   "metadata": {
    "Collapsed": "false",
    "hidden": true
   },
   "outputs": [],
   "source": [
    "5==5"
   ]
  },
  {
   "cell_type": "code",
   "execution_count": null,
   "metadata": {
    "Collapsed": "false",
    "hidden": true
   },
   "outputs": [],
   "source": [
    "5==6"
   ]
  },
  {
   "cell_type": "markdown",
   "metadata": {
    "Collapsed": "false",
    "hidden": true
   },
   "source": [
    "True 와 False 는 불(bool) 자료형(type)에 속하는 특별한 값이지만, 문자열은 아니다.  \n",
    "True 와 False가 문자열인지 아닌지 어떻게 알 수 있을까?"
   ]
  },
  {
   "cell_type": "code",
   "execution_count": null,
   "metadata": {
    "Collapsed": "false",
    "hidden": true
   },
   "outputs": [],
   "source": [
    "type(True)"
   ]
  },
  {
   "cell_type": "code",
   "execution_count": null,
   "metadata": {
    "Collapsed": "false"
   },
   "outputs": [],
   "source": [
    "type(\"True\")"
   ]
  },
  {
   "cell_type": "markdown",
   "metadata": {
    "Collapsed": "false",
    "hidden": true
   },
   "source": [
    "### 비교 연산자(comparison operators)    "
   ]
  },
  {
   "cell_type": "markdown",
   "metadata": {
    "Collapsed": "false",
    "hidden": true
   },
   "source": [
    "**<pre>불 표현식\t다음이 맞으면 True 가 된다.  \n",
    "x == y\t    x는 y와 같다.  \n",
    "x != y\t    x는 y와 값이 같지 않다.  \n",
    "x > y\t     x는 y보다 크다.  \n",
    "x < y\t     x는 y보다 작다.  \n",
    "x >= y\t    x는 y보다 크거나 같다.  \n",
    "x <= y\t    x는 y보다 작거나 같다.\n",
    "\n",
    "x is y\t    x는 y와 같다.  \n",
    "x is not y\tx는 y와 개체가 동일하지 않다.</pre>** \n",
    "\n",
    "\n",
    "<span style=\"color:red\">**주의: \n",
    "= 연산자는 대입 연산자이고, ==연산자는 비교 연산자다.**</span>   \n",
    " =<, => 같은 비교연산자는 파이썬에는 없다."
   ]
  },
  {
   "cell_type": "code",
   "execution_count": 1,
   "metadata": {
    "Collapsed": "false",
    "hidden": true
   },
   "outputs": [
    {
     "data": {
      "text/plain": [
       "True"
      ]
     },
     "execution_count": 1,
     "metadata": {},
     "output_type": "execute_result"
    }
   ],
   "source": [
    "5 == 5"
   ]
  },
  {
   "cell_type": "code",
   "execution_count": 2,
   "metadata": {
    "Collapsed": "false",
    "hidden": true
   },
   "outputs": [
    {
     "data": {
      "text/plain": [
       "False"
      ]
     },
     "execution_count": 2,
     "metadata": {},
     "output_type": "execute_result"
    }
   ],
   "source": [
    "5 == 6"
   ]
  },
  {
   "cell_type": "code",
   "execution_count": 3,
   "metadata": {
    "Collapsed": "false",
    "hidden": true
   },
   "outputs": [
    {
     "ename": "SyntaxError",
     "evalue": "can't assign to literal (<ipython-input-3-fd606e25f666>, line 1)",
     "output_type": "error",
     "traceback": [
      "\u001b[1;36m  File \u001b[1;32m\"<ipython-input-3-fd606e25f666>\"\u001b[1;36m, line \u001b[1;32m1\u001b[0m\n\u001b[1;33m    5 = 5\u001b[0m\n\u001b[1;37m         ^\u001b[0m\n\u001b[1;31mSyntaxError\u001b[0m\u001b[1;31m:\u001b[0m can't assign to literal\n"
     ]
    }
   ],
   "source": [
    "5 = 5"
   ]
  },
  {
   "cell_type": "code",
   "execution_count": null,
   "metadata": {
    "Collapsed": "false",
    "hidden": true
   },
   "outputs": [],
   "source": [
    "6 > 5"
   ]
  },
  {
   "cell_type": "markdown",
   "metadata": {
    "Collapsed": "false",
    "heading_collapsed": true,
    "hidden": true
   },
   "source": [
    "## 2.   논리 연산자 (logical operators)"
   ]
  },
  {
   "cell_type": "markdown",
   "metadata": {
    "Collapsed": "false",
    "hidden": true
   },
   "source": [
    "\n",
    "논리 연산자로 and, or, not 이 있다.  \n",
    "논리 연산자의 의미는 영어 의미와 유사하다.    \n",
    "예를 들어, x > 0 and x < 10 은 x 가 0 보다 크다 그리고(and), 10 보다 작으면 참이다.    \n",
    "n%2 == 0 or n%3 == 0 은 두 조건문 중 하나만 참이 되면, 즉, 숫자가 2 혹은 (or) 3으로 나누어지면 참이다.\n",
    "\n",
    "마지막으로 not 연산자는 불 연산 표현식을 부정한다.  \n",
    "x > y 가 거짓이면, not(x > y)은 참이다. \n",
    "즉, x가 y 보다 작거나 같으면 참이다.  "
   ]
  },
  {
   "cell_type": "code",
   "execution_count": null,
   "metadata": {
    "Collapsed": "false",
    "hidden": true
   },
   "outputs": [],
   "source": [
    "5 == 5"
   ]
  },
  {
   "cell_type": "code",
   "execution_count": null,
   "metadata": {
    "Collapsed": "false",
    "hidden": true
   },
   "outputs": [],
   "source": [
    "not (5 == 5)"
   ]
  },
  {
   "cell_type": "markdown",
   "metadata": {
    "Collapsed": "false",
    "heading_collapsed": true,
    "hidden": true,
    "tags": []
   },
   "source": [
    "## 3.  조건문 실행"
   ]
  },
  {
   "cell_type": "markdown",
   "metadata": {
    "Collapsed": "false",
    "hidden": true
   },
   "source": [
    "<img style=\"float: left;\" src=\"pic/pic2_5.png\" width=\"300\">"
   ]
  },
  {
   "cell_type": "markdown",
   "metadata": {
    "Collapsed": "false",
    "hidden": true
   },
   "source": [
    "* 조건에 따라 실행되는 코드가 바뀌어야 되는 경우가 있다.   \n",
    "* 조건문(Conditional statements)은 그러한 능력을 부여한다.   \n",
    "* 가장 간단한 형태의 조건문은 아래와 같은 if 문이다. "
   ]
  },
  {
   "cell_type": "markdown",
   "metadata": {
    "Collapsed": "false",
    "hidden": true
   },
   "source": [
    "```python\n",
    "if x > 0 :    \n",
    "    print('x is positive')  \n",
    "```"
   ]
  },
  {
   "cell_type": "markdown",
   "metadata": {
    "Collapsed": "false",
    "hidden": true
   },
   "source": [
    "![](pic/pic2_1.jpg ) "
   ]
  },
  {
   "cell_type": "markdown",
   "metadata": {
    "Collapsed": "false",
    "hidden": true
   },
   "source": [
    "* if문은 콜론(:)으로 끝나는 헤더(머리)부문과 들여쓰기 된 몸통 블록(block)으로 구성된다.   \n",
    "* if문 몸통 부문에 작성되는 실행 문장 숫자에 제한은 없으나 최소한 한 줄은 있어야 한다.   "
   ]
  },
  {
   "cell_type": "markdown",
   "metadata": {
    "Collapsed": "false",
    "hidden": true
   },
   "source": [
    "* 머리부분은 불 표현식(boolean expression)으로 조건(condition)이라고도 한다.  \n",
    "\n",
    "* 만약 조건이 참이면, 들여쓰기 된 문장이 실행된다.   \n",
    "* 만약 조건이 거짓이면, 들여쓰기 된 문장의 실행을 건너뛴다.  "
   ]
  },
  {
   "cell_type": "markdown",
   "metadata": {
    "Collapsed": "false",
    "hidden": true
   },
   "source": [
    "* 때때로, 몸통 부문에 어떤 문장도 없는 경우가 있다. 아직 코드를 작성하지 않아서 자리만 잡아 놓는 경우로, 아무것도 수행하지 않는 pass문을 사용할 수 있다."
   ]
  },
  {
   "cell_type": "markdown",
   "metadata": {
    "Collapsed": "false",
    "hidden": true
   },
   "source": [
    "```python\n",
    "if x < 0 :  \n",
    "    pass          # 나중에 다시 살펴볼 예정!\n",
    "```"
   ]
  },
  {
   "cell_type": "code",
   "execution_count": null,
   "metadata": {
    "Collapsed": "false",
    "hidden": true
   },
   "outputs": [],
   "source": [
    "x=5\n",
    "if x < 0:\n",
    "    print(\"hannam\")\n",
    "    print(\"university\")\n",
    "\n",
    "print(\"engineering\")"
   ]
  },
  {
   "cell_type": "markdown",
   "metadata": {
    "Collapsed": "false",
    "hidden": true
   },
   "source": [
    "<span style=\"color:red\">**주의: \n",
    "들여쓰기는 항상 4칸씩 띄어야 한다. **</span>   "
   ]
  },
  {
   "cell_type": "markdown",
   "metadata": {
    "Collapsed": "false",
    "hidden": true
   },
   "source": [
    "<div class=\"alert alert-success\">\n",
    " <ul>\n",
    "  코딩을 할 때, if 문의 헤더의 끝에 :을 타이핑 하고 enter 키를 누르면,</ul>     \n",
    "<ul>커서의 위치는 다음 줄로 이동한 후,  자동적으로 들여쓰기가 실행되어 몸통의 첫번째 자리에 위치한다.</ul>\n",
    "</div>"
   ]
  },
  {
   "cell_type": "markdown",
   "metadata": {
    "Collapsed": "false",
    "hidden": true
   },
   "source": [
    "<br><br>\n",
    "<span style=\"color:red\">연습 2.1 </span>   \n",
    "키보드로부터 입력받은 문자가 'h'  이면, 'Hannam'라고 인쇄하는 프로그램을 작성하라.  "
   ]
  },
  {
   "cell_type": "code",
   "execution_count": null,
   "metadata": {
    "Collapsed": "false"
   },
   "outputs": [],
   "source": []
  },
  {
   "cell_type": "markdown",
   "metadata": {
    "Collapsed": "false",
    "hidden": true
   },
   "source": [
    "<br><br>\n",
    "<span style=\"color:red\">연습 2.2 </span>   \n",
    "키보드로부터 입력받은 문자가 'h' 이거나 'H' 이면, 'Hannam'라고 인쇄하는 프로그램을 작성하라.  "
   ]
  },
  {
   "cell_type": "code",
   "execution_count": null,
   "metadata": {
    "Collapsed": "false"
   },
   "outputs": [],
   "source": []
  },
  {
   "cell_type": "markdown",
   "metadata": {
    "Collapsed": "false",
    "hidden": true
   },
   "source": [
    "<br><br>\n",
    "<span style=\"color:red\">연습 2.3 </span>   \n",
    "키보드로부터 입력받은 문자가 'u' 이면, 첫 줄에 'Hannam' 이라고 인쇄하고 다음 줄에 'University'라고 인쇄하는 프로그램을 작성하라. "
   ]
  },
  {
   "cell_type": "code",
   "execution_count": null,
   "metadata": {
    "Collapsed": "false"
   },
   "outputs": [],
   "source": []
  },
  {
   "cell_type": "code",
   "execution_count": null,
   "metadata": {
    "Collapsed": "false"
   },
   "outputs": [],
   "source": []
  },
  {
   "cell_type": "markdown",
   "metadata": {
    "Collapsed": "false",
    "heading_collapsed": true,
    "hidden": true
   },
   "source": [
    "## 4. &nbsp;<span style=\"font-family: Courier New; \"> if &nbsp;&nbsp;&nbsp;&nbsp;  else  <span>문 \n"
   ]
  },
  {
   "cell_type": "markdown",
   "metadata": {
    "Collapsed": "false",
    "hidden": true
   },
   "source": [
    "if문의 두번째 형태는 조건이 만족된 경우에 실행할 문장이 있고, 아울러 조건이 만족되지 않은 경우에도 실행할 문장이 있는 경우이다.   "
   ]
  },
  {
   "cell_type": "markdown",
   "metadata": {
    "Collapsed": "false",
    "hidden": true
   },
   "source": [
    "```python\n",
    "if x%2 == 0 :  \n",
    "    print('x is even')  \n",
    "else :  \n",
    "    print('x is odd')  \n",
    "```"
   ]
  },
  {
   "cell_type": "markdown",
   "metadata": {
    "Collapsed": "false",
    "hidden": true
   },
   "source": [
    "x를 2로 나누었을 때, 0 이되면, 'x is even'라는 결과 메시지를 출력한다.   \n",
    "만약 조건이 거짓이라면, 두 번째 몸통 부문 문장이 실행된다."
   ]
  },
  {
   "cell_type": "markdown",
   "metadata": {
    "Collapsed": "false",
    "hidden": true
   },
   "source": [
    "![](pic/pic2_2.jpg ) "
   ]
  },
  {
   "cell_type": "markdown",
   "metadata": {
    "Collapsed": "false",
    "hidden": true
   },
   "source": [
    "실습"
   ]
  },
  {
   "cell_type": "code",
   "execution_count": null,
   "metadata": {
    "Collapsed": "false",
    "hidden": true
   },
   "outputs": [],
   "source": [
    "x=4\n",
    "if x%2 == 0 :  \n",
    "    print('x is even')  \n",
    "else :  \n",
    "    print('x is odd')"
   ]
  },
  {
   "cell_type": "markdown",
   "metadata": {
    "Collapsed": "false",
    "hidden": true
   },
   "source": [
    "<br><br>\n",
    "<span style=\"color:red\">연습 2.4 </span>   \n",
    "키보드로부터 입력받은 문자가 'a' 면, '알파'라고 인쇄하고,  \n",
    "'a'가 아니면, '와우!'라고 인쇄하는 프로그램을 작성하라.  "
   ]
  },
  {
   "cell_type": "code",
   "execution_count": null,
   "metadata": {
    "Collapsed": "false"
   },
   "outputs": [],
   "source": []
  },
  {
   "cell_type": "markdown",
   "metadata": {
    "Collapsed": "false",
    "hidden": true
   },
   "source": [
    "<br><br>\n",
    "<span style=\"color:red\">연습 2.5 </span>   \n",
    "키보드로부터 입력받은 문자가 'a' 면, 첫 줄에 '알파'라고 인쇄하고, 둘째 줄에 '베타' 라고 인쇄하며,   \n",
    "'a'가 아니면, '와우!'라고 인쇄하는 프로그램을 작성하라.  "
   ]
  },
  {
   "cell_type": "code",
   "execution_count": null,
   "metadata": {
    "Collapsed": "false"
   },
   "outputs": [],
   "source": []
  },
  {
   "cell_type": "markdown",
   "metadata": {
    "Collapsed": "false",
    "heading_collapsed": true,
    "hidden": true
   },
   "source": [
    "## 5.  &nbsp;연쇄 조건문\n"
   ]
  },
  {
   "cell_type": "markdown",
   "metadata": {
    "Collapsed": "false",
    "hidden": true
   },
   "source": [
    "* 때로, 두 가지 이상의 경우의 수가 있으며, 이 경우 두 가지 이상의 분기가 필요하다.  \n",
    "* 이와 같은 연산을 표현하는 방식이 연쇄 조건문(chained conditional)이다.  "
   ]
  },
  {
   "cell_type": "markdown",
   "metadata": {
    "Collapsed": "false",
    "hidden": true
   },
   "source": [
    "```python\n",
    "if x < y:  \n",
    "    print('x is less than y')  \n",
    "elif x > y:  \n",
    "    print('x is greater than y')  \n",
    "else:  \n",
    "    print('x and y are equal') \n",
    "```"
   ]
  },
  {
   "cell_type": "markdown",
   "metadata": {
    "Collapsed": "false",
    "hidden": true
   },
   "source": [
    "elif는 ”else if”를 의미한다.  \n",
    "![](pic/pic2_3.jpg ) "
   ]
  },
  {
   "cell_type": "markdown",
   "metadata": {
    "Collapsed": "false",
    "hidden": true
   },
   "source": [
    "* elif 문의 갯수에 제한은 없다.   \n",
    "* else 절이 있다면, 거기서 끝마쳐야 하지만, 연쇄 조건문에 필히 있어야 하는 것은 아니다."
   ]
  },
  {
   "cell_type": "markdown",
   "metadata": {
    "Collapsed": "false",
    "hidden": true
   },
   "source": [
    "```python\n",
    "if choice == 'a':  \n",
    "    print('Bad guess')  \n",
    "elif choice == 'b':  \n",
    "    print('Good guess')  \n",
    "elif choice == 'c':  \n",
    "    print('Close, but not correct')\n",
    "```"
   ]
  },
  {
   "cell_type": "markdown",
   "metadata": {
    "Collapsed": "false",
    "hidden": true
   },
   "source": [
    "각 조건은 순서대로 점검한다.   \n",
    "만약 첫 번째가 거짓이면, 다음을 점검하고 계속 점검해 나간다.     \n",
    "순서대로 진행 중에 하나의 조건이 참이면, 해당 분기가 수행되고, if문 전체는 종료된다.   \n",
    "설사 하나 이상의 조건이 참이라고 하더라도, 첫 번째 참 분기만 수행된다."
   ]
  },
  {
   "cell_type": "code",
   "execution_count": null,
   "metadata": {
    "Collapsed": "false",
    "hidden": true
   },
   "outputs": [],
   "source": [
    "#choice='a'\n",
    "#choice='b'\n",
    "#choice='c'\n",
    "choice='d'\n",
    "\n",
    "if choice == 'a':  \n",
    "    print('Bad guess')  \n",
    "elif choice == 'b':  \n",
    "    print('Good guess')  \n",
    "elif choice == 'c':  \n",
    "    print('Close, but not correct')\n",
    "\n",
    "print(\"마지막 프린트문 실행\")"
   ]
  },
  {
   "cell_type": "markdown",
   "metadata": {
    "Collapsed": "false",
    "hidden": true
   },
   "source": [
    "<br><br>\n",
    "<span style=\"color:red\">연습 2.6 </span>   \n",
    "키보드로부터 입력받은 문자가   \n",
    "'a' 이면, 'Alpha'라고 인쇄하고,   \n",
    "'b' 이면, 'Beta'라고 인쇄하며,  \n",
    "'a'도 'b'도 아니면, '와우!'라고 인쇄하는 프로그램을 작성하라. "
   ]
  },
  {
   "cell_type": "code",
   "execution_count": null,
   "metadata": {
    "Collapsed": "false"
   },
   "outputs": [],
   "source": []
  },
  {
   "cell_type": "markdown",
   "metadata": {
    "Collapsed": "false",
    "heading_collapsed": true,
    "hidden": true
   },
   "source": [
    "## 6.  &nbsp;중첩 조건문 (nested conditionals )\n"
   ]
  },
  {
   "cell_type": "markdown",
   "metadata": {
    "Collapsed": "false",
    "hidden": true
   },
   "source": [
    "조건문 내부에 새로운 조건문이 들어 있을 수 있다. "
   ]
  },
  {
   "cell_type": "markdown",
   "metadata": {
    "Collapsed": "false",
    "hidden": true
   },
   "source": [
    "```python\n",
    "if x == y:  \n",
    "    print('equal')  \n",
    "else:    \n",
    "    if x < y:  \n",
    "        print('less')  \n",
    "    else:  \n",
    "        print('greater')\n",
    "```"
   ]
  },
  {
   "cell_type": "markdown",
   "metadata": {
    "Collapsed": "false",
    "hidden": true
   },
   "source": [
    "![](pic/pic2_4.jpg ) "
   ]
  },
  {
   "cell_type": "markdown",
   "metadata": {
    "Collapsed": "false",
    "hidden": true
   },
   "source": [
    "문장을 들여쓰는 것이 구조를 명확히 하지만, 중첩 조건문의 경우 가독성이 급격히 저하된다.  \n",
    "일반적으로, 가능하면 중첩 조건문을 피하는 것을 권장한다.  "
   ]
  },
  {
   "cell_type": "markdown",
   "metadata": {
    "Collapsed": "false",
    "hidden": true
   },
   "source": [
    "예를 들어, 다음 조건문이 있다고 하자.  \n",
    "\n",
    "```python\n",
    "if 0 < x:  \n",
    "    if x < 10:  \n",
    "        print('x는 한 자리 양수.')  \n",
    "```"
   ]
  },
  {
   "cell_type": "markdown",
   "metadata": {
    "Collapsed": "false",
    "hidden": true
   },
   "source": [
    "논리 연산자를 사용하여 위의 중첩 조건문을 간략히 할 수 있다.   \n",
    "print문은 두 개 조건문을 동시에 통과될 때만 실행되므로, and 연산자를 사용하여 동일한 효과를 낼 수 있다.  \n",
    "\n",
    "```python\n",
    "if 0 < x and x < 10:  \n",
    "    print('x는 한 자리 양수.')  \n",
    "```"
   ]
  },
  {
   "cell_type": "code",
   "execution_count": null,
   "metadata": {
    "Collapsed": "false",
    "hidden": true
   },
   "outputs": [],
   "source": [
    "x = 5\n",
    "#x = 20\n",
    "#x = -20\n",
    "if 0 < x :\n",
    "    if x < 10:\n",
    "        print('x는 한 자리 양수.')"
   ]
  },
  {
   "cell_type": "code",
   "execution_count": null,
   "metadata": {
    "Collapsed": "false",
    "hidden": true
   },
   "outputs": [],
   "source": [
    "x = 5\n",
    "#x = 20\n",
    "#x = -20\n",
    "if 0 < x and x < 10:\n",
    "    print('x는 한 자리 양수.')"
   ]
  },
  {
   "cell_type": "markdown",
   "metadata": {
    "Collapsed": "false",
    "heading_collapsed": true,
    "hidden": true
   },
   "source": [
    "## 7.  &nbsp;try와 except를 활용한 예외 처리\n"
   ]
  },
  {
   "cell_type": "markdown",
   "metadata": {
    "Collapsed": "false",
    "hidden": true
   },
   "source": [
    "<br>\n",
    "화씨 온도를 섭씨 온도로 변환하는 간단한 프로그램이 아래에 있다.  \n",
    "\n",
    "이 코드를 실행해서 적절하지 않은 입력값을 넣게 되면, 오류메시지와 함께 작동을 멈춘다."
   ]
  },
  {
   "cell_type": "markdown",
   "metadata": {
    "Collapsed": "false",
    "hidden": true
   },
   "source": [
    "아래 프로그램을 실행하고, 입력 값을 요구하면 알파벳를 입력하고 enter 키를 눌러보자."
   ]
  },
  {
   "cell_type": "code",
   "execution_count": null,
   "metadata": {
    "Collapsed": "false",
    "hidden": true
   },
   "outputs": [],
   "source": [
    "inp = input('화씨온도(Fahrenheit Temperature) 입력:')\n",
    "fahr = float(inp)\n",
    "cel = (fahr - 32.0) * 5.0 / 9.0\n",
    "print(cel)\n",
    "print(\"END\")"
   ]
  },
  {
   "cell_type": "markdown",
   "metadata": {
    "Collapsed": "false",
    "hidden": true
   },
   "source": [
    "<br><br>\n",
    "이런 종류의 (예측 하거나, 예측 하지 못한) 오류를 처리하기 위하여, 파이썬에는 “try: &nbsp;&nbsp;&nbsp;&nbsp;except:”로 불리는 조건 실행 구조가 내장되어 있다. \n",
    "\n",
    "try와 except의 기본적인 생각은 일부 명령문에 오류가 발생하게 된다면 대신 프로그램에 추가해서 명령문을 실행한다는 것이다.  \n",
    "except 블록의 문장은 오류가 없다면 실행되지 않는다.  \n",
    "문장 실행에 대해서 파이썬 try, except 기능을 보험으로 생각할 수도 있다.  \n",
    "\n",
    "온도 변환 프로그램을 다음과 같이 다시 작성한다.  "
   ]
  },
  {
   "cell_type": "code",
   "execution_count": null,
   "metadata": {
    "Collapsed": "false",
    "hidden": true
   },
   "outputs": [],
   "source": [
    "inp = input('화씨온도(Fahrenheit Temperature) 입력:')\n",
    "try:\n",
    "    fahr = float(inp)\n",
    "    cel = (fahr - 32.0) * 5.0 / 9.0\n",
    "    print(cel)\n",
    "except:\n",
    "    print('숫자를 입력하세요!!!')\n",
    "print(\"END\")"
   ]
  },
  {
   "cell_type": "markdown",
   "metadata": {
    "Collapsed": "false",
    "hidden": true
   },
   "source": [
    "<br><br>파이썬은 try 블록 문장을 우선 실행한다.   \n",
    "만약 모든 것이 순조롭다면, except 블록을 건너뛰고, 다음 코드를 실행한다.   \n",
    "만약 try 블록에서 에러가 발생하면, 파이썬은 try 블록에서 빠져 나와 except 블록 문장을 수행한다.\n",
    "\n",
    "try문으로 예외사항을 다루는 것을 예외 처리하기(catching an exception) 라고 부른다.   \n",
    "이 예제에서는 except 절에서는 단순히 오류 메시지를 출력만 하고 정상적으로 프로그램을 종료를 했다.   \n",
    "그러나, 보다 정교한 프로그램에서는, 예외 처리를 통해서 오류를 고치거나, 재시작하거나, 최소한 프로그램이 정상적으로 종료될 수 있게 except 절을 활용한다.\n",
    "\n"
   ]
  },
  {
   "cell_type": "markdown",
   "metadata": {
    "Collapsed": "false",
    "heading_collapsed": true,
    "hidden": true
   },
   "source": [
    "## 8. 디버깅(Debugging) \n"
   ]
  },
  {
   "cell_type": "markdown",
   "metadata": {
    "Collapsed": "false",
    "hidden": true
   },
   "source": [
    "\n",
    "오류가 발생했을 때, 파이썬 화면에 출력되는 역추적(traceback)에는 상당한 정보가 담겨있다.   \n",
    "대체로 가장 유용한 정보는 다음과 같은 것이 있다.  \n",
    "* 어떤 종류의 오류인가.\n",
    "* 어디서 발생했는가.\n",
    "\n",
    "구문 오류(문법 오류)는 대체로 발견하기 쉽지만, 몇 가지는 애매하다.   \n",
    "space 키, 탭(tab) 키 등으로 형성된 whitespace(공백문자)는 눈에 잘 띄지않아 무시하고 넘어가기 쉽기 때문에 오류를 잡아내기가 까다롭다."
   ]
  },
  {
   "cell_type": "code",
   "execution_count": null,
   "metadata": {
    "Collapsed": "false",
    "hidden": true
   },
   "outputs": [],
   "source": [
    "x = 5\n",
    " y = 6"
   ]
  },
  {
   "cell_type": "markdown",
   "metadata": {
    "Collapsed": "false",
    "hidden": true
   },
   "source": [
    "위 예제에서 에러는 두 번째 줄에 공백을 한 칸 더 들여써서 발생하였다.   \n",
    "하지만, 오류 메시지는 y에 잘못이 있다고 하고 있어, 초보 프로그래머는 그 위치가 오류인 줄 착각하기 쉽다.   \n",
    "오류 메시지는 문제가 어디에서 발견되었는지를 지칭하지만, 실제 오류는 그 코드 보다 앞에서 발생하곤 한다.   \n",
    "\n",
    "대체로, 오류 메시지는 문제가 어디에서 발견되었는지를 알려주지만, 종종 문제의 원인이 어디에서 발생했는지는 알려주지 않는다."
   ]
  },
  {
   "cell_type": "markdown",
   "metadata": {
    "Collapsed": "false",
    "heading_collapsed": true,
    "hidden": true
   },
   "source": [
    "## <span style=\"color:red\"> 연습문제 </span>  "
   ]
  },
  {
   "cell_type": "markdown",
   "metadata": {
    "Collapsed": "false",
    "hidden": true
   },
   "source": [
    "<br><br>\n",
    "<span style=\"color:red\">연습문제 2.1 </span>   \n",
    "키보드로부터 입력받은 숫자가 3의 배수이면 다음과 같이 인쇄하는 프로그램을 작성하시오.   \n",
    "다음은 프로그램을 두번 실행한 결과의 예를 보여준다.\n",
    "\n",
    "예:  \n",
    "<span style=\"color:orange\">숫자를 입력하세요: <span style=\"color:blue\">36   \n",
    "<span style=\"color:orange\">36 은 3의 배수 입니다.\n",
    "\n",
    "<span style=\"color:orange\">숫자를 입력하세요: <span style=\"color:blue\">10  "
   ]
  },
  {
   "cell_type": "code",
   "execution_count": null,
   "metadata": {
    "Collapsed": "false"
   },
   "outputs": [],
   "source": []
  },
  {
   "cell_type": "markdown",
   "metadata": {
    "Collapsed": "false",
    "hidden": true
   },
   "source": [
    "<br><br>\n",
    "<span style=\"color:red\">연습문제 2.2 </span>   \n",
    "키보드로부터 입력받은 숫자가 3의 배수인지 아닌지를 인쇄하는 프로그램을 작성하시오.  \n",
    "다음은 프로그램을 두번 실행한 결과의 예를 보여준다.\n",
    "\n",
    "예:  \n",
    "<span style=\"color:orange\">숫자를 입력하세요: <span style=\"color:blue\">36   \n",
    "<span style=\"color:orange\">36 은 3의 배수 입니다.\n",
    "\n",
    "<span style=\"color:orange\">숫자를 입력하세요: <span style=\"color:blue\">10  \n",
    "<span style=\"color:orange\"> 10 은 3의 배수가 아닙니다. "
   ]
  },
  {
   "cell_type": "code",
   "execution_count": null,
   "metadata": {
    "Collapsed": "false"
   },
   "outputs": [],
   "source": []
  },
  {
   "cell_type": "markdown",
   "metadata": {
    "Collapsed": "false",
    "hidden": true
   },
   "source": [
    "<br><br>\n",
    "<span style=\"color:red\">연습문제 2.3   </span>   \n",
    "try, except를 사용하여 연습문제 1.8 봉급계산 프로그램을 다시 작성하라.  \n",
    "숫자 아닌 입력값이 들어왔을 때 메시지를 출력하고 정상적으로 프로그램을 종료하도록 한다.   \n",
    "\n",
    "다음은 프로그램을 두 번 실행한 결과를 보여준다.\n",
    "\n",
    "예:  \n",
    "<span style=\"color:orange\">일 한 시간을 입력하세요: <span style=\"color:blue\">20   \n",
    "<span style=\"color:orange\">시간당 임금을 입력하세요: <span style=\"color:blue\">nine  \n",
    "<span style=\"color:orange\">오류입니다. 숫자를 입력하세요 </span>  \n",
    "\n",
    "<span style=\"color:orange\">일 한 시간을 입력하세요: <span style=\"color:blue\">forty  \n",
    "<span style=\"color:orange\">오류입니다. 숫자를 입력하세요 </span>  "
   ]
  },
  {
   "cell_type": "code",
   "execution_count": null,
   "metadata": {
    "Collapsed": "false"
   },
   "outputs": [],
   "source": []
  },
  {
   "cell_type": "code",
   "execution_count": null,
   "metadata": {
    "Collapsed": "false"
   },
   "outputs": [],
   "source": []
  },
  {
   "cell_type": "markdown",
   "metadata": {
    "Collapsed": "false",
    "hidden": true
   },
   "source": [
    "<br><br>\n",
    "<span style=\"color:red\">연습문제 2.4 </span>   \n",
    "0.0과 1.0 사이의 점수를 입력하는 프로그램을 작성하라.  \n",
    "숫자가 입력 된다고 가정한다.  \n",
    "점수가 범위 밖이면 오류를 출력하고, 0.0과 1.0 사이라면, 다음 테이블에 따라 등급을 출력한다.\n",
    "\n",
    "Score Grade  \n",
    "<pre>>= 0.9   A  \n",
    ">= 0.8   B  \n",
    ">= 0.7   C  \n",
    ">= 0.6   D  \n",
    "< 0.6    F  </pre>\n",
    "\n",
    "예:  \n",
    "<span style=\"color:orange\">점수입력: <span style=\"color:blue\">0.95  \n",
    "<span style=\"color:orange\">A \n",
    "\n",
    "<span style=\"color:orange\">점수입력: <span style=\"color:blue\">0.75  \n",
    "<span style=\"color:orange\">C \n",
    "\n",
    "<span style=\"color:orange\">점수입력: <span style=\"color:blue\">0.5  \n",
    "<span style=\"color:orange\">F\n",
    "\n",
    "<span style=\"color:orange\">점수입력: <span style=\"color:blue\">10.0  \n",
    "<span style=\"color:orange\">입력 오류\n",
    "\n",
    "<span style=\"color:orange\">점수입력: <span style=\"color:blue\">-1.0  \n",
    "<span style=\"color:orange\">입력 오류\n"
   ]
  },
  {
   "cell_type": "markdown",
   "metadata": {
    "Collapsed": "false",
    "hidden": true
   },
   "source": [
    "<br><br>\n",
    "<span style=\"color:red\">연습문제 2.5 </span>   \n",
    "0.0과 1.0 사이의 점수를 입력하는 프로그램을 작성하라.   \n",
    "0.0과 1.0 사이라면, 다음 테이블에 따라 등급을 인쇄하고,  \n",
    "숫자가 아닌 문자가 입력 되었거나, 점수가 범위 밖이면 아래와 같이 오류메세지와 입력내용을 인쇄하라.\n",
    "<pre>\n",
    "Score Grade  \n",
    ">= 0.9   A  \n",
    ">= 0.8   B  \n",
    ">= 0.7   C  \n",
    ">= 0.6   D  \n",
    "< 0.6    F  \n",
    "</pre>\n",
    "\n",
    "예:   \n",
    "<span style=\"color:orange\">점수입력: <span style=\"color:blue\">0.95  \n",
    "<span style=\"color:orange\">A \n",
    "\n",
    "<span style=\"color:orange\">점수입력: <span style=\"color:blue\">0.75  \n",
    "<span style=\"color:orange\">C \n",
    "\n",
    "<span style=\"color:orange\">점수입력: <span style=\"color:blue\">0.5  \n",
    "<span style=\"color:orange\">F\n",
    "\n",
    "<span style=\"color:orange\">점수입력: <span style=\"color:blue\">10.0  \n",
    "<span style=\"color:orange\">입력 오류: 10.0   \n",
    "\n",
    "<span style=\"color:orange\">점수입력: <span style=\"color:blue\">-1.0  \n",
    "<span style=\"color:orange\">입력 오류: -1.0 \n",
    "\n",
    "<span style=\"color:orange\">점수입력: <span style=\"color:blue\">perfect  \n",
    "<span style=\"color:orange\">입력 오류: perfect\n"
   ]
  },
  {
   "cell_type": "code",
   "execution_count": null,
   "metadata": {
    "Collapsed": "false",
    "hidden": true
   },
   "outputs": [],
   "source": []
  }
 ],
 "metadata": {
  "anaconda-cloud": {},
  "kernelspec": {
   "display_name": "Python 3",
   "language": "python",
   "name": "python3"
  },
  "language_info": {
   "codemirror_mode": {
    "name": "ipython",
    "version": 3
   },
   "file_extension": ".py",
   "mimetype": "text/x-python",
   "name": "python",
   "nbconvert_exporter": "python",
   "pygments_lexer": "ipython3",
   "version": "3.7.3"
  }
 },
 "nbformat": 4,
 "nbformat_minor": 4
}
