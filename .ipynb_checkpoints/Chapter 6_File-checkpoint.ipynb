{
 "cells": [
  {
   "cell_type": "markdown",
   "metadata": {
    "Collapsed": "false"
   },
   "source": [
    "![](pic/pic_1.png)\n",
    "\n",
    "# **6장  &nbsp;&nbsp;파일(File)**  \n",
    "<br>\n"
   ]
  },
  {
   "cell_type": "markdown",
   "metadata": {
    "Collapsed": "false",
    "heading_collapsed": true
   },
   "source": [
    "## 1.  &nbsp;&nbsp;지속성\n"
   ]
  },
  {
   "cell_type": "markdown",
   "metadata": {
    "Collapsed": "false",
    "hidden": true
   },
   "source": [
    "\n",
    "컴퓨터의 전원이 꺼지게 되면, CPU와 주기억장치에 저장된 모든 것이 지워진다.  \n",
    "이번 장에서 보조 기억장치(Secondary Memory)에 저장된 파일을 다루는 법을 배운다.   \n",
    "보조 기억장치는 전원이 꺼져도 지워지지 않는다. \n",
    "<br>\n",
    "![](pic/pic6_1.jpg)"
   ]
  },
  {
   "cell_type": "markdown",
   "metadata": {
    "Collapsed": "false",
    "heading_collapsed": true
   },
   "source": [
    "## 2.  &nbsp;&nbsp;파일 열기 \n"
   ]
  },
  {
   "cell_type": "markdown",
   "metadata": {
    "Collapsed": "false",
    "hidden": true
   },
   "source": [
    "\n",
    "보조기억장치(하드 디스크, USB, 클라우드 등)에 있는 파일을 읽거나(read), 보조기억장치에 화일을 쓰려고(write) 할 때, 먼저 파일을 열여야(open) 한다.   \n",
    "파일을 열 때, 각 파일이 어디에 저장되었는지를 알고 있는 운영체제(OS)와 커뮤니케이션 한다.   \n",
    "파일을 열 때, 운영체제에 파일이 존재하는지 확인하고 이름으로 파일을 찾도록 요청한다.   "
   ]
  },
  {
   "cell_type": "markdown",
   "metadata": {
    "Collapsed": "false",
    "hidden": true
   },
   "source": [
    "<br>\n",
    "\n",
    "먼저, 내 컴퓨터 내에 있는 화일을 open  해 보자.   \n",
    "www.py4inf.com/code/mbox.txt 를 다음과 같이 다운로드 할 수 있다.   \n",
    "먼저 구글 주소창에서 http:<span></span>//www.py4inf.com/code 을 입력하여 해당 폴더로 이동한 후, mbox.txt파일을 내 컴퓨터의 현재 사용 폴더로 저장한다."
   ]
  },
  {
   "cell_type": "code",
   "execution_count": 3,
   "metadata": {
    "Collapsed": "false",
    "hidden": true
   },
   "outputs": [
    {
     "name": "stdout",
     "output_type": "stream",
     "text": [
      "<_io.TextIOWrapper name='mbox.txt' mode='r' encoding='cp949'>\n"
     ]
    }
   ],
   "source": [
    "fhand = open('mbox.txt', 'r')\n",
    "print(fhand)\n",
    "fhand.close()"
   ]
  },
  {
   "cell_type": "markdown",
   "metadata": {
    "Collapsed": "false",
    "hidden": true
   },
   "source": [
    "<br><br>\n",
    "open이 성공하면, 운영체제는 파일핸들(file handle)을 반환한다.   \n",
    "파일핸들(file handle)은 파일에 담겨진 실제 데이터는 아니고, 대신에 데이터를 읽을 수 있도록 사용할 수 있는 ”핸들(handle)”이다.   \n",
    "요청한 파일이 존재하고, 파일을 읽을수 있는 적절한 권한이 여러분에게 있다면 이제 핸들이 여러분에게 주어진다.\n",
    "![](pic/pic6_2.jpg)"
   ]
  },
  {
   "cell_type": "markdown",
   "metadata": {
    "Collapsed": "false",
    "hidden": true
   },
   "source": [
    "<br><br>\n",
    "만일 파일이 존재하지 않는다면, 역추적(traceback) 메시지를 화면에 인쇄하여 파일 열기가 실패했음을 알린다.   \n",
    "(물론 파일 콘텐츠에 접근할 핸들도 얻지 못한다.)  \n",
    "아래 코드를 실행해보자."
   ]
  },
  {
   "cell_type": "code",
   "execution_count": 2,
   "metadata": {
    "Collapsed": "false",
    "hidden": true
   },
   "outputs": [
    {
     "ename": "FileNotFoundError",
     "evalue": "[Errno 2] No such file or directory: 'stuff.txt,'",
     "output_type": "error",
     "traceback": [
      "\u001b[1;31m---------------------------------------------------------------------------\u001b[0m",
      "\u001b[1;31mFileNotFoundError\u001b[0m                         Traceback (most recent call last)",
      "\u001b[1;32m<ipython-input-2-a889a6230de5>\u001b[0m in \u001b[0;36m<module>\u001b[1;34m\u001b[0m\n\u001b[1;32m----> 1\u001b[1;33m \u001b[0mfhand\u001b[0m \u001b[1;33m=\u001b[0m \u001b[0mopen\u001b[0m\u001b[1;33m(\u001b[0m\u001b[1;34m'stuff.txt,'\u001b[0m\u001b[1;34mr''\u001b[0m\u001b[1;33m)\u001b[0m\u001b[1;33m\u001b[0m\u001b[1;33m\u001b[0m\u001b[0m\n\u001b[0m\u001b[0;32m      2\u001b[0m \u001b[0mprint\u001b[0m\u001b[1;33m(\u001b[0m\u001b[0mfhand\u001b[0m\u001b[1;33m)\u001b[0m\u001b[1;33m\u001b[0m\u001b[1;33m\u001b[0m\u001b[0m\n\u001b[0;32m      3\u001b[0m \u001b[0mfhand\u001b[0m\u001b[1;33m.\u001b[0m\u001b[0mclose\u001b[0m\u001b[1;33m(\u001b[0m\u001b[1;33m)\u001b[0m\u001b[1;33m\u001b[0m\u001b[1;33m\u001b[0m\u001b[0m\n",
      "\u001b[1;31mFileNotFoundError\u001b[0m: [Errno 2] No such file or directory: 'stuff.txt,'"
     ]
    }
   ],
   "source": [
    "fhand = open('stuff.txt,'r'')\n",
    "print(fhand)\n",
    "fhand.close()"
   ]
  },
  {
   "cell_type": "markdown",
   "metadata": {
    "Collapsed": "false",
    "hidden": true
   },
   "source": [
    "<br>\n",
    "\n",
    "이번에는, 파일이 내 컴퓨터 내의 다른 위치에 있는 경우에 파일을 open 해 보자.   \n",
    "mbox.txt파일이 바탕화면에 있다면, 파일을 선택한 후 마우스 왼쪽 버튼을 클릭하고,     \n",
    "속성을 선택(오른쪽 버튼 클릭)하면 주소가 보인다.  \n",
    "주소를 C:\\Users\\mm\\Desktop  이 된다.  \n",
    "아래 코드에서 보듯이 C:\\Users\\mm\\Desktop\\mbox.txt 가 아니라 C:/Users/mm/Desktop/mbox.txt 로 입력해야 한다."
   ]
  },
  {
   "cell_type": "code",
   "execution_count": 4,
   "metadata": {
    "Collapsed": "false",
    "hidden": true
   },
   "outputs": [
    {
     "ename": "FileNotFoundError",
     "evalue": "[Errno 2] No such file or directory: 'C:/users/mm/desktop/mbox.txt'",
     "output_type": "error",
     "traceback": [
      "\u001b[1;31m---------------------------------------------------------------------------\u001b[0m",
      "\u001b[1;31mFileNotFoundError\u001b[0m                         Traceback (most recent call last)",
      "\u001b[1;32m<ipython-input-4-630e86970efb>\u001b[0m in \u001b[0;36m<module>\u001b[1;34m\u001b[0m\n\u001b[1;32m----> 1\u001b[1;33m \u001b[0mfhand\u001b[0m \u001b[1;33m=\u001b[0m \u001b[0mopen\u001b[0m\u001b[1;33m(\u001b[0m\u001b[1;34m'C:/users/mm/desktop/mbox.txt'\u001b[0m\u001b[1;33m,\u001b[0m \u001b[1;34m'r'\u001b[0m\u001b[1;33m)\u001b[0m\u001b[1;33m\u001b[0m\u001b[1;33m\u001b[0m\u001b[0m\n\u001b[0m\u001b[0;32m      2\u001b[0m \u001b[0mprint\u001b[0m\u001b[1;33m(\u001b[0m\u001b[0mfhand\u001b[0m\u001b[1;33m)\u001b[0m\u001b[1;33m\u001b[0m\u001b[1;33m\u001b[0m\u001b[0m\n\u001b[0;32m      3\u001b[0m \u001b[0mfhand\u001b[0m\u001b[1;33m.\u001b[0m\u001b[0mclose\u001b[0m\u001b[1;33m(\u001b[0m\u001b[1;33m)\u001b[0m\u001b[1;33m\u001b[0m\u001b[1;33m\u001b[0m\u001b[0m\n",
      "\u001b[1;31mFileNotFoundError\u001b[0m: [Errno 2] No such file or directory: 'C:/users/mm/desktop/mbox.txt'"
     ]
    }
   ],
   "source": [
    "fhand = open('C:/users/mm/desktop/mbox.txt', 'r')\n",
    "print(fhand)\n",
    "fhand.close()"
   ]
  },
  {
   "cell_type": "markdown",
   "metadata": {
    "Collapsed": "false",
    "hidden": true
   },
   "source": [
    "<br><br>\n",
    "마지막으로, url(universal file locator, 통합 자원 식별자, 직역: 통합 파일 위치 식별자) 을 이용하여 파일을 open 하는 방법을 알아보자.  \n",
    "열어 볼 파일의 url은 www.py4inf.com/code/mbox.txt 이다."
   ]
  },
  {
   "cell_type": "code",
   "execution_count": 1,
   "metadata": {
    "Collapsed": "false",
    "hidden": true
   },
   "outputs": [
    {
     "name": "stdout",
     "output_type": "stream",
     "text": [
      "<http.client.HTTPResponse object at 0x0000018F0848EEB8>\n"
     ]
    }
   ],
   "source": [
    "import urllib.request\n",
    "\n",
    "fhand = urllib.request.urlopen('http://www.py4inf.com/code/mbox.txt')\n",
    "print(fhand)\n",
    "fhand.close()"
   ]
  },
  {
   "cell_type": "markdown",
   "metadata": {
    "Collapsed": "false",
    "hidden": true
   },
   "source": [
    "<br><br>\n",
    "이 장의 후반부에 try와 except를 가지고, 존재하지 않는 파일을 열려고 하는 상황을 좀 더 우아하게 처리할 것이다."
   ]
  },
  {
   "cell_type": "markdown",
   "metadata": {
    "Collapsed": "false",
    "heading_collapsed": true
   },
   "source": [
    "## 3.  &nbsp;&nbsp;텍스트 파일과 라인\n"
   ]
  },
  {
   "cell_type": "markdown",
   "metadata": {
    "Collapsed": "false",
    "hidden": true
   },
   "source": [
    "\n",
    "파이썬 문자열이 문자 순서(sequence)로 간주 되듯이, 마찬가지로 텍스트 파일은 라인 순서(sequence)로 생각될 수 있다.   \n",
    "예를 들어, 다음은 오픈 소스 프로젝트 개발 팀에서 다양한 참여자들의 전자우편 활동을 기록한 텍스트 파일 샘플이다.\n",
    "<pre>\n",
    "<p style=\"font-family: Courier New; font-size: 1.15em; \">  \n",
    "From stephen.marquard@uct.ac.za Sat Jan 5 09:14:16 2008    \n",
    "Return-Path: <<span></span>postmaster@collab.sakaiproject.org>    \n",
    "Date: Sat, 5 Jan 2008 09:12:18 -0500    \n",
    "To: source@collab.sakaiproject.org    \n",
    "From: stephen.marquard@uct.ac.za    \n",
    "Subject: [sakai] svn commit: r39772 - content/branches/    \n",
    "Details: http://<span></span>source.sakaiproject.org/viewsvn/?view=rev&rev=39772  \n",
    "...\n",
    "</pre>\n",
    "\n",
    "상호 의사소통한 전자우편 전체 파일은 www.py4inf.com/code/mbox.txt 에서 접근 가능하고,   \n",
    "간략한 버젼 파일은 www.py4inf.com/code/mbox-short.txt에서 얻을 수 있다.   \n",
    "이들 파일은 다수 전자우편 메시지를 담고 있는 파일로 표준 포맷으로 되어 있다.  \n",
    "\"From \"으로 시작하는 라인은 메시지 본문과 구별되고,   \n",
    "\"From: \"으로 시작하는 라인은 본문 메시지의 일부다.   \n",
    "더 자세한 정보는 en.wikipedia.org/wiki/Mbox에서 찾을 수 있다.  \n",
    "\n",
    "파일 내에서 긴 문장을 줄단위로 쪼개기 위해서 사용하는 특수 문자가 있다.\n",
    "새 줄(newline) 문자로 불리는 \"줄의 끝(end of the line)\"을 표시하는 특수 문자가 있다.   \n",
    "파이썬에서, 문자열 상수 역슬래쉬-n(\\n)으로 새줄(newline) 문자를 표현한다.   \n",
    "두 문자처럼 보이지만, 사실은 단일 문자다.   \n",
    "인터프리터에서 변수 stuff가 'Hello\\nWorld!'를 갖도록 입력한 후 변수를 살펴보면, 문자열에 \\n이 있다.   \n",
    "하지만, print문을 사용하여 문자열을 출력하면, 문자열이 새 줄 문자에 의해서 두 줄로 쪼개지는 것을 볼 수 있다."
   ]
  },
  {
   "cell_type": "code",
   "execution_count": 2,
   "metadata": {
    "Collapsed": "false",
    "hidden": true
   },
   "outputs": [
    {
     "data": {
      "text/plain": [
       "'Hello\\nWorld!'"
      ]
     },
     "execution_count": 2,
     "metadata": {},
     "output_type": "execute_result"
    }
   ],
   "source": [
    "stuff = 'Hello\\nWorld!'\n",
    "stuff"
   ]
  },
  {
   "cell_type": "code",
   "execution_count": 3,
   "metadata": {
    "Collapsed": "false",
    "hidden": true
   },
   "outputs": [
    {
     "name": "stdout",
     "output_type": "stream",
     "text": [
      "Hello\n",
      "World!\n"
     ]
    }
   ],
   "source": [
    "print(stuff)"
   ]
  },
  {
   "cell_type": "code",
   "execution_count": 4,
   "metadata": {
    "Collapsed": "false",
    "hidden": true
   },
   "outputs": [
    {
     "name": "stdout",
     "output_type": "stream",
     "text": [
      "X\n",
      "Y\n"
     ]
    }
   ],
   "source": [
    "stuff = 'X\\nY'\n",
    "print(stuff)"
   ]
  },
  {
   "cell_type": "markdown",
   "metadata": {
    "Collapsed": "false",
    "hidden": true
   },
   "source": [
    "문자열 'X\\nY'의 길이는 얼마일까?  \n",
    "예상해보라.  \n",
    "그리고, len( )함수를 이용하여 알아보라."
   ]
  },
  {
   "cell_type": "code",
   "execution_count": null,
   "metadata": {
    "Collapsed": "false",
    "hidden": true
   },
   "outputs": [],
   "source": []
  },
  {
   "cell_type": "markdown",
   "metadata": {
    "Collapsed": "false",
    "hidden": true
   },
   "source": [
    "<br>\n",
    "문자열 'X\\nY'의 길이는 3 이다.   \n",
    "왜냐하면 새 줄(newline) 문자도 한 문자이기 때문이다.   \n",
    "그래서, 파일 라인을 볼 때, 라인의 끝을 표시하는 새 줄(newline)로 불리는 눈에 보이지 않는 특수 문자가 각 줄의 끝에 있다고 상상할 필요가 있다.  \n",
    "그래서, 새 줄(newline) 문자는 파일에 있는 문자를 라인 단위로 분리한다."
   ]
  },
  {
   "cell_type": "markdown",
   "metadata": {
    "Collapsed": "false",
    "heading_collapsed": true
   },
   "source": [
    "## 4.  &nbsp;&nbsp;파일 읽어오기\n"
   ]
  },
  {
   "cell_type": "markdown",
   "metadata": {
    "Collapsed": "false",
    "hidden": true
   },
   "source": [
    "<br>\n",
    "파일 핸들(file handle)이 파일 자료 자체를 담고 있지 않지만,   \n",
    "for 루프를 사용하여 파일 각 라인을 읽고 라인 수를 세는 것을 쉽게 코딩할 수 있다.  "
   ]
  },
  {
   "cell_type": "code",
   "execution_count": 5,
   "metadata": {
    "Collapsed": "false",
    "hidden": true
   },
   "outputs": [
    {
     "name": "stdout",
     "output_type": "stream",
     "text": [
      "<_io.TextIOWrapper name='mbox.txt' mode='r' encoding='cp949'>\n",
      "Line Count: 132045\n"
     ]
    }
   ],
   "source": [
    "fhand = open('mbox.txt')\n",
    "print(fhand)\n",
    "\n",
    "count = 0\n",
    "for line in fhand:\n",
    "    count = count + 1\n",
    "\n",
    "print('Line Count:', count)\n",
    "fhand.close()"
   ]
  },
  {
   "cell_type": "markdown",
   "metadata": {
    "Collapsed": "false",
    "hidden": true
   },
   "source": [
    "<br><br>\n",
    "파일 핸들을 for 루프에서 순서(sequence)로 사용하였다.   \n",
    "위 프로그램은 \"파일 핸들로 표현되는 파일 각 라인마다, count 변수에 1 씩 더한다\"\n",
    "\n",
    "urllib.request.urlopen( ) 함수가 전체 파일을 바로 읽지 못하는 이유는 파일이 수 기가 바이트 파일 크기를 가질 수도 있기 때문이다.   \n",
    "파일 핸들을 반환하는 urllib.request.urlopen( ) 함수는 파일 크기에 관계없이 파일을 여는데 시간이 동일하게 걸린다.   \n",
    "\n",
    "실질적으로 for 루프가 파일로부터 자료를 읽어오는 역할을 한다.  \n",
    "for 루프를 사용해서 이 방식으로 파일을 읽어올 때, 새 줄(newline) 문자를 사용해서 파일 자료를 라인 단위로 쪼갠다.   \n",
    "파이썬에서 새 줄(newline) 문자까지 각 라인 단위로 읽고, for 루프가 매번 반복할 때마다 line 변수에 새 줄(newline)을 마지막 문자로 포함한다.\n",
    "\n",
    "for 루프가 데이터를 한 번에 한 줄씩 읽어오기 때문에, 데이터를 저장할 주기억 장치 저장공간을 소진하지 않고, 매우 큰 파일을 효과적으로 읽어서 라인을 셀 수 있다.   \n",
    "각 라인별로 읽고, 세고, 그리고 나서 폐기되기 때문에, 매우 적은 저장 공간을 사용해서 어떤 크기의 파일도 상기 프로그램을 사용하여 라인을 셀 수 있다.\n",
    "\n",
    "만약 주기억장치 크기에 비해서 상대적으로 작은 크기의 파일이라는 것을 안다면, 전체 파일을 파일 핸들로 read( ) 메쏘드를 사용해서 하나의 문자열로 읽어올 수 있다.\n"
   ]
  },
  {
   "cell_type": "markdown",
   "metadata": {
    "Collapsed": "false",
    "hidden": true
   },
   "source": [
    "먼저 구글 주소창에서 http:<span></span>//www.py4inf.com/code 을 입력하여 해당 폴더로 이동한 후, mbox-short.txt파일을 내 컴퓨터의 현재 사용 폴더로 저장한다."
   ]
  },
  {
   "cell_type": "code",
   "execution_count": 6,
   "metadata": {
    "Collapsed": "false",
    "hidden": true
   },
   "outputs": [
    {
     "name": "stdout",
     "output_type": "stream",
     "text": [
      "94626\n",
      "From stephen.marquar\n"
     ]
    }
   ],
   "source": [
    "fhand = open('mbox-short.txt')\n",
    "inp = fhand.read()\n",
    "print(len(inp))\n",
    "print(inp[:20])\n",
    "fhand.close()"
   ]
  },
  {
   "cell_type": "markdown",
   "metadata": {
    "Collapsed": "false",
    "hidden": true
   },
   "source": [
    "<br><br>\n",
    "위 예제에서, mbox-short.txt 전체 파일 콘텐츠(94,626 문자)를 변수 inp로 바로 읽었다.   \n",
    "문자열 슬라이싱을 사용해서 inp에 저장된 문자열 자료 첫 20 문자를 출력한다.  \n",
    "파일이 이런 방식으로 읽혀질 때, 모든 라인과 새 줄(newline)문자를 포함한 모든 문자는 변수 inp에 대입된 매우 큰 문자열이다.   \n",
    "파일 데이터가 컴퓨터 주 기억장치가 안정적으로 감당해 낼 수 있을 때 만, 이런 형식의 open() 함수가 사용될 수 있다는 것을 기억하라.\n",
    "\n",
    "만약 주기억장치가 감당해 낼 수 없는 매우 파일 크기가 크다면, for나 while 루프를 사용해서 파일을 쪼개서 읽는 프로그램을 작성해야 한다."
   ]
  },
  {
   "cell_type": "markdown",
   "metadata": {
    "Collapsed": "false",
    "heading_collapsed": true
   },
   "source": [
    "## 5.  &nbsp;&nbsp;파일 내용 검색 \n"
   ]
  },
  {
   "cell_type": "markdown",
   "metadata": {
    "Collapsed": "false",
    "hidden": true
   },
   "source": [
    "<br>\n",
    "파일 데이터를 검색할 때, 흔한 패턴은, 파일을 읽고, 대부분 라인은 건너뛰고, 특정기준을 만족하는 라인만 처리하는 것이다.   \n",
    "간단한 검색 메커니즘을 구현하기 위해서 파일을 읽는 패턴과 문자열 메쏘드를 조합한다.   \n",
    "예를 들어, 파일을 읽고, “From:”으로 시작하는 라인만 출력하고자 한다면,   \n",
    "startswith() 문자열 메쏘드를 사용해서 원하는 접두사로 시작하는 라인만을 선택한다."
   ]
  },
  {
   "cell_type": "code",
   "execution_count": 7,
   "metadata": {
    "Collapsed": "false",
    "hidden": true
   },
   "outputs": [
    {
     "name": "stdout",
     "output_type": "stream",
     "text": [
      "From: stephen.marquard@uct.ac.za\n",
      "\n",
      "From: louis@media.berkeley.edu\n",
      "\n",
      "From: zqian@umich.edu\n",
      "\n",
      "From: rjlowe@iupui.edu\n",
      "\n",
      "From: zqian@umich.edu\n",
      "\n",
      "From: rjlowe@iupui.edu\n",
      "\n",
      "From: cwen@iupui.edu\n",
      "\n",
      "From: cwen@iupui.edu\n",
      "\n",
      "From: gsilver@umich.edu\n",
      "\n",
      "From: gsilver@umich.edu\n",
      "\n",
      "From: zqian@umich.edu\n",
      "\n",
      "From: gsilver@umich.edu\n",
      "\n",
      "From: wagnermr@iupui.edu\n",
      "\n",
      "From: zqian@umich.edu\n",
      "\n",
      "From: antranig@caret.cam.ac.uk\n",
      "\n",
      "From: gopal.ramasammycook@gmail.com\n",
      "\n",
      "From: david.horwitz@uct.ac.za\n",
      "\n",
      "From: david.horwitz@uct.ac.za\n",
      "\n",
      "From: david.horwitz@uct.ac.za\n",
      "\n",
      "From: david.horwitz@uct.ac.za\n",
      "\n",
      "From: stephen.marquard@uct.ac.za\n",
      "\n",
      "From: louis@media.berkeley.edu\n",
      "\n",
      "From: louis@media.berkeley.edu\n",
      "\n",
      "From: ray@media.berkeley.edu\n",
      "\n",
      "From: cwen@iupui.edu\n",
      "\n",
      "From: cwen@iupui.edu\n",
      "\n",
      "From: cwen@iupui.edu\n",
      "\n"
     ]
    }
   ],
   "source": [
    "fhand = open('mbox-short.txt')\n",
    "\n",
    "for line in fhand:\n",
    "    if line.startswith('From:') :\n",
    "        print(line)\n",
    "fhand.close()"
   ]
  },
  {
   "cell_type": "markdown",
   "metadata": {
    "Collapsed": "false",
    "hidden": true
   },
   "source": [
    "<br><br>\n",
    "”From:”으로만 시작하는 라인만 출력하기 때문에 출력값은 훌륭해 보인다.   \n",
    "하지만, 왜 빈 라인이 보이는 걸까? 원인은 눈에 보이지 않는 새 줄(newline)문자 때문이다.   \n",
    "각 라인이 새 줄(newline)로 끝나서 변수 line에 새 줄(newline)이 포함되고 print문이 추가로 새 줄(newline)을 추가해서 결국 우리가 보기에는 두 줄 효과가 나타난다.  \n",
    "마지막 문자를 제외하고 모든 것을 출력하기 위해서 라인 슬라이싱(slicing)을 할 수 있지만,   \n",
    "더 간단한 접근법은 다음과 같이 문자열 오른쪽 끝에서부터 공백을 벗겨내는 rstrip( ) 메쏘드를 사용하는 것이다."
   ]
  },
  {
   "cell_type": "code",
   "execution_count": 8,
   "metadata": {
    "Collapsed": "false",
    "hidden": true
   },
   "outputs": [
    {
     "name": "stdout",
     "output_type": "stream",
     "text": [
      "From: stephen.marquard@uct.ac.za\n",
      "From: louis@media.berkeley.edu\n",
      "From: zqian@umich.edu\n",
      "From: rjlowe@iupui.edu\n",
      "From: zqian@umich.edu\n",
      "From: rjlowe@iupui.edu\n",
      "From: cwen@iupui.edu\n",
      "From: cwen@iupui.edu\n",
      "From: gsilver@umich.edu\n",
      "From: gsilver@umich.edu\n",
      "From: zqian@umich.edu\n",
      "From: gsilver@umich.edu\n",
      "From: wagnermr@iupui.edu\n",
      "From: zqian@umich.edu\n",
      "From: antranig@caret.cam.ac.uk\n",
      "From: gopal.ramasammycook@gmail.com\n",
      "From: david.horwitz@uct.ac.za\n",
      "From: david.horwitz@uct.ac.za\n",
      "From: david.horwitz@uct.ac.za\n",
      "From: david.horwitz@uct.ac.za\n",
      "From: stephen.marquard@uct.ac.za\n",
      "From: louis@media.berkeley.edu\n",
      "From: louis@media.berkeley.edu\n",
      "From: ray@media.berkeley.edu\n",
      "From: cwen@iupui.edu\n",
      "From: cwen@iupui.edu\n",
      "From: cwen@iupui.edu\n"
     ]
    }
   ],
   "source": [
    "fhand = open('mbox-short.txt')\n",
    "\n",
    "for line in fhand:\n",
    "    line = line.rstrip()\n",
    "    if line.startswith('From:') :\n",
    "        print(line)\n",
    "fhand.close()"
   ]
  },
  {
   "cell_type": "markdown",
   "metadata": {
    "Collapsed": "false",
    "hidden": true
   },
   "source": [
    "<br><br>\n",
    "파일 처리 프로그램이 점점 더 복잡해짐에 따라 continue를 사용해서 검색 루프(search loop)를 구조화할 필요가 있다.   \n",
    "검색 루프의 기본 아이디어는 ”흥미로운” 라인을 집중적으로 찾고, ”흥미롭지 않은” 라인은 효과적으로 건너뛰는 것이다.   \n",
    "그리고 나서 흥미로운 라인을 찾게 되면, 그 라인에서 특정 연산을 수행하는 것이다.  \n",
    "다음과 같이 루프를 구성해서 흥미롭지 않은 라인은 건너뛰는 패턴을 따르게 한다."
   ]
  },
  {
   "cell_type": "code",
   "execution_count": 9,
   "metadata": {
    "Collapsed": "false",
    "hidden": true
   },
   "outputs": [
    {
     "name": "stdout",
     "output_type": "stream",
     "text": [
      "From: stephen.marquard@uct.ac.za\n",
      "From: louis@media.berkeley.edu\n",
      "From: zqian@umich.edu\n",
      "From: rjlowe@iupui.edu\n",
      "From: zqian@umich.edu\n",
      "From: rjlowe@iupui.edu\n",
      "From: cwen@iupui.edu\n",
      "From: cwen@iupui.edu\n",
      "From: gsilver@umich.edu\n",
      "From: gsilver@umich.edu\n",
      "From: zqian@umich.edu\n",
      "From: gsilver@umich.edu\n",
      "From: wagnermr@iupui.edu\n",
      "From: zqian@umich.edu\n",
      "From: antranig@caret.cam.ac.uk\n",
      "From: gopal.ramasammycook@gmail.com\n",
      "From: david.horwitz@uct.ac.za\n",
      "From: david.horwitz@uct.ac.za\n",
      "From: david.horwitz@uct.ac.za\n",
      "From: david.horwitz@uct.ac.za\n",
      "From: stephen.marquard@uct.ac.za\n",
      "From: louis@media.berkeley.edu\n",
      "From: louis@media.berkeley.edu\n",
      "From: ray@media.berkeley.edu\n",
      "From: cwen@iupui.edu\n",
      "From: cwen@iupui.edu\n",
      "From: cwen@iupui.edu\n"
     ]
    }
   ],
   "source": [
    "fhand = open('mbox-short.txt')\n",
    "\n",
    "for line in fhand:\n",
    "    line = line.rstrip()\n",
    "\n",
    "    # Skip 'uninteresting lines'\n",
    "    if not line.startswith('From:') :\n",
    "        continue\n",
    "\n",
    "    # Process our 'interesting' line\n",
    "    print(line)\n",
    "fhand.close()"
   ]
  },
  {
   "cell_type": "markdown",
   "metadata": {
    "Collapsed": "false",
    "hidden": true
   },
   "source": [
    "<br><br>\n",
    "프로그램의 출력값은 동일하다.   \n",
    "흥미롭지 않는 라인은 ”From:”으로 시작하지 않는 라인이라 continue문을 사용해서 건너뛴다.   \n",
    "”흥미로운” 라인 (즉, ”From:”으로 시작하는 라인)에 대해서는 연산처리를 수행한다.  \n",
    "find( ) 문자열 메쏘드를 사용해서 검색 문자열이 라인 어디에 있는지를 찾아주는 텍스트 편집기 검색기능을 simulation 할 수 있다.  \n",
    "find( ) 메쏘드는 다른 문자열 내부에 검색하는 문자열이 있는지 찾고, 문자열 위치를 반환하거나, 만약 문자열이 없다면 -1을 반환하기 때문에, “@uct.ac.za”(남아프리카 케이프 타운대학으로부터 왔다) 문자열을 포함하는 라인을 검색하기 위해 다음과 같이 루프를 작성한다."
   ]
  },
  {
   "cell_type": "code",
   "execution_count": 10,
   "metadata": {
    "Collapsed": "false",
    "hidden": true
   },
   "outputs": [
    {
     "name": "stdout",
     "output_type": "stream",
     "text": [
      "From stephen.marquard@uct.ac.za Sat Jan  5 09:14:16 2008\n",
      "X-Authentication-Warning: nakamura.uits.iupui.edu: apache set sender to stephen.marquard@uct.ac.za using -f\n",
      "From: stephen.marquard@uct.ac.za\n",
      "Author: stephen.marquard@uct.ac.za\n",
      "From david.horwitz@uct.ac.za Fri Jan  4 07:02:32 2008\n",
      "X-Authentication-Warning: nakamura.uits.iupui.edu: apache set sender to david.horwitz@uct.ac.za using -f\n",
      "From: david.horwitz@uct.ac.za\n",
      "Author: david.horwitz@uct.ac.za\n",
      "r39753 | david.horwitz@uct.ac.za | 2008-01-04 13:05:51 +0200 (Fri, 04 Jan 2008) | 1 line\n",
      "From david.horwitz@uct.ac.za Fri Jan  4 06:08:27 2008\n",
      "X-Authentication-Warning: nakamura.uits.iupui.edu: apache set sender to david.horwitz@uct.ac.za using -f\n",
      "From: david.horwitz@uct.ac.za\n",
      "Author: david.horwitz@uct.ac.za\n",
      "From david.horwitz@uct.ac.za Fri Jan  4 04:49:08 2008\n",
      "X-Authentication-Warning: nakamura.uits.iupui.edu: apache set sender to david.horwitz@uct.ac.za using -f\n",
      "From: david.horwitz@uct.ac.za\n",
      "Author: david.horwitz@uct.ac.za\n",
      "From david.horwitz@uct.ac.za Fri Jan  4 04:33:44 2008\n",
      "X-Authentication-Warning: nakamura.uits.iupui.edu: apache set sender to david.horwitz@uct.ac.za using -f\n",
      "From: david.horwitz@uct.ac.za\n",
      "Author: david.horwitz@uct.ac.za\n",
      "From stephen.marquard@uct.ac.za Fri Jan  4 04:07:34 2008\n",
      "X-Authentication-Warning: nakamura.uits.iupui.edu: apache set sender to stephen.marquard@uct.ac.za using -f\n",
      "From: stephen.marquard@uct.ac.za\n",
      "Author: stephen.marquard@uct.ac.za\n"
     ]
    }
   ],
   "source": [
    "fhand = open('mbox-short.txt')\n",
    "\n",
    "for line in fhand:\n",
    "    line = line.rstrip()\n",
    "    \n",
    "    if line.find('@uct.ac.za') == -1 :\n",
    "        continue\n",
    "    \n",
    "    print(line)\n",
    "fhand.close()"
   ]
  },
  {
   "cell_type": "markdown",
   "metadata": {
    "Collapsed": "false",
    "heading_collapsed": true
   },
   "source": [
    "## 6. &nbsp;&nbsp;사용자가 파일명을 선택하게 만들기 \n"
   ]
  },
  {
   "cell_type": "markdown",
   "metadata": {
    "Collapsed": "false",
    "hidden": true
   },
   "source": [
    "<br>\n",
    "매번 다른 파일을 처리할 때마다 파이썬 코드를 편집하여 사용 하는 것은 불편하다.    \n",
    "매번 프로그램이 실행될 때마다, 파일명을 사용자가 입력하도록 만드는 것이 더 유용할 것이다.   \n",
    "그래서 파이썬 코드를 바꾸지 않고, 다른 파일에 대해서도 동일한 프로그램을 사용하도록 만들자.   \n",
    "다음과 같이 input( )을 사용해서 사용자로부터 파일명을 읽어 프로그램을 실행하는 것이 단순하다."
   ]
  },
  {
   "cell_type": "code",
   "execution_count": null,
   "metadata": {
    "Collapsed": "false",
    "hidden": true
   },
   "outputs": [],
   "source": [
    "fname = input('파일 이름: ')\n",
    "fhand = open(fname)\n",
    "count = 0\n",
    "\n",
    "for line in fhand:\n",
    "    if line.startswith('Subject:') :\n",
    "        count = count + 1\n",
    "\n",
    "print('There were', count, 'subject lines in', fname)\n",
    "fhand.close()"
   ]
  },
  {
   "cell_type": "markdown",
   "metadata": {
    "Collapsed": "false",
    "hidden": true
   },
   "source": [
    "<br>\n",
    "다음으로 가기 전에, 위 프로그램을 살펴보고 자신에게 다음을 질문해 보자.   \n",
    "\"여기서 어디가 잘못될 수 있는가?\"   \n",
    "혹은 \"이 작고 멋진 프로그램을 엉망으로 만들 입력은 무엇인가? “"
   ]
  },
  {
   "cell_type": "markdown",
   "metadata": {
    "Collapsed": "false",
    "heading_collapsed": true
   },
   "source": [
    "## 7.  &nbsp;&nbsp;try와 except를 이용한 파일 열기  \n"
   ]
  },
  {
   "cell_type": "markdown",
   "metadata": {
    "Collapsed": "false",
    "hidden": true
   },
   "source": [
    "<br>\n",
    "만일 사용자가 존재하지 않는 파일명을 입력하면 어떻게 될까요?"
   ]
  },
  {
   "cell_type": "code",
   "execution_count": null,
   "metadata": {
    "Collapsed": "false",
    "hidden": true
   },
   "outputs": [],
   "source": [
    "fname = input('파일 이름: ')\n",
    "fhand = open(fname)\n",
    "count = 0\n",
    "\n",
    "for line in fhand:\n",
    "    if line.startswith('Subject:') :\n",
    "        count = count + 1\n",
    "\n",
    "print('There were', count, 'subject lines in', fname)\n",
    "fhand.close()"
   ]
  },
  {
   "cell_type": "markdown",
   "metadata": {
    "Collapsed": "false",
    "hidden": true
   },
   "source": [
    "<br><br>\n",
    "사용자는 여러분이 작성한 프로그램을 망가뜨리기 위해 가능한 모든 수단을 강구할 것이다.   \n",
    "사실, 소프트웨어 개발팀의 중요한 부분은 품질 보증(Quality Assurance, QA)이라는 조직이다.   \n",
    "품질보증 조직은 프로그래머가 만든 소프트웨어를 망가뜨리기 위해 가능한 말도 안 되는 짓을 한다.\n",
    "\n",
    "사용자가 소프트웨어를 제품으로 구매하거나, 주문형으로 개발하는 프로그램에 대해     \n",
    "품질보증 조직은 프로그램이 사용자에게 전달되기 전까지 프로그램 오류를 발견할 책임이 있다.   \n",
    "그래서 품질보증조직은 프로그래머의 최고의 친구다.  \n",
    "\n",
    "위 코드에서 프로그램 오류를 찾았기 때문에, try/except 구조를 사용해서 오류를 우아하게 고쳐보자.   \n",
    "open( ) 호출이 잘못될 수 있다고 가정하고, open( ) 호출이 실패할 때를 대비해서 다음과 같이 복구 코드를 추가한다."
   ]
  },
  {
   "cell_type": "code",
   "execution_count": null,
   "metadata": {
    "Collapsed": "false",
    "hidden": true
   },
   "outputs": [],
   "source": [
    "import sys\n",
    "\n",
    "fname = input('화일이름: ')\n",
    "\n",
    "try:\n",
    "    fhand = open(fname)\n",
    "except:\n",
    "    print('File cannot be opened:', fname)\n",
    "    sys.exit()\n",
    "\n",
    "count = 0\n",
    "for line in fhand:\n",
    "    if line.startswith('Subject:') :\n",
    "        count = count + 1\n",
    "print('There were', count, 'subject lines in', fname)\n",
    "fhand.close()"
   ]
  },
  {
   "cell_type": "markdown",
   "metadata": {
    "Collapsed": "false",
    "heading_collapsed": true
   },
   "source": [
    "## 8.  &nbsp;&nbsp;파일에 쓰기(write) \n"
   ]
  },
  {
   "cell_type": "markdown",
   "metadata": {
    "Collapsed": "false",
    "hidden": true
   },
   "source": [
    "<br>\n",
    "파일에 쓰기(write) 위해서는 open( ) 함수의 두 번째 매개 변수로 'w' 모드로 파일을 열어야 한다."
   ]
  },
  {
   "cell_type": "code",
   "execution_count": 11,
   "metadata": {
    "Collapsed": "false",
    "hidden": true
   },
   "outputs": [
    {
     "ename": "FileNotFoundError",
     "evalue": "[Errno 2] No such file or directory: 'output.txt'",
     "output_type": "error",
     "traceback": [
      "\u001b[1;31m---------------------------------------------------------------------------\u001b[0m",
      "\u001b[1;31mFileNotFoundError\u001b[0m                         Traceback (most recent call last)",
      "\u001b[1;32m<ipython-input-11-51c8e738198b>\u001b[0m in \u001b[0;36m<module>\u001b[1;34m\u001b[0m\n\u001b[0;32m      1\u001b[0m \u001b[1;31m# r 모드로 파일열기\u001b[0m\u001b[1;33m\u001b[0m\u001b[1;33m\u001b[0m\u001b[1;33m\u001b[0m\u001b[0m\n\u001b[1;32m----> 2\u001b[1;33m \u001b[0mfin\u001b[0m \u001b[1;33m=\u001b[0m \u001b[0mopen\u001b[0m\u001b[1;33m(\u001b[0m\u001b[1;34m'output.txt'\u001b[0m\u001b[1;33m,\u001b[0m \u001b[1;34m'r'\u001b[0m\u001b[1;33m)\u001b[0m\u001b[1;33m\u001b[0m\u001b[1;33m\u001b[0m\u001b[0m\n\u001b[0m\u001b[0;32m      3\u001b[0m \u001b[0mprint\u001b[0m\u001b[1;33m(\u001b[0m\u001b[0mfin\u001b[0m\u001b[1;33m)\u001b[0m\u001b[1;33m\u001b[0m\u001b[1;33m\u001b[0m\u001b[0m\n",
      "\u001b[1;31mFileNotFoundError\u001b[0m: [Errno 2] No such file or directory: 'output.txt'"
     ]
    }
   ],
   "source": [
    "# r 모드로 파일열기\n",
    "fin = open('output.txt', 'r')\n",
    "print(fin)"
   ]
  },
  {
   "cell_type": "code",
   "execution_count": 12,
   "metadata": {
    "Collapsed": "false",
    "hidden": true
   },
   "outputs": [
    {
     "name": "stdout",
     "output_type": "stream",
     "text": [
      "<_io.TextIOWrapper name='output.txt' mode='w' encoding='cp949'>\n"
     ]
    }
   ],
   "source": [
    "# w 모드로 파일열기\n",
    "fout = open('output.txt', 'w')\n",
    "print(fout)"
   ]
  },
  {
   "cell_type": "markdown",
   "metadata": {
    "Collapsed": "false",
    "hidden": true
   },
   "source": [
    "<br><br>\n",
    "<span style=\"color:red\">파일이 이미 존재하는데 쓰기 모드에서 파일을 여는 것은 이전 데이터를 모두 지워버리고, 깨끗한 파일 상태에서 다시 시작되니 주의가 필요하다.   \n",
    "만약 파일이 존재하지 않는다면, 새로운 파일이 생성된다.\n",
    "\n",
    "파일 핸들 객체의 write( ) 메쏘드는 데이터를 파일에 저장한다."
   ]
  },
  {
   "cell_type": "code",
   "execution_count": 13,
   "metadata": {
    "Collapsed": "false",
    "hidden": true
   },
   "outputs": [
    {
     "data": {
      "text/plain": [
       "24"
      ]
     },
     "execution_count": 13,
     "metadata": {},
     "output_type": "execute_result"
    }
   ],
   "source": [
    "line1 = \"This here's the wattle,\\n\"\n",
    "fout.write(line1)"
   ]
  },
  {
   "cell_type": "markdown",
   "metadata": {
    "Collapsed": "false",
    "hidden": true
   },
   "source": [
    "<br>\n",
    "만약 write( ) 메쏘드를 다시 호출하게 되면, 새로운 데이터를 파일 끝에 추가한다.  \n",
    "라인을 끝내고 싶을 때, 명시적으로 새 줄(newline) 문자를 삽입해서 파일에 쓰도록 라인 끝을 필히 관리해야 한다.   \n",
    "write( ) 메쏘드는 자동적으로 새 줄(newline)을 추가하지는 않는다."
   ]
  },
  {
   "cell_type": "code",
   "execution_count": 14,
   "metadata": {
    "Collapsed": "false",
    "hidden": true
   },
   "outputs": [
    {
     "data": {
      "text/plain": [
       "25"
      ]
     },
     "execution_count": 14,
     "metadata": {},
     "output_type": "execute_result"
    }
   ],
   "source": [
    "line1 = \"This is the second line,\\n\"\n",
    "fout.write(line1)"
   ]
  },
  {
   "cell_type": "markdown",
   "metadata": {
    "Collapsed": "false",
    "hidden": true
   },
   "source": [
    "<br><br>\n",
    "<span style=\"color:red\">파일 쓰기가 끝났을 때, 파일을 필히 닫아야 한다.\n",
    "\n",
    "파일을 닫는 것은 데이터 마지막 비트까지 디스크에 물리적으로 쓰여져서, 전원이 나가더라도 자료가 유실되지 않는 역할을 한다."
   ]
  },
  {
   "cell_type": "code",
   "execution_count": 15,
   "metadata": {
    "Collapsed": "false",
    "hidden": true
   },
   "outputs": [],
   "source": [
    "fout.close()"
   ]
  },
  {
   "cell_type": "markdown",
   "metadata": {
    "Collapsed": "false",
    "hidden": true
   },
   "source": [
    "<br><br>\n",
    "파일 읽기로 연 파일을 닫을 수 있지만, 몇 개 파일을 열어 놓았다면 약간 단정치 못하게 끝날 수 있습니다.   \n",
    "왜냐하면 프로그램이 종료될 때 열린 모든 파일이 닫혀졌는지 파이썬이 확인하기 때문이다.   \n",
    "파일에 쓰기를 할 때는, 쓰기가 끝나면 파일을 명시적으로 닫아서 예기치 못한 일이 발생할 여지를 없애야 한다."
   ]
  },
  {
   "cell_type": "code",
   "execution_count": 16,
   "metadata": {
    "Collapsed": "false",
    "hidden": true
   },
   "outputs": [],
   "source": [
    "s = '1 2\\t 3\\n 4'"
   ]
  },
  {
   "cell_type": "markdown",
   "metadata": {
    "Collapsed": "false",
    "heading_collapsed": true
   },
   "source": [
    "##  9.  &nbsp;&nbsp;디버깅 \n"
   ]
  },
  {
   "cell_type": "markdown",
   "metadata": {
    "Collapsed": "false",
    "hidden": true
   },
   "source": [
    "<br>\n",
    "파일을 읽고 쓸 때, white space 때문에 종종 문제에 봉착한다.   \n",
    "이런 종류의 오류는 공백, 탭, 새 줄(newline)이 눈에 보이지 않기 때문에 디버그하기도 쉽지 않다. "
   ]
  },
  {
   "cell_type": "code",
   "execution_count": 17,
   "metadata": {
    "Collapsed": "false",
    "hidden": true
   },
   "outputs": [
    {
     "name": "stdout",
     "output_type": "stream",
     "text": [
      "1 2\t 3\n",
      " 4\n"
     ]
    }
   ],
   "source": [
    "print(s)"
   ]
  },
  {
   "cell_type": "markdown",
   "metadata": {
    "Collapsed": "false",
    "hidden": true
   },
   "source": [
    "<br>\n",
    "이 경우, 내장함수 repr( ) 이 도움이 될 수 있다.  repr( ) 함수는 객체 문자열 표현으로 반환한다."
   ]
  },
  {
   "cell_type": "code",
   "execution_count": 18,
   "metadata": {
    "Collapsed": "false",
    "hidden": true
   },
   "outputs": [
    {
     "name": "stdout",
     "output_type": "stream",
     "text": [
      "'1 2\\t 3\\n 4'\n"
     ]
    }
   ],
   "source": [
    "print(repr(s))"
   ]
  },
  {
   "cell_type": "markdown",
   "metadata": {
    "Collapsed": "false",
    "hidden": true
   },
   "source": [
    "<br><br>\n",
    "여러분이 봉착하는 또 다른 문제는 다른 시스템에서는 라인 끝을 표기하기 위해서 다른 문자를 사용한다는 점이다.   \n",
    "어떤 시스템은 \\n 으로 새 줄(newline)을 표기하고, 다른 시스템은 \\r으로 반환 문자(return character)를 사용한다.   \n",
    "둘 다 사용하는 시스템도 있다.   \n",
    "\n",
    "한 시스템에서 작성한 파일을 다른 시스템으로 이식한다면, 이러한 불일치가 문제를 야기할 수 있다.   \n",
    "대부분의 시스템에는 A 포맷에서 B 포맷으로 변환하는 응용프로그램이 있다.  \n",
    "wikipedia.org/wiki/Newline 에서 응용프로그램을 찾을 수 있고, 좀 더 많은 것을 읽을 수 있다.   \n",
    "물론, 여러분이 직접 프로그램을 작성할 수도 있다."
   ]
  },
  {
   "cell_type": "markdown",
   "metadata": {
    "Collapsed": "false"
   },
   "source": [
    "## <span style=\"color:red\">** 연습문제 **</span>  "
   ]
  },
  {
   "cell_type": "markdown",
   "metadata": {
    "Collapsed": "false"
   },
   "source": [
    "<br>\n",
    "<span style=\"color:red\">연습문제 6.1 </span> \n",
    "\n",
    "파일 이름을 키보드로부터 입력받아, 파일을 읽고 한 줄씩 파일의 내용을 모두 대문자로 출력하는 프로그램을 작성하라. 파일이름으로 mbox-short.txt를 입력하면 다음과 같이 보일 것이다.\n",
    "\n",
    "<span style=\"font-family: Courier New; font-size: 1.15em;\">\n",
    "<span style=\"color:orange\">파일 이름: <span style=\"color:blue\">mbox-short.txt\n",
    "<br>\n",
    "\n",
    "<span style=\"font-family: Courier New; font-size: 1.15em;\">\n",
    "<span style=\"color:orange\">\n",
    "FROM STEPHEN.MARQUARD@UCT.AC.ZA SAT JAN 5 09:14:16 2008<br>  \n",
    "RETURN-PATH: <<span></span>POSTMASTER@COLLAB.SAKAIPROJECT.ORG><br>  \n",
    "RECEIVED: FROM MURDER (MAIL.UMICH.EDU [141.211.14.90])<br>  \n",
    "BY FRANKENSTEIN.MAIL.UMICH.EDU (CYRUS V2.3.8) WITH LMTPA; <br> \n",
    "SAT, 05 JAN 2008 09:14:16 -0500  "
   ]
  },
  {
   "cell_type": "markdown",
   "metadata": {
    "Collapsed": "false"
   },
   "source": [
    "<br><br><br>\n",
    "<span style=\"color:red\">연습문제 6.2  **** 이 문제는 지금까지 배운 내용을 모두 적용하는 어려운 문제이다.</span> &nbsp;&nbsp;   \n",
    "파일명을 입력 받아, 파일을 읽고, 다음 형식의 라인을 찾는 프로그램을 작성하라.  \n",
    "<span style=\"font-family: Courier New; font-size: 1.15em;\">\n",
    "X-DSPAM-Confidence: 0.8475  \n",
    "\n",
    "X-DSPAM-Confidence:”로 시작하는 라인을 만나게 되면, 부동 소수점 숫자를 뽑아내기 위해 해당 라인을 별도로 보관하라.   \n",
    "라인 수를 세고, 라인으로부터 스팸 신뢰값의 총계를 계산하라.  \n",
    "파일의 끝에 도달할 했을 때, 평균 스팸 신뢰도를 출력하라.\n",
    "\n",
    "<span style=\"font-family: Courier New; font-size: 1.15em;\">  \n",
    "<span style=\"color:orange\">파일 이름: <span style=\"color:blue\">mbox.txt  \n",
    "<span style=\"color:orange\">Average spam confidence: 0.894128046745\n",
    "\n",
    "<span style=\"font-family: Courier New; font-size: 1.15em;\">  \n",
    "<span style=\"color:orange\">파일 이름: <span style=\"color:blue\">mbox-short.txt  \n",
    "<span style=\"color:orange\">Average spam confidence: 0.750718518519"
   ]
  },
  {
   "cell_type": "code",
   "execution_count": null,
   "metadata": {
    "Collapsed": "false"
   },
   "outputs": [],
   "source": []
  }
 ],
 "metadata": {
  "anaconda-cloud": {},
  "kernelspec": {
   "display_name": "Python 3",
   "language": "python",
   "name": "python3"
  },
  "language_info": {
   "codemirror_mode": {
    "name": "ipython",
    "version": 3
   },
   "file_extension": ".py",
   "mimetype": "text/x-python",
   "name": "python",
   "nbconvert_exporter": "python",
   "pygments_lexer": "ipython3",
   "version": "3.7.3"
  }
 },
 "nbformat": 4,
 "nbformat_minor": 4
}
