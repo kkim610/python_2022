{
 "cells": [
  {
   "cell_type": "markdown",
   "metadata": {
    "Collapsed": "false"
   },
   "source": [
    "![](pic/pic_1.png)"
   ]
  },
  {
   "cell_type": "markdown",
   "metadata": {
    "Collapsed": "false"
   },
   "source": [
    "# **7장  &nbsp;&nbsp;리스트(List)**  \n",
    "<br>"
   ]
  },
  {
   "cell_type": "markdown",
   "metadata": {
    "Collapsed": "false",
    "heading_collapsed": true
   },
   "source": [
    "## 1.  &nbsp;&nbsp;리스트는 순서(sequence)\n"
   ]
  },
  {
   "cell_type": "markdown",
   "metadata": {
    "Collapsed": "false",
    "hidden": true
   },
   "source": [
    "<br>\n",
    "문자열처럼, 리스트(list)는 값들의 순서 있는 나열이다.   \n",
    "문자열에서 값은 문자지만, 리스트에서는 어떤 자료형(type)도 값이 될 수 있다.   \n",
    "리스트의 값은 요소(elements)나 때때로 항목(items)으로 불린다.   \n",
    "리스트에서 요소는 반복해서 나타날 수 있다.   \n",
    "나타나는 순서가 중요하지 않은 집합과는 다르게, 리스트의 요소는 나타나는 순서를 가진다.\n",
    "\n",
    "새로운 리스트를 생성하는 방법은 여러 가지가 있다. 가장 간단한 방법은 꺾쇠 괄호 [ ]로 요소들을 감싸는 것이다.\n",
    "\n",
    "<pre>\n",
    "<p style=\"font-family: Courier New; font-size: 1.15em; \">\n",
    "[10, 20, 30, 40]  \n",
    "\n",
    "['the', '4th', 'industrial', 'revolution']\n",
    "</pre>\n",
    "\n",
    "첫 번째 예제는 4개의 정수로 이루어진 리스트이다.   \n",
    "두 번째 예제는 4개의 문자열로 이루어진 리스트다.   \n",
    "리스트의 요소가 동일한 자료형(type)일 필요는 없다.   \n",
    "아래 리스트는 문자열, 부동소수점 숫자, 정수, 또 다른 리스트를 담고 있다.\n",
    "\n",
    "<p style=\"font-family: Courier New; font-size: 1.15em; \">\n",
    "['spam', 2.0, 5, [10, 20]]\n",
    "\n",
    "리스트는 또 다른 리스트의 요소가 될 수 있다.  \n",
    "어떤 요소도 담고 있지 않는 리스트를 빈 리스트(empty list)라고 부르고, 빈 꺾쇠 괄호 [ ] 로 생성한다.\n",
    "\n",
    "예상했듯이, 리스트 값을 변수에 대입할 수 있다.\n"
   ]
  },
  {
   "cell_type": "code",
   "execution_count": null,
   "metadata": {
    "Collapsed": "false",
    "hidden": true
   },
   "outputs": [],
   "source": [
    "cheeses = ['Cheddar', 'Mozarella', 'Emmental']\n",
    "numbers = [17, 123]\n",
    "empty = []\n",
    "print(cheeses, numbers, empty)"
   ]
  },
  {
   "cell_type": "markdown",
   "metadata": {
    "Collapsed": "false",
    "heading_collapsed": true
   },
   "source": [
    "## 2.  &nbsp;&nbsp;리스트는 변경가능 \n"
   ]
  },
  {
   "cell_type": "markdown",
   "metadata": {
    "Collapsed": "false",
    "hidden": true
   },
   "source": [
    "<br>\n",
    "리스트의 요소에 접근하는 방법은 문자열 문자에 접근하는 것과 동일한 꺾쇠 괄호 연산자다.   \n",
    "꺽쇠 괄호의 내부에 있는 표현식은 인덱스를 의미한다.   \n",
    "기억할 것은 리스트의 인덱스도 0 에서부터 시작한다는 것이다."
   ]
  },
  {
   "cell_type": "code",
   "execution_count": null,
   "metadata": {
    "Collapsed": "false",
    "hidden": true
   },
   "outputs": [],
   "source": [
    "print(cheeses[0])"
   ]
  },
  {
   "cell_type": "markdown",
   "metadata": {
    "Collapsed": "false",
    "hidden": true
   },
   "source": [
    "<br>\n",
    "문자열과 달리, 리스트는 항목 순서를 바꾸거나, 리스트에 새로운 요소를 다시 대입할 수 있기 때문에 리스트는 변경이 가능하다.   \n",
    "꺾쇠 괄호 연산자가 대입문 왼쪽편에 나타날 때, 새로 대입될 요소를 나타낸다."
   ]
  },
  {
   "cell_type": "code",
   "execution_count": null,
   "metadata": {
    "Collapsed": "false",
    "hidden": true
   },
   "outputs": [],
   "source": [
    "numbers = [17, 123]\n",
    "numbers[1] = 5\n",
    "print(numbers)"
   ]
  },
  {
   "cell_type": "markdown",
   "metadata": {
    "Collapsed": "false",
    "hidden": true
   },
   "source": [
    "<br>\n",
    "리스트 numbers 첫번째 요소는 123 값을 가지고 있었으나, 이제 5 값을 가진다.  \n",
    "리스트를 인덱스와 요소의 관계로 생각할 수 있다.   \n",
    "이 관계를 매핑(mapping)이라고 부른다. 각각의 인덱스는 요소 중 하나에 대응된다.\n",
    "\n",
    "리스트 인덱스는 문자열 인덱스와 동일한 방식으로 동작한다.  \n",
    "* 어떠한 정수 표현식도 인덱스로 사용할 수 있다.  \n",
    "* 존재하지 않는 요소를 읽거나 쓰려고 하면, 인덱스 오류 (IndexError)가 발생한다.  \n",
    "* 인덱스가 음의 값이면, 리스트 끝에서부터 역으로 카운트한다.  "
   ]
  },
  {
   "cell_type": "code",
   "execution_count": null,
   "metadata": {
    "Collapsed": "false",
    "hidden": true
   },
   "outputs": [],
   "source": [
    "cheeses = ['Cheddar', 'Mozzarella', 'Emmental']\n",
    "print(cheeses[3])"
   ]
  },
  {
   "cell_type": "code",
   "execution_count": null,
   "metadata": {
    "Collapsed": "false",
    "hidden": true
   },
   "outputs": [],
   "source": [
    "print(cheeses[-1])"
   ]
  },
  {
   "cell_type": "markdown",
   "metadata": {
    "Collapsed": "false",
    "hidden": true
   },
   "source": [
    "in 연산자도 리스트에서 동작하므로 사용할 수 있다."
   ]
  },
  {
   "cell_type": "code",
   "execution_count": null,
   "metadata": {
    "Collapsed": "false",
    "hidden": true
   },
   "outputs": [],
   "source": [
    "cheeses = ['Cheddar', 'Mozzarella', 'Emmental']\n",
    "print('Mozzarella' in cheeses)\n",
    "print('Gorgonzola' in cheeses)"
   ]
  },
  {
   "cell_type": "markdown",
   "metadata": {
    "Collapsed": "false",
    "heading_collapsed": true
   },
   "source": [
    "## 3.  &nbsp;&nbsp;리스트 사용법\n"
   ]
  },
  {
   "cell_type": "markdown",
   "metadata": {
    "Collapsed": "false",
    "hidden": true
   },
   "source": [
    "<br>\n",
    "리스트의 각 요소에 대하여 무엇인가를 실행하는 가장 흔한 방법은 for문을 사용하는 것이다.   \n",
    "문자열에서 사용한 것과 구문은 동일하다"
   ]
  },
  {
   "cell_type": "code",
   "execution_count": null,
   "metadata": {
    "Collapsed": "false",
    "hidden": true
   },
   "outputs": [],
   "source": [
    "for cheese in cheeses:\n",
    "     print(cheese)"
   ]
  },
  {
   "cell_type": "markdown",
   "metadata": {
    "Collapsed": "false",
    "hidden": true
   },
   "source": [
    "<br>\n",
    "리스트의 요소를 읽기만 한다면 이것만으로도 잘 동작한다.   \n",
    "하지만, 리스트의 요소를 쓰거나, 갱신하는 경우, 인텍스가 필요하다.   \n",
    "\n",
    "**<span style=\"color:red\">리스트의 모든 요소를 쓰거나 갱신하는 일반적인 방법은 range( )와 len( ) 함수를 조합하는 것이다.**"
   ]
  },
  {
   "cell_type": "code",
   "execution_count": null,
   "metadata": {
    "Collapsed": "false",
    "hidden": true
   },
   "outputs": [],
   "source": [
    "print(numbers)\n",
    "\n",
    "for i in range(len(numbers)):\n",
    "     numbers[i] = numbers[i] * 2\n",
    "\n",
    "print(numbers)"
   ]
  },
  {
   "cell_type": "code",
   "execution_count": null,
   "metadata": {
    "Collapsed": "false",
    "hidden": true
   },
   "outputs": [],
   "source": [
    "print(numbers)\n",
    "\n",
    "for num in numbers:\n",
    "     num = num * 2\n",
    "\n",
    "print(numbers)"
   ]
  },
  {
   "cell_type": "markdown",
   "metadata": {
    "Collapsed": "false",
    "hidden": true
   },
   "source": [
    "<br>\n",
    "리스트가 또 다른 리스트를 담을 수 있지만, 중첩된 리스트는 여전히 요소 하나로 간주된다.   \n",
    "다음 리스트 길이는 얼마일까?\n",
    "\n",
    "<p style=\"font-family: Courier New; font-size: 1.15em; \">\n",
    "['spam', 1, ['Brie', 'Roquefort', 'Pol le Veq'], [1, 2, 3]]"
   ]
  },
  {
   "cell_type": "code",
   "execution_count": null,
   "metadata": {
    "Collapsed": "false",
    "hidden": true
   },
   "outputs": [],
   "source": []
  },
  {
   "cell_type": "markdown",
   "metadata": {
    "Collapsed": "false",
    "heading_collapsed": true
   },
   "source": [
    "## 4.  &nbsp;&nbsp;리스트에 작동되는 연산자\n"
   ]
  },
  {
   "cell_type": "markdown",
   "metadata": {
    "Collapsed": "false",
    "hidden": true
   },
   "source": [
    "\n",
    "<br>\n",
    "+ 연산자는 리스트를 결합한다."
   ]
  },
  {
   "cell_type": "code",
   "execution_count": null,
   "metadata": {
    "Collapsed": "false",
    "hidden": true
   },
   "outputs": [],
   "source": [
    "a = [1, 2, 3]\n",
    "b = [4, 5, 6]\n",
    "c = a + b\n",
    "print(c)"
   ]
  },
  {
   "cell_type": "markdown",
   "metadata": {
    "Collapsed": "false",
    "hidden": true
   },
   "source": [
    "\\* 연산자는 주어진 횟수만큼 리스트를 반복한다."
   ]
  },
  {
   "cell_type": "code",
   "execution_count": null,
   "metadata": {
    "Collapsed": "false",
    "hidden": true
   },
   "outputs": [],
   "source": [
    "a=[0] * 4\n",
    "print(a)"
   ]
  },
  {
   "cell_type": "code",
   "execution_count": null,
   "metadata": {
    "Collapsed": "false",
    "hidden": true
   },
   "outputs": [],
   "source": [
    "b=[1, 2, 3] * 3\n",
    "print(b)"
   ]
  },
  {
   "cell_type": "markdown",
   "metadata": {
    "Collapsed": "false",
    "heading_collapsed": true
   },
   "source": [
    "## 5.  &nbsp;&nbsp;리스트 슬라이스 \n"
   ]
  },
  {
   "cell_type": "markdown",
   "metadata": {
    "Collapsed": "false",
    "hidden": true
   },
   "source": [
    "<br>\n",
    "슬라이스 연산자는 리스트에도 또한 동작한다."
   ]
  },
  {
   "cell_type": "code",
   "execution_count": null,
   "metadata": {
    "Collapsed": "false",
    "hidden": true
   },
   "outputs": [],
   "source": [
    "t = ['a', 'b', 'c', 'd', 'e', 'f']\n",
    "t[1:3]"
   ]
  },
  {
   "cell_type": "code",
   "execution_count": null,
   "metadata": {
    "Collapsed": "false",
    "hidden": true
   },
   "outputs": [],
   "source": [
    "t = ['a', 'b', 'c', 'd', 'e', 'f']\n",
    "t[:4]"
   ]
  },
  {
   "cell_type": "code",
   "execution_count": null,
   "metadata": {
    "Collapsed": "false",
    "hidden": true
   },
   "outputs": [],
   "source": [
    "t = ['a', 'b', 'c', 'd', 'e', 'f']\n",
    "t[3:]"
   ]
  },
  {
   "cell_type": "code",
   "execution_count": null,
   "metadata": {
    "Collapsed": "false",
    "hidden": true
   },
   "outputs": [],
   "source": [
    "t = ['a', 'b', 'c', 'd', 'e', 'f']\n",
    "t[:]"
   ]
  },
  {
   "cell_type": "markdown",
   "metadata": {
    "Collapsed": "false",
    "hidden": true
   },
   "source": [
    "<br><br>\n",
    "리스트는 변경이 가능하기 때문에 리스트를 접고, 돌리고, 훼손하는 연산을 수행하기 전에 복사본을 만들어 두는 것이 유용하다.  \n",
    "\n",
    "대입문 왼편의 슬라이스 연산자로 복수의 요소를 갱신할 수 있다."
   ]
  },
  {
   "cell_type": "code",
   "execution_count": null,
   "metadata": {
    "Collapsed": "false",
    "hidden": true
   },
   "outputs": [],
   "source": [
    "t = ['a', 'b', 'c', 'd', 'e', 'f']\n",
    "t[1:3] = ['x', 'y']\n",
    "print(t)"
   ]
  },
  {
   "cell_type": "markdown",
   "metadata": {
    "Collapsed": "false",
    "heading_collapsed": true
   },
   "source": [
    "## 6. &nbsp;&nbsp;리스트 메쏘드(Method) \n"
   ]
  },
  {
   "cell_type": "markdown",
   "metadata": {
    "Collapsed": "false",
    "hidden": true
   },
   "source": [
    "<br>\n",
    "파이썬은 리스트에 연산하는 메쏘드를 제공한다.   \n",
    "예를 들어, append( ) 메쏘드는 리스트 맨 끝에 새로운 요소를 추가한다."
   ]
  },
  {
   "cell_type": "code",
   "execution_count": null,
   "metadata": {
    "Collapsed": "false",
    "hidden": true
   },
   "outputs": [],
   "source": [
    "t = ['a', 'b', 'c']\n",
    "t.append('d')\n",
    "print(t)"
   ]
  },
  {
   "cell_type": "markdown",
   "metadata": {
    "Collapsed": "false",
    "hidden": true
   },
   "source": [
    "<br>\n",
    "extend( ) 메쏘드는 매개변수로 리스트를 받아, 받은 리스트의 모든 요소를 원래 리스트 끝에 덧붙인다."
   ]
  },
  {
   "cell_type": "code",
   "execution_count": null,
   "metadata": {
    "Collapsed": "false",
    "hidden": true
   },
   "outputs": [],
   "source": [
    "t1 = ['a', 'b', 'c']\n",
    "t2 = ['d', 'e']\n",
    "t1.extend(t2)\n",
    "print(t1)"
   ]
  },
  {
   "cell_type": "markdown",
   "metadata": {
    "Collapsed": "false",
    "hidden": true
   },
   "source": [
    "<br>\n",
    "상기 예제는 t2 리스트는 변경없이 원래대로 존재한다."
   ]
  },
  {
   "cell_type": "code",
   "execution_count": null,
   "metadata": {
    "Collapsed": "false",
    "hidden": true
   },
   "outputs": [],
   "source": []
  },
  {
   "cell_type": "markdown",
   "metadata": {
    "Collapsed": "false",
    "hidden": true
   },
   "source": [
    "<br>\n",
    "sort( ) 메쏘드는 오름차순으로(낮음에서 높음으로) 요소를 정렬한다."
   ]
  },
  {
   "cell_type": "code",
   "execution_count": null,
   "metadata": {
    "Collapsed": "false",
    "hidden": true
   },
   "outputs": [],
   "source": [
    "t = ['d', 'b', 'e', 'c', 'a']\n",
    "t.sort()\n",
    "print(t)"
   ]
  },
  {
   "cell_type": "markdown",
   "metadata": {
    "Collapsed": "false",
    "hidden": true
   },
   "source": [
    "<br>\n",
    "대부분의 리스트 메쏘드는 보이드(void)여서, 리스트를 변경하고 None을 반환한다.   \n",
    "우연히 t = t.sort() 이렇게 작성한다면, 결과에 실망할 것이다."
   ]
  },
  {
   "cell_type": "code",
   "execution_count": null,
   "metadata": {
    "Collapsed": "false",
    "hidden": true
   },
   "outputs": [],
   "source": [
    "t = ['d', 'b', 'e', 'c', 'a']\n",
    "print(t.sort())"
   ]
  },
  {
   "cell_type": "markdown",
   "metadata": {
    "Collapsed": "false",
    "hidden": true
   },
   "source": [
    "<br>\n",
    "t를 인쇄해보자.  \n",
    "t의 리스트 값들은 정렬이 되었을까?"
   ]
  },
  {
   "cell_type": "code",
   "execution_count": null,
   "metadata": {
    "Collapsed": "false",
    "hidden": true
   },
   "outputs": [],
   "source": [
    "print(t)"
   ]
  },
  {
   "cell_type": "code",
   "execution_count": null,
   "metadata": {
    "Collapsed": "false",
    "hidden": true
   },
   "outputs": [],
   "source": [
    "t = ['d', 'b', 'e', 'c', 'a']\n",
    "t=t.sort()"
   ]
  },
  {
   "cell_type": "markdown",
   "metadata": {
    "Collapsed": "false",
    "hidden": true
   },
   "source": [
    "<br>\n",
    "t를 인쇄해보자.   \n",
    "t의 리스트 값들은 정렬이 되었을까?"
   ]
  },
  {
   "cell_type": "code",
   "execution_count": null,
   "metadata": {
    "Collapsed": "false",
    "hidden": true
   },
   "outputs": [],
   "source": [
    "print(t)"
   ]
  },
  {
   "cell_type": "markdown",
   "metadata": {
    "Collapsed": "false",
    "heading_collapsed": true
   },
   "source": [
    "## 7. &nbsp;&nbsp;리스트 Comprehesion\n"
   ]
  },
  {
   "cell_type": "code",
   "execution_count": null,
   "metadata": {
    "Collapsed": "false",
    "hidden": true
   },
   "outputs": [],
   "source": [
    "nums = [0, 1, 2, 3, 4]\n",
    "squares = []\n",
    "for x in nums:\n",
    "    squares.append(x**2)\n",
    "print(squares)"
   ]
  },
  {
   "cell_type": "code",
   "execution_count": null,
   "metadata": {
    "Collapsed": "false",
    "hidden": true
   },
   "outputs": [],
   "source": [
    "nums = [0, 1, 2, 3, 4]\n",
    "squares = [x**2 for x in nums]\n",
    "print(squares)"
   ]
  },
  {
   "cell_type": "code",
   "execution_count": null,
   "metadata": {
    "Collapsed": "false",
    "hidden": true
   },
   "outputs": [],
   "source": [
    "nums = [0, 1, 2, 3, 4]\n",
    "even_squares = [x**2 for x in nums if x % 2 == 0]\n",
    "print(even_squares)"
   ]
  },
  {
   "cell_type": "markdown",
   "metadata": {
    "Collapsed": "false",
    "heading_collapsed": true
   },
   "source": [
    "## 8.  &nbsp;&nbsp;리스트의 요소 삭제  \n"
   ]
  },
  {
   "cell_type": "markdown",
   "metadata": {
    "Collapsed": "false",
    "hidden": true
   },
   "source": [
    "<br>\n",
    "리스트의 요소를 삭제하는 방법이 몇 가지 있다.  \n",
    "\n",
    "삭제할 요소의 인덱스를 알고 있다면, pop( ) 메쏘드를 사용한다."
   ]
  },
  {
   "cell_type": "code",
   "execution_count": null,
   "metadata": {
    "Collapsed": "false",
    "hidden": true
   },
   "outputs": [],
   "source": [
    "t = ['a', 'b', 'c']\n",
    "t.pop(1)\n",
    "print(t)"
   ]
  },
  {
   "cell_type": "markdown",
   "metadata": {
    "Collapsed": "false",
    "hidden": true
   },
   "source": [
    "<br>\n",
    "만일 삭제한 요소를 변수에 보관하고 싶다면 어떻게 하면 될까?"
   ]
  },
  {
   "cell_type": "code",
   "execution_count": null,
   "metadata": {
    "Collapsed": "false",
    "hidden": true
   },
   "outputs": [],
   "source": []
  },
  {
   "cell_type": "markdown",
   "metadata": {
    "Collapsed": "false",
    "hidden": true
   },
   "source": [
    "<br>\n",
    "pop( ) 메쏘드는 리스트에서 명시된 인덱스에 해당하는 요소를 제거하여 리스트를 변경하고, 제거된 요소를 반환한다.\n",
    "\n",
    "pop( ) 메쏘드에 인덱스를 명시하지 않으면, 리스트의 마지막 요소를 지우고 반환한다."
   ]
  },
  {
   "cell_type": "markdown",
   "metadata": {
    "Collapsed": "false",
    "hidden": true
   },
   "source": [
    "<br><br>\n",
    "리스트에서 제거된 요소 값이 필요없다면, del 연산자를 사용한다."
   ]
  },
  {
   "cell_type": "code",
   "execution_count": null,
   "metadata": {
    "Collapsed": "false",
    "hidden": true
   },
   "outputs": [],
   "source": [
    "t = ['a', 'b', 'c']\n",
    "del(t[1])\n",
    "print(t)"
   ]
  },
  {
   "cell_type": "code",
   "execution_count": null,
   "metadata": {
    "Collapsed": "false",
    "hidden": true
   },
   "outputs": [],
   "source": [
    "t = ['a', 'b', 'c']\n",
    "del t[1]\n",
    "print(t)"
   ]
  },
  {
   "cell_type": "markdown",
   "metadata": {
    "Collapsed": "false",
    "hidden": true
   },
   "source": [
    "<br>\n",
    "인덱스가 아니라, 제거할 요소 값을 알고 있다면, remove( ) 메쏘드를 사용한다."
   ]
  },
  {
   "cell_type": "code",
   "execution_count": null,
   "metadata": {
    "Collapsed": "false",
    "hidden": true
   },
   "outputs": [],
   "source": [
    "t = ['a', 'b', 'c']\n",
    "t.remove('b')\n",
    "print(t)"
   ]
  },
  {
   "cell_type": "markdown",
   "metadata": {
    "Collapsed": "false",
    "hidden": true
   },
   "source": [
    "<br>\n",
    "제거할 요소 값이 여러개 존재할 때, remove( ) 메쏘드를 사용하면?"
   ]
  },
  {
   "cell_type": "code",
   "execution_count": null,
   "metadata": {
    "Collapsed": "false",
    "hidden": true
   },
   "outputs": [],
   "source": [
    "t = ['a', 'b', 'c','b','d']\n",
    "t.remove('b')\n",
    "print(t)"
   ]
  },
  {
   "cell_type": "code",
   "execution_count": null,
   "metadata": {
    "Collapsed": "false",
    "hidden": true
   },
   "outputs": [],
   "source": [
    "help(list.remove)"
   ]
  },
  {
   "cell_type": "markdown",
   "metadata": {
    "Collapsed": "false",
    "hidden": true
   },
   "source": [
    "<br>\n",
    "한 개 이상의 요소를 제거하기 위해서, 슬라이스 인덱스(slice index)와 del을 사용한다.\n"
   ]
  },
  {
   "cell_type": "code",
   "execution_count": null,
   "metadata": {
    "Collapsed": "false",
    "hidden": true
   },
   "outputs": [],
   "source": [
    "t = ['a', 'b', 'c', 'd', 'e', 'f']\n",
    "del t[1:4]\n",
    "print(t)"
   ]
  },
  {
   "cell_type": "markdown",
   "metadata": {
    "Collapsed": "false",
    "heading_collapsed": true
   },
   "source": [
    "## 9.  &nbsp;&nbsp;리스트와 함수 \n",
    "\n"
   ]
  },
  {
   "cell_type": "markdown",
   "metadata": {
    "Collapsed": "false",
    "hidden": true
   },
   "source": [
    "<br>\n",
    "프로그램 코드를 작성하지 않고도 리스트에 적용할 수 있는 내장함수가 많이 있다."
   ]
  },
  {
   "cell_type": "code",
   "execution_count": null,
   "metadata": {
    "Collapsed": "false",
    "hidden": true
   },
   "outputs": [],
   "source": [
    "nums = [3, 41, 12, 9, 74, 15]\n",
    "print(len(nums))"
   ]
  },
  {
   "cell_type": "code",
   "execution_count": null,
   "metadata": {
    "Collapsed": "false",
    "hidden": true
   },
   "outputs": [],
   "source": [
    "nums = [3, 41, 12, 9, 74, 15]\n",
    "print(max(nums))"
   ]
  },
  {
   "cell_type": "code",
   "execution_count": null,
   "metadata": {
    "Collapsed": "false",
    "hidden": true
   },
   "outputs": [],
   "source": [
    "nums = [3, 41, 12, 9, 74, 15]\n",
    "print(min(nums))"
   ]
  },
  {
   "cell_type": "code",
   "execution_count": null,
   "metadata": {
    "Collapsed": "false",
    "hidden": true
   },
   "outputs": [],
   "source": [
    "nums = [3, 41, 12, 9, 74, 15]\n",
    "print(sum(nums))"
   ]
  },
  {
   "cell_type": "markdown",
   "metadata": {
    "Collapsed": "false",
    "hidden": true
   },
   "source": [
    "<br><br>\n",
    "리스트 요소가 모두 숫자일 때만, sum() 함수는 동작한다.  \n",
    "\n",
    "우선 리스트 없이 평균을 계산하는 프로그램은 다음과 같다."
   ]
  },
  {
   "cell_type": "code",
   "execution_count": null,
   "metadata": {
    "Collapsed": "false",
    "hidden": true
   },
   "outputs": [],
   "source": [
    "total = 0\n",
    "count = 0\n",
    "\n",
    "while (True) :\n",
    "    inp = input('Enter a number: ')\n",
    "    if inp == 'done' : break\n",
    "    value = float(inp)\n",
    "    total = total + value\n",
    "    count = count + 1\n",
    "\n",
    "average = total / count\n",
    "print('Average:', average)"
   ]
  },
  {
   "cell_type": "markdown",
   "metadata": {
    "Collapsed": "false",
    "hidden": true
   },
   "source": [
    "<br>\n",
    "위 프로그램에서 사용자가 숫자를 입력하면, count 와 sum 변수를 사용해서 지금까지 사용자가 입력한 누적 합계 및 입력횟수를 계산하는 것을 반복한 다음, 마지막에 평균을 구한다.   \n",
    "\n",
    "그러나, 리스트를 이용하면 프로그램이 단순해진다. "
   ]
  },
  {
   "cell_type": "code",
   "execution_count": null,
   "metadata": {
    "Collapsed": "false",
    "hidden": true
   },
   "outputs": [],
   "source": [
    "numlist = list()\n",
    "\n",
    "while ( True ) :\n",
    "    inp = input('Enter a number: ')\n",
    "    if inp == 'done' : break\n",
    "    value = float(inp)\n",
    "    numlist.append(value)\n",
    "\n",
    "average = sum(numlist) / len(numlist)\n",
    "print('Average:', average)"
   ]
  },
  {
   "cell_type": "markdown",
   "metadata": {
    "Collapsed": "false",
    "hidden": true
   },
   "source": [
    "<br>\n",
    "루프가 시작되기 전 빈 리스트를 생성하고, 매번 숫자를 입력할 때마다 숫자를 리스트에 추가한다.   \n",
    "프로그램 마지막에 간단하게 리스트 총합을 계산하고, 평균을 산출하기 위해서 입력한 숫자 개수로 나눈다."
   ]
  },
  {
   "cell_type": "markdown",
   "metadata": {
    "Collapsed": "false",
    "heading_collapsed": true
   },
   "source": [
    "## 10.  &nbsp;&nbsp;리스트와 문자열  \n"
   ]
  },
  {
   "cell_type": "markdown",
   "metadata": {
    "Collapsed": "false",
    "hidden": true
   },
   "source": [
    "<br>\n",
    "문자열은 문자들의 순서(sequence)이고, 리스트는 값들의 순서(sequence)이다.   \n",
    "하지만 문자들의 리스트는 문자열과 같지는 않다.   \n",
    "문자열을 문자들의 리스트로 변환하기 위해서, list( )를 사용한다."
   ]
  },
  {
   "cell_type": "code",
   "execution_count": null,
   "metadata": {
    "Collapsed": "false",
    "hidden": true
   },
   "outputs": [],
   "source": [
    "s = 'spam'\n",
    "t = list(s)\n",
    "print(t)"
   ]
  },
  {
   "cell_type": "markdown",
   "metadata": {
    "Collapsed": "false",
    "hidden": true
   },
   "source": [
    "<br>\n",
    "list( )는 내장함수 이름이기 때문에, 변수명으로 사용하는 것을 피해야 한다.   \n",
    "변수명으로 l을 사용하면 1 처럼 보이기 때문에 피한다.   \n",
    "그래서, t를 사용했다.  \n",
    "list( )는 문자열을 한 문자씩 따로 따로 쪼갠다.   \n",
    "\n",
    "문자열을 단어단위로 쪼개려면, split( ) 메쏘드를 사용할 수 있다."
   ]
  },
  {
   "cell_type": "code",
   "execution_count": null,
   "metadata": {
    "Collapsed": "false",
    "hidden": true
   },
   "outputs": [],
   "source": [
    "s = 'the 4th industrial revolution'\n",
    "t = s.split()\n",
    "print(t)"
   ]
  },
  {
   "cell_type": "markdown",
   "metadata": {
    "Collapsed": "false",
    "hidden": true
   },
   "source": [
    "<br>\n",
    "옵션 파라메터로 단어 경계로 어떤 문자를 사용할 것인지 지정할 수 있다.   \n",
    "다음 예제는 구분자로 하이픈('-')을 사용한 사례다."
   ]
  },
  {
   "cell_type": "code",
   "execution_count": null,
   "metadata": {
    "Collapsed": "false",
    "hidden": true
   },
   "outputs": [],
   "source": [
    "s = '010-1234-5678'\n",
    "t = s.split()\n",
    "print(t)"
   ]
  },
  {
   "cell_type": "code",
   "execution_count": null,
   "metadata": {
    "Collapsed": "false",
    "hidden": true
   },
   "outputs": [],
   "source": [
    "s = '010-1234-5678'\n",
    "t = s.split('-')\n",
    "print(t)"
   ]
  },
  {
   "cell_type": "markdown",
   "metadata": {
    "Collapsed": "false",
    "hidden": true
   },
   "source": [
    "<br>\n",
    "join( ) 메쏘드는 split( ) 메쏘드의 역이다.   \n",
    "모든 요소가 문자열인 리스트를 받아 이들을 하나의 문자열로 연결한다.   \n",
    "join( )은 문자열 메쏘드여서, 구분자를 호출하여 매개 변수로 넘길 수 있다."
   ]
  },
  {
   "cell_type": "code",
   "execution_count": null,
   "metadata": {
    "Collapsed": "false",
    "hidden": true
   },
   "outputs": [],
   "source": [
    "s = ['the','4th','industrial', 'revolution']\n",
    "delimiter=' '\n",
    "t = delimiter.join(s)\n",
    "print(t)"
   ]
  },
  {
   "cell_type": "code",
   "execution_count": null,
   "metadata": {
    "Collapsed": "false",
    "hidden": true
   },
   "outputs": [],
   "source": [
    "s = ['the','4th','industrial', 'revolution']\n",
    "delimiter='-'\n",
    "t = delimiter.join(s)\n",
    "print(t)"
   ]
  },
  {
   "cell_type": "code",
   "execution_count": null,
   "metadata": {
    "Collapsed": "false",
    "hidden": true
   },
   "outputs": [],
   "source": [
    "type(t)"
   ]
  },
  {
   "cell_type": "markdown",
   "metadata": {
    "Collapsed": "false",
    "hidden": true
   },
   "source": [
    "<br>\n",
    "파싱(parsing): 한 라인을 token(토큰, 의미있는 기초단위)으로 분해하는 것  \n",
    "\n",
    "파일을 읽을 때, \"흥미로운 라인을\" 찾아서 라인을 파싱(parse)하여 흥미로운 부분을 찾고자 한다.  \n",
    "From ”으로 시작하는 라인에서 요일을 찾고자 하면 어떨까?\n",
    "\n",
    "```python\n",
    "From stephen.marquard@uct.ac.za Sat Jan 5 09:14:16 2008\n",
    "```\n",
    "\n",
    "이런 종류의 문제에 직면했을 때, split( ) 메쏘드가 매우 효과적이다.   \n",
    "먼저 ”From ”으로 시작하는 라인을 찾고 split( ) 메쏘드로 파싱하고 라인의 흥미로운 부분을 출력한다."
   ]
  },
  {
   "cell_type": "code",
   "execution_count": null,
   "metadata": {
    "Collapsed": "false",
    "hidden": true
   },
   "outputs": [],
   "source": [
    "fhand = open('mbox-short.txt')\n",
    "\n",
    "for line in fhand:\n",
    "    line = line.rstrip()\n",
    "    if not line.startswith('From ') : continue\n",
    "    words = line.split()\n",
    "    print(words[2])"
   ]
  },
  {
   "cell_type": "markdown",
   "metadata": {
    "Collapsed": "false",
    "heading_collapsed": true
   },
   "source": [
    "## 11.  &nbsp;&nbsp;객체와 값(value)  \n"
   ]
  },
  {
   "cell_type": "markdown",
   "metadata": {
    "Collapsed": "false",
    "hidden": true
   },
   "source": [
    "<br>\n",
    "다음 대입문을 실행하면,\n",
    "\n",
    "<span style=\"font-family: Courier New; font-size: 1.15em;\">\n",
    "a = 'banana'  \n",
    "b = 'banana'\n",
    "\n",
    "a와 b 모두 문자열을 참조하지만, 두 변수가 동일한 문자열을 참조하는지 알 수 없다.   \n",
    "\n",
    "두 가지 가능한 상태가 있다.\n",
    "![](pic/pic7-1.jpg)\n",
    "\n",
    "\n",
    "첫 번째 경우는 a 와 b가 같은 값을 가지는 다른 두 객체를 참조하는 것이다.   \n",
    "두 번째 경우는 같은 객체를 참조하는 것이다.  \n",
    "두 변수가 동일한 객체를 참조하는지를 확인하기 위해서, is 연산자를 사용한다."
   ]
  },
  {
   "cell_type": "code",
   "execution_count": 1,
   "metadata": {
    "Collapsed": "false",
    "hidden": true
   },
   "outputs": [
    {
     "data": {
      "text/plain": [
       "True"
      ]
     },
     "execution_count": 1,
     "metadata": {},
     "output_type": "execute_result"
    }
   ],
   "source": [
    "a = 'banana'\n",
    "b = 'banana'\n",
    "a is b"
   ]
  },
  {
   "cell_type": "markdown",
   "metadata": {
    "Collapsed": "false",
    "hidden": true
   },
   "source": [
    "<br>\n",
    "이 경우, 파이썬은 하나의 문자열 객체를 생성하고 a 와 b 모두 동일한 객체를 참조한다.  \n",
    "\n",
    "하지만, 리스트 두 개를 생성할 때, 객체가 두 개다."
   ]
  },
  {
   "cell_type": "code",
   "execution_count": 2,
   "metadata": {
    "Collapsed": "false",
    "hidden": true
   },
   "outputs": [
    {
     "data": {
      "text/plain": [
       "False"
      ]
     },
     "execution_count": 2,
     "metadata": {},
     "output_type": "execute_result"
    }
   ],
   "source": [
    "a = [1, 2, 3]\n",
    "b = [1, 2, 3]\n",
    "a is b"
   ]
  },
  {
   "cell_type": "markdown",
   "metadata": {
    "Collapsed": "false",
    "hidden": true
   },
   "source": [
    "<br>\n",
    "이 경우, 두 개의 리스트는 동등하다(equivalent)고 말할 수 있다.   \n",
    "왜냐하면 동일한 요소들을 가지고 있기 때문이다.   \n",
    "하지만, 같은 객체는 아니기 때문에 동일하지(same)는 않다.\n",
    "\n",
    "두 개의 객체가 동일(same)하다면, 두 객체는 또한 등등(equivalent)하다.   \n",
    "하지만, 동등(equivalent)하다고 해서 반드시 동일(same)하지는 않다.  \n",
    "\n",
    "지금까지 ”객체(object)”와 ”값(value)”을 구분 없이 사용했지만, 객체가 값을 가진다라고 말하는 것이 좀더 정확하다.   \n",
    "a = [1,2,3] 을 실행하면, a 는 특별한 요소들 값을 갖는 리스트 객체로 참조한다.   \n",
    "만약 또 다른 리스트가 동일한 요소들을 가진다면, 그 리스트는 같은 값을 가진다고 말한다."
   ]
  },
  {
   "cell_type": "markdown",
   "metadata": {
    "Collapsed": "false",
    "heading_collapsed": true
   },
   "source": [
    "## 12.  &nbsp;&nbsp;에일리어싱(Aliasing)  \n"
   ]
  },
  {
   "cell_type": "markdown",
   "metadata": {
    "Collapsed": "false",
    "hidden": true
   },
   "source": [
    "<br>\n",
    "a가 객체를 참조하고, b = a 대입하다면, 두 변수는 동일한 객체를 참조한다."
   ]
  },
  {
   "cell_type": "code",
   "execution_count": null,
   "metadata": {
    "Collapsed": "false",
    "hidden": true
   },
   "outputs": [],
   "source": [
    "a = [1, 2, 3]\n",
    "b = a\n",
    "b is a"
   ]
  },
  {
   "cell_type": "markdown",
   "metadata": {
    "Collapsed": "false",
    "hidden": true
   },
   "source": [
    "<br>\n",
    "객체와 변수를 연관 짓는 것을 참조(reference)라고 한다.   \n",
    "상기의 경우 동일한 객체에 두 개의 참조가 있다.\n",
    "\n",
    "하나 이상의 참조를 가진 객체는 한 개 이상의 이름을 갖게 되어서, 객체가 에일리어스 되었다 (aliased, 별명을 가진다) 고 한다.\n",
    "\n",
    "만약 에일리어스된 객체가 변경 가능하면, 변화의 여파는 그 객체에 에일리어스된 다른 객체에도 파급된다.\n",
    "\n"
   ]
  },
  {
   "cell_type": "code",
   "execution_count": null,
   "metadata": {
    "Collapsed": "false",
    "hidden": true
   },
   "outputs": [],
   "source": [
    "a = [1, 2, 3]\n",
    "b = a\n",
    "print(\"b is a:\", b is a)\n",
    "a[0] = 9\n",
    "print(\"a: \", a)\n",
    "print(\"b: \", b)"
   ]
  },
  {
   "cell_type": "code",
   "execution_count": null,
   "metadata": {
    "Collapsed": "false",
    "hidden": true
   },
   "outputs": [],
   "source": [
    "a = [1, 2, 3]\n",
    "b = [1, 2, 3]\n",
    "print(\"b is a:\", b is a)\n",
    "a[0] = 9\n",
    "print(\"a: \", a)\n",
    "print(\"b: \", b)"
   ]
  },
  {
   "cell_type": "code",
   "execution_count": null,
   "metadata": {
    "Collapsed": "false",
    "hidden": true
   },
   "outputs": [],
   "source": [
    "a = [1, 2, 3]\n",
    "b = a[:]\n",
    "print(\"b is a:\", b is a)\n",
    "a[0] = 9\n",
    "print(\"a: \", a)\n",
    "print(\"b: \", b)"
   ]
  },
  {
   "cell_type": "markdown",
   "metadata": {
    "Collapsed": "false",
    "hidden": true
   },
   "source": [
    "<br>\n",
    "이와 같은 행동이 유용하기도 하지만, 오류를 발생시키기도 쉽다.   \n",
    "일반적으로, 변경 가능한 객체(mutable object)로 작업할 때 에일리어싱을 피하는 것이 안전하다.  \n",
    "문자열 같이 변경 불가능한 객체에 에일리어싱은 그렇게 문제가 되지 않는다."
   ]
  },
  {
   "cell_type": "markdown",
   "metadata": {
    "Collapsed": "false",
    "heading_collapsed": true
   },
   "source": [
    "##  13.  &nbsp;&nbsp;디버깅 \n"
   ]
  },
  {
   "cell_type": "markdown",
   "metadata": {
    "Collapsed": "false",
    "hidden": true
   },
   "source": [
    "<br>\n",
    "부주의한 리스트 사용이나 변경가능한 객체를 사용하는 경우 디버깅에 오랜 시간이 걸리곤 한다.   \n",
    "다음은 일반적인 함정 유형과 이를 회피하는 방법이다.  "
   ]
  },
  {
   "cell_type": "markdown",
   "metadata": {
    "Collapsed": "false",
    "hidden": true
   },
   "source": [
    "<br>\n",
    "1) 대부분의 리스트 메쏘드는 인자를 변경하고, None을 반환한다.   \n",
    "이는 새로운 문자열을 반환하고 원 문자열은 그대로 두는 문자열의 경우와 정반대다.  \n",
    "다음과 같이 문자열 코드를 쓰는데 익숙해져 있다면,    \n",
    "\n",
    "```python\n",
    "word = word.strip()\n",
    "```\n",
    "\n",
    "다음과 같이 리스트 코드를 작성하고 싶은 유혹이 있을 것이다.\n",
    "```python\n",
    "t = t.sort() \t# 틀림(WRONG)!\n",
    "```"
   ]
  },
  {
   "cell_type": "markdown",
   "metadata": {
    "Collapsed": "false",
    "hidden": true
   },
   "source": [
    "sort( ) 메쏘드는 None을 반환하기 때문에, 리스트 t를 정렬하여 리스트 t에 대입하려는 의도는 달성하지 못한다.   \n",
    "\n",
    "리스트 메쏘드와 연산자를 사용하기 전에, 문서를 주의깊게 읽고, 인터랙티브 모드에서 시험하는 것을 권한다.   \n",
    "리스트가 다른 순서(sequence)와 공유하는 메쏘드와 연산자는 docs.python.org/lib/typesseq.html 에 문서화되어 있다.   \n",
    "변경가능한 순서(sequence)에만 적용되는 메쏘드와 연산자는 docs.python.org/lib/typesseq-mutable.html에 문서화되어 있다."
   ]
  },
  {
   "cell_type": "markdown",
   "metadata": {
    "Collapsed": "false",
    "hidden": true
   },
   "source": [
    "<br><br>\n",
    "2) 관용구를 선택하고 고수하라.  \n",
    "리스트와 관련된 문제중 하나는 목적을 달성하기 위해 할 수 있는 방법이 너무 많다는 것이다.   \n",
    "예를 들어, 리스트에서 요소를 제거하기 위해서, pop( ), remove( ), del( ), 혹은 슬라이싱도 사용할 수 있다.   \n",
    "요소를 추가하기 위해서 append( ) 메쏘드나 + 연산자를 사용할 수 있다.\n",
    "\n",
    "하지만 다음이 맞다는 것을 잊지 마세요.      \n",
    "```python\n",
    "t.append(x)  \n",
    "t = t + [x]\n",
    "```\n",
    "\n",
    "하지만, 다음은 잘못됐다.\n",
    "\n",
    "```python\n",
    "t=[0,1,2,3]\n",
    "x=4\n",
    "t.append([x])    # 오류 없으나, 잘못된 결과일 수 있다!      \n",
    "t = t.append(x)  # 오류 없으나, 잘못된 결과!     \n",
    "t + [x]          # 오류 없으나, 잘못된 결과!    \n",
    "t = t + x        # 오류   \n",
    "```\n",
    "인터랙티브모드에서 각각을 연습해 보고 제대로 이해하고 있는지 확인해보자.   \n",
    "마지막 한 개만 실행오류를 하고, 다른 세가지는 모두 작동하지만 잘못된 결과를 가져옴에 주목하라.\n"
   ]
  },
  {
   "cell_type": "markdown",
   "metadata": {
    "Collapsed": "false",
    "hidden": true
   },
   "source": [
    "3) 에일리어싱을 회피하기 위해서 사본 만들기.  \n",
    "인자를 변경하는 sort( ) 같은 메쏘드를 사용할 때, 원 리스트도 보관되길 원한다면 사본을 만든다.\n",
    "\n",
    "```python\n",
    "orig = t[ : ]\n",
    "t.sort( )\n",
    "```\n",
    "\n",
    "위 예제에서 원 리스트는 그대로 둔 상태로 새로 정렬된 리스트를 반환하는 내장함수 sorted( )를 사용할 수 있다. \n",
    "\n",
    "```python\n",
    "sorted(t)\n",
    "```"
   ]
  },
  {
   "cell_type": "markdown",
   "metadata": {
    "Collapsed": "false",
    "hidden": true
   },
   "source": [
    "(4) 리스트, split( ), 파일  \n",
    "<br>\n",
    "파일을 읽고 파싱할 때, 프로그램이 중단될 수 있는 입력값을 마주할 수 많은 기회가 있다.   \n",
    "그래서 파일을 훑어 ”건초더미에서 바늘”을 찾는 프로그램을 작성할 때 사용한 가디언 패턴(guardian pattern)을 다시 살펴보는 것은 좋은 생각이다.  \n",
    "\n",
    "파일의 각 라인에서 요일을 찾는 프로그램을 다시 살펴보자.\n",
    "\n",
    "```python\n",
    "From stephen.marquard@uct.ac.za Sat Jan 5 09:14:16 2008\n",
    "```\n",
    "\n",
    "각 라인을 단어로 나누었기 때문에, startswith( )를 사용하지 않고,   \n",
    "라인에 관심있는 단어가 있는지 살펴보기 위해서 단순하게 각 라인의 첫 단어를 살펴본다.   \n",
    "다음과 같이 continue 문을 사용해서 ”From”이 없는 라인을 건너 뛴다.\n",
    "\n",
    "```python\n",
    "fhand = open('mbox-short.txt')  \n",
    "for line in fhand:  \n",
    "    words = line.split()  \n",
    "    if words[0] != 'From' : continue  \n",
    "    (words[2])  \n",
    "```\n",
    "프로그램이 훨씬 간단하고, 파일 끝에 있는 새 줄(newline)을 제거하기 위해 rstrip()을 사용할 필요도 없다. 하지만, 더 좋아졌는가?"
   ]
  },
  {
   "cell_type": "code",
   "execution_count": null,
   "metadata": {
    "Collapsed": "false",
    "hidden": true
   },
   "outputs": [],
   "source": [
    "fhand = open('mbox-short.txt')\n",
    "\n",
    "for line in fhand:\n",
    "    words = line.split()\n",
    "    if words[0] != 'From' : continue\n",
    "    print(words[2])"
   ]
  },
  {
   "cell_type": "markdown",
   "metadata": {
    "Collapsed": "false",
    "hidden": true
   },
   "source": [
    "무엇이 잘못되었을까? 어딘가 엉망이 된 데이터가 있어 프로그램을 망가뜨린건가?\n",
    "\n",
    "오랜 동안 프로그램을 응시하고 머리를 짜내거나, 다른 사람에게 도움을 요청할 수 있지만, 빠르고 현명한 접근법은 print문을 추가하는 것이다.\n",
    "\n",
    "print문을 넣는 가장 좋은 장소는 프로그램이 동작하지 않는 라인 앞이 적절하고, 프로그램 실패를 야기할 것 같은 데이터를 출력한다.\n",
    "\n",
    "이 접근법이 많은 라인을 출력하지만, 즉석에서 문제에 대해서 손에 잡히는 단서는 최소한 준다.   \n",
    "그래서 words를 출력하는 출력문을 5번째 라인 앞에 추가한다.   \n",
    "”Debug:”를 접두어로 라인에 추가하여, 정상적인 출력과 디버그 출력을 구분한다."
   ]
  },
  {
   "cell_type": "code",
   "execution_count": null,
   "metadata": {
    "Collapsed": "false",
    "hidden": true
   },
   "outputs": [],
   "source": [
    "for line in fhand:\n",
    "    words = line.split()\n",
    "    print('Debug:', words)\n",
    "    if words[0] != 'From' : continue\n",
    "    print(words[2])"
   ]
  },
  {
   "cell_type": "markdown",
   "metadata": {
    "Collapsed": "false",
    "hidden": true
   },
   "source": [
    "프로그램을 실행할 때, 많은 출력결과가 스크롤 되어 화면 위로 지나간다.  \n",
    "마지막에 디버그 결과물과 역추적(traceback)을 보고 역추적(traceback) 바로 앞에서 무슨 일이 생겼는지 알 수 있다.\n",
    "\n",
    "각 디버그 라인은 리스트 단어를 출력하는데, 라인을 분할 (split)해서 단어로 만들 때 얻어진다. 프로그램이 실패할 때 리스트 단어는 비었다\n",
    "\n",
    "텍스트 편집기로 파일을 열어 살펴보면 그 지점은 다음과 같다.\n",
    "\n",
    "```python\n",
    "X-DSPAM-Result: Innocent        \n",
    "X-DSPAM-Processed: Sat Jan 5 09:14:16 2008    \n",
    "X-DSPAM-Confidence: 0.8475  \n",
    "X-DSPAM-Probability: 0.0000  \n",
    "  \n",
    "\n",
    "Details: http://<span></span>source.sakaiproject.org/viewsvn/?view=rev&rev=39772  \n",
    "```\n",
    "\n",
    "프로그램이 빈 라인을 만났을 때, 오류가 발생한다.   \n",
    "물론, 빈 라인은 ’0’단어 (”zero words”)다.   \n",
    "프로그램을 작성할 때, 왜 이것을 생각하지 못했을까?   \n",
    "첫 단어(word[0])가 ”From”과 일치하는지 코드가 점검할 때, 빈 라인은 “인덱스 범위 오류(index out of range)”를 발생시킨다.\n",
    "\n",
    "물론, 첫 단어가 없다면 첫 단어 점검을 회피하는 가디언 코드(guardian code)를 삽입하기 최적 장소이기는 하다.  \n",
    "코드를 보호하는 방법은 많다.  \n",
    "첫 단어를 살펴보기 전에 단어의 갯수를 확인하는 방법을 택한다."
   ]
  },
  {
   "cell_type": "code",
   "execution_count": null,
   "metadata": {
    "Collapsed": "false",
    "hidden": true
   },
   "outputs": [],
   "source": [
    "fhand = open('mbox-short.txt')\n",
    "count = 0\n",
    "\n",
    "for line in fhand:\n",
    "    words = line.split()\n",
    "    # print 'Debug:', words\n",
    "    if len(words) == 0 : continue\n",
    "    if words[0] != 'From' : continue\n",
    "    print(words[2])"
   ]
  },
  {
   "cell_type": "markdown",
   "metadata": {
    "Collapsed": "false",
    "hidden": true
   },
   "source": [
    "변경한 코드가 실패해서 다시 디버그할 경우를 대비해서, print문을 제거하는 대신에 print문을 주석처리 한다.   \n",
    "그리고 나서, 단어가’0’인지를 살펴보고 만약 ’0’ 이면, 다음 라인으로 건너뛰도록 continue문을 사용하는 가디언 문장(guardian statement)을 추가한다.\n",
    "\n",
    "두 개 continue문이 ”흥미롭고” 좀더 처리가 필요한 라인 집합을 정제하도록 돕는 것으로 생각할 수 있다.   \n",
    "단어가 없는 라인은 ”흥미없어서” 다음 라인으로 건너뛴다.   \n",
    "첫 단어에 ”From”이 없는 라인도 ”흥미 없어서” 건너뛴다.\n",
    "\n",
    "변경된 프로그램이 성공적으로 실행되어서, 아마도 올바르게 작성된 것으로 보인다.   \n",
    "가디언 문장(guardian statement)이 words[0]가 정상작동 할 것이라는 것을 확인해 주지만, 충분하지 않을 수도 있다.   \n",
    "프로그램을 작성할 때, ”무엇이 잘못 될 수 있을까?”를 항상 생각해야만 한다."
   ]
  },
  {
   "cell_type": "markdown",
   "metadata": {
    "Collapsed": "false",
    "hidden": true
   },
   "source": [
    "<br>\n",
    "<span style=\"color:red\">연습문제</span> &nbsp;&nbsp; \n",
    "\n",
    "두 if 문 없이, 상기 예제의 가디언 코드(guardian code)를 다시 작성하세요.   \n",
    "대신에 단일 if문과 and 논리 연산자를 사용하는 복합 논리 표현식을 사용하세요."
   ]
  },
  {
   "cell_type": "code",
   "execution_count": null,
   "metadata": {
    "Collapsed": "false",
    "hidden": true
   },
   "outputs": [],
   "source": []
  },
  {
   "cell_type": "markdown",
   "metadata": {
    "Collapsed": "false",
    "heading_collapsed": true
   },
   "source": [
    "##  14.  docstring"
   ]
  },
  {
   "cell_type": "code",
   "execution_count": null,
   "metadata": {
    "Collapsed": "false",
    "hidden": true
   },
   "outputs": [],
   "source": [
    "def area(base,height):\n",
    "    '''(number,number) -> number\n",
    "    \n",
    "    return the area of a tiangle\n",
    "    '''\n",
    "    \n",
    "    return base * height / 2"
   ]
  },
  {
   "cell_type": "code",
   "execution_count": null,
   "metadata": {
    "Collapsed": "false",
    "hidden": true
   },
   "outputs": [],
   "source": [
    "help(area)"
   ]
  },
  {
   "cell_type": "markdown",
   "metadata": {
    "Collapsed": "false",
    "hidden": true
   },
   "source": [
    "* Shift + Tab will show you the Docstring (documentation) for the the object you have just typed in a code cell - you can keep pressing this short cut to cycle through a few modes of documentation."
   ]
  },
  {
   "cell_type": "code",
   "execution_count": null,
   "metadata": {
    "Collapsed": "false",
    "hidden": true
   },
   "outputs": [],
   "source": [
    "area"
   ]
  },
  {
   "cell_type": "markdown",
   "metadata": {
    "Collapsed": "false",
    "heading_collapsed": true
   },
   "source": [
    "##  15.  doctest"
   ]
  },
  {
   "cell_type": "code",
   "execution_count": null,
   "metadata": {
    "Collapsed": "false",
    "hidden": true
   },
   "outputs": [],
   "source": [
    "def area(base,height):\n",
    "    '''(number,number) -> number\n",
    "    \n",
    "    return the area of a tiangle\n",
    "    \n",
    "    >>> area(5,10)\n",
    "    25.0\n",
    "    '''\n",
    "    \n",
    "    return base * height \n",
    "\n",
    "import doctest\n",
    "doctest.run_docstring_examples(area, globals())"
   ]
  },
  {
   "cell_type": "code",
   "execution_count": null,
   "metadata": {
    "Collapsed": "false",
    "hidden": true
   },
   "outputs": [],
   "source": [
    "def area(base,height):\n",
    "    '''(number,number) -> number\n",
    "    \n",
    "    return the area of a tiangle\n",
    "    \n",
    "    >>> area(5,10)\n",
    "    25.0\n",
    "    '''\n",
    "    \n",
    "    return base * height / 2\n",
    "\n",
    "import doctest\n",
    "doctest.run_docstring_examples(area, globals())"
   ]
  },
  {
   "cell_type": "code",
   "execution_count": null,
   "metadata": {
    "Collapsed": "false",
    "hidden": true
   },
   "outputs": [],
   "source": [
    "def area(base,height):\n",
    "    '''(number,number) -> number\n",
    "    \n",
    "    return the area of a tiangle\n",
    "    \n",
    "    >>> area(5,10)\n",
    "    25.0\n",
    "    >>> area(10,10)\n",
    "    40.0\n",
    "    '''\n",
    "    \n",
    "    return base * height / 2\n",
    "\n",
    "import doctest\n",
    "doctest.run_docstring_examples(area, globals())"
   ]
  },
  {
   "cell_type": "code",
   "execution_count": null,
   "metadata": {
    "Collapsed": "false",
    "hidden": true
   },
   "outputs": [],
   "source": [
    "def area(base,height):\n",
    "    '''(number,number) -> number\n",
    "    \n",
    "    return the area of a tiangle\n",
    "    \n",
    "    >>> area(5,10)\n",
    "    25.0\n",
    "    >>> area(10,10)\n",
    "    50.0\n",
    "    '''\n",
    "    \n",
    "    return base * height / 2\n",
    "\n",
    "import doctest\n",
    "doctest.run_docstring_examples(area, globals())"
   ]
  },
  {
   "cell_type": "markdown",
   "metadata": {
    "Collapsed": "false",
    "heading_collapsed": true
   },
   "source": [
    "## <span style=\"color:red\">** 연습문제 **</span>  "
   ]
  },
  {
   "cell_type": "markdown",
   "metadata": {
    "Collapsed": "false",
    "hidden": true
   },
   "source": [
    "<br>\n",
    "<span style=\"color:red\">연습문제 7.1</span> &nbsp;&nbsp; \n",
    "\n",
    "실수로 이루어진 리스트를 받아, 각 수의 1/2을  계산하여 리스트로 반환하는 half(L) 함수를 작성하세요. 단, empty list가 입력인 경우 empty list를 반환한다."
   ]
  },
  {
   "cell_type": "code",
   "execution_count": null,
   "metadata": {
    "Collapsed": "false",
    "hidden": true
   },
   "outputs": [],
   "source": [
    "def half(L):\n",
    "    ''' (list) -> list\n",
    "    \n",
    "    >>> half([1,2,4,6])\n",
    "    [0.5, 1.0, 2.0, 3.0]\n",
    "    \n",
    "    >>> half([])\n",
    "    []\n",
    "    '''\n",
    "    pass\n",
    "\n",
    "\n",
    "\n",
    "\n",
    "import doctest\n",
    "doctest.run_docstring_examples(half, globals())"
   ]
  },
  {
   "cell_type": "code",
   "execution_count": null,
   "metadata": {
    "Collapsed": "false",
    "hidden": true
   },
   "outputs": [],
   "source": [
    "half([1,2,4,6])"
   ]
  },
  {
   "cell_type": "code",
   "execution_count": null,
   "metadata": {
    "Collapsed": "false",
    "hidden": true
   },
   "outputs": [],
   "source": [
    "half([])"
   ]
  },
  {
   "cell_type": "markdown",
   "metadata": {
    "Collapsed": "false",
    "hidden": true
   },
   "source": [
    "<br>\n",
    "<span style=\"color:red\">연습문제 7.2</span> &nbsp;&nbsp; \n",
    "\n",
    "리스트를 받아, 리스트의 요소를 거꾸로 정렬하여 반환하는 melong(L) 함수를 작성하세요. 단, empty list가 입력인 경우 empty list를 반환한다."
   ]
  },
  {
   "cell_type": "code",
   "execution_count": null,
   "metadata": {
    "Collapsed": "false",
    "hidden": true
   },
   "outputs": [],
   "source": [
    "def melong(L):\n",
    "    ''' (list) -> list\n",
    "    \n",
    "    >>> melong([\"a\",\"b\",1,[\"hannam\",\"eagle\"],5])\n",
    "    [5, ['hannam', 'eagle'], 1, 'b', 'a']\n",
    "    \n",
    "    >>> melong([1])\n",
    "    [1]\n",
    "    \n",
    "    >>> melong([])\n",
    "    []\n",
    "    '''\n",
    "    pass\n",
    "\n",
    "\n",
    "\n",
    "\n",
    "import doctest\n",
    "doctest.run_docstring_examples(melong, globals())"
   ]
  },
  {
   "cell_type": "markdown",
   "metadata": {
    "Collapsed": "false",
    "hidden": true
   },
   "source": [
    "<br>\n",
    "<span style=\"color:red\">연습문제 7.3</span> &nbsp;&nbsp; \n",
    "\n",
    "리스트를 받아 리스트를 변경하여, 첫 번째 요소와 마지막 요소를 제거하고 None을 반환하는 chop(L) 함수를 작성하세요. 단, empty list가 입력인 경우 empty list를 반환한다.  "
   ]
  },
  {
   "cell_type": "code",
   "execution_count": null,
   "metadata": {
    "Collapsed": "false",
    "hidden": true
   },
   "outputs": [],
   "source": [
    "def chop(L):\n",
    "    ''' (list) -> None\n",
    "    \n",
    "    >>> K=[1,2,3,4,5]\n",
    "    >>> chop(K)\n",
    "    >>> print(K)\n",
    "    [2, 3, 4]\n",
    "    \n",
    "    >>> K=[1]\n",
    "    >>> chop(K)\n",
    "    >>> print(K)\n",
    "    []\n",
    "\n",
    "    >>> K=[]\n",
    "    >>> chop(K)\n",
    "    >>> print(K)\n",
    "    []\n",
    "    '''\n",
    "    pass\n",
    "        \n",
    "\n",
    "import doctest\n",
    "doctest.run_docstring_examples(chop, globals())"
   ]
  },
  {
   "cell_type": "markdown",
   "metadata": {
    "Collapsed": "false",
    "hidden": true
   },
   "source": [
    "<br>\n",
    "<span style=\"color:red\">연습문제 7.4</span> &nbsp;&nbsp; \n",
    "\n",
    "그 다음, 리스트를 인자로 받아 처음과 마지막 요소를 제외한 나머지 요소를 새로운 리스트로 반환하는 middle(L) 함수를 작성하세요. 단, empty list가 입력인 경우 empty list를 반환한다."
   ]
  },
  {
   "cell_type": "code",
   "execution_count": null,
   "metadata": {
    "Collapsed": "false",
    "hidden": true
   },
   "outputs": [],
   "source": [
    "def middle(L):\n",
    "    ''' (list) -> list\n",
    "    \n",
    "    return list excluding both first element and last element.\n",
    "    \n",
    "    >>> middle([1,2,3,4,5]) \n",
    "    [2, 3, 4]\n",
    "    \n",
    "    >>> middle([1])\n",
    "    []\n",
    "    \n",
    "    >>> middle([])\n",
    "    []\n",
    "    '''\n",
    "    \n",
    "    pass\n",
    "\n",
    "import doctest\n",
    "doctest.run_docstring_examples(middle, globals())"
   ]
  },
  {
   "cell_type": "markdown",
   "metadata": {
    "Collapsed": "false",
    "hidden": true
   },
   "source": [
    "<br>\n",
    "<span style=\"color:red\">연습문제 7.5</span> &nbsp;&nbsp; \n",
    "\n",
    "알파벳 대소문자로 이루어진 리스트를 인자로 받아, 각 요소의 다음 알파벳(예: 'a' -> 'b', 'A' -> 'B', 'z' -> 'a', 'Z' -> 'A' 로 변환하여 리스트로 반환하는 alpha(L) 함수를 작성하세요. 단, empty list가 입력인 경우 empty list를 반환한다."
   ]
  },
  {
   "cell_type": "code",
   "execution_count": null,
   "metadata": {
    "Collapsed": "false",
    "hidden": true
   },
   "outputs": [],
   "source": [
    "# hint\n",
    "ord('A')"
   ]
  },
  {
   "cell_type": "code",
   "execution_count": null,
   "metadata": {
    "Collapsed": "false",
    "hidden": true
   },
   "outputs": [],
   "source": [
    "# hint\n",
    "chr(65)"
   ]
  },
  {
   "cell_type": "code",
   "execution_count": null,
   "metadata": {
    "Collapsed": "false",
    "hidden": true
   },
   "outputs": [],
   "source": [
    "#hint\n",
    "ord('a')"
   ]
  },
  {
   "cell_type": "code",
   "execution_count": null,
   "metadata": {
    "Collapsed": "false",
    "hidden": true
   },
   "outputs": [],
   "source": [
    "def alpha(L):\n",
    "    ''' (list) -> list\n",
    "    \n",
    "    >>> alpha(['a']) \n",
    "    ['b']\n",
    "    >>> alpha(['A']) \n",
    "    ['B']\n",
    "    >>> alpha(['z']) \n",
    "    ['a']\n",
    "    >>> alpha(['Z']) \n",
    "    ['A']\n",
    "    >>> alpha(['a','b','Z','C','z']) \n",
    "    ['b', 'c', 'A', 'D', 'a']\n",
    "    >>> alpha([]) \n",
    "    []\n",
    "    \n",
    "    '''\n",
    "    \n",
    "    pass\n",
    "\n",
    "\n",
    "\n",
    "\n",
    "import doctest\n",
    "doctest.run_docstring_examples(alpha, globals())"
   ]
  },
  {
   "cell_type": "code",
   "execution_count": null,
   "metadata": {
    "Collapsed": "false",
    "hidden": true
   },
   "outputs": [],
   "source": []
  },
  {
   "cell_type": "markdown",
   "metadata": {
    "Collapsed": "false",
    "hidden": true
   },
   "source": [
    "<br><br><br>\n",
    "<span style=\"color:red\">연습문제 7.6 </span> &nbsp;&nbsp; \n",
    "\n",
    "사용자가 ”done”을 입력할 때까지, 반복하여 사용자로부터 숫자를 입력받고,  \n",
    "사용자가 ”done”을 입력하면, 입력한 숫자 중에 최대값과 최소값을 출력하고 종료하는 프로그램을 다시 작성하라.  \n",
    "\n",
    "힌트: 사용자가 입력한 숫자를 리스트에 저장하고, max( ) 과 min( ) 함수를 사용하여 루프가 끝나면, 최대값과 최소값을 출력하는 프로그램을 작성하면 된다.\n",
    "\n",
    "<span style=\"font-family: Courier New; font-size: 1.15em;\">    \n",
    "<span style=\"color:orange\">Enter a number: <span style=\"color:blue\"> 6 </span>\n",
    "    \n",
    "<span style=\"color:orange\">Enter a number: <span style=\"color:blue\"> 2 </span>  \n",
    "    \n",
    "<span style=\"color:orange\">Enter a number: <span style=\"color:blue\"> 9 </span>  \n",
    "    \n",
    "<span style=\"color:orange\">Enter a number: <span style=\"color:blue\"> 3 </span>  \n",
    "    \n",
    "<span style=\"color:orange\">Enter a number: <span style=\"color:blue\"> 5 </span>  \n",
    "    \n",
    "<span style=\"color:orange\">Enter a number: <span style=\"color:blue\"> done </span>  \n",
    "    \n",
    "<span style=\"color:orange\">Maximum: 9.0 </span>   \n",
    "Minimum: 2.0  "
   ]
  }
 ],
 "metadata": {
  "kernelspec": {
   "display_name": "Python 3",
   "language": "python",
   "name": "python3"
  },
  "language_info": {
   "codemirror_mode": {
    "name": "ipython",
    "version": 3
   },
   "file_extension": ".py",
   "mimetype": "text/x-python",
   "name": "python",
   "nbconvert_exporter": "python",
   "pygments_lexer": "ipython3",
   "version": "3.7.6"
  }
 },
 "nbformat": 4,
 "nbformat_minor": 4
}
