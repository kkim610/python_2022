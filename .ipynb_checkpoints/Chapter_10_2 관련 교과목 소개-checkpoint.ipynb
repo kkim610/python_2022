{
 "cells": [
  {
   "cell_type": "markdown",
   "metadata": {},
   "source": [
    "# 데이터사이언스(빅 데이터) 관련 교과목 소개 - 2019 학번 기준"
   ]
  },
  {
   "cell_type": "markdown",
   "metadata": {
    "heading_collapsed": true
   },
   "source": [
    "## 2-1 프로그래밍 응용 I"
   ]
  },
  {
   "cell_type": "markdown",
   "metadata": {
    "hidden": true
   },
   "source": [
    "* numpy, pandas, (scikit-learn)\n",
    "* (kaggle ?)"
   ]
  },
  {
   "cell_type": "markdown",
   "metadata": {
    "heading_collapsed": true
   },
   "source": [
    "## 2-2 프로그래밍 응용 II"
   ]
  },
  {
   "cell_type": "markdown",
   "metadata": {
    "hidden": true
   },
   "source": [
    "* 객체지향 프로그래밍\n",
    "* (DJango ?)"
   ]
  },
  {
   "cell_type": "markdown",
   "metadata": {
    "heading_collapsed": true
   },
   "source": [
    "## 2-2 데이터베이스개론"
   ]
  },
  {
   "cell_type": "markdown",
   "metadata": {
    "collapsed": true,
    "hidden": true
   },
   "source": [
    "* Data Base\n",
    "* SQL \n",
    "* mySQL, SQLite, MongDB"
   ]
  },
  {
   "cell_type": "markdown",
   "metadata": {
    "heading_collapsed": true
   },
   "source": [
    "## 3-1 데이터사이언스 개론"
   ]
  },
  {
   "cell_type": "markdown",
   "metadata": {
    "hidden": true
   },
   "source": [
    "* scikit-learn\n",
    "* Data Science"
   ]
  },
  {
   "cell_type": "markdown",
   "metadata": {
    "heading_collapsed": true
   },
   "source": [
    "## 4-1 머신러닝 응용"
   ]
  },
  {
   "cell_type": "markdown",
   "metadata": {
    "hidden": true
   },
   "source": [
    "* Tensorflow\n",
    "* deep learning, CNN,(RNN?, Autoencoder?)\n",
    "* Self-Driving Robot car ? (image recognition)"
   ]
  },
  {
   "cell_type": "markdown",
   "metadata": {
    "collapsed": true,
    "heading_collapsed": true
   },
   "source": [
    "## 4-2 데이터사이언스"
   ]
  },
  {
   "cell_type": "markdown",
   "metadata": {
    "hidden": true
   },
   "source": [
    "* Bayesian Inference\n",
    "* Probabilistic Programming\n",
    "* (Big Data ?)"
   ]
  },
  {
   "cell_type": "markdown",
   "metadata": {
    "heading_collapsed": true
   },
   "source": [
    "# Job의 관점에서 본 컴퓨터 관련 커리어"
   ]
  },
  {
   "cell_type": "markdown",
   "metadata": {
    "heading_collapsed": true,
    "hidden": true
   },
   "source": [
    "## 데이터사이언티스트(데이터과학자)가 답이다."
   ]
  },
  {
   "cell_type": "markdown",
   "metadata": {
    "hidden": true
   },
   "source": [
    "* 선배들 누구도 이 길을 가지 않았다.\n",
    "* 그러나, 서울에선 이미 ...\n",
    "* 많은 땀을 요구, 그러나 충분한 보상이 따른다.\n",
    "* 필요한 정보는 웹에 다 있다. 학교 수업을 기다릴 필요가 전혀 없다.\n",
    "* 오직 실력. (성별, 학력, 나이, 국적 모두 필요없다.) --> 구글도 가능"
   ]
  },
  {
   "cell_type": "markdown",
   "metadata": {
    "collapsed": true,
    "heading_collapsed": true,
    "hidden": true
   },
   "source": [
    "## Who will be the FIRST PENGUIN !!!!"
   ]
  },
  {
   "cell_type": "markdown",
   "metadata": {
    "collapsed": true,
    "hidden": true
   },
   "source": [
    "<img style=\"float: left;\" src=\"pic/penguin.jpg\"  width=\"400\">"
   ]
  },
  {
   "cell_type": "markdown",
   "metadata": {
    "heading_collapsed": true,
    "hidden": true
   },
   "source": [
    "## 적극적으로 돕겠다.!!!!!"
   ]
  }
 ],
 "metadata": {
  "kernelspec": {
   "display_name": "Python 3",
   "language": "python",
   "name": "python3"
  },
  "language_info": {
   "codemirror_mode": {
    "name": "ipython",
    "version": 3
   },
   "file_extension": ".py",
   "mimetype": "text/x-python",
   "name": "python",
   "nbconvert_exporter": "python",
   "pygments_lexer": "ipython3",
   "version": "3.7.3"
  }
 },
 "nbformat": 4,
 "nbformat_minor": 2
}
