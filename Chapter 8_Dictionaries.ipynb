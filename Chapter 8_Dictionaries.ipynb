{
 "cells": [
  {
   "cell_type": "markdown",
   "metadata": {
    "Collapsed": "false"
   },
   "source": [
    "![](pic/pic_1.png)\n",
    "\n",
    "# **8장  &nbsp;&nbsp;딕셔너리(Dictionaries)**  \n",
    "<br>\n"
   ]
  },
  {
   "cell_type": "markdown",
   "metadata": {
    "Collapsed": "false"
   },
   "source": [
    "## 1.  &nbsp;&nbsp;딕셔너리"
   ]
  },
  {
   "cell_type": "markdown",
   "metadata": {
    "Collapsed": "false"
   },
   "source": [
    "<br>\n",
    "딕셔너리(dictionary)는 리스트 같지만 좀 더 일반적이다.   \n",
    "리스트에서 위치(인텍스)는 정수이지만, 딕셔너리에서는 인덱스는 임의 자료형(type)이 될 수 있다.   \n",
    "딕셔너리를 인덱스 집합(키(keys)라고 부름)에서 값(value) 집합으로 매핑(mapping)하는 것으로 생각할 수 있다.   \n",
    "각각의 키는 값에 대응한다.   \n",
    "키와 값을 연관시키는 것을 키-값 페어(key-value pair)라고 부르고, 종종 항목(item)으로도 부른다.\n",
    "\n",
    "한 예로, 영어 단어에서 스페인 단어에 매핑되는 사전을 만든다고 하자.   \n",
    "키와 값은 모두 문자열로 하자.   \n",
    "dict( ) 함수는 항목이 전혀 없는 사전을 신규로 생성한다.   \n",
    "dict( )는 내장함수명이어서, 변수명으로 사용하는 것을 피해야 한다."
   ]
  },
  {
   "cell_type": "code",
   "execution_count": null,
   "metadata": {
    "Collapsed": "false"
   },
   "outputs": [],
   "source": [
    "eng2sp = dict()\n",
    "print(eng2sp)"
   ]
  },
  {
   "cell_type": "code",
   "execution_count": null,
   "metadata": {
    "Collapsed": "false"
   },
   "outputs": [],
   "source": [
    "eng2sp = {}\n",
    "print(eng2sp)"
   ]
  },
  {
   "cell_type": "markdown",
   "metadata": {
    "Collapsed": "false"
   },
   "source": [
    "<br>\n",
    "구불구불한 괄호  { }는 빈 딕셔너리를 나타낸다.   \n",
    "딕셔너리에 항목을 추가하기 위해서 꺾쇠 괄호를 사용한다."
   ]
  },
  {
   "cell_type": "code",
   "execution_count": null,
   "metadata": {
    "Collapsed": "false"
   },
   "outputs": [],
   "source": [
    "eng2sp['one'] = 'uno'\n",
    "print(eng2sp)"
   ]
  },
  {
   "cell_type": "markdown",
   "metadata": {
    "Collapsed": "false"
   },
   "source": [
    "<br>\n",
    "위 코드는 키 ’one’에서 값 'uno'를 매핑하는 항목을 생성한다.   \n",
    "딕셔너리를 다시 출력하면, 키와 값 사이에 콜론(:)을 가진 키-값 쌍(key-value pair)를 볼 수 있다."
   ]
  },
  {
   "cell_type": "markdown",
   "metadata": {
    "Collapsed": "false"
   },
   "source": [
    "<br>\n",
    "출력 형식이 또한 입력 형식이다.   \n",
    "예를 들어, 세 개 항목을 가진 신규 딕셔너리를 생성할 수 있다."
   ]
  },
  {
   "cell_type": "code",
   "execution_count": null,
   "metadata": {
    "Collapsed": "false"
   },
   "outputs": [],
   "source": [
    "eng2sp = {'one': 'uno', 'two':'dos','three': 'tres'}"
   ]
  },
  {
   "cell_type": "markdown",
   "metadata": {
    "Collapsed": "false"
   },
   "source": [
    "<br>\n",
    "eng2sp을 출력하면, 놀랄 것이다."
   ]
  },
  {
   "cell_type": "code",
   "execution_count": null,
   "metadata": {
    "Collapsed": "false"
   },
   "outputs": [],
   "source": [
    "print(eng2sp)"
   ]
  },
  {
   "cell_type": "markdown",
   "metadata": {
    "Collapsed": "false"
   },
   "source": [
    "<br>\n",
    "키-값 쌍(key-value pair)의 순서가 같지 않다.   \n",
    "사실 동일한 사례를 여러분의 컴퓨터에서 입력하면, 다른 결과를 얻게 된다.  \n",
    "일반적으로, 딕셔너리 항목 순서는 예측 가능하지 않다.  \n",
    "딕셔너리 요소가 정수 인덱스로 색인되지 않아서 문제되지는 않는다.   \n",
    "대신에, 키를 사용해서 상응하는 값을 찾을 수 있다."
   ]
  },
  {
   "cell_type": "code",
   "execution_count": null,
   "metadata": {
    "Collapsed": "false"
   },
   "outputs": [],
   "source": [
    "print(eng2sp['two'])"
   ]
  },
  {
   "cell_type": "markdown",
   "metadata": {
    "Collapsed": "false"
   },
   "source": [
    "<br>\n",
    "’two’ 키는 항상 값 'dos'에 상응되어서 딕셔너리 항목 순서는 문제가 되지 않는다.  \n",
    "만약 키가 딕셔너리에 존재하지 않으면, 오류가 발생한다."
   ]
  },
  {
   "cell_type": "code",
   "execution_count": null,
   "metadata": {
    "Collapsed": "false"
   },
   "outputs": [],
   "source": [
    "print(eng2sp['four'])"
   ]
  },
  {
   "cell_type": "markdown",
   "metadata": {
    "Collapsed": "false"
   },
   "source": [
    "<br>\n",
    "len() 함수를 딕셔너리에 사용해서, 키-값 쌍(key-value pair)의 개수를 반환한다."
   ]
  },
  {
   "cell_type": "code",
   "execution_count": null,
   "metadata": {
    "Collapsed": "false"
   },
   "outputs": [],
   "source": [
    "len(eng2sp)"
   ]
  },
  {
   "cell_type": "markdown",
   "metadata": {
    "Collapsed": "false"
   },
   "source": [
    "<br>\n",
    "in 연산자도 딕셔너리에 작동되는데, 어떤 것이 딕셔너리 키(key)에 있는지 알려준다."
   ]
  },
  {
   "cell_type": "code",
   "execution_count": null,
   "metadata": {
    "Collapsed": "false"
   },
   "outputs": [],
   "source": [
    "'one' in eng2sp"
   ]
  },
  {
   "cell_type": "code",
   "execution_count": null,
   "metadata": {
    "Collapsed": "false"
   },
   "outputs": [],
   "source": [
    "'uno' in eng2sp"
   ]
  },
  {
   "cell_type": "markdown",
   "metadata": {
    "Collapsed": "false"
   },
   "source": [
    "<br>\n",
    "딕셔너리에 무엇이 값으로 있는지 확인하기 위해서, values() 메쏘드를 사용해서 리스트로 값을 반환받고 나서 in 연산자를 사용하여 확인한다."
   ]
  },
  {
   "cell_type": "code",
   "execution_count": null,
   "metadata": {
    "Collapsed": "false"
   },
   "outputs": [],
   "source": [
    "vals = eng2sp.values()\n",
    "'uno' in vals"
   ]
  },
  {
   "cell_type": "code",
   "execution_count": null,
   "metadata": {
    "Collapsed": "false"
   },
   "outputs": [],
   "source": [
    "vals = eng2sp.values()\n",
    "type(vals)"
   ]
  },
  {
   "cell_type": "markdown",
   "metadata": {
    "Collapsed": "false"
   },
   "source": [
    "<br>\n",
    "in 연산자는 리스트와 딕셔너리에 각기 다른 알고리즘을 사용한다.   \n",
    "리스트에 대해서 선형 검색 알고리즘을 사용한다.   \n",
    "리스트가 길어짐에 따라 검색 시간은 리스트 길이에 비례하여 길어진다.   \n",
    "딕셔너리에 대해서 파이썬은 해쉬 테이블(hash table)로 불리는 놀라운 특성을 가진 알고리즘을 사용한다.   \n",
    "얼마나 많은 항목이 딕셔너리에 있는지에 관계없이 in 연산자는 대략 동일한 시간이 소요된다.   \n",
    "왜 해쉬 함수가 마술 같은지에 대해서는 설명하지 않지만, wikipedia.org/wiki/Hash_table 에서 좀더 많은 정보를 얻을 수 있다."
   ]
  },
  {
   "cell_type": "markdown",
   "metadata": {
    "Collapsed": "false"
   },
   "source": [
    "<br>\n",
    "<span style=\"color:red\">연습문제 8.1</span> &nbsp;&nbsp; \n",
    "\n",
    "www.py4inf.com/code/words.txt 의 단어를 읽어서 딕셔너리에 키로 저장하는 프로그램을 작성하라.   \n",
    "값이 무엇이든지 상관없다.   \n",
    "딕셔너리에 문자열을 확인하는 가장 빠른 방법으로 in 연산자를 사용할 수 있다."
   ]
  },
  {
   "cell_type": "markdown",
   "metadata": {
    "Collapsed": "false"
   },
   "source": [
    "## 2.  &nbsp;&nbsp;카운터(counter) 집합으로서 딕셔너리\n"
   ]
  },
  {
   "cell_type": "markdown",
   "metadata": {
    "Collapsed": "false"
   },
   "source": [
    "<br>\n",
    "문자열이 주어진 상태에서, 각 문자가 몇 번 나타나는지를 센다고 가정하자.  \n",
    "아래와 같은 몇 가지 방법이 있다.\n",
    "\n",
    "1) 26개 변수를 알파벳 문자 각각에 대해 생성한다.   \n",
    "&nbsp;&nbsp;&nbsp;   그리고 연쇄 조건문을 사용하여 문자열을 훑고 해당 카운터를 하나씩 증가한다.\n",
    "\n",
    "2) 26개 요소를 가진 리스트를 생성한다.   \n",
    "&nbsp;&nbsp;&nbsp; 내장함수 ord( )를 사용해서 각 문자를 숫자로 변환한다.   \n",
    "&nbsp;&nbsp;&nbsp; 리스트 안에 인덱스로 숫자를 사용해서 적당한 카운터를 증가한다.\n",
    "\n",
    "3) 키(key)로 문자, 카운터로 해당 값(value)을 갖는 딕셔너리를 생성한다.   \n",
    "&nbsp;&nbsp;&nbsp; 처음 문자를 만나면, 딕셔너리에 항목으로 추가한다.   \n",
    "&nbsp;&nbsp;&nbsp; 추가한 후에는 기존 항목 값을 증가한다. \n",
    "\n",
    "상기 3개 옵션은 동일한 연산을 수행하지만, 각각은 다른 방식으로 연산을 구현한다.  \n",
    "구현(implementation)은 연산(computation)을 수행하는 방법이다. \n",
    "어떤 구현방법이 다른 것 보다 낫다.   \n",
    "예를 들어, 딕셔너리 구현의 장점은 사전에 문자열에서 어떤 문자가 나타날지 몰라도 된다.   \n",
    "다만 나타날 문자에 대한 공간만 준비하면 된다는 것이다.\n",
    "\n",
    "다음에 딕셔너리로 구현한 코드가 있다."
   ]
  },
  {
   "cell_type": "code",
   "execution_count": null,
   "metadata": {
    "Collapsed": "false"
   },
   "outputs": [],
   "source": [
    "word = 'brontosaurus'\n",
    "d = dict()\n",
    "\n",
    "for c in word:\n",
    "    if c not in d:\n",
    "        d[c] = 1\n",
    "    else:\n",
    "        d[c] = d[c] + 1\n",
    "\n",
    "print(d)"
   ]
  },
  {
   "cell_type": "markdown",
   "metadata": {
    "Collapsed": "false"
   },
   "source": [
    "<br>\n",
    "카운터 혹은 빈도에 대한 통계 용어인 히스토그램(histogram)을 효과적으로 계산해보자.  \n",
    "\n",
    "for 루프는 문자열을 훑는다.   \n",
    "매번 루프를 반복할 때마다 딕셔너리에 문자 c가 없다면, 키 c와 초기값 1을 가진 새로운 항목을 생성한다.   \n",
    "문자 c가 이미 딕셔너리에 존재한다면, d[c]을 증가한다.  \n",
    "\n",
    "히스토그램은 문자 ’a’, 'b'는 1회, 'o'는 2회 등이 나타남을 보여준다."
   ]
  },
  {
   "cell_type": "markdown",
   "metadata": {
    "Collapsed": "false"
   },
   "source": [
    "<br><br>\n",
    "딕셔너리에는 키와 디폴트(default) 값을 갖는 get( ) 메쏘드가 있다.   \n",
    "딕셔너리에 키가 있으면, get( ) 메쏘드는 해당 값을 반환하고, 해당 키가 없으면 디폴트 값을 반환한다. "
   ]
  },
  {
   "cell_type": "code",
   "execution_count": null,
   "metadata": {
    "Collapsed": "false"
   },
   "outputs": [],
   "source": [
    "counts = { 'chuck' : 1 , 'annie' : 42, 'jan': 100}\n",
    "\n",
    "print(counts.get('jan', 0))\n",
    "\n",
    "print(counts.get('tim', 0))"
   ]
  },
  {
   "cell_type": "markdown",
   "metadata": {
    "Collapsed": "false"
   },
   "source": [
    "<br>\n",
    "get( ) 메쏘드를 사용해서 상기 히스토그램 루프를 좀더 간결하게 작성할 수 있다.   \n",
    "get( ) 메쏘드는 딕셔너리에 키가 존재하지 않는 경우를 자동적으로 다루기 때문에, if문을 없애 4줄을 1줄로 줄일 수 있다."
   ]
  },
  {
   "cell_type": "code",
   "execution_count": null,
   "metadata": {
    "Collapsed": "false"
   },
   "outputs": [],
   "source": [
    "word = 'brontosaurus'\n",
    "d = dict()\n",
    "\n",
    "for c in word:\n",
    "    d[c] = d.get(c,0) + 1\n",
    "\n",
    "print(d)"
   ]
  },
  {
   "cell_type": "markdown",
   "metadata": {
    "Collapsed": "false"
   },
   "source": [
    "<br><br>\n",
    "카운터 루프를 단순화하려고 get( ) 메쏘드를 사용하는 것은 파이썬에서 흔히 사용되는 ”숙어(idiom)”가 되고,   \n",
    "책 후반부까지 많이 사용할 것이다.   \n",
    "\n",
    "시간을 가지고서 잠시 if 문과 in 연산자를 사용한 루프와 get( ) 메쏘드를 사용한 루프를 비교해 보세요.  \n",
    "동일한 연산을 수행하지만, get( ) 메쏘드를 사용하하는 것이 더 간결하다."
   ]
  },
  {
   "cell_type": "markdown",
   "metadata": {
    "Collapsed": "false"
   },
   "source": [
    "## 3.  &nbsp;&nbsp;딕셔너리와 파일\n"
   ]
  },
  {
   "cell_type": "markdown",
   "metadata": {
    "Collapsed": "false"
   },
   "source": [
    "<br>\n",
    "딕셔너리의 흔한 사용법 중의 하나는 텍스트로 작성된 파일에 단어 빈도를 세는 것이다.\n",
    "\n",
    "http://<span></span>shakespeare.mit.edu/Tragedy/romeoandjuliet/romeo_juliet.2.2.html를 이용하여 로미오와 쥴리엣(Romeo and Juliet) 텍스트 파일에서 시작하자.  \n",
    "처음 연습으로 구두점이 없는 짧고 간략한 텍스트 버젼을 사용한다.   \n",
    "나중에 구두점이 포함된 전체 텍스트로 작업할 것이다.\n",
    "\n",
    "<p style=\"font-family: Courier New; font-size: 1.15em; \">\n",
    "But soft what light through yonder window breaks  \n",
    "It is the east and Juliet is the sun  \n",
    "Arise fair sun and kill the envious moon  \n",
    "Who is already sick and pale with grief  \n",
    "\n",
    "파일을 읽어, 각 라인을 단어 리스트로 쪼개고,   \n",
    "루프를 돌려 사전을 이용하여 각 단어의 빈도수를 세는 파이썬 프로그램을 작성한다.  \n",
    "\n",
    "두 개의 for 루프를 사용한다.   \n",
    "외곽 루프는 파일을 한 라인을 읽고, 내부 루프는 특정 라인의 단어 각각에 대해 반복한다.   \n",
    "하나의 루프는 외곽 루프가 되고, 또 다른 루프는 내부 루프가 되어서 중첩 루프(nested loops)라고 불리는 패턴 사례이다.  \n",
    "외곽 루프가 한번 반복을 할 때마다 내부 루프는 모든 반복을 수행하기 때문에 내부 루프는 ”좀더 빨리” 반복을 수행하고 외곽 루프는 좀더 천천히 반복을 수행하는 것으로 생각할 수 있다.  \n",
    "두 중첩 루프의 조합이 입력 파일의 모든 라인에 있는 모든 단어의 빈도를 카운트(count) 한다.\n",
    "\n",
    "아래 코드를 실행할 때, 화일이름을 물어오면 romeo.txt 라 입력한다."
   ]
  },
  {
   "cell_type": "code",
   "execution_count": null,
   "metadata": {
    "Collapsed": "false"
   },
   "outputs": [],
   "source": [
    "fname = input('Enter the file name: ')\n",
    "try:\n",
    "    fhand = open(fname)\n",
    "except:\n",
    "    print('File cannot be opened:', fname)\n",
    "    exit()\n",
    "\n",
    "counts = dict()\n",
    "for line in fhand:\n",
    "    words = line.split()\n",
    "    for word in words:\n",
    "        if word not in counts:\n",
    "            counts[word] = 1\n",
    "        else:\n",
    "            counts[word] += 1\n",
    "\n",
    "print(counts)"
   ]
  },
  {
   "cell_type": "markdown",
   "metadata": {
    "Collapsed": "false"
   },
   "source": [
    "<br>\n",
    "가장 높은 빈도 단어와 빈도수를 찾기 위해서 딕셔너리를 훑는 것은 불편하다.  \n",
    "좀더 도움이 되는 출력결과를 만들기 위해 파이썬 코드를 추가하자."
   ]
  },
  {
   "cell_type": "markdown",
   "metadata": {
    "Collapsed": "false"
   },
   "source": [
    "## 4.  &nbsp;&nbsp;반복과 딕셔너리\n"
   ]
  },
  {
   "cell_type": "markdown",
   "metadata": {
    "Collapsed": "false"
   },
   "source": [
    "<br>\n",
    "for문에 딕셔너리를 사용한다면, 딕셔너리 키를 훑는다. "
   ]
  },
  {
   "cell_type": "code",
   "execution_count": null,
   "metadata": {
    "Collapsed": "false"
   },
   "outputs": [],
   "source": [
    "counts = { 'chuck' : 1 , 'annie' : 42, 'jan': 100}\n",
    "\n",
    "for key in counts:\n",
    "    print(key, counts[key])"
   ]
  },
  {
   "cell_type": "markdown",
   "metadata": {
    "Collapsed": "false"
   },
   "source": [
    "<br>\n",
    "다음은 딕셔너리에서 10 보다 큰 값을 가진 항목을 모두 찾는 코드이다."
   ]
  },
  {
   "cell_type": "code",
   "execution_count": null,
   "metadata": {
    "Collapsed": "false"
   },
   "outputs": [],
   "source": [
    "counts = { 'chuck' : 1 , 'annie' : 42, 'jan': 100}\n",
    "\n",
    "for key in counts:\n",
    "    if counts[key] > 10 :\n",
    "        print(key, counts[key])"
   ]
  },
  {
   "cell_type": "markdown",
   "metadata": {
    "Collapsed": "false"
   },
   "source": [
    "for 루프는 딕셔너리 키(keys)를 반복한다. \n",
    "그래서, 인덱스 연산자를 사용해서 각 키에 상응하는 값(value)을 가져온다.  \n",
    "<br><br><br>\n",
    "알파벳 순으로 키를 출력하고자 한다면, 딕셔너리 객체의 keys( ) 메쏘드를 사용해서 딕셔너리 키 리스트를 생성한다.   \n",
    "그리고 나서 리스트를 정렬하고, 정렬된 리스트를 루프 돌리고, 아래와 같이 정렬된 순서로 키/값 쌍(key/value pair)을 출력한다."
   ]
  },
  {
   "cell_type": "code",
   "execution_count": null,
   "metadata": {
    "Collapsed": "false"
   },
   "outputs": [],
   "source": [
    "counts = { 'chuck' : 1 , 'annie' : 42, 'jan': 100}\n",
    "for key in counts.keys():\n",
    "    print(key, counts[key])"
   ]
  },
  {
   "cell_type": "code",
   "execution_count": null,
   "metadata": {
    "Collapsed": "false"
   },
   "outputs": [],
   "source": [
    "counts = { 'chuck' : 1 , 'annie' : 42, 'jan': 100}\n",
    "aa=counts.keys().sort()\n",
    "for key in aa:\n",
    "    print(key, counts[key])"
   ]
  },
  {
   "cell_type": "code",
   "execution_count": null,
   "metadata": {
    "Collapsed": "false"
   },
   "outputs": [],
   "source": [
    "counts = { 'chuck' : 1 , 'annie' : 42, 'jan': 100}\n",
    "\n",
    "key_list = list(counts.keys())\n",
    "print(key_list)\n",
    "\n",
    "key_list.sort()\n",
    "\n",
    "for key in key_list:\n",
    "    print(key, counts[key])"
   ]
  },
  {
   "cell_type": "markdown",
   "metadata": {
    "Collapsed": "false"
   },
   "source": [
    "## 5.  &nbsp;&nbsp;고급 텍스트 파싱 \n"
   ]
  },
  {
   "cell_type": "markdown",
   "metadata": {
    "Collapsed": "false"
   },
   "source": [
    "<br>\n",
    "romeo.txt 파일을 사용한 상기 예제에서, 수작업으로 모든 구두점을 제거하여 가능한 단순하게 만들었다.  \n",
    "실제 텍스트는 아래처럼 많은 구두점이 있다.\n",
    "\n",
    "<p style=\"font-family: Courier New; font-size: 1.15em; \">\n",
    "But, soft! what light through yonder window breaks?  \n",
    "It is the east, and Juliet is the sun.  \n",
    "Arise, fair sun, and kill the envious moon,  \n",
    "Who is already sick and pale with grief,  \n",
    "\n",
    "파이썬 split() 함수는 공백을 찾고 공백으로 구분되는 토큰으로 단어를 처리하기 때문에,  \n",
    "“soft!” 와 “soft”는 다른 단어로 처리되고 각 단어에 대해서 별도의 딕셔너리 항목을 생성한다.   \n",
    "아울러, 파일에 대문자가 있다면, “who”와 “Who”를 다른 단어, 다른 빈도수를 가진 것으로 처리한다.  \n",
    "lower(), punctuation(), translate() 문자열 메쏘드를 사용해서 이 문제를 해결할 수 있는데,   \n",
    "여기서는 translate() 메쏘드가 가장 적합하다.   \n",
    "\n",
    "파이썬이 ”구두점”으로 간주하는 문자 리스트는 다음과 같다."
   ]
  },
  {
   "cell_type": "code",
   "execution_count": null,
   "metadata": {
    "Collapsed": "false"
   },
   "outputs": [],
   "source": [
    "import string\n",
    "print(string.punctuation)"
   ]
  },
  {
   "cell_type": "markdown",
   "metadata": {
    "Collapsed": "false"
   },
   "source": [
    "<br>\n",
    "이제 구두점을 제거하자."
   ]
  },
  {
   "cell_type": "code",
   "execution_count": null,
   "metadata": {
    "Collapsed": "false"
   },
   "outputs": [],
   "source": [
    "import string\n",
    "tr = str.maketrans(\"\", \"\", string.punctuation)\n",
    "s = \"Hello! It is time to remove punctuations. It is easy, you will see.\"\n",
    "s.translate(tr)"
   ]
  },
  {
   "cell_type": "markdown",
   "metadata": {
    "Collapsed": "false"
   },
   "source": [
    "<br>\n",
    "앞 절에서의 프로그램을 다음과 같은 수정을 한다.  \n",
    "\n",
    "실행시 화일이름은 romeo-full.txt 를 입력하다."
   ]
  },
  {
   "cell_type": "code",
   "execution_count": null,
   "metadata": {
    "Collapsed": "false"
   },
   "outputs": [],
   "source": [
    "import string # 신규 코드\n",
    "\n",
    "fname = input('Enter the file name: ')\n",
    "try:\n",
    "    fhand = open(fname)\n",
    "except:\n",
    "    print('File cannot be opened:', fname)\n",
    "    exit()\n",
    "\n",
    "counts = dict()\n",
    "tr = str.maketrans(\"\", \"\", string.punctuation) # 신규코드\n",
    "\n",
    "for line in fhand:\n",
    "    line = line.translate(tr) # 신규 코드\n",
    "    line = line.lower() # 신규 코드\n",
    "    words = line.split()\n",
    "    for word in words:\n",
    "        if word not in counts:\n",
    "            counts[word] = 1\n",
    "        else:\n",
    "            counts[word] += 1\n",
    "\n",
    "print(counts)"
   ]
  },
  {
   "cell_type": "markdown",
   "metadata": {
    "Collapsed": "false"
   },
   "source": [
    "<br>\n",
    "translate() 메쏘드를 사용해서 모든 구두점을 제거했고, lower() 메쏘드를 사용해서 소문자로 수정했다.  \n",
    "나머지 프로그램은 변경된 게 없다.   \n",
    "\n",
    "\"파이썬의 기술(Art of Python)” 혹은 “파이썬스럽게 생각하기(Thinking Pythonically)”를 배우는 이유는 공통적인 자료 분석 문제에서 많은 경우, 파이썬이 이를 해결하는 내장 기능을 가지고 있는 것을 깨닫는 것이다.   \n",
    "시간이 지남에 따라, 충분한 예제코드를 보고 충분한 문서를 읽는다.   \n",
    "작업을 편하게 할 수 있게 이미 다른 사람이 작성한 코드가 존재하는지를 살펴보기 위해서 어디를 찾아봐야 하는지도 알게 될 것이다.\n",
    "\n",
    "출력결과는 파이썬을 사용해서 정확히 찾고자 는 하는 것을 찾았으나, 여전히 살펴 보기가 어렵다.   \n",
    "파이썬 튜플(tuples)을 이용하면 보다 편리하다. 튜플을 학습할 때, 다시 이 예제를 살펴볼 것이다."
   ]
  },
  {
   "cell_type": "markdown",
   "metadata": {
    "Collapsed": "false",
    "heading_collapsed": true
   },
   "source": [
    "## 6. &nbsp;&nbsp;디버깅\n"
   ]
  },
  {
   "cell_type": "markdown",
   "metadata": {
    "Collapsed": "false",
    "hidden": true
   },
   "source": [
    "<br>\n",
    "점점 더 큰 데이터로 작업함에 따라, 수작업으로 데이터를 확인하거나 출력을 통해서 디버깅을 하는 것이 어려울 수 있다.   \n",
    "큰 데이터를 디버깅하는 몇 가지 방법이 있다.\n",
    "\n",
    "* 입력을 줄여라(Scale down the input): \n",
    "가능하면, 입력 데이터 크기를 줄여라.  \n",
    "예를 들어, 프로그램이 텍스트 파일을 읽는다면, 첫 10줄로 시작하거나, 작은 예제로 시작하라.  \n",
    "데이터 파일을 작은 크기로 편집하거나, 프로그램을 수정해서 첫 n 라인만 읽도록 프로그램을 변경하라.  \n",
    "오류가 있다면, n을 더 줄여서 오류를 재현하는 가장 작은 값으로 만들어라.  \n",
    "그리고 나서, 오류를 찾고 수정해 나감에 따라 점진적으로 늘려나가라.  \n",
    "\n",
    "\n",
    "* 요약값과 자료형을 확인하라(Check summaries and types): \n",
    "전체 데이터를 출력하여 검증하는 대신에, 딕셔너리 항목의 갯수 혹은 숫자 요소로 이루어진 리스트의 요소의 총합처럼, 데이터를 요약하여 출력하는 것을 생각하라.   \n",
    "runtime errors의 일반적인 원인은 올바른 자료형(right type)이 아니기 때문이다.   \n",
    "이런 종류의 오류를 디버깅하기 위해서, 종종 값의 자료형을 출력하는 것으로 충분하다.\n",
    "\n",
    "\n",
    "* 자가 진단 작성(Write self-checks): \n",
    "종종 오류를 자동적으로 검출하는 코드를 작성한다.   \n",
    "예를 들어, 리스트 숫자의 평균을 계산한다면, 결과값은 리스트 내의 가장 큰 값보다 클 수 없고, 가장 작은 값보다 작을 수 없다는 것을 확인할 수 있다.   \n",
    "완전히 비상식적인” 결과를 탐지하기 때문에 ”건전성 검사(sanity check)”라고 부른다.  \n",
    "또 다른 검사법은 두 가지 다른 연산의 결과를 비교해서 일치하는지 살펴보는 것이다.  \n",
    "일치성 검사(consistency check)”라고 부른다.\n",
    "\n",
    "\n",
    "* 보기좋은 출력을 하라(Pretty print the output):   \n",
    "디버깅 출력결과를 서식화하는 것은 오류발견을 용이하게 한다.\n"
   ]
  },
  {
   "cell_type": "markdown",
   "metadata": {
    "Collapsed": "false",
    "heading_collapsed": true
   },
   "source": [
    "## <span style=\"color:red\">** 연습문제 **</span>  "
   ]
  },
  {
   "cell_type": "markdown",
   "metadata": {
    "Collapsed": "false",
    "hidden": true
   },
   "source": [
    "<br><br><br>\n",
    "<span style=\"color:red\">연습문제 8.A </span> &nbsp;&nbsp; "
   ]
  },
  {
   "cell_type": "code",
   "execution_count": null,
   "metadata": {
    "Collapsed": "false",
    "hidden": true
   },
   "outputs": [],
   "source": [
    "inventory = {\n",
    "    'gold' : 500,\n",
    "    'pouch' : ['flint', 'twine', 'gemstone'],\n",
    "    'backpack' : ['xylophone','dagger', 'bedroll','bread loaf']\n",
    "}"
   ]
  },
  {
   "cell_type": "markdown",
   "metadata": {
    "Collapsed": "false",
    "hidden": true
   },
   "source": [
    "1) inventory에 키'pocket'을 추가하고,  \n",
    "&nbsp;&nbsp;&nbsp; 'pocket'의 값은 'seashell', 'strange berry', 'lint'로 이루어진 리스트로 하시오."
   ]
  },
  {
   "cell_type": "code",
   "execution_count": null,
   "metadata": {
    "Collapsed": "false",
    "hidden": true
   },
   "outputs": [],
   "source": []
  },
  {
   "cell_type": "markdown",
   "metadata": {
    "Collapsed": "false",
    "hidden": true
   },
   "source": [
    "2) 'backpack' 값에 해당하는 리스트를 알파벳 순으로 정렬하시오."
   ]
  },
  {
   "cell_type": "code",
   "execution_count": null,
   "metadata": {
    "Collapsed": "false",
    "hidden": true
   },
   "outputs": [],
   "source": []
  },
  {
   "cell_type": "markdown",
   "metadata": {
    "Collapsed": "false",
    "hidden": true
   },
   "source": [
    "3) 'backpack' 값에 해당하는 리스트에서 'dagger'를 제거 하시오."
   ]
  },
  {
   "cell_type": "code",
   "execution_count": null,
   "metadata": {
    "Collapsed": "false",
    "hidden": true
   },
   "outputs": [],
   "source": []
  },
  {
   "cell_type": "markdown",
   "metadata": {
    "Collapsed": "false",
    "hidden": true
   },
   "source": [
    "4) 'gold' 의 값을 50 증가 시키시오."
   ]
  },
  {
   "cell_type": "code",
   "execution_count": null,
   "metadata": {
    "Collapsed": "false",
    "hidden": true
   },
   "outputs": [],
   "source": [
    "\n"
   ]
  },
  {
   "cell_type": "markdown",
   "metadata": {
    "Collapsed": "false",
    "hidden": true
   },
   "source": [
    "<br><br><br>\n",
    "<span style=\"color:red\">연습문제 8.B </span> &nbsp;&nbsp; "
   ]
  },
  {
   "cell_type": "code",
   "execution_count": null,
   "metadata": {
    "Collapsed": "false",
    "hidden": true
   },
   "outputs": [],
   "source": [
    "price = {\n",
    "    \"banana\": 4,\n",
    "    \"apple\": 2,\n",
    "    \"orange\": 1.5,\n",
    "    \"pear\": 3\n",
    "}\n",
    "\n",
    "stock = {\n",
    "    \"banana\": 6,\n",
    "    \"apple\": 0,\n",
    "    \"orange\": 32,\n",
    "    \"pear\": 15\n",
    "}"
   ]
  },
  {
   "cell_type": "markdown",
   "metadata": {
    "Collapsed": "false",
    "hidden": true
   },
   "source": [
    "* 다음과 같은 형태의 결과를 얻도록 코딩 하시오. 단, 과일 명이 알파벳 순으로 정렬되도록 하세요.  \n",
    "\n",
    "apple  \n",
    "price: 2  \n",
    "stock: 0  \n",
    "<br>\n",
    "banana  \n",
    "price: 4  \n",
    "stock: 6  \n",
    "\n",
    "..."
   ]
  },
  {
   "cell_type": "code",
   "execution_count": null,
   "metadata": {
    "Collapsed": "false",
    "hidden": true
   },
   "outputs": [],
   "source": []
  },
  {
   "cell_type": "markdown",
   "metadata": {
    "Collapsed": "false",
    "hidden": true
   },
   "source": [
    "* 과일을 전부 다 팔면, 매출이 얼마나 되는지 알 수 있도록 프로그램 하시오."
   ]
  },
  {
   "cell_type": "code",
   "execution_count": null,
   "metadata": {
    "Collapsed": "false",
    "hidden": true
   },
   "outputs": [],
   "source": []
  },
  {
   "cell_type": "markdown",
   "metadata": {
    "Collapsed": "false",
    "hidden": true
   },
   "source": [
    "<br><br><br>\n",
    "<span style=\"color:red\">연습문제 8.C </span> &nbsp;&nbsp; "
   ]
  },
  {
   "cell_type": "code",
   "execution_count": null,
   "metadata": {
    "Collapsed": "false",
    "hidden": true
   },
   "outputs": [],
   "source": [
    "elsa = {\n",
    "  \"name\": \"Elsa\",\n",
    "  \"homework\": [90.0,97.0,75.0,92.0],\n",
    "  \"quizzes\": [88.0,40.0,94.0],\n",
    "  \"tests\": [75.0,90.0]\n",
    "}\n",
    "olaf = {\n",
    "  \"name\": \"Olaf\",\n",
    "  \"homework\": [100.0, 92.0, 98.0, 100.0],\n",
    "  \"quizzes\": [82.0, 83.0, 91.0],\n",
    "  \"tests\": [89.0, 97.0]\n",
    "}\n",
    "kristoff = {\n",
    "  \"name\": \"Kristoff\",\n",
    "  \"homework\": [0.0, 87.0, 75.0, 22.0],\n",
    "  \"quizzes\": [0.0, 75.0, 78.0],\n",
    "  \"tests\": [100.0, 100.0]\n",
    "}"
   ]
  },
  {
   "cell_type": "markdown",
   "metadata": {
    "Collapsed": "false",
    "hidden": true
   },
   "source": [
    "* elsa, olaf, kristoff 로 이루어진 리스트 frozen 을 만들라."
   ]
  },
  {
   "cell_type": "code",
   "execution_count": null,
   "metadata": {
    "Collapsed": "false",
    "hidden": true
   },
   "outputs": [],
   "source": []
  },
  {
   "cell_type": "markdown",
   "metadata": {
    "Collapsed": "false",
    "hidden": true
   },
   "source": [
    "* frozen 리스트에 있는 각 겨울왕국 캐릭터 에 대하여 다음을 인쇄하시오.   \n",
    "캐릭터의 name: Elsa   \n",
    "캐릭터의 homework: [90.0,97.0,75.0,92.0]      \n",
    "캐릭터의 quizzes: [88.0,40.0,94.0]    \n",
    "캐릭터의 tests: [75.0,90.0      \n",
    "<br><br>\n",
    "캐릭터의 name: Olaf   \n",
    "..."
   ]
  },
  {
   "cell_type": "code",
   "execution_count": null,
   "metadata": {
    "Collapsed": "false",
    "hidden": true
   },
   "outputs": [],
   "source": []
  },
  {
   "cell_type": "markdown",
   "metadata": {
    "Collapsed": "false",
    "hidden": true
   },
   "source": [
    "* 숫자들로 이루어진 리스트 L을 입력으로 받아들여 평균을 반환하는 함수 average(L)을  작성 하시오. "
   ]
  },
  {
   "cell_type": "code",
   "execution_count": null,
   "metadata": {
    "Collapsed": "false",
    "hidden": true
   },
   "outputs": [],
   "source": []
  },
  {
   "cell_type": "markdown",
   "metadata": {
    "Collapsed": "false",
    "hidden": true
   },
   "source": [
    "* frozen 캐릭터 dictionary(elsa, olaf, kristoff) 중 하나를 입력받아(D라 하자) 가중평균을 반환하는 get_average(D)를 작성하시오.<br>   \n",
    "캐릭터[\"homework\"]의 평균을 homework 이라는 변수에 저장하시오.  \n",
    "\"quizzes\" 와\"tests\"에 대해서도 유사하게 저장하시오.  \n",
    " Homework is 10%, quizzes are 30% and tests are 60% 로 계산한 결과를 반환 하시오."
   ]
  },
  {
   "cell_type": "code",
   "execution_count": null,
   "metadata": {
    "Collapsed": "false",
    "hidden": true
   },
   "outputs": [],
   "source": []
  },
  {
   "cell_type": "markdown",
   "metadata": {
    "Collapsed": "false",
    "hidden": true
   },
   "source": [
    "* 숫자 s를 입력받아 아래 규칙에 의거하여 학점을 반환하는 get_letter_grade(s)를 작성하시오.  \n",
    "If score is 90 or above: return \"A\"  \n",
    "Else if score is 80 or above: return \"B\"  \n",
    "Else if score is 70 or above: return \"C\"    \n",
    "Else if score is 60 or above: return \"D\"\n",
    "Otherwise: return \"F\"  "
   ]
  },
  {
   "cell_type": "code",
   "execution_count": null,
   "metadata": {
    "Collapsed": "false",
    "hidden": true
   },
   "outputs": [],
   "source": []
  },
  {
   "cell_type": "markdown",
   "metadata": {
    "Collapsed": "false",
    "hidden": true
   },
   "source": [
    "* test"
   ]
  },
  {
   "cell_type": "code",
   "execution_count": null,
   "metadata": {
    "Collapsed": "false",
    "hidden": true
   },
   "outputs": [],
   "source": [
    "get_letter_grade(get_average(elsa))"
   ]
  },
  {
   "cell_type": "markdown",
   "metadata": {
    "Collapsed": "false",
    "hidden": true
   },
   "source": [
    "<br><br><br>\n",
    "<span style=\"color:red\">연습문제 8.2 </span> &nbsp;&nbsp; \n",
    "\n",
    "mbox-short.txt 파일에서 이 메일이 무슨 요일에 수신되었는지에 따라 전자우편 메세지를 구분하는 프로그램을 작성하라.   \n",
    "”From”으로 시작하는 라인을 찾고, 3번째 단어를 찾아서 요일별 횟수를 카운트(count)하여 저장하라.   \n",
    "프로그램 끝에 딕셔너리 내용을 출력하라. (순서는 문제가 되지 않는다.)  \n",
    "\n",
    "<p style=\"font-family: Courier New; font-size: 1.15em; \">\n",
    "Sample Line:  \n",
    "From stephen.marquard@uct.ac.za Sat Jan 5 09:14:16 2008\n",
    "\n",
    "<span style=\"font-family: Courier New; font-size: 1.15em;\">  \n",
    "<span style=\"color:orange\">파일 이름: <span style=\"color:blue\">mbox-short.txt​  \n",
    "<span style=\"color:orange\">{'Fri': 20, 'Thu': 6, 'Sat': 1}"
   ]
  },
  {
   "cell_type": "code",
   "execution_count": null,
   "metadata": {
    "Collapsed": "false",
    "hidden": true
   },
   "outputs": [],
   "source": []
  },
  {
   "cell_type": "markdown",
   "metadata": {
    "Collapsed": "false",
    "hidden": true
   },
   "source": [
    "<br><br><br>\n",
    "<span style=\"color:red\">연습문제 8.3 </span> &nbsp;&nbsp; \n",
    "\n",
    "전자우편 로그(log)를 읽고, 히스토그램을 생성하는 프로그램을 작성하라.   \n",
    "딕셔너리를 사용해서 전자우편 주소별로 얼마나 많은 전자우편이 왔는지를 카운트(count)하고 딕셔너리를 출력하라.  \n",
    "\n",
    "<span style=\"font-family: Courier New; font-size: 1.15em;\">  \n",
    "<span style=\"color:orange\">파일 이름: <span style=\"color:blue\">mbox-short.txt         \n",
    "<span style=\"color:orange\">{'gopal.ramasammycook@gmail.com': 1, 'louis@media.berkeley.edu': 3,\n",
    "'cwen@iupui.edu': 5, 'antranig@caret.cam.ac.uk': 1,\n",
    "'rjlowe@iupui.edu': 2, 'gsilver@umich.edu': 3,\n",
    "'david.horwitz@uct.ac.za': 4, 'wagnermr@iupui.edu': 1,\n",
    "'zqian@umich.edu': 4, 'stephen.marquard@uct.ac.za': 2,\n",
    "'ray@media.berkeley.edu': 1}"
   ]
  },
  {
   "cell_type": "code",
   "execution_count": null,
   "metadata": {
    "Collapsed": "false",
    "hidden": true
   },
   "outputs": [],
   "source": []
  },
  {
   "cell_type": "markdown",
   "metadata": {
    "Collapsed": "false",
    "hidden": true
   },
   "source": [
    "<br><br><br>\n",
    "<span style=\"color:red\">연습문제 8.4 </span> &nbsp;&nbsp; \n",
    "\n",
    "위 프로그램에 누가 가장 많은 전자우편 메시지를 가졌는지 알아내는 코드를 추가하라.   \n",
    "모든 데이터를 읽고, 딕셔너리를 생성한 후에, 최대값을 찾는 루프(5장 7.2 참조)를 사용해서 딕셔너리를 훑어서 누가 가장 많은 전자우편 메시지를 갖는지, 그리고 그 사람이 얼마나 많은 메시지를 갖는지 출력한다.\n",
    "\n",
    "<span style=\"font-family: Courier New; font-size: 1.15em;\">  \n",
    "<span style=\"color:orange\">파일 이름: <span style=\"color:blue\">mbox-short.txt         \n",
    "<span style=\"color:orange\">cwen@iupui.edu 5\n",
    "\n",
    "<span style=\"font-family: Courier New; font-size: 1.15em;\">  \n",
    "<span style=\"color:orange\">파일 이름: <span style=\"color:blue\">mboxt.txt         \n",
    "<span style=\"color:orange\">zqian@umich.edu 195"
   ]
  },
  {
   "cell_type": "code",
   "execution_count": null,
   "metadata": {
    "Collapsed": "false",
    "hidden": true
   },
   "outputs": [],
   "source": []
  },
  {
   "cell_type": "markdown",
   "metadata": {
    "Collapsed": "false",
    "hidden": true
   },
   "source": [
    "<br><br><br>\n",
    "<span style=\"color:red\">연습문제 8.5 </span> &nbsp;&nbsp; \n",
    "\n",
    "다음 프로그램은 주소 대신에 도메인 이름을 기록한다.   \n",
    "누가 메일을 보냈는지 대신(즉, 전체 전자우편 주소) 메시지가 어디에서부터 왔는지 출처를 기록한다.   \n",
    "프로그램 마지막에 딕셔너리 내용을 출력한다.\n",
    "\n",
    "<span style=\"font-family: Courier New; font-size: 1.15em;\">  \n",
    "<span style=\"color:orange\">파일 이름: <span style=\"color:blue\">mbox-short.txt         \n",
    "<span style=\"color:orange\">{'media.berkeley.edu': 4, 'uct.ac.za': 6, 'umich.edu': 7,\n",
    "'gmail.com': 1, 'caret.cam.ac.uk': 1, 'iupui.edu': 8}"
   ]
  },
  {
   "cell_type": "markdown",
   "metadata": {
    "Collapsed": "false",
    "hidden": true
   },
   "source": [
    "<br><br><br>\n",
    "<span style=\"color:red\">연습문제 8.C 정답 </span> &nbsp;&nbsp; \n"
   ]
  },
  {
   "cell_type": "code",
   "execution_count": null,
   "metadata": {
    "Collapsed": "false",
    "hidden": true
   },
   "outputs": [],
   "source": [
    "elsa = {\n",
    "  \"name\": \"Elsa\",\n",
    "  \"homework\": [90.0,97.0,75.0,92.0],\n",
    "  \"quizzes\": [88.0,40.0,94.0],\n",
    "  \"tests\": [75.0,90.0]\n",
    "}\n",
    "olaf = {\n",
    "  \"name\": \"Olaf\",\n",
    "  \"homework\": [100.0, 92.0, 98.0, 100.0],\n",
    "  \"quizzes\": [82.0, 83.0, 91.0],\n",
    "  \"tests\": [89.0, 97.0]\n",
    "}\n",
    "kristoff = {\n",
    "  \"name\": \"Kristoff\",\n",
    "  \"homework\": [0.0, 87.0, 75.0, 22.0],\n",
    "  \"quizzes\": [0.0, 75.0, 78.0],\n",
    "  \"tests\": [100.0, 100.0]\n",
    "}\n",
    "\n",
    "students=[elsa,olaf,kristoff]\n",
    "\n",
    "for student in students:\n",
    "    print(student[\"name\"])\n",
    "    print(student[\"homework\"])\n",
    "    print(student[\"quizzes\"])\n",
    "    print(student[\"tests\"])\n",
    "\n",
    "def average(numbers):\n",
    "    total=sum(numbers)\n",
    "    total=float(total)\n",
    "    media= total/ (len(numbers))\n",
    "    return media\n",
    "\n",
    "def get_average(student):\n",
    "    homework=average(student[\"homework\"])\n",
    "    quizzes=average(student[\"quizzes\"])\n",
    "    tests=average(student[\"tests\"])\n",
    "    final=0.1*homework +0.3*quizzes + 0.6*tests\n",
    "    return final\n",
    "\n",
    "def get_letter_grade(score):\n",
    "    if score >= 90:\n",
    "        return \"A\"\n",
    "    elif score >=80:\n",
    "        return \"B\"\n",
    "    elif score >=70:\n",
    "        return \"C\"\n",
    "    elif score >=60:\n",
    "        return \"D\"\n",
    "    else:\n",
    "        return \"F\"\n",
    "\n",
    "print(get_letter_grade(get_average(elsa)))\n",
    "\n"
   ]
  },
  {
   "cell_type": "code",
   "execution_count": null,
   "metadata": {
    "Collapsed": "false",
    "hidden": true
   },
   "outputs": [],
   "source": []
  }
 ],
 "metadata": {
  "anaconda-cloud": {},
  "kernelspec": {
   "display_name": "Python 3",
   "language": "python",
   "name": "python3"
  },
  "language_info": {
   "codemirror_mode": {
    "name": "ipython",
    "version": 3
   },
   "file_extension": ".py",
   "mimetype": "text/x-python",
   "name": "python",
   "nbconvert_exporter": "python",
   "pygments_lexer": "ipython3",
   "version": "3.7.3"
  }
 },
 "nbformat": 4,
 "nbformat_minor": 4
}
