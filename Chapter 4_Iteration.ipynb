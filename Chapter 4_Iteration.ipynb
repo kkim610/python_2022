{
 "cells": [
  {
   "cell_type": "markdown",
   "metadata": {
    "Collapsed": "false"
   },
   "source": [
    "![](pic/pic_1.png)\n",
    "\n",
    "# **4장  &nbsp;&nbsp;반복(Iteration )문**  "
   ]
  },
  {
   "cell_type": "markdown",
   "metadata": {
    "Collapsed": "false"
   },
   "source": [
    "## 1.  &nbsp;&nbsp;while문\n"
   ]
  },
  {
   "cell_type": "markdown",
   "metadata": {
    "Collapsed": "false"
   },
   "source": [
    "\n",
    "파이썬에서 반복문의 한 형태가 while문이다.     \n",
    "다음은 1 에서부터 5 까지 센 후에 “발사!”를 출력하는 간단한 프로그램이다."
   ]
  },
  {
   "cell_type": "code",
   "execution_count": null,
   "metadata": {
    "Collapsed": "false",
    "scrolled": true
   },
   "outputs": [],
   "source": [
    "n = 1\n",
    "\n",
    "while n < 6:\n",
    "    print(n)\n",
    "    n = n+1\n",
    "\n",
    "print('발사!')"
   ]
  },
  {
   "cell_type": "markdown",
   "metadata": {
    "Collapsed": "false"
   },
   "source": [
    "###### 마치 영어를 읽듯이 while을 읽어 내려갈 수 있다.   \n",
    "n이 6 보다 작은 동안에 n의 값을 화면에 출력하고 n 값에서 1을 더한다.   \n",
    "6 에 도달했을 때, while문을 빠져나가 “발사!”를 화면에 출력한다."
   ]
  },
  {
   "cell_type": "markdown",
   "metadata": {
    "Collapsed": "false"
   },
   "source": [
    "좀더 형식을 갖춰 정리하면, 다음이 while문에 대한 실행 흐름에 대한 정리다.  \n",
    "1) 조건을 평가해서 참(True) 혹은 거짓(False)를 산출한다.  \n",
    "2) 만약 조건이 거짓이면, while문을 빠져나가 다음 문장을 계속 실행한다.  \n",
    "3) 만약 조건이 참이면, 몸통 부문의 문장을 실행하고 다시 처음 1번 단계로 돌아간다.\n",
    "\n",
    "3번째 단계에서 처음으로 다시 돌아가는 반복을 하기 때문에 이런 종류의 흐름을 루프(loop)라고 부른다.   \n",
    "매번 루프 몸통부문을 실행할 때마다, 이것을 반복(iteration)이라고 한다.   \n",
    "위 프로그램에서 루프는 “5번 반복되었다”라고 말한다.   \n",
    "즉, 루프 몸통 부문이 5번 수행되었다는 의미가 된다.\n",
    "\n",
    "루프 몸통 부문은 필히 하나 혹은 그 이상의 변수 값을 바꾸어서 결국에는 조건식이 거짓(False)이 되어 루프가 종료되게 만들어야 한다.  \n",
    "매번 루프가 실행될 때마다 상태를 변경하고 언제 루프가 끝날지 제어하는 변수를 반복변수(iteration variable)라고 한다. \n",
    "\n",
    "**<p style=\"color:red\">만일 반복 변수를 잘 갱신하지 않으면, 루프는 영원히 반복될 것이고, 결국 무한 루프(infinite loop)에 빠질 것이다.<p>**"
   ]
  },
  {
   "cell_type": "markdown",
   "metadata": {
    "Collapsed": "false"
   },
   "source": [
    "<br><br><br>\n",
    "<span style=\"color:red\">연습문제 4.1 </span>    \n",
    "while문을 이용하여 다음과 같이 “나는 널 좋아해!”를 5번 인쇄하는 프로그램을 작성하라.\n",
    "\n",
    "<span style=\"color:orange\">\n",
    "나는 널 좋아해!<br>      \n",
    "나는 널 좋아해!<br>    \n",
    "나는 널 좋아해!<br>     \n",
    "나는 널 좋아해!<br>     \n",
    "나는 널 좋아해!</span>   "
   ]
  },
  {
   "cell_type": "markdown",
   "metadata": {
    "Collapsed": "false"
   },
   "source": [
    "<br><br><br>\n",
    "<span style=\"color:red\">연습문제 4.2 </span>   \n",
    "while문을 이용하여 다음과 같이 “나는 널 좋아해!”를 5번 인쇄하는 프로그램을 작성하라.\n",
    "\n",
    "<span style=\"color:orange\">\n",
    "1 나는 널 좋아해!<br>    \n",
    "2 나는 널 좋아해!<br>   \n",
    "3 나는 널 좋아해!<br>   \n",
    "4 나는 널 좋아해!<br>   \n",
    "5 나는 널 좋아해!   "
   ]
  },
  {
   "cell_type": "markdown",
   "metadata": {
    "Collapsed": "false"
   },
   "source": [
    "<br><br><br>\n",
    "<span style=\"color:red\">연습문제 4.3 </span>   \n",
    "while문을 이용하여 다음과 같이 “나는 널 좋아해!”를 5번 인쇄하는 프로그램을 작성하라.\n",
    "\n",
    "<span style=\"color:orange\">\n",
    "5 나는 널 좋아해!<br>    \n",
    "4 나는 널 좋아해!<br>   \n",
    "3 나는 널 좋아해!<br>   \n",
    "2 나는 널 좋아해!<br>   \n",
    "1 나는 널 좋아해!   "
   ]
  },
  {
   "cell_type": "markdown",
   "metadata": {
    "Collapsed": "false"
   },
   "source": [
    "<br><br><br>\n",
    "<span style=\"color:red\">연습문제 4.4 </span>   \n",
    "while문을 이용하여 다음과 같이“나는 널 좋아해!”와  그 다음 줄에 “너는 날 좋아해?\"를 3번 인쇄하는 프로그램을 작성하라.  \n",
    "\n",
    "<span style=\"color:orange\">\n",
    "나는 널 좋아해!<br>      \n",
    "너는 날 좋아해?<br>  \n",
    "나는 널 좋아해!<br>   \n",
    "너는 날 좋아해?<br>   \n",
    "나는 널 좋아해!<br>   \n",
    "너는 날 좋아해?  "
   ]
  },
  {
   "cell_type": "markdown",
   "metadata": {
    "Collapsed": "false"
   },
   "source": [
    "<br><br><br>\n",
    "<span style=\"color:red\">연습문제 4.5 </span>   \n",
    "while문을 이용하여 다음과 같이“나는 널 좋아해!”와  그 다음 줄에 “너는 날 좋아해?\"를 3번 인쇄하는 프로그램을 작성하라.  \n",
    "** 단, print 문은 한 번만 사용해야 한다. **\n",
    "\n",
    "<span style=\"color:orange\">\n",
    "나는 널 좋아해!<br>      \n",
    "너는 날 좋아해?<br>  \n",
    "나는 널 좋아해!<br>   \n",
    "너는 날 좋아해?<br>   \n",
    "나는 널 좋아해!<br>   \n",
    "너는 날 좋아해?  "
   ]
  },
  {
   "cell_type": "markdown",
   "metadata": {
    "Collapsed": "false"
   },
   "source": [
    "<br><br><br>\n",
    "<span style=\"color:red\">연습문제 4.6 </span>   \n",
    "while문을 이용하여 다음과 같이 “나는 널 좋아해!”와  그 다음 줄에 “너는 날 좋아해?\"를 3번 인쇄하는 프로그램을 작성하라.  \n",
    "\n",
    "<span style=\"color:orange\">\n",
    "나는 널 좋아해!<br>      \n",
    "너는 날 좋아해?<br>  \n",
    "<br>\n",
    "<span style=\"color:orange\">\n",
    "나는 널 좋아해!<br>   \n",
    "너는 날 좋아해?<br>   \n",
    "<br>\n",
    "<span style=\"color:orange\">\n",
    "나는 널 좋아해! <br>  \n",
    "너는 날 좋아해?<br>  "
   ]
  },
  {
   "cell_type": "markdown",
   "metadata": {
    "Collapsed": "false"
   },
   "source": [
    "<br><br><br>\n",
    "<span style=\"color:red\">연습문제 4.7 </span>   \n",
    "while문을 이용하여 다음과 같이 5에서 10까지 차례로 인쇄하는 프로그램을 작성하라.\n",
    "<pre></pre>\n",
    "힌트  \n",
    "한 줄에 연속하여 인쇄하려면 \n",
    "**<p style=\"font-family: Courier New; font-size: 1.15em; \">\n",
    "print&nbsp;(&nbsp;변수이름&nbsp;, end = ' '&nbsp;)**\n",
    "</p><br>\n",
    "<span style=\"color:orange\">\n",
    "5 6 7 8 9 10<br>      "
   ]
  },
  {
   "cell_type": "markdown",
   "metadata": {
    "Collapsed": "false"
   },
   "source": [
    "<br><br><br>\n",
    "<span style=\"color:red\">연습문제 4.8 </span>    \n",
    "while문을 이용하여 다음과 같이 20에서 15까지 차례로 인쇄하는 프로그램을 작성하라.\n",
    "\n",
    "<span style=\"color:orange\">\n",
    "20<br>   \n",
    "19<br>   \n",
    "18<br>  \n",
    "17<br>  \n",
    "16<br>  \n",
    "15<br>      "
   ]
  },
  {
   "cell_type": "markdown",
   "metadata": {
    "Collapsed": "false"
   },
   "source": [
    "### Formatted Print (파이썬 방법)"
   ]
  },
  {
   "cell_type": "markdown",
   "metadata": {
    "Collapsed": "false"
   },
   "source": [
    "<br><br><br>\n",
    "<img src=\"pic/pic4_3.png\" width=\"700\" height=\"200\" />"
   ]
  },
  {
   "cell_type": "markdown",
   "metadata": {
    "Collapsed": "false"
   },
   "source": [
    "<br><br><br>\n",
    "<img src=\"pic/pic4_4.png\" width=\"700\" height=\"200\" />"
   ]
  },
  {
   "cell_type": "markdown",
   "metadata": {
    "Collapsed": "false"
   },
   "source": [
    "<br><br><br>\n",
    "<span style=\"color:red\">연습문제 4.9 </span>   \n",
    "while문을 이용하여 다음과 같이 1에서 10까지 정수중 짝수를 차례로 인쇄하는 프로그램을 작성하라. % 연산자를 사용하라.\n",
    "\n",
    "<span style=\"color:orange\">\n",
    "2  \n",
    "4   \n",
    "6   \n",
    "8   \n",
    "10        "
   ]
  },
  {
   "cell_type": "markdown",
   "metadata": {
    "Collapsed": "false"
   },
   "source": [
    "<br><br><br>\n",
    "<span style=\"color:red\">연습문제 4.10 </span>   \n",
    "while문을 이용하여 1에서 150까지 정수중 일의 자리가 3인 숫자만 다음과 같이 인쇄하는 프로그램을 작성하라. \n",
    "\n",
    "<span style=\"color:orange\">\n",
    "3&nbsp;&nbsp;13&nbsp;&nbsp;23&nbsp;&nbsp;33&nbsp;&nbsp;43&nbsp;&nbsp;53&nbsp;&nbsp;63&nbsp;&nbsp;73&nbsp;&nbsp;83&nbsp;&nbsp;93&nbsp;103 113 123 133 143    "
   ]
  },
  {
   "cell_type": "markdown",
   "metadata": {
    "Collapsed": "false"
   },
   "source": [
    "<br><br><br>\n",
    "<span style=\"color:red\">연습문제 4.11 </span>    \n",
    "while문을 이용하여 1에서 150까지 정수중 일의 자리가 3인 숫자만 다음과 같이 차례로 낮아지도록 인쇄하는  프로그램을 작성하라..\n",
    "\n",
    "<span style=\"color:orange\">\n",
    "143&nbsp;133&nbsp;123&nbsp;113&nbsp;103&nbsp;&nbsp;93&nbsp;&nbsp;83&nbsp;&nbsp;73&nbsp;&nbsp;63&nbsp;&nbsp;53&nbsp;&nbsp;43&nbsp;&nbsp;33&nbsp;&nbsp;23&nbsp;&nbsp;13&nbsp;&nbsp;&nbsp;3   "
   ]
  },
  {
   "cell_type": "markdown",
   "metadata": {
    "Collapsed": "false"
   },
   "source": [
    "<br><br><br>\n",
    "<span style=\"color:red\">연습문제 4.12 </span>    \n",
    "매개변수 num으로 한 자리 숫자를 받아들여 1에서 100까지 정수중 일의 자리가 num인 숫자만 반환하는 함수 jump(num)을 정의하라.  \n",
    "while문을 사용하라. "
   ]
  },
  {
   "cell_type": "markdown",
   "metadata": {
    "Collapsed": "false"
   },
   "source": [
    "함수 호출의 예\n",
    "\n",
    "<span style=\"color:blue\">\n",
    "x=jump(7)  \n",
    "    \n",
    "print(x)  \n",
    "\n",
    "<span style=\"color:orange\">\n",
    "7 17 27 37 47 57 67 77 87 97   \n",
    "  \n",
    "<br>\n",
    "<br>\n",
    "<span style=\"color:blue\">\n",
    "x=jump(5) \n",
    "    \n",
    "print(x)  \n",
    "<span style=\"color:orange\">\n",
    "5 15 25 35 45 55 65 75 85 95       "
   ]
  },
  {
   "cell_type": "markdown",
   "metadata": {
    "Collapsed": "false"
   },
   "source": [
    "<br><br><br>\n",
    "<span style=\"color:red\">연습문제 4.13 </span> &nbsp;&nbsp;     \n",
    "매개변수 start로 숫자를, 매개변수 num으로 한 자리 숫자를 받아들여,  start에서 100까지 정수중 일의 자리가 num인 숫자만 반환하는 함수 jump2(start,num)을 정의하라. while문을 이용하라.\n",
    "\n",
    "함수 호출의 예\n",
    "\n",
    "<span style=\"color:blue\">\n",
    "x=jump2(50,7)  \n",
    "    \n",
    "print(x)  \n",
    "\n",
    "<span style=\"color:orange\">\n",
    "57 67 77 87 97       \n",
    "\n",
    "\n",
    "<br>  \n",
    "\n",
    "<span style=\"color:blue\">\n",
    "x=jump2(60,9) \n",
    "    \n",
    "print(x)  \n",
    "\n",
    "<span style=\"color:orange\">\n",
    "69 79 89 99   "
   ]
  },
  {
   "cell_type": "markdown",
   "metadata": {
    "Collapsed": "false"
   },
   "source": [
    "<br><br><br>\n",
    "<span style=\"color:red\">연습문제 4.14 </span> &nbsp;&nbsp;     \n",
    "매개변수 start로 숫자를,매개변수 num으로 한 자리 숫자를 받아들여,  start에서 50까지 정수중 num의 배수인 숫자만 반환하는 함수 jump3(start,num)을 정의하라. while문을 이용하라.\n",
    "<br>"
   ]
  },
  {
   "cell_type": "markdown",
   "metadata": {
    "Collapsed": "false"
   },
   "source": [
    "힌트  \n",
    "2의 배수이면: if n % 2 ==0 :   \n",
    "3의 배수이면: if n % 3 ==0 :       \n",
    "num의 배수이면: ?\n",
    "\n",
    "<br>\n",
    "\n",
    "함수 호출의 예\n",
    "\n",
    "<span style=\"color:blue\">\n",
    "x=jump3(20,7) \n",
    "    \n",
    "print(x) \n",
    "\n",
    "<span style=\"color:orange\">\n",
    "21 28 35 42 49    \n",
    "    \n",
    "<br>  \n",
    "\n",
    "<span style=\"color:blue\">\n",
    "\n",
    "\n",
    "x=jump3(30,5)    \n",
    "print(x)  \n",
    "\n",
    "<span style=\"color:orange\">\n",
    "30 35 40 45 50         "
   ]
  },
  {
   "cell_type": "markdown",
   "metadata": {
    "Collapsed": "false"
   },
   "source": [
    "<br><br><Br><Br>\n",
    "다음 필수연습문제의 결과를 먼저 예측해보자. 그러고 난 후에 프로그램을 돌려 확인해보자."
   ]
  },
  {
   "cell_type": "markdown",
   "metadata": {
    "Collapsed": "false"
   },
   "source": [
    "<span style=\"color:red\">필수 연습문제 1-1 </span>      \n",
    "\n",
    "```python\n",
    "n=1\n",
    "while n <= 5:\n",
    "    print(n)\n",
    "    n=n+1\n",
    "```"
   ]
  },
  {
   "cell_type": "markdown",
   "metadata": {
    "Collapsed": "false"
   },
   "source": [
    "<span style=\"color:red\">필수 연습문제 1-2 </span>      \n",
    "\n",
    "```python\n",
    "n=1\n",
    "while n <= 5:\n",
    "    n=n+1\n",
    "    print(n)\n",
    "```"
   ]
  },
  {
   "cell_type": "markdown",
   "metadata": {
    "Collapsed": "false"
   },
   "source": [
    "<br><br><br><br>\n",
    "<span style=\"color:red\">필수 연습문제 2-1 </span>      \n",
    "\n",
    "```python\n",
    "n=1\n",
    "while n < 10:\n",
    "    print(n)\n",
    "    n=n+1\n",
    "```"
   ]
  },
  {
   "cell_type": "markdown",
   "metadata": {
    "Collapsed": "false"
   },
   "source": [
    "<span style=\"color:red\">필수 연습문제 2-2 </span>      \n",
    "\n",
    "```python\n",
    "n=1\n",
    "while n < 10:\n",
    "    n=n+1\n",
    "    print(n)\n",
    "```"
   ]
  },
  {
   "cell_type": "markdown",
   "metadata": {
    "Collapsed": "false"
   },
   "source": [
    "<br><br><br><br>\n",
    "<span style=\"color:red\">필수 연습문제 3-1 </span>    \n",
    "\n",
    "```python\n",
    "n=1\n",
    "while n < 5:\n",
    "    print(n)\n",
    "    n=n+2\n",
    "```"
   ]
  },
  {
   "cell_type": "markdown",
   "metadata": {
    "Collapsed": "false"
   },
   "source": [
    "<span style=\"color:red\">필수 연습문제 3-2 </span>      \n",
    "\n",
    "```python\n",
    "n=1\n",
    "while n < 5:\n",
    "    n=n+2\n",
    "    print(n)\n",
    "```"
   ]
  },
  {
   "cell_type": "markdown",
   "metadata": {
    "Collapsed": "false"
   },
   "source": [
    "<br><br><br><br>\n",
    "<span style=\"color:red\">필수 연습문제 4-1 </span>      \n",
    "\n",
    "```python\n",
    "n=1\n",
    "while n < 6:\n",
    "    if n%2==1:\n",
    "        print(n)\n",
    "    n=n+1\n",
    "```"
   ]
  },
  {
   "cell_type": "markdown",
   "metadata": {
    "Collapsed": "false"
   },
   "source": [
    "<span style=\"color:red\">필수 연습문제 4-2 </span>      \n",
    "\n",
    "```python\n",
    "n=1\n",
    "while n < 6:\n",
    "    n=n+1\n",
    "    if n%2 == 1:\n",
    "        print(n)\n",
    "```"
   ]
  },
  {
   "cell_type": "markdown",
   "metadata": {
    "Collapsed": "false"
   },
   "source": [
    "<span style=\"color:red\">필수 연습문제 4-3 </span>      \n",
    "\n",
    "```python\n",
    "n=1\n",
    "while n < 6:\n",
    "    if n%2==1:\n",
    "        print(n)\n",
    "        n=n+1\n",
    "```"
   ]
  },
  {
   "cell_type": "markdown",
   "metadata": {
    "Collapsed": "false"
   },
   "source": [
    "<span style=\"color:red\">필수 연습문제 4-4 </span>      \n",
    "\n",
    "```python\n",
    "n=1\n",
    "while n < 6:\n",
    "    if n%2==1:\n",
    "        n=n+1\n",
    "        print(n)\n",
    "```"
   ]
  },
  {
   "cell_type": "markdown",
   "metadata": {
    "Collapsed": "false"
   },
   "source": [
    "<br><br><br><br>\n",
    "<span style=\"color:red\">필수 연습문제 5-1 </span>      \n",
    "\n",
    "```python\n",
    "n=1\n",
    "while n < 6:\n",
    "    if n%2==1:\n",
    "        print(n)\n",
    "    print(n)\n",
    "    n=n+1\n",
    "```"
   ]
  },
  {
   "cell_type": "markdown",
   "metadata": {
    "Collapsed": "false"
   },
   "source": [
    "<span style=\"color:red\">필수 연습문제 5-2 </span>      \n",
    "\n",
    "```python\n",
    "n=1\n",
    "while n < 6:\n",
    "    if n%2==1:\n",
    "        print(n)\n",
    "        print(n)\n",
    "    n=n+1\n",
    "```"
   ]
  },
  {
   "cell_type": "markdown",
   "metadata": {
    "Collapsed": "false"
   },
   "source": [
    "<span style=\"color:red\">필수 연습문제 5-3 </span>      \n",
    "\n",
    "```python\n",
    "n=1\n",
    "while n < 6:\n",
    "    if n%2==1:\n",
    "        print(n)\n",
    "    n=n+1\n",
    "    print(n)\n",
    "```"
   ]
  },
  {
   "cell_type": "markdown",
   "metadata": {
    "Collapsed": "false"
   },
   "source": [
    "## 2.  중첩 루프 (Nested Loop)\n"
   ]
  },
  {
   "cell_type": "markdown",
   "metadata": {
    "Collapsed": "false"
   },
   "source": [
    "반복문 내부에 또 다른 반복문을 만들수 있다.   "
   ]
  },
  {
   "cell_type": "markdown",
   "metadata": {
    "Collapsed": "false"
   },
   "source": [
    "```python\n",
    "i = 1  \n",
    "while i <= 3:\n",
    "    j = 1    \n",
    "    while j <= 5:    \n",
    "        print('A')   \n",
    "        j = j + 1  \n",
    "    i = i + 1 \n",
    "```"
   ]
  },
  {
   "cell_type": "markdown",
   "metadata": {
    "Collapsed": "false"
   },
   "source": [
    "i=1 일 때,  \n",
    "&nbsp;&nbsp;&nbsp;&nbsp;&nbsp;&nbsp;&nbsp;&nbsp;&nbsp;&nbsp;&nbsp;&nbsp;&nbsp;&nbsp;&nbsp;&nbsp;j = 1 일 때 'A' 인쇄, j = 2 일 때 'A' 인쇄, ..., j = 5 일 때 'A' 인쇄. j= 6 되며, 안쪽 while 루프에서 탈출, i=2 가 된다. i <= 3 테스트 통과.   \n",
    "i=2 일 때,   \n",
    "&nbsp;&nbsp;&nbsp;&nbsp;&nbsp;&nbsp;&nbsp;&nbsp;&nbsp;&nbsp;&nbsp;&nbsp;&nbsp;&nbsp;&nbsp;&nbsp;j = 1 일 때 'A' 인쇄, j = 2 일 때 'A' 인쇄, ..., j = 5 일 때 'A' 인쇄. j= 6 되며, 안쪽 while 루프에서 탈출, i=3 가 된다. i <= 3 테스트 통과.    \n",
    "i=3 일 때,   \n",
    "&nbsp;&nbsp;&nbsp;&nbsp;&nbsp;&nbsp;&nbsp;&nbsp;&nbsp;&nbsp;&nbsp;&nbsp;&nbsp;&nbsp;&nbsp;&nbsp;j = 1 일 때 'A' 인쇄, j = 2 일 때 'A' 인쇄, ..., j = 5 일 때 'A' 인쇄. j= 6 되며, 안쪽 while 루프에서 탈출, i=4 가 된다. i <= 3 테스트 실패.  \n",
    "종료."
   ]
  },
  {
   "cell_type": "code",
   "execution_count": null,
   "metadata": {
    "Collapsed": "false"
   },
   "outputs": [],
   "source": [
    "i = 1\n",
    "while i <= 3:\n",
    "    j = 1\n",
    "    while j <= 5:\n",
    "        print('A')\n",
    "        j = j + 1\n",
    "    print(\"반복 \"+ str(i) + \" 회 종료\")\n",
    "    i = i + 1"
   ]
  },
  {
   "cell_type": "markdown",
   "metadata": {
    "Collapsed": "false"
   },
   "source": [
    "<br><br><br>\n",
    "다음 프로그램을 살펴보자."
   ]
  },
  {
   "cell_type": "markdown",
   "metadata": {
    "Collapsed": "false"
   },
   "source": [
    "```python\n",
    "i = 1\n",
    "while i <= 3:\n",
    "    j = 1\n",
    "    while j <= 5:\n",
    "        print(j)\n",
    "        j = j + 1\n",
    "    i = i + 1\n",
    "```"
   ]
  },
  {
   "cell_type": "markdown",
   "metadata": {
    "Collapsed": "false"
   },
   "source": [
    "i=1 일 때,  \n",
    "&nbsp;&nbsp;&nbsp;&nbsp;&nbsp;&nbsp;&nbsp;&nbsp;&nbsp;&nbsp;&nbsp;&nbsp;&nbsp;&nbsp;&nbsp;&nbsp;j = 1 일 때 1 인쇄, j = 2 일 때 2 인쇄, ..., j = 5 일 때 5 인쇄. j= 6 되며, 안쪽 while 루프에서 탈출, i=2 가 된다. i <= 3 테스트 통과.      \n",
    "i=2 일 때,  \n",
    "&nbsp;&nbsp;&nbsp;&nbsp;&nbsp;&nbsp;&nbsp;&nbsp;&nbsp;&nbsp;&nbsp;&nbsp;&nbsp;&nbsp;&nbsp;&nbsp;j = 1 일 때 1 인쇄, j = 2 일 때 2 인쇄, ..., j = 5 일 때 5 인쇄. j= 6 되며, 안쪽 while 루프에서 탈출, i=3 가 된다. i <= 3 테스트 통과.    \n",
    "i=3 일 때,  \n",
    "&nbsp;&nbsp;&nbsp;&nbsp;&nbsp;&nbsp;&nbsp;&nbsp;&nbsp;&nbsp;&nbsp;&nbsp;&nbsp;&nbsp;&nbsp;&nbsp;j = 1 일 때 1 인쇄, j = 2 일 때 2 인쇄, ..., j = 5 일 때 5 인쇄. j= 6 되며,  안쪽 while 루프에서 탈출, i=4 가 된다. i <= 3 테스트 실패.  \n",
    "종료."
   ]
  },
  {
   "cell_type": "code",
   "execution_count": null,
   "metadata": {
    "Collapsed": "false"
   },
   "outputs": [],
   "source": [
    "i = 1\n",
    "while i <= 3:\n",
    "    j = 1\n",
    "    while j <= 5:\n",
    "        print(j)\n",
    "        j = j + 1\n",
    "    i = i + 1"
   ]
  },
  {
   "cell_type": "markdown",
   "metadata": {
    "Collapsed": "false"
   },
   "source": [
    "<br><br><br>\n",
    "<span style=\"color:red\">연습문제 4.15 </span>  \n",
    "while 문을 이용하여 아래와 같이 구구단을 인쇄하는 프로그램을 작성하라."
   ]
  },
  {
   "cell_type": "markdown",
   "metadata": {
    "Collapsed": "false"
   },
   "source": [
    "<pre>\n",
    "2 * 1 = 2 \n",
    "2 * 2 = 4 \n",
    "…  \n",
    "9 * 9 = 81\n",
    "</pre>"
   ]
  },
  {
   "cell_type": "markdown",
   "metadata": {
    "Collapsed": "false"
   },
   "source": [
    "<br><br><br>\n",
    "<span style=\"color:red\">연습문제 4.16 </span>   \n",
    "while 문을 이용하여 아래와 같이 구구단을 인쇄하는 프로그램을 작성하라."
   ]
  },
  {
   "cell_type": "markdown",
   "metadata": {
    "Collapsed": "false"
   },
   "source": [
    "<pre>\n",
    "2단  \n",
    "2 * 1 = 2    \n",
    "...   \n",
    "2 * 9 = 18    \n",
    "\n",
    "3단\n",
    "3 * 1 = 3\n",
    "...   \n",
    "3 * 9 = 27\n",
    "\n",
    "...  \n",
    "\n",
    "9단  \n",
    "9 * 1 = 9    \n",
    "…  \n",
    "9 * 9 = 81   \n",
    "</pre>"
   ]
  },
  {
   "cell_type": "markdown",
   "metadata": {
    "Collapsed": "false"
   },
   "source": [
    "<br><br><br>\n",
    "<span style=\"color:red\">연습문제 4.17 </span>   \n",
    "while문을 이용하여 아래와 같이 구구단의 결과를 10의 자리 수만큼 #를  인쇄하는 프로그램을 작성하라.\n",
    "\n",
    "<pre>\n",
    "<span style=\"color:orange\">   \n",
    "2 * 1 =  \n",
    "2 * 2 =  \n",
    "2 * 3 =   \n",
    "2 * 4 =  \n",
    "2 * 5 = # \n",
    "...    \n",
    "6 * 5 = ###   \n",
    "...    \n",
    "9 * 9 = ########\n",
    "</span>\n",
    "</pre>"
   ]
  },
  {
   "cell_type": "markdown",
   "metadata": {
    "Collapsed": "false"
   },
   "source": [
    "<br><br><br>\n",
    "<span style=\"color:red\">연습문제 4.18 </span>   \n",
    "while 문을 이용하여 아래와 같이 구구단의 짝수단을 인쇄하는 프로그램을 작성하라.\n",
    "<pre>\n",
    "<span style=\"color:orange\">   \n",
    "2 * 1 = 2 \n",
    "...  \n",
    "2 * 9 = 18  \n",
    "\n",
    "4 * 1 = 4 \n",
    "... \n",
    "4 * 9 = 36 \n",
    "\n",
    "6 * 1 = 6  \n",
    "...   \n",
    "6 * 9 = 54 \n",
    "\n",
    "\n",
    "8 * 1 = 8  \n",
    "...  \n",
    "8 * 9 = 72 \n",
    "</span>\n",
    "</pre>\n"
   ]
  },
  {
   "cell_type": "markdown",
   "metadata": {
    "Collapsed": "false",
    "heading_collapsed": true
   },
   "source": [
    "## 3.  무한 반복과 break"
   ]
  },
  {
   "cell_type": "markdown",
   "metadata": {
    "Collapsed": "false",
    "hidden": true
   },
   "source": [
    "가끔 주어진 문제의 성격상 루프를 종료해야 하는 시점이 예측 불가능한 경우가 있다.   \n",
    "이런 경우 의도적으로 무한 루프를 작성하고, break 문을 사용하여 루프를 빠져 나온다.   \n",
    "\n",
    "다음 예제는 명백하게 무한 루프가 되는데,   \n",
    "그 이유는 while문 논리 표현식이 참(True)으로 되어 있기 때문이다.\n",
    "\n",
    "실행을 멈추려면, Kernel ---> Interrupt를 클릭한다."
   ]
  },
  {
   "cell_type": "code",
   "execution_count": null,
   "metadata": {
    "Collapsed": "false",
    "hidden": true
   },
   "outputs": [],
   "source": [
    "n = 1\n",
    "while True:\n",
    "    print(n),\n",
    "    n = n + 1\n",
    "print('Done!')"
   ]
  },
  {
   "cell_type": "markdown",
   "metadata": {
    "Collapsed": "false",
    "hidden": true
   },
   "source": [
    "만일 위 프로그램을 실행한다면, \n",
    "표현식 상수 값이 참(True)이라는 사실로부터\n",
    "루프 상단 논리 연산식이 항상 참 값이여서 프로그램이 영원히 혹은 배터리가 모두 소진될 때까지 실행된다. \n",
    "\n",
    "이를 방지하기 위하여 루프 몸통 부문에  루프를 빠져나가는 조건에 도달했을 때,\n",
    "**break**문을 사용하여 루프를 명시적으로 빠져나갈 수 있도록 해야 한다.\n",
    "\n",
    "예를 들어, 사용자가 done을 입력하기 전까지 사용자로부터 입력값을 받는다고 가정하여 프로그램 코드를 다음과 같이 작성하여보자."
   ]
  },
  {
   "cell_type": "code",
   "execution_count": null,
   "metadata": {
    "Collapsed": "false",
    "hidden": true
   },
   "outputs": [],
   "source": [
    "while True:\n",
    "    line = input('> ')\n",
    "    if line == 'done':\n",
    "        break\n",
    "    print(line)\n",
    "\n",
    "print('Done!')"
   ]
  },
  {
   "cell_type": "markdown",
   "metadata": {
    "Collapsed": "false",
    "hidden": true
   },
   "source": [
    "루프 조건이 항상 참(True)이여서, break문이 호출될 때까지 루프는 반복적으로 실행된다.   \n",
    "매번 프로그램이 꺾쇠괄호(>)로 사용자에게 명령문을 받을 준비를 한다.   \n",
    "사용자가 done을 타이핑하면, break문이 실행되어 루프를 빠져나온다.     \n",
    "그렇지 않은 경우, 프로그램은 사용자가 무엇을 입력하든 메아리처럼 입력한 것을 그대로 출력하고, 다시 루프 처음으로 되돌아 간다. \n",
    "\n",
    "**<p style=\"color:red\">이와 같은 방식으로 while 루프를 자주 사용한다.<p>**"
   ]
  },
  {
   "cell_type": "code",
   "execution_count": null,
   "metadata": {
    "Collapsed": "false",
    "hidden": true
   },
   "outputs": [],
   "source": [
    "i=1\n",
    "while i <= 10:\n",
    "    if i == 5:\n",
    "        break\n",
    "    print(i)\n",
    "    i=i+1"
   ]
  },
  {
   "cell_type": "code",
   "execution_count": null,
   "metadata": {
    "Collapsed": "false",
    "hidden": true
   },
   "outputs": [],
   "source": [
    "i=1\n",
    "while i <= 10:\n",
    "    print(i)\n",
    "    if i == 5:\n",
    "        break\n",
    "    i=i+1"
   ]
  },
  {
   "cell_type": "markdown",
   "metadata": {
    "Collapsed": "false",
    "heading_collapsed": true
   },
   "source": [
    "## 4. &nbsp;Continue  \n"
   ]
  },
  {
   "cell_type": "markdown",
   "metadata": {
    "Collapsed": "false",
    "hidden": true
   },
   "source": [
    "때때로 루프를 반복하는 중간에서 현재 반복몸통을 중간에서 즉시 끝내고,   \n",
    "다음 반복의 시작위치(다음 번 반복여부 결정하는 곳)로 즉시 점프하여 이동하고 싶을 때가 있다.\n",
    "\n",
    "현재 반복 루프 몸통 부분 나머지를 끝내지 않고 다음 반복의 시작위치로 건너뛰기 위해서 continue문을 사용한다."
   ]
  },
  {
   "cell_type": "code",
   "execution_count": null,
   "metadata": {
    "Collapsed": "false",
    "hidden": true
   },
   "outputs": [],
   "source": [
    "i=1\n",
    "while i <= 10:    \n",
    "    if i == 5:\n",
    "        continue\n",
    "    print(i)\n",
    "    i=i+1"
   ]
  },
  {
   "cell_type": "code",
   "execution_count": null,
   "metadata": {
    "Collapsed": "false",
    "hidden": true
   },
   "outputs": [],
   "source": [
    "i=1\n",
    "while i <= 10:    \n",
    "    if i == 5:\n",
    "        i=i+1\n",
    "        continue\n",
    "    print(i)\n",
    "    i=i+1"
   ]
  },
  {
   "cell_type": "code",
   "execution_count": null,
   "metadata": {
    "Collapsed": "false",
    "hidden": true
   },
   "outputs": [],
   "source": [
    "while True:\n",
    "    line = input('> ')\n",
    "    \n",
    "    if line[0] == '#' :\n",
    "        continue\n",
    "    \n",
    "    if line == 'done':\n",
    "        break\n",
    "        \n",
    "    print(line)\n",
    "\n",
    "print('Done!')"
   ]
  },
  {
   "cell_type": "markdown",
   "metadata": {
    "Collapsed": "false",
    "hidden": true
   },
   "source": [
    "위 코드는 사용자가 ”done”을 입력할 때까지 입력값을 그대로 복사하여 출력한다.    \n",
    "하지만 해쉬 기호(#)로 시작하는 줄을 제외하고 모든 줄을 출력한다.   \n",
    "왜냐하면, continue문이 실행될 때, 현재 반복을 종료하고 while문 처음으로 돌아가서 다음 반복을 실행하게 되어서 print문을 건너뛴다"
   ]
  },
  {
   "cell_type": "markdown",
   "metadata": {
    "Collapsed": "false",
    "hidden": true
   },
   "source": [
    "<br><br><br>\n",
    "<span style=\"color:red\">연습문제 4.19 </span>   \n",
    "while 문을 이용하여 1에서 10까지 인쇄하는 프로그램이 아래에 있다.  \n",
    "코멘트 문이 있는 줄의 코멘트 문 기호를 없애고, if 문을 추가하여 짝수만 인쇄하는 프로그램으로 바꾸라.\n",
    "다른 부분은 고치지 않는다.\n",
    "\n",
    "\n",
    "<span style=\"color:orange\">\n",
    "2<br>  \n",
    "4<br>  \n",
    "6<br>  \n",
    "8<br>  \n",
    "10<br>"
   ]
  },
  {
   "cell_type": "code",
   "execution_count": null,
   "metadata": {
    "Collapsed": "false",
    "hidden": true
   },
   "outputs": [],
   "source": [
    "i = 1\n",
    "while i <= 10:\n",
    "    #\n",
    "    print(i)\n",
    "    i=i+1"
   ]
  },
  {
   "cell_type": "markdown",
   "metadata": {
    "Collapsed": "false"
   },
   "source": [
    "## 5.  &nbsp;for문을 사용한 명확한 루프\n"
   ]
  },
  {
   "cell_type": "markdown",
   "metadata": {
    "Collapsed": "false"
   },
   "source": [
    "\n",
    "때때로, 단어 리스트나, 화일의 줄, 숫자 리스트 같은 객체의 집합에 대해 루프를 반복할 때가 있다.   \n",
    "루프를 반복할 객체 리스트가 있을 때, for문을 사용해서 확정 루프(definite loop)를 구성하는 것이 편리하다.\n",
    "\n",
    "while문을 불확정루프(indefinite loop)라고 하는데, 왜냐하면 어떤 조건이 거짓(False)가 될 때까지 루프가 단순히 계속해서 돌기 때문이다.   \n",
    "하지만, for루프는 확정된 항목의 집합에 대해서 루프가 돌게 되어서 집합에 있는 항목만큼만 실행이 된다.  \n",
    "헤더가 있고, 루프 몸통 부문으로 구성된다는 점은 for 문과 while 문은 비슷하다.  "
   ]
  },
  {
   "cell_type": "markdown",
   "metadata": {
    "Collapsed": "false"
   },
   "source": [
    "### range( ) 함수\n",
    "\n",
    "형태:\t\n",
    "range(stop)  \n",
    "range(start, stop)  \n",
    "range(start, stop, step)  \n",
    "\n",
    "start부터 시작하여 <span style=\"color:red\">stop 전 까지</span> step 만큼씩 정수를 증가하여 하나의 리스트를 만든다.  \n",
    "기본 값: start=0, step = 1\n"
   ]
  },
  {
   "cell_type": "code",
   "execution_count": null,
   "metadata": {
    "Collapsed": "false"
   },
   "outputs": [],
   "source": [
    "for i in range(5):\n",
    "    print(i)"
   ]
  },
  {
   "cell_type": "code",
   "execution_count": null,
   "metadata": {
    "Collapsed": "false"
   },
   "outputs": [],
   "source": [
    "for i in range(1,11,2):\n",
    "    print(i)"
   ]
  },
  {
   "cell_type": "code",
   "execution_count": null,
   "metadata": {
    "Collapsed": "false"
   },
   "outputs": [],
   "source": [
    "for i in range(10,0,-2):\n",
    "    print(i)"
   ]
  },
  {
   "cell_type": "code",
   "execution_count": null,
   "metadata": {
    "Collapsed": "false"
   },
   "outputs": [],
   "source": [
    "for _ in range(3):\n",
    "    print(\"AAAAA\")"
   ]
  },
  {
   "cell_type": "markdown",
   "metadata": {
    "Collapsed": "false"
   },
   "source": [
    "<br><br><br>\n",
    "<span style=\"color:red\">연습문제 4.20 </span>   \n",
    "for문을 이용하여 다음과 같이 “나는 널 좋아해!”를 5번 인쇄하는 프로그램을 작성하라.\n",
    "\n",
    "<span style=\"color:orange\">\n",
    "나는 널 좋아해!<br>    \n",
    "나는 널 좋아해!<br>   \n",
    "나는 널 좋아해!<br>   \n",
    "나는 널 좋아해!<br>   \n",
    "나는 널 좋아해!   "
   ]
  },
  {
   "cell_type": "markdown",
   "metadata": {
    "Collapsed": "false"
   },
   "source": [
    "<br><br><br>\n",
    "<span style=\"color:red\">연습문제 4.21 </span>    \n",
    "for문을 이용하여 “vacation” 의 문자 갯수 만큼 “나는 널 좋아해!\"를 인쇄하는 프로그램을 작성하라. 숫자를 사용해서는 안된다.\n"
   ]
  },
  {
   "cell_type": "markdown",
   "metadata": {
    "Collapsed": "false"
   },
   "source": [
    "<br><br><br>\n",
    "<span style=\"color:red\">연습문제 4.22 </span>   \n",
    "for문을 이용하여 다음과 같이 “나는 널 좋아해!”와  그 다음 줄에 “너는 날 좋아해?\"를 3번 인쇄하는 프로그램을 작성하라.  \n",
    "\n",
    "\n",
    "<span style=\"color:orange\">\n",
    "나는 널 좋아해!<br>      \n",
    "너는 날 좋아해?<br>  \n",
    "<br>\n",
    "나는 널 좋아해!<br>   \n",
    "너는 날 좋아해?<br>   \n",
    "<br>\n",
    "나는 널 좋아해!<br>   \n",
    "너는 날 좋아해?<br>  "
   ]
  },
  {
   "cell_type": "markdown",
   "metadata": {
    "Collapsed": "false"
   },
   "source": [
    "<br><br><br>\n",
    "<span style=\"color:red\">연습문제 4.23 </span>    \n",
    "for문을 이용하여 다음과 같이 5에서 10까지 차례로 인쇄하는 프로그램을 작성하라.\n",
    "\n",
    "<span style=\"color:orange\">\n",
    "5 6 7 8 9 10      "
   ]
  },
  {
   "cell_type": "markdown",
   "metadata": {
    "Collapsed": "false"
   },
   "source": [
    "<br><br><br>\n",
    "<span style=\"color:red\">연습문제 4.24 </span>   \n",
    "for문을 이용하여 다음과 같이 5에서 10까지 차례로 인쇄하는 프로그램을 작성하라.\n",
    "\n",
    "<span style=\"color:orange\">\n",
    "5<br>  \n",
    "6<br>   \n",
    "7<br>   \n",
    "8<br>   \n",
    "9<br>   \n",
    "10 <br>     "
   ]
  },
  {
   "cell_type": "markdown",
   "metadata": {
    "Collapsed": "false"
   },
   "source": [
    "<br><br><br>\n",
    "<span style=\"color:red\">연습문제 4.25 </span>    \n",
    "for문을 이용하여 다음과 같이 20에서 15까지 차례로 인쇄하는 프로그램을 작성하라.\n",
    "\n",
    "\n",
    "<span style=\"color:orange\">\n",
    "20<br>   \n",
    "19<br>   \n",
    "18 <br> \n",
    "17 <br> \n",
    "16 <br> \n",
    "15 <br>     "
   ]
  },
  {
   "cell_type": "markdown",
   "metadata": {
    "Collapsed": "false"
   },
   "source": [
    "<br><br><br>\n",
    "<span style=\"color:red\">연습문제 4.26 </span>    \n",
    "for문을 이용하여 다음과 같이 1에서 10까지 정수중 짝수를 차례로 인쇄하는 프로그램을 작성하라.\n",
    "\n",
    "\n",
    "<span style=\"color:orange\">\n",
    "2 <br> \n",
    "4 <br>  \n",
    "6 <br>  \n",
    "8 <br>  \n",
    "10 <br>       "
   ]
  },
  {
   "cell_type": "markdown",
   "metadata": {
    "Collapsed": "false"
   },
   "source": [
    "<br><br><br>\n",
    "<span style=\"color:red\">연습문제 4.27 </span>   \n",
    "for문을 이용하여 다음과 같이 1에서 10까지 정수중 홀수를 차례로 인쇄하는 프로그램을 작성하라.\n",
    "\n",
    "<span style=\"color:orange\">\n",
    "홀수<br>  \n",
    "1<br>  \n",
    "홀수 <br> \n",
    "3<br>  \n",
    "홀수<br>  \n",
    "5<br>  \n",
    "홀수<br>  \n",
    "7<br>     \n",
    "홀수<br>  \n",
    "9<br>  \n",
    "</span>"
   ]
  },
  {
   "cell_type": "markdown",
   "metadata": {
    "Collapsed": "false"
   },
   "source": [
    "<br><br><br>\n",
    "<span style=\"color:red\">연습문제 4.28 </span>   \n",
    "for문을 이용하여 1에서 100까지 정수중 일의 자리가 3인 숫자만 다음과 같이 인쇄하는 프로그램을 작성하라.\n",
    "\n",
    "<span style=\"color:orange\">\n",
    "3 13 23 33 43 53 63 73 83 93       "
   ]
  },
  {
   "cell_type": "markdown",
   "metadata": {
    "Collapsed": "false"
   },
   "source": [
    "<br><br><br>\n",
    "<span style=\"color:red\">연습문제 4.29 </span>    \n",
    "for문을 이용하여 1에서 100까지 정수중 일의 자리가 3인 숫자만 다음과 같이 인쇄하는 차례로 낮아지도록 프로그램을 작성하라.\n",
    "\n",
    "<span style=\"color:orange\">\n",
    "93 83 73 63 53 43 33 23 13 3   "
   ]
  },
  {
   "cell_type": "markdown",
   "metadata": {
    "Collapsed": "false"
   },
   "source": [
    "<br><br><br>\n",
    "<span style=\"color:red\">연습문제 4.30 </span>    \n",
    "Use two “for” loops, one of them nested inside the other, to print the following 10x5 rectangle.  \n",
    "<br>\n",
    "\n",
    "<span style=\"color:orange\">\n",
    "* * * * *<br>     \n",
    "* * * * *<br> \n",
    "* * * * *<br>  \n",
    "* * * * *<br>  \n",
    "* * * * *<br>  \n",
    "* * * * *<br>  \n",
    "* * * * *<br>  \n",
    "* * * * *<br>  \n",
    "* * * * *<br>  \n",
    "* * * * *<br>  "
   ]
  },
  {
   "cell_type": "markdown",
   "metadata": {
    "Collapsed": "false"
   },
   "source": [
    "<br><br><br>\n",
    "<span style=\"color:red\">연습문제 4.31 </span>    \n",
    "Using two nested loops, write code that will print the following:  \n",
    "**Do not use     print(\"0 1 2 3 4 5 6 7 8 9\")**  \n",
    " \n",
    "<span style=\"color:orange\">  \n",
    "0 1 2 3 4 5 6 7 8 9  \n",
    "0 1 2 3 4 5 6 7 8 9  \n",
    "0 1 2 3 4 5 6 7 8 9  \n",
    "0 1 2 3 4 5 6 7 8 9  \n",
    "0 1 2 3 4 5 6 7 8 9  \n",
    "0 1 2 3 4 5 6 7 8 9  \n",
    "0 1 2 3 4 5 6 7 8 9  \n",
    "0 1 2 3 4 5 6 7 8 9   \n",
    "0 1 2 3 4 5 6 7 8 9  \n",
    "0 1 2 3 4 5 6 7 8 9  "
   ]
  },
  {
   "cell_type": "markdown",
   "metadata": {
    "Collapsed": "false"
   },
   "source": [
    "<br><br><br>\n",
    "<span style=\"color:red\">연습문제 4.32 </span>    \n",
    "Adjust the prior program to print:\n",
    "<br><br>\n",
    "\n",
    "<span style=\"color:orange\">\n",
    "0 0 0 0 0 0 0 0 0 0<br>                                \n",
    "1 1 1 1 1 1 1 1 1 1<br>\n",
    "2 2 2 2 2 2 2 2 2 2<br>\n",
    "3 3 3 3 3 3 3 3 3 3<br>\n",
    "4 4 4 4 4 4 4 4 4 4<br>\n",
    "5 5 5 5 5 5 5 5 5 5<br>\n",
    "6 6 6 6 6 6 6 6 6 6<br>\n",
    "7 7 7 7 7 7 7 7 7 7<br>\n",
    "8 8 8 8 8 8 8 8 8 8<br>\n",
    "9 9 9 9 9 9 9 9 9 9"
   ]
  },
  {
   "cell_type": "markdown",
   "metadata": {
    "Collapsed": "false"
   },
   "source": [
    "<br><br><br>\n",
    "<span style=\"color:red\">연습문제 4.33 </span>    \n",
    "\n",
    "<span style=\"color:orange\">\n",
    "0<br>\n",
    "0 1<br>\n",
    "0 1 2<br>\n",
    "0 1 2 3<br>\n",
    "0 1 2 3 4<br>\n",
    "0 1 2 3 4 5<br>\n",
    "0 1 2 3 4 5 6<br>\n",
    "0 1 2 3 4 5 6 7<br>\n",
    "0 1 2 3 4 5 6 7 8<br>\n",
    "0 1 2 3 4 5 6 7 8 9"
   ]
  },
  {
   "cell_type": "markdown",
   "metadata": {
    "Collapsed": "false"
   },
   "source": [
    "<br><br><br>\n",
    "<span style=\"color:red\">연습문제 4.34 </span>    \n",
    "<pre>\n",
    "<span style=\"color:orange\">\n",
    "0 1 2 3 4 5 6 7 8 9\n",
    "  0 1 2 3 4 5 6 7 8\n",
    "    0 1 2 3 4 5 6 7\n",
    "      0 1 2 3 4 5 6\n",
    "        0 1 2 3 4 5\n",
    "          0 1 2 3 4\n",
    "            0 1 2 3\n",
    "              0 1 2\n",
    "                0 1\n",
    "                  0"
   ]
  },
  {
   "cell_type": "markdown",
   "metadata": {
    "Collapsed": "false"
   },
   "source": [
    "<br><br><br>\n",
    "<span style=\"color:red\">연습문제 4.35 </span>    \n",
    "\n",
    "<span style=\"color:orange\">\n",
    "0 1 2 3 4 5 6 7 8 9<br>\n",
    "0 1 2 3 4 5 6 7 8<br>\n",
    "0 1 2 3 4 5 6 7<br>\n",
    "0 1 2 3 4 5 6<br>\n",
    "0 1 2 3 4 5<br>\n",
    "0 1 2 3 4<br>\n",
    "0 1 2 3<br>\n",
    "0 1 2<br>\n",
    "0 1<br>\n",
    "0<br>"
   ]
  },
  {
   "cell_type": "markdown",
   "metadata": {
    "Collapsed": "false"
   },
   "source": [
    "<br><br><br>\n",
    "<span style=\"color:red\">연습문제 4.36 </span>    \n",
    "<pre>\n",
    "<span style=\"color:orange\">\n",
    "1   2   3   4   5   6   7   8   9\n",
    "2   4   6   8  10  12  14  16  18\n",
    "3   6   9  12  15  18  21  24  27\n",
    "4   8  12  16  20  24  28  32  36\n",
    "5  10  15  20  25  30  35  40  45\n",
    "6  12  18  24  30  36  42  48  54\n",
    "7  14  21  28  35  42  49  56  63\n",
    "8  16  24  32  40  48  56  64  72\n",
    "9  18  27  36  45  54  63  72  81"
   ]
  },
  {
   "cell_type": "markdown",
   "metadata": {
    "Collapsed": "false"
   },
   "source": [
    "<br><br><br>\n",
    "<span style=\"color:red\">연습문제 4.37 </span>    \n",
    "<pre>\n",
    "<span style=\"color:orange\">\n",
    "                1\n",
    "              1 2 1\n",
    "            1 2 3 2 1\n",
    "          1 2 3 4 3 2 1\n",
    "        1 2 3 4 5 4 3 2 1\n",
    "      1 2 3 4 5 6 5 4 3 2 1\n",
    "    1 2 3 4 5 6 7 6 5 4 3 2 1\n",
    "  1 2 3 4 5 6 7 8 7 6 5 4 3 2 1\n",
    "1 2 3 4 5 6 7 8 9 8 7 6 5 4 3 2 1"
   ]
  },
  {
   "cell_type": "markdown",
   "metadata": {
    "Collapsed": "false"
   },
   "source": [
    "Tip: first write code to print:\n",
    "<pre>\n",
    "1\n",
    "1 2\n",
    "1 2 3\n",
    "1 2 3 4\n",
    "1 2 3 4 5\n",
    "1 2 3 4 5 6\n",
    "1 2 3 4 5 6 7\n",
    "1 2 3 4 5 6 7 8\n",
    "1 2 3 4 5 6 7 8 9\n",
    "\n",
    "Then write code to print:\n",
    "\n",
    "1\n",
    "1 2 1\n",
    "1 2 3 2 1\n",
    "1 2 3 4 3 2 1\n",
    "1 2 3 4 5 4 3 2 1\n",
    "1 2 3 4 5 6 5 4 3 2 1\n",
    "1 2 3 4 5 6 7 6 5 4 3 2 1\n",
    "1 2 3 4 5 6 7 8 7 6 5 4 3 2 1\n",
    "1 2 3 4 5 6 7 8 9 8 7 6 5 4 3 2 1\n",
    "\n",
    "Then finish by adding spaces to print the final answer."
   ]
  },
  {
   "cell_type": "markdown",
   "metadata": {
    "Collapsed": "false"
   },
   "source": [
    "<br><br><br>\n",
    "<span style=\"color:red\">연습문제 4.38 </span>    \n",
    "<pre>\n",
    "<span style=\"color:orange\">\n",
    "                1\n",
    "              1 2 1\n",
    "            1 2 3 2 1\n",
    "          1 2 3 4 3 2 1\n",
    "        1 2 3 4 5 4 3 2 1\n",
    "      1 2 3 4 5 6 5 4 3 2 1\n",
    "    1 2 3 4 5 6 7 6 5 4 3 2 1\n",
    "  1 2 3 4 5 6 7 8 7 6 5 4 3 2 1\n",
    "1 2 3 4 5 6 7 8 9 8 7 6 5 4 3 2 1\n",
    "  1 2 3 4 5 6 7 8\n",
    "    1 2 3 4 5 6 7\n",
    "      1 2 3 4 5 6\n",
    "        1 2 3 4 5\n",
    "          1 2 3 4\n",
    "            1 2 3\n",
    "              1 2\n",
    "                1"
   ]
  },
  {
   "cell_type": "markdown",
   "metadata": {
    "Collapsed": "false"
   },
   "source": [
    "<br><br><br>\n",
    "<span style=\"color:red\">연습문제 4.39 </span>    \n",
    "<pre>\n",
    "<span style=\"color:orange\">\n",
    "                1\n",
    "              1 2 1\n",
    "            1 2 3 2 1\n",
    "          1 2 3 4 3 2 1\n",
    "        1 2 3 4 5 4 3 2 1\n",
    "      1 2 3 4 5 6 5 4 3 2 1\n",
    "    1 2 3 4 5 6 7 6 5 4 3 2 1\n",
    "  1 2 3 4 5 6 7 8 7 6 5 4 3 2 1\n",
    "1 2 3 4 5 6 7 8 9 8 7 6 5 4 3 2 1\n",
    "  1 2 3 4 5 6 7 8 7 6 5 4 3 2 1\n",
    "    1 2 3 4 5 6 7 6 5 4 3 2 1\n",
    "      1 2 3 4 5 6 5 4 3 2 1\n",
    "        1 2 3 4 5 4 3 2 1\n",
    "          1 2 3 4 3 2 1\n",
    "            1 2 3 2 1\n",
    "              1 2 1\n",
    "                1"
   ]
  },
  {
   "cell_type": "markdown",
   "metadata": {
    "Collapsed": "false"
   },
   "source": [
    "<br><br><br>\n",
    "<span style=\"color:red\">연습문제 4.40 </span>    \n",
    "매개변수 num으로 한 자리 숫자를 받아들여 1에서 100까지 정수중 일의 자리가 num인 숫자만 인쇄하는 함수 jump(num)을 정의하라. for문을 이용하라.\n",
    "\n",
    "함수 호출의 예\n",
    "\n",
    "<span style=\"color:blue\">\n",
    "jump(7)<br> \n",
    "<br>    \n",
    "<span style=\"color:orange\">\n",
    "7 17 27 37 47 57 67 77 87 97       "
   ]
  },
  {
   "cell_type": "markdown",
   "metadata": {
    "Collapsed": "false"
   },
   "source": [
    "<br><br><br>\n",
    "<span style=\"color:red\">연습문제 4.41 </span>    \n",
    "매개변수 start로 숫자를, 매개변수 num으로 한 자리 숫자를 받아들여,  start에서 100까지 정수중 일의 자리가 num인 숫자만 인쇄하는 함수 jump2(start,num)을 정의하라. for문을 이용하라.\n",
    "\n",
    "함수 호출의 예\n",
    "\n",
    "<span style=\"color:blue\">\n",
    "jump2(50,7)<br>\n",
    "<br>    \n",
    "<span style=\"color:orange\">\n",
    "57 67 77 87 97       "
   ]
  },
  {
   "cell_type": "markdown",
   "metadata": {
    "Collapsed": "false"
   },
   "source": [
    "<br><br><br>\n",
    "<span style=\"color:red\">연습문제 4.42 </span>  \n",
    "매개변수 start로 숫자를, 매개변수 num으로 한 자리 숫자를 받아들여,  start에서 50까지 정수중 num의 배수인 숫자만 인쇄하는 함수 jump3(start,num)을 정의하라. for문을 이용하라.\n",
    "\n",
    "함수 호출의 예\n",
    "\n",
    "<span style=\"color:blue\">\n",
    "jump3(20,7)<br><br>  \n",
    "<span style=\"color:orange\">\n",
    "21 28 35 42 49       "
   ]
  },
  {
   "cell_type": "markdown",
   "metadata": {
    "Collapsed": "false"
   },
   "source": [
    "<br><br><br>\n",
    "<span style=\"color:red\">연습문제 4.43 </span>    \n",
    "for 문을 이용하여 아래와 같이 구구단을 인쇄하는 프로그램을 작성하라.\n",
    "\n",
    "<span style=\"color:orange\">\n",
    "2 * 1 = 2<br>  \n",
    "2 * 2 = 4<br>  \n",
    "… <br> \n",
    "9 * 9 = 81<br>  \n"
   ]
  },
  {
   "cell_type": "markdown",
   "metadata": {
    "Collapsed": "false"
   },
   "source": [
    "<br><br><br>\n",
    "<span style=\"color:red\">연습문제 4.44 </span>   \n",
    "for 문을 이용하여 아래와 같이 구구단을 인쇄하는 프로그램을 작성하라.\n",
    "\n",
    "\n",
    "<span style=\"color:orange\">\n",
    "2단<br>  \n",
    "2 * 1 = 2<br>    \n",
    "...<br>   \n",
    "2 * 9 = 18<br>    \n",
    "\n",
    "<br>\n",
    "<span style=\"color:orange\">\n",
    "3단 <br> \n",
    "3 * 1 = 2<br>    \n",
    "...<br>   \n",
    "...<br>   \n",
    "<br>\n",
    "<span style=\"color:orange\">\n",
    "9단<br>  \n",
    "9 * 1 = 9<br>    \n",
    "…<br>  \n",
    "9 * 9 = 81<br>   \n",
    "</span>"
   ]
  },
  {
   "cell_type": "markdown",
   "metadata": {
    "Collapsed": "false"
   },
   "source": [
    "<br><br><br>\n",
    "<span style=\"color:red\">연습문제 4.45 </span>   \n",
    "for 문을 이용하여 아래와 같이 구구단의 결과를 10의 자리 수만큼 #를  인쇄하는 프로그램을 작성하라.\n",
    "\n",
    "\n",
    "<span style=\"color:orange\">\n",
    "2 * 1 = <br> \n",
    "2 * 2 = <br> \n",
    "2 * 3 =  <br> \n",
    "2 * 4 =  <br>\n",
    "2 * 5 = # <br> \n",
    "... <br>   \n",
    "6 * 5 = ### <br>  \n",
    "... <br>   \n",
    "9 * 9 = ########<br>\n",
    "</span>"
   ]
  },
  {
   "cell_type": "markdown",
   "metadata": {
    "Collapsed": "false"
   },
   "source": [
    "<br><br><br>\n",
    "<span style=\"color:red\">연습문제 4.46 </span>    \n",
    "for 문을 이용하여 아래와 같이 구구단의 짝수단을 인쇄하는 프로그램을 작성하라.\n",
    "\n",
    "\n",
    "<span style=\"color:orange\">\n",
    "2 * 1 = 2<br>  \n",
    "...<br>  \n",
    "2 * 9 = 18<br>  \n",
    "\n",
    "<span style=\"color:orange\">\n",
    "4 * 1 = 4 <br> \n",
    "...<br>  \n",
    "4 * 9 = 36 <br> \n",
    "\n",
    "<span style=\"color:orange\">\n",
    "6 * 1 = 6<br>    \n",
    "...<br>   \n",
    "6 * 9 = 54 <br> \n",
    "\n",
    "<span style=\"color:orange\">\n",
    "8 * 1 = 8 <br>   \n",
    "...<br>  \n",
    "8 * 9 = 72<br>  \n",
    "</span>"
   ]
  },
  {
   "cell_type": "markdown",
   "metadata": {
    "Collapsed": "false"
   },
   "source": [
    "<br><br><br>\n",
    "<span style=\"color:red\">연습문제 4.47 </span>    \n",
    "for 문을 이용하여 아래와 같이 구구단을 거꾸로  인쇄하는 프로그램을 작성하라.\n",
    "\n",
    "\n",
    "<span style=\"color:orange\">\n",
    "9 * 9 = 81<br>  \n",
    "9 * 8 = 72 <br> \n",
    "…<br>  \n",
    "2 * 1 = 2 <br> \n",
    "</span>"
   ]
  },
  {
   "cell_type": "markdown",
   "metadata": {
    "Collapsed": "false",
    "heading_collapsed": true
   },
   "source": [
    "## 6.  &nbsp;루프 패턴\n"
   ]
  },
  {
   "cell_type": "markdown",
   "metadata": {
    "Collapsed": "false",
    "hidden": true
   },
   "source": [
    "\n",
    "종종 for문과 while문을 사용하여, 리스트 항목이나 파일 콘텐츠를 훑어 자료에 있는 가장 큰 값이나 작은 값 같은 것을 찾는다.  \n",
    "for나 while 루프는 일반적으로 다음과 같이 구축된다.  \n",
    "\n",
    "* 루프가 시작하기 전에 하나 혹은 그 이상의 변수를 초기화\n",
    "* 루프 몸통에서 각 항목에 대해 연산을 수행하고, 루프 몸통 부분의 변수상태를 변경\n",
    "* 루프가 완료되면 결과 변수의 상태 확인"
   ]
  },
  {
   "cell_type": "markdown",
   "metadata": {
    "Collapsed": "false",
    "heading_collapsed": true,
    "hidden": true
   },
   "source": [
    "### 6.1 &nbsp;갯수세기(counting)\n",
    "\n",
    "예를 들어, 리스트의 항목이 몇개 인지를 세어보기(count) 위해서 다음과 같이 for 루프를 작성한다."
   ]
  },
  {
   "cell_type": "code",
   "execution_count": null,
   "metadata": {
    "Collapsed": "false",
    "hidden": true
   },
   "outputs": [],
   "source": [
    "count = 0\n",
    "\n",
    "for i in range(5):\n",
    "    count = count + 1\n",
    "\n",
    "print ('Count:', count)"
   ]
  },
  {
   "cell_type": "markdown",
   "metadata": {
    "Collapsed": "false",
    "hidden": true
   },
   "source": [
    "루프가 시작하기 전에 변수 count를 0 으로 설정하고,   \n",
    "숫자 목록을 훑어 갈 for 루프를 작성한다.   \n",
    "반복변수는 i 라고 한다.  \n",
    "\n",
    "루프 몸통부문이 한번 실행 될 때 마다 (즉 리스트의 각 값에 대하여) 변수 count값에 1을 더한다.   \n",
    "루프가 실행될 때, count 값은 ”지금까지” 살펴본 값의 횟수가 된다.   \n",
    "루프가 종료되면, count 값은 총 항목 갯수가 된다.   \n",
    "총 항목 갯수는 루프 맨 마지막에 얻어진다. "
   ]
  },
  {
   "cell_type": "markdown",
   "metadata": {
    "Collapsed": "false",
    "hidden": true
   },
   "source": [
    "<br><br>\n",
    "<span style=\"color:red\">연습문제 4.48 </span>   \n",
    "1에서 100까지의 정수중 짝수의 갯수를 구하여 인쇄하는 프로그램을 작성하라.\n",
    "\n",
    "<span style=\"color:orange\">\n",
    "50       "
   ]
  },
  {
   "cell_type": "markdown",
   "metadata": {
    "Collapsed": "false",
    "hidden": true
   },
   "source": [
    "<br><br>\n",
    "<span style=\"color:red\">연습문제 4.49 </span>   \n",
    "1에서 1000까지의 정수중 7로 나눌때 나머지가 1인 정수가 몇개인지를 인쇄하는 프로그램을 작성하라.\n",
    "\n",
    "<span style=\"color:orange\">\n",
    "143      "
   ]
  },
  {
   "cell_type": "markdown",
   "metadata": {
    "Collapsed": "false",
    "heading_collapsed": true,
    "hidden": true
   },
   "source": [
    "### 6.2 &nbsp;합계 구하기\n",
    "\n",
    "위와 비슷한 루프 이지만, 숫자 집합의 합을 계산하는 루프를 살펴보자."
   ]
  },
  {
   "cell_type": "code",
   "execution_count": null,
   "metadata": {
    "Collapsed": "false",
    "hidden": true
   },
   "outputs": [],
   "source": [
    "total = 0\n",
    "\n",
    "for i in range(5):\n",
    "    total = total + i\n",
    "\n",
    "print ('총합:', total)"
   ]
  },
  {
   "cell_type": "markdown",
   "metadata": {
    "Collapsed": "false",
    "hidden": true
   },
   "source": [
    "앞 절에서의 갯수세기 문제에서 루프의 몸통에서 변수 count에 1을 더 했지만,   \n",
    "합계 구하기 문제에서는 루프의 몸통에서 지금까지의 합(total)에 현재의 값을 더하였다.   \n",
    "변수 total은 ”지금까지 살펴 본 값의 총 합계다.”   \n",
    "루프가 시작하기 전에 total은 어떤 값도 살펴본 적이 없어서 0 이다.   \n",
    "루프가 도는 중에는 total은 지금까지의 총 합계가 된다.   \n",
    "루프의 마지막 단계에서 total은 리스트에 있는 모든 값의 총 합계가 된다."
   ]
  },
  {
   "cell_type": "markdown",
   "metadata": {
    "Collapsed": "false",
    "hidden": true
   },
   "source": [
    "<br><br><br>\n",
    "<span style=\"color:red\">연습문제 4.50 </span>   \n",
    "while문을 이용하여 1에서 100까지의 합을 구하여 인쇄하는 프로그램을 작성하라.\n",
    "\n",
    "<span style=\"color:orange\">\n",
    "5050        "
   ]
  },
  {
   "cell_type": "markdown",
   "metadata": {
    "Collapsed": "false",
    "hidden": true
   },
   "source": [
    "<br><br><br>\n",
    "<span style=\"color:red\">연습문제 4.51 </span>   \n",
    "while문을 이용하여 1에서 100까지 정수중 짝수의 합을 구하여 인쇄하는 프로그램을 작성하라.\n",
    "\n",
    "<span style=\"color:orange\">\n",
    "2550       "
   ]
  },
  {
   "cell_type": "markdown",
   "metadata": {
    "Collapsed": "false",
    "hidden": true
   },
   "source": [
    "<br><br><br>\n",
    "<span style=\"color:red\">연습문제 4.52 </span>    \n",
    "for문을 이용하여 1에서 100까지의 합을 구하여 인쇄하는 프로그램을 작성하라.\n",
    "\n",
    "<span style=\"color:orange\">\n",
    "5050        "
   ]
  },
  {
   "cell_type": "markdown",
   "metadata": {
    "Collapsed": "false",
    "hidden": true
   },
   "source": [
    "<br><br><br>\n",
    "<span style=\"color:red\">연습문제 4.53 </span>   \n",
    "for문을 이용하여 1에서 100까지 정수중 짝수의 합을 구하여 인쇄하는 프로그램을 작성하라.\n",
    "\n",
    "<span style=\"color:orange\">\n",
    "2550       "
   ]
  },
  {
   "cell_type": "markdown",
   "metadata": {
    "Collapsed": "false",
    "hidden": true
   },
   "source": [
    "<br><br>\n",
    "<span style=\"color:red\">연습문제 4.54 </span>   \n",
    "1에서 1000까지의 정수중 7로 나눌때 나머지가 1인 정수들의 합을 구하여 인쇄하는 프로그램을 작성하라.\n",
    "\n",
    "<span style=\"color:orange\">\n",
    "   "
   ]
  },
  {
   "cell_type": "markdown",
   "metadata": {
    "Collapsed": "false",
    "heading_collapsed": true,
    "hidden": true
   },
   "source": [
    "### 6.3 &nbsp;최대값\n",
    "\n",
    "리스트, 문자열 또는 튜플을 시퀀스(sequence)라 한다.  \n",
    "시퀀스에서 가장 큰 값을 찾기 위해서, 다음과 같이 루프를 작성한다. "
   ]
  },
  {
   "cell_type": "code",
   "execution_count": null,
   "metadata": {
    "Collapsed": "false",
    "hidden": true
   },
   "outputs": [],
   "source": [
    "largest = None\n",
    "\n",
    "print('\\n시작 전 최대값 :', largest,'\\n')\n",
    "\n",
    "for i in range(5):\n",
    "    if largest is None or i > largest :\n",
    "        largest = i\n",
    "    print('반복변수:', i,\"  지금까지 최대값:\", largest)\n",
    "\n",
    "print('\\n최대값:', largest)"
   ]
  },
  {
   "cell_type": "markdown",
   "metadata": {
    "Collapsed": "false",
    "hidden": true
   },
   "source": [
    "<br><br><br>\n",
    "<span style=\"color:red\">연습문제 4.55 </span>   \n",
    "구구단의 결과 값에서 일 자리수가 6인 결과값중 가장 큰 값을 찾아 인쇄하는 프로그램을 작성하라.\n",
    "\n",
    "<span style=\"color:orange\">\n",
    "56       "
   ]
  },
  {
   "cell_type": "markdown",
   "metadata": {
    "Collapsed": "false",
    "heading_collapsed": true,
    "hidden": true
   },
   "source": [
    "### 6.4 &nbsp;최소값\n",
    "\n",
    "이번에는 최소값을 계산하는 프로그램을 살펴보자."
   ]
  },
  {
   "cell_type": "code",
   "execution_count": null,
   "metadata": {
    "Collapsed": "false",
    "hidden": true
   },
   "outputs": [],
   "source": [
    "smallest = None\n",
    "\n",
    "print('\\n시작 전 최소값 :', smallest,'\\n')\n",
    "\n",
    "for i in range(5):\n",
    "    if smallest is None or i < smallest :\n",
    "        smallest = i\n",
    "    print('반복변수:', i,\"  지금까지 최소값:\", smalleest)\n",
    "\n",
    "print('\\n최소값:', smalleest)"
   ]
  },
  {
   "cell_type": "markdown",
   "metadata": {
    "Collapsed": "false",
    "hidden": true
   },
   "source": [
    "<br><br>\n",
    "파이썬 내장함수 max()와 min()은 이런 루프문 작성을 불필요하게 만든다.  "
   ]
  },
  {
   "cell_type": "code",
   "execution_count": null,
   "metadata": {
    "Collapsed": "false",
    "hidden": true
   },
   "outputs": [],
   "source": [
    "max([3, 41, 12, 9, 74, 15])"
   ]
  },
  {
   "cell_type": "code",
   "execution_count": null,
   "metadata": {
    "Collapsed": "false",
    "hidden": true
   },
   "outputs": [],
   "source": [
    "min([41, 12, 3, 9, 74, 15])"
   ]
  },
  {
   "cell_type": "markdown",
   "metadata": {
    "Collapsed": "false",
    "hidden": true
   },
   "source": [
    "<br><br>\n",
    "다음은 파이썬 내장 min( ) 함수의 간략 버전이다."
   ]
  },
  {
   "cell_type": "code",
   "execution_count": null,
   "metadata": {
    "Collapsed": "false",
    "hidden": true
   },
   "outputs": [],
   "source": [
    "def min_simple(values):\n",
    "    smallest = None\n",
    "    for value in values:\n",
    "        if smallest is None or value < smallest:\n",
    "            smallest = value\n",
    "    return smallest"
   ]
  },
  {
   "cell_type": "code",
   "execution_count": null,
   "metadata": {
    "Collapsed": "false",
    "hidden": true
   },
   "outputs": [],
   "source": [
    "min_simple([41, 12, 3, 9, 74, 15])"
   ]
  },
  {
   "cell_type": "markdown",
   "metadata": {
    "Collapsed": "false",
    "heading_collapsed": true
   },
   "source": [
    "## 7.  &nbsp;디버깅\n"
   ]
  },
  {
   "cell_type": "markdown",
   "metadata": {
    "Collapsed": "false",
    "hidden": true
   },
   "source": [
    "\n",
    "좀 더 큰 프로그램을 작성할 때, 좀 더 많은 시간을 디버깅에 보내는 자신을 발견할 것이다.   \n",
    "좀 더 많은 코드는 버그가 숨을 수 있는 좀 더 많은 장소와 오류가 발생할 기회가 있다는 것을 의미한다.  \n",
    "\n",
    "디버깅 시간을 줄이는 한 방법은 ”이분법에 따라 디버깅(debugging by bisection)”을 하는 것이다.  \n",
    "예를 들어, 프로그램에 100 줄이 있고 한번에 하나씩 확인한다면, 100 번 단계가 필요하다.  \n",
    "\n",
    "대신에 문제를 반으로 나누어 프로그램 정확히 중간이나, 중간부분에서 점검한다.   \n",
    "print문이나, 검증효과를 갖는 상응하는 대용물을 넣고 프로그램을 실행한다.  \n",
    "중간지점 점검 결과 잘못 되었다면 문제는 양분한 프로그램 앞부분에 틀림없이 있다.   \n",
    "만약 정확하다면, 문제는 프로그램 뒷부분에 있다.  \n",
    "이와 같은 방식으로 점검하게 되면, 검토해야 하는 코드의 줄 수를 절반으로 계속 줄일 수 있다.   \n",
    "\n",
    "단계가 100 번 걸리는 것에 비해 6번 단계 후에 이론적으로 1줄 혹은 2 줄로 문제 코드의 범위를 좁힐 수 있다.  \n",
    "\n",
    "실제로는 프로그램 오류가 생길 수 있는 곳과 오류를 확인하기 쉬운 장소를 살펴본 다음, 이들의 중간지점으로 점검 장소를 정한다.\n"
   ]
  },
  {
   "cell_type": "markdown",
   "metadata": {
    "Collapsed": "false"
   },
   "source": [
    "## <span style=\"color:red\">** 연습문제 **</span>  "
   ]
  },
  {
   "cell_type": "markdown",
   "metadata": {
    "Collapsed": "false"
   },
   "source": [
    "<br>\n",
    "<span style=\"color:red\">연습문제 4.56   </span><br>     \n",
    "사용자가 “done”을 입력할 때까지 반복적으로 숫자를 읽는 프로그램을 작성하라.  \"done\"이 입력되면, 총계, 갯수, 평균을 출력하라.   \n",
    "만약 숫자가 아닌 다른 것을 입력하게 되면, try와except를 사용하여 사용자 실수를 탐지해서 오류 메시지를 출력하고 다음 숫자의 입력을 기다리는 상태로 건너 뛰게 하라.\n",
    "\n",
    "다음은 프로그램 결과의 예를 보여준다.\n",
    "\n",
    "<span style=\"color:orange\">숫자를 입력하세요: <span style=\"color:blue\">4<br>  \n",
    "<span style=\"color:orange\">숫자를 입력하세요: <span style=\"color:blue\">5<br> \n",
    "<span style=\"color:orange\">숫자를 입력하세요: <span style=\"color:blue\">bad<br>  \n",
    "<span style=\"color:orange\">숫자가 아닙니다.<br>  \n",
    "<span style=\"color:orange\">숫자를 입력하세요: <span style=\"color:blue\">6 <br> \n",
    "<span style=\"color:orange\">숫자를 입력하세요: <span style=\"color:blue\">done<br>  \n",
    "<br>\n",
    "<span style=\"color:orange\">\n",
    "합계: 15<br>\n",
    "입력 횟수: 3<br>\n",
    "평균: 5<br>  "
   ]
  },
  {
   "cell_type": "code",
   "execution_count": null,
   "metadata": {
    "Collapsed": "false"
   },
   "outputs": [],
   "source": []
  }
 ],
 "metadata": {
  "anaconda-cloud": {},
  "kernelspec": {
   "display_name": "Python 3",
   "language": "python",
   "name": "python3"
  },
  "language_info": {
   "codemirror_mode": {
    "name": "ipython",
    "version": 3
   },
   "file_extension": ".py",
   "mimetype": "text/x-python",
   "name": "python",
   "nbconvert_exporter": "python",
   "pygments_lexer": "ipython3",
   "version": "3.7.6"
  }
 },
 "nbformat": 4,
 "nbformat_minor": 4
}
