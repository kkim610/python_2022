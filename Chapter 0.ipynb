{
 "cells": [
  {
   "cell_type": "markdown",
   "metadata": {
    "Collapsed": "false",
    "heading_collapsed": true
   },
   "source": [
    "# **프로그래밍 언어**"
   ]
  },
  {
   "cell_type": "markdown",
   "metadata": {
    "Collapsed": "false"
   },
   "source": []
  },
  {
   "cell_type": "markdown",
   "metadata": {
    "Collapsed": "false",
    "hidden": true
   },
   "source": [
    "* 기계(컴퓨터)에게 명령 또는 연산을 시킬 목적으로 설계되어 기계와 의사소통을 할 수 있게 해주는 언어를 뜻한다.   \n",
    "* 그 결과, 사람이 원하는 작업을 컴퓨터가 수행할 수 있도록 프로그래밍 언어로 일련의 과정을 작성하여 일을 시킨다. "
   ]
  },
  {
   "cell_type": "markdown",
   "metadata": {
    "Collapsed": "false"
   },
   "source": [
    "[프로그래밍 언어와 용도](https://www.kdnuggets.com/2021/05/top-programming-languages.html)"
   ]
  },
  {
   "cell_type": "markdown",
   "metadata": {
    "Collapsed": "false",
    "hidden": true
   },
   "source": [
    "[일반 컴퓨터 프로그래밍 언어 랭킹](https://www.tiobe.com/tiobe-index/)"
   ]
  },
  {
   "cell_type": "markdown",
   "metadata": {
    "Collapsed": "false",
    "hidden": true
   },
   "source": [
    "[데이터 사이언스 및 머신러닝용 프로그래밍 언어 랭킹](http://businessoverbroadway.com/wp-content/uploads/2019/01/programming_languages_used.png)"
   ]
  },
  {
   "cell_type": "markdown",
   "metadata": {
    "Collapsed": "false",
    "hidden": true
   },
   "source": [
    "[AI를 위한 프로그래밍 언어 랭킹](https://www.springboard.com/blog/best-programming-language-for-ai/)"
   ]
  },
  {
   "cell_type": "markdown",
   "metadata": {
    "Collapsed": "false",
    "hidden": true
   },
   "source": [
    "[가장 인기있는 파이썬 편집기](https://www.kdnuggets.com/2018/12/most-popular-python-ide-editor.html)"
   ]
  },
  {
   "cell_type": "markdown",
   "metadata": {
    "Collapsed": "false",
    "hidden": true
   },
   "source": [
    " <br><br><br>\n",
    " # 화면에“Hello, world!” 라고 보여주기\n",
    " "
   ]
  },
  {
   "cell_type": "markdown",
   "metadata": {
    "Collapsed": "false",
    "hidden": true
   },
   "source": [
    "<br><br>\n",
    "#### C 언어\n",
    "```python\n",
    "#include <iostream> \n",
    "int main() { \n",
    "    std::cout << \"Hello, world!\"; \n",
    "} \n",
    "\n",
    "```"
   ]
  },
  {
   "cell_type": "markdown",
   "metadata": {
    "Collapsed": "false",
    "hidden": true
   },
   "source": [
    "#### C# 언어\n",
    "```python\n",
    "using System; \n",
    "namespace HelloWorld { \n",
    "    class Hello { \n",
    "        static void Main() { \n",
    "            Console.WriteLine( \"Hello, world!\" ); \n",
    "            Console.ReadKey(); \n",
    "        } \n",
    "    } \n",
    "} \n",
    "```"
   ]
  },
  {
   "cell_type": "markdown",
   "metadata": {
    "Collapsed": "false",
    "hidden": true
   },
   "source": [
    "#### Objective-C 언어\n",
    "```python\n",
    "#import <Foundation/Foundation.h> \n",
    "int main ( int argc, const char * argv[] ) { \n",
    "    NSAutoreleasePool *pool = [[NSAutoreleasePool alloc] init]; \n",
    "    NSLog (@\"Hello, world!\"); \n",
    "    [pool drain]; \n",
    "    return 0; \n",
    "} \n",
    "```"
   ]
  },
  {
   "cell_type": "markdown",
   "metadata": {
    "Collapsed": "false",
    "hidden": true
   },
   "source": [
    "#### Java \n",
    "```python\n",
    "class Hello { \n",
    "    public static void main( String[] args ) { \n",
    "        System.out.println( \"Hello, world!\" ); \n",
    "    } \n",
    "} \n",
    "```"
   ]
  },
  {
   "cell_type": "markdown",
   "metadata": {
    "Collapsed": "false",
    "hidden": true
   },
   "source": [
    "#### Python\n",
    "```python\n",
    "print( \"Hello, world!\" ) \n",
    "\n",
    "```"
   ]
  },
  {
   "cell_type": "markdown",
   "metadata": {
    "Collapsed": "false",
    "heading_collapsed": true
   },
   "source": [
    "# 연습, 연습, 그리고 또 연습 !!!"
   ]
  },
  {
   "cell_type": "markdown",
   "metadata": {
    "Collapsed": "false",
    "hidden": true
   },
   "source": [
    "<div class=\"alert alert-success\">\n",
    " <ul>\n",
    "  <li>연습문제가 풀릴때 까지 계속 try 하세요. 문제가 안 풀린다면, 그 이유는 그 단원을 이해하지 못 했기 때문이므로, 그 단원을 다시 한번 복습 하고 다시 문제를 푸세요.</li>\n",
    "</ul>\n",
    "</div>"
   ]
  },
  {
   "cell_type": "markdown",
   "metadata": {
    "Collapsed": "false",
    "hidden": true
   },
   "source": [
    "<div class=\"alert alert-success\">\n",
    " <ul>\n",
    "  <li>같은 실수를 되풀이 하더라도 실망하지 마세요. 어느 정도의 실수 반복은 정상입니다.</li>\n",
    "</ul>\n",
    "</div>"
   ]
  },
  {
   "cell_type": "markdown",
   "metadata": {
    "Collapsed": "false",
    "hidden": true
   },
   "source": [
    "<div class=\"alert alert-success\">\n",
    " <ul>\n",
    "  <li>이전 수업시간의 내용이 익숙해 지지 않으면, 다음 수업시간에 새로운 내용을 연습하는데 큰 방해가 됩니다.</li>\n",
    "</ul>\n",
    "</div>"
   ]
  },
  {
   "cell_type": "markdown",
   "metadata": {
    "Collapsed": "false",
    "hidden": true
   },
   "source": [
    "<div class=\"alert alert-success\">\n",
    " <ul>\n",
    "  <li>수업을 결석하게 되면, 그 이후의 수업에 큰 어려움을 겪게 됩니다.</li>\n",
    "</ul>\n",
    "</div>"
   ]
  },
  {
   "cell_type": "markdown",
   "metadata": {
    "Collapsed": "false",
    "hidden": true
   },
   "source": [
    "<div class=\"alert alert-success\">\n",
    " <ul>\n",
    "  <li>야구이론, 축구이론을 이해하는 것 만으로 유능한 야구선수, 축구선수가 될 수 없는 것처럼, 프로그래밍 이론을 이해하는 것 만으로 프로그래머가 될 수 없습니다. 오직 연습만이 최고의 선생입니다.</li>\n",
    "</ul>\n",
    "</div>"
   ]
  },
  {
   "cell_type": "markdown",
   "metadata": {
    "Collapsed": "false",
    "hidden": true
   },
   "source": [
    "<br><br><br>"
   ]
  },
  {
   "cell_type": "markdown",
   "metadata": {
    "Collapsed": "false",
    "heading_collapsed": true
   },
   "source": [
    "# **Python (파이썬)**"
   ]
  },
  {
   "cell_type": "markdown",
   "metadata": {
    "Collapsed": "false",
    "hidden": true
   },
   "source": [
    "<br><br><br>\n",
    "사전적 의미: 뱀의 한 종류\n",
    "\n",
    "파이썬( Python)은 1991년 프로그래머인 귀도 반 로섬(Guido van Rossum)이 발표한 고급 프로그래밍 언어로,   \n",
    "플랫폼 독립적이며, 인터프리터식, 객체지향적, 동적 타이핑(dynamically typed) 언어다.  \n",
    "파이썬이라는 이름은 귀도가 좋아하는 코미디 〈Monty Python's Flying Circus〉에서 따온 것이다.\n",
    "![](pic/pic0_3.jpg)\n",
    "<br><br>\n",
    "<span style=\"color:red\">**파이썬은 크게 Python 2 와 Python 3 가 있으며, 본 수업에서는 Python 3를 사용한다.**<span>  \n",
    "\n",
    "파이썬 3는 파이썬 2와 backard compatible 하지 않다.  \n",
    "계속 개발되는 패키지들은 파이썬 3에서는 확실히 돌아간다. (그러나 파이썬 2에서는 ...)  \n",
    "따라서, 파이썬 3 가 파이썬의 현재이며 미래이다.\n",
    "\n",
    "\n",
    "\n",
    "![](pic/pic_1.png)\n",
    "<br><br><br><br>\n",
    "\n",
    "파이썬은 2가지 모드로 실행할 수 있다.\n",
    "* interactive mode: 한 번에 한 줄(또는 여러 줄)씩 실행\n",
    "* standard mode: 한번에 모두 실행\n",
    "\n",
    "주어진 문제가 쉽다면 standard mode로 실행하고, 주어진 문제가 어렵거나, 파이썬 초보자라면 interactive mode로 실행.\n",
    "\n",
    "\n"
   ]
  },
  {
   "cell_type": "markdown",
   "metadata": {
    "Collapsed": "false",
    "heading_collapsed": true
   },
   "source": [
    "# **Anaconda**"
   ]
  },
  {
   "cell_type": "markdown",
   "metadata": {
    "Collapsed": "false",
    "hidden": true
   },
   "source": [
    "<br><br>\n",
    "사전적 의미: 뱀의 한 종류\n",
    "\n",
    "* a package manager  \n",
    "* an environment manager\n",
    "* a collection of over 720 open source packages\n",
    "* It is free and easy to install, and it offers free community support.\n",
    "\n",
    "<img style=\"float: left;\" src=\"pic/anaconda_logo.png\"  width=\"250\">\n"
   ]
  },
  {
   "cell_type": "markdown",
   "metadata": {
    "Collapsed": "false",
    "hidden": true
   },
   "source": [
    "<br><br> <br><br>\n",
    "Anaconda를 설치하면, 파이썬이 설치되며, 아울러 다음의 통합개발환경(IDE: Integrated Development Environment)이 설치된다.\n",
    "* Jupyter Notebook: interactive mode IDE\n",
    "* Spyder: standard mode IDE\n",
    "\n",
    "본 수업에서는 Jupyter Notebook 을 사용한다."
   ]
  },
  {
   "cell_type": "markdown",
   "metadata": {
    "Collapsed": "false",
    "heading_collapsed": true
   },
   "source": [
    "# **Jupyter Notebook**\n",
    "<br><br>"
   ]
  },
  {
   "cell_type": "markdown",
   "metadata": {
    "Collapsed": "false",
    "hidden": true
   },
   "source": [
    "**Jupyter**: &nbsp;&nbsp;**Ju**lia &nbsp;&nbsp;+ &nbsp;&nbsp;**Py**thon &nbsp;&nbsp;+ &nbsp;&nbsp;**R**  &nbsp;&nbsp;&nbsp;&nbsp;(참고: Jupiter(목성)\n",
    "\n",
    "Jupyter Notebook은 오픈 소스 웹 어플리케이션으로 프로그래밍 코드와 그 실행결과, 그리고풍부한 텍스트(일반 텍스트, 등식,그림, 표, 링크 등)를 포함한 문서를 만들수 있다.\n",
    "\n",
    "Jupyter Notebook은 Python, R, Julia, Scala 등 데이터과학 분야에서 인기있는 40종의 다양한 프로그래밍 언어를 지원한다.\n",
    "\n",
    "** Anaconda를 설치하면, Jupyter notebook은 저절로 설치된다. **\n",
    "\n",
    "<img style=\"float: left;\" src=\"pic/jupyter_logo.png\"  width=\"250\">\n"
   ]
  },
  {
   "cell_type": "markdown",
   "metadata": {
    "Collapsed": "false"
   },
   "source": [
    "# **Jupyter Lab**\n",
    "<br><br>"
   ]
  },
  {
   "cell_type": "markdown",
   "metadata": {
    "Collapsed": "false"
   },
   "source": [
    "Jupyter lab 은 web-based user interface로, jupyter notebook의 진화된 버전이다.  \n",
    "드래그앤드롭으로 창을 분할해서 사용하거나 이미지, CSV 파일, pdf 파일, py 파일을 노트북 상에서 열 수 있다.  \n",
    "아울러 새로운 앱을 열지않고도 디렉토리를 확인하고 생성 수정 삭제를 할 수 있다."
   ]
  },
  {
   "cell_type": "markdown",
   "metadata": {
    "Collapsed": "false",
    "hidden": true
   },
   "source": [
    "<br><br><br><br><br><br><br><br>\n",
    "# Anaconda 설치 \n",
    "<br>"
   ]
  },
  {
   "cell_type": "markdown",
   "metadata": {
    "Collapsed": "false",
    "hidden": true
   },
   "source": [
    "* 이 실습실 컴퓨터에는 Anaconda (with 파이썬 3)가 이미 설치되어 있다.\n",
    "* 다른 컴퓨터(예: 개인 노트북)에서 과제를 하거나, 연습을 하기위해, Anaconda를 설치가 필요하므로 소개 "
   ]
  },
  {
   "cell_type": "markdown",
   "metadata": {
    "Collapsed": "false",
    "hidden": true
   },
   "source": [
    "<img style=\"float: left;\" src=\"pic/anaconda_1.jpg\"  width=\"650\">"
   ]
  },
  {
   "cell_type": "markdown",
   "metadata": {
    "Collapsed": "false",
    "hidden": true
   },
   "source": [
    "<br><br>\n",
    "<p style=\"color:red\"> - - - - - - - - - - - - - - - - - - - - - - - - - - - - - - - - - - - - - - - - - - - - - - - - - - - - - - - - - - - - - - - - - - - - - - - - - - - - - - - - - - - - - - - - - - - - - - - - - - - - - - - - - - - - - - - - - - <p>\n",
    "<br><br>"
   ]
  },
  {
   "cell_type": "markdown",
   "metadata": {
    "Collapsed": "false",
    "hidden": true
   },
   "source": [
    "<img style=\"float: left;\" src=\"pic/anaconda_2.jpg\"  width=\"650\">"
   ]
  },
  {
   "cell_type": "markdown",
   "metadata": {
    "Collapsed": "false",
    "hidden": true
   },
   "source": [
    "<br><br>\n",
    "<p style=\"color:red\"> - - - - - - - - - - - - - - - - - - - - - - - - - - - - - - - - - - - - - - - - - - - - - - - - - - - - - - - - - - - - - - - - - - - - - - - - - - - - - - - - - - - - - - - - - - - - - - - - - - - - - - - - - - - - - - - - - - <p>\n",
    "<br><br>"
   ]
  },
  {
   "cell_type": "markdown",
   "metadata": {
    "Collapsed": "false",
    "hidden": true
   },
   "source": [
    "<img style=\"float: left;\" src=\"pic/anaconda_3.jpg\"  width=\"650\">"
   ]
  },
  {
   "cell_type": "markdown",
   "metadata": {
    "Collapsed": "false",
    "hidden": true
   },
   "source": [
    "<br><br>\n",
    "<p style=\"color:red\"> - - - - - - - - - - - - - - - - - - - - - - - - - - - - - - - - - - - - - - - - - - - - - - - - - - - - - - - - - - - - - - - - - - - - - - - - - - - - - - - - - - - - - - - - - - - - - - - - - - - - - - - - - - - - - - - - - - <p>\n",
    "<br><br>"
   ]
  },
  {
   "cell_type": "markdown",
   "metadata": {
    "Collapsed": "false",
    "hidden": true
   },
   "source": [
    "<img style=\"float: left;\" src=\"pic/anaconda_4.jpg\"  width=\"650\">"
   ]
  },
  {
   "cell_type": "code",
   "execution_count": null,
   "metadata": {
    "Collapsed": "false",
    "hidden": true
   },
   "outputs": [],
   "source": []
  }
 ],
 "metadata": {
  "kernelspec": {
   "display_name": "Python 3",
   "language": "python",
   "name": "python3"
  },
  "language_info": {
   "codemirror_mode": {
    "name": "ipython",
    "version": 3
   },
   "file_extension": ".py",
   "mimetype": "text/x-python",
   "name": "python",
   "nbconvert_exporter": "python",
   "pygments_lexer": "ipython3",
   "version": "3.7.6"
  }
 },
 "nbformat": 4,
 "nbformat_minor": 4
}
