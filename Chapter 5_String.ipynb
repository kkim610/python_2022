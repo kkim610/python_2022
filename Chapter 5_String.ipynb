{
 "cells": [
  {
   "cell_type": "markdown",
   "metadata": {
    "Collapsed": "false"
   },
   "source": [
    "![](pic/pic_1.png)\n",
    "\n",
    "# **5장  &nbsp;&nbsp;문자열(String)**  \n",
    "<br>\n"
   ]
  },
  {
   "cell_type": "markdown",
   "metadata": {
    "Collapsed": "false"
   },
   "source": [
    "## 1.  &nbsp;&nbsp;문자열은 순서(시퀀스, sequence)\n"
   ]
  },
  {
   "cell_type": "markdown",
   "metadata": {
    "Collapsed": "false"
   },
   "source": [
    "문자열은 여러 문자들의 순서다.   \n",
    "꺾쇠 연산자  [ &nbsp; ] 로 한번에 하나씩 문자에 접근한다.\n",
    "![](pic/pic5_1.jpg)"
   ]
  },
  {
   "cell_type": "code",
   "execution_count": null,
   "metadata": {
    "Collapsed": "false"
   },
   "outputs": [],
   "source": [
    "fruit = 'banana'\n",
    "print(fruit[0])\n",
    "print(fruit[1])\n",
    "print(fruit[2])"
   ]
  },
  {
   "cell_type": "markdown",
   "metadata": {
    "Collapsed": "false"
   },
   "source": [
    "꺽쇠 안의 숫자(또는 표현식)을 인덱스(index)라고 부른다.      \n",
    "인덱스는 문자들의 순서(sequence)에서 사용자가 몇 번째 문자를 원하는지 표시한다.   \n",
    "하지만, 꼭 기억해야 할 것이 있다.  \n",
    "\n",
    "# <p style=\"color:red\">문자열 첫 글자의 인덱스는 0 이다.  \n",
    "# <p style=\"color:red\">리스트 첫 항목의 인덱스는 0 이다.\n",
    "# <p style=\"color:red\">튜플 첫 항목의 인덱스는 0 이다."
   ]
  },
  {
   "cell_type": "markdown",
   "metadata": {
    "Collapsed": "false"
   },
   "source": [
    "인덱스는 어떤 표현식도 사용 가능하지만, 인덱스 값은 정수여야만 한다.   \n",
    "정수가 아닌 경우 다음과 같이 에러가 발생한다."
   ]
  },
  {
   "cell_type": "code",
   "execution_count": null,
   "metadata": {
    "Collapsed": "false"
   },
   "outputs": [],
   "source": [
    "fruit = 'banana'\n",
    "print(fruit[1.5])"
   ]
  },
  {
   "cell_type": "markdown",
   "metadata": {
    "Collapsed": "false"
   },
   "source": [
    "## 2.  &nbsp;&nbsp;len( )함수 \n"
   ]
  },
  {
   "cell_type": "markdown",
   "metadata": {
    "Collapsed": "false"
   },
   "source": [
    "\n",
    "len( ) 함수는 문자열의 문자 갯수를 반환하는 내장함수다."
   ]
  },
  {
   "cell_type": "code",
   "execution_count": null,
   "metadata": {
    "Collapsed": "false"
   },
   "outputs": [],
   "source": [
    "fruit = 'banana'\n",
    "len(fruit)"
   ]
  },
  {
   "cell_type": "markdown",
   "metadata": {
    "Collapsed": "false"
   },
   "source": [
    "<br><br>\n",
    "문자열의 가장 마지막 문자를 얻기 위해서, 아래와 같이 시도해보자. "
   ]
  },
  {
   "cell_type": "code",
   "execution_count": null,
   "metadata": {
    "Collapsed": "false"
   },
   "outputs": [],
   "source": [
    "fruit = 'banana'\n",
    "length = len(fruit)\n",
    "last = fruit[length]"
   ]
  },
  {
   "cell_type": "markdown",
   "metadata": {
    "Collapsed": "false"
   },
   "source": [
    "<br><br>\n",
    "인덱스 오류 (IndexError)가 발생한 이유는 ’banana’ 에 6번 인텍스 문자가 없기 때문이다.   \n",
    "0에서부터 시작했기 때문에 6개의 문자는 0에서부터 5까지 번호가 매겨진다.   \n",
    "따라서, length = 6 이므로, 마지막 문자를 얻기 위해서 length에서 1을 빼야 한다."
   ]
  },
  {
   "cell_type": "code",
   "execution_count": null,
   "metadata": {
    "Collapsed": "false"
   },
   "outputs": [],
   "source": [
    "fruit = 'banana'\n",
    "length = len(fruit)\n",
    "last = fruit[length-1]\n",
    "print(last)"
   ]
  },
  {
   "cell_type": "markdown",
   "metadata": {
    "Collapsed": "false"
   },
   "source": [
    "<br><br>\n",
    "다른 방법으로 음수의 인텍스를 사용해서 문자열 끝에서 역으로 수를 셀 수 있다.    \n",
    "fruit[-1]은 마지막 문자를 fruit[-2]는 끝에서 두 번째 문자를 얻게 한다."
   ]
  },
  {
   "cell_type": "code",
   "execution_count": null,
   "metadata": {
    "Collapsed": "false"
   },
   "outputs": [],
   "source": [
    "fruit = 'banana'\n",
    "last = fruit[-1]\n",
    "second_to_last = fruit[-2]\n",
    "print(last)\n",
    "print(second_to_last)"
   ]
  },
  {
   "cell_type": "markdown",
   "metadata": {
    "Collapsed": "false"
   },
   "source": [
    "## 3.  &nbsp;&nbsp;루프를 사용한 문자열 사용법 \n"
   ]
  },
  {
   "cell_type": "markdown",
   "metadata": {
    "Collapsed": "false"
   },
   "source": [
    "\n",
    "많은 경우의 계산식에서 문자열을 한번에 한 문자씩 처리한다.     \n",
    "종종 첫 문자를 선택해서 임의의 계산을 수행하고,      \n",
    "다음 문자를 선택해서 임의의 계산을 수행하고,     \n",
    "이런 절차를 반복하여, 마지막 문자를 선택해서 임의의 계산을 수행한다.  \n",
    "\n",
    "이러한 계산은 반복문을 사용하면 쉽게 처리할 수 있다.   \n",
    "먼저 while 문을 이용하자."
   ]
  },
  {
   "cell_type": "code",
   "execution_count": null,
   "metadata": {
    "Collapsed": "false"
   },
   "outputs": [],
   "source": [
    "fruit=\"mango\"\n",
    "index = 0\n",
    "\n",
    "while index < len(fruit):\n",
    "    letter = fruit[index]\n",
    "    print(letter)\n",
    "    index = index + 1"
   ]
  },
  {
   "cell_type": "markdown",
   "metadata": {
    "Collapsed": "false"
   },
   "source": [
    "<br>\n",
    "while 루프가 한 줄에 한 글자씩 화면에 출력한다.    \n",
    "루프 조건이 index < len(fruit)이여서, index가 문자열의 길이와 같을 때, 조건은 거짓이 되고, 루프의 몸통 부문은 실행이 되지 않는다.   \n",
    "파이썬이 인쇄한 문자는 인덱스가 len(fruit)-1 인 문자로, 문자열의 마지막 문자다."
   ]
  },
  {
   "cell_type": "markdown",
   "metadata": {
    "Collapsed": "false"
   },
   "source": [
    "<br><br>\n",
    "<span style=\"color:red\">연습문제 5.1 </span> &nbsp;&nbsp; \n",
    "매개변수 letter로 문자열을 입력받아, 문자열의 마지막 문자에서 시작해서, 문자열 처음으로 역진행 하면서 한 줄에 한자씩 화면에 출력하는 while 루프를 가지는 함수 backward(letter)을 정의하라.\n",
    "\n",
    "함수호출의 예\n",
    "\n",
    "<span style=\"color:blue\">backward(\"mango\")   \n",
    "<span style=\"color:orange\">o     \n",
    "g    \n",
    "n   \n",
    "a  \n",
    "m"
   ]
  },
  {
   "cell_type": "markdown",
   "metadata": {
    "Collapsed": "false"
   },
   "source": [
    "<br><br>\n",
    "이번에는 for 루프를 살펴보자."
   ]
  },
  {
   "cell_type": "code",
   "execution_count": null,
   "metadata": {
    "Collapsed": "false"
   },
   "outputs": [],
   "source": [
    "fruit = \"mango\"\n",
    "for char in fruit:\n",
    "    print(char)"
   ]
  },
  {
   "cell_type": "markdown",
   "metadata": {
    "Collapsed": "false"
   },
   "source": [
    "<br><br>\n",
    "루프를 매번 반복할 때, 문자열의 다음 문자가 변수 char에 대입된다.   \n",
    "루프는 더 이상 남겨진 문자가 없을 때까지 계속 실행된다."
   ]
  },
  {
   "cell_type": "markdown",
   "metadata": {
    "Collapsed": "false"
   },
   "source": [
    "## <span style=\"color:red\">4.  &nbsp;&nbsp;문자열 슬라이스(slice)\n"
   ]
  },
  {
   "cell_type": "markdown",
   "metadata": {
    "Collapsed": "false"
   },
   "source": [
    "\n",
    "문자열의 일부분을 슬라이스(slice, 조각)라고 한다.   \n",
    "문자열 슬라이스를 선택하는 것은 문자들로 이루어진 문자열피자에서 몇조각의 슬라이스를 선택하는 것과 유사하다."
   ]
  },
  {
   "cell_type": "markdown",
   "metadata": {
    "Collapsed": "false"
   },
   "source": [
    "![](pic/pic5_1.jpg)"
   ]
  },
  {
   "cell_type": "markdown",
   "metadata": {
    "Collapsed": "false"
   },
   "source": [
    "<br><br>\n",
    "**<span style=\"color:red\">[n:m] 연산자는 n번째 문자부터 m-1번째 문자까지의 문자열 부분을 반환한다.** "
   ]
  },
  {
   "cell_type": "code",
   "execution_count": null,
   "metadata": {
    "Collapsed": "false"
   },
   "outputs": [],
   "source": [
    "fruit = 'banana'\n",
    "fruit[0:6]"
   ]
  },
  {
   "cell_type": "code",
   "execution_count": null,
   "metadata": {
    "Collapsed": "false"
   },
   "outputs": [],
   "source": [
    "fruit = 'banana'\n",
    "fruit[0:5]"
   ]
  },
  {
   "cell_type": "code",
   "execution_count": null,
   "metadata": {
    "Collapsed": "false"
   },
   "outputs": [],
   "source": [
    "fruit = 'banana'\n",
    "fruit[2:5]"
   ]
  },
  {
   "cell_type": "markdown",
   "metadata": {
    "Collapsed": "false"
   },
   "source": [
    "<br>\n",
    "콜론 앞의 첫 인텍스를 생략하면, 문자열 슬라이스는 문자열 처음부터 시작한다."
   ]
  },
  {
   "cell_type": "code",
   "execution_count": null,
   "metadata": {
    "Collapsed": "false"
   },
   "outputs": [],
   "source": [
    "fruit = 'banana'\n",
    "fruit[:4]"
   ]
  },
  {
   "cell_type": "markdown",
   "metadata": {
    "Collapsed": "false"
   },
   "source": [
    "<br>\n",
    "두 번째 인텍스를 생략하면, 문자열 슬라이스는 문자열의 마지막 문자까지 선택한다."
   ]
  },
  {
   "cell_type": "code",
   "execution_count": null,
   "metadata": {
    "Collapsed": "false"
   },
   "outputs": [],
   "source": [
    "fruit = 'banana'\n",
    "fruit[2:]"
   ]
  },
  {
   "cell_type": "markdown",
   "metadata": {
    "Collapsed": "false"
   },
   "source": [
    "<br>\n",
    "만약 첫 번째 인텍스가 두 번째보다 크거나 같은 경우, 결과는 인용부호로 표현되는 빈 문자열(empty string)이 된다."
   ]
  },
  {
   "cell_type": "code",
   "execution_count": null,
   "metadata": {
    "Collapsed": "false"
   },
   "outputs": [],
   "source": [
    "fruit = 'banana'\n",
    "fruit[3:3]"
   ]
  },
  {
   "cell_type": "code",
   "execution_count": null,
   "metadata": {
    "Collapsed": "false"
   },
   "outputs": [],
   "source": [
    "fruit = 'banana'\n",
    "fruit[4:3]"
   ]
  },
  {
   "cell_type": "markdown",
   "metadata": {
    "Collapsed": "false"
   },
   "source": [
    "<br><br>\n",
    "<span style=\"color:red\">연습문제 5.2 </span>    \n",
    "fruit = \"banana\" 일때, fruit [ : ] 은 무엇일까? "
   ]
  },
  {
   "cell_type": "markdown",
   "metadata": {
    "Collapsed": "false"
   },
   "source": [
    "<br><br>\n",
    "<span style=\"color:red\">연습문제 5.3 </span>    \n",
    "fruit = \"banana\" 일때, \"nana\"가 되도록 fruit을 슬라이스하세요. "
   ]
  },
  {
   "cell_type": "markdown",
   "metadata": {
    "Collapsed": "false"
   },
   "source": [
    "<br><br>\n",
    "<span style=\"color:red\">연습문제 5.4 </span>   \n",
    "fruit = \"banana\" 일때, \"bana\"가 되도록 fruit을 슬라이스하세요. "
   ]
  },
  {
   "cell_type": "markdown",
   "metadata": {
    "Collapsed": "false"
   },
   "source": [
    "<br><br>\n",
    "<span style=\"color:red\">연습문제 5.5 </span>   \n",
    "fruit = \"banana\" 일때, \"anan\"가 되도록 fruit을 슬라이스하세요. "
   ]
  },
  {
   "cell_type": "markdown",
   "metadata": {
    "Collapsed": "false"
   },
   "source": [
    "<br><br>\n",
    "<span style=\"color:red\">연습문제 5.6 (수업에서 배우지 않은 내용)</span> &nbsp;&nbsp;   \n",
    "fruit = \"banana\" 일때, \"ananab\"가 되도록(거꾸로 되도록) fruit을 슬라이스하세요. "
   ]
  },
  {
   "cell_type": "markdown",
   "metadata": {
    "Collapsed": "false"
   },
   "source": [
    "## 5.  &nbsp;&nbsp;문자열은 불변 \n"
   ]
  },
  {
   "cell_type": "markdown",
   "metadata": {
    "Collapsed": "false"
   },
   "source": [
    "\n",
    "문자열 내부에 있는 문자를 변경할 목적으로 대입문 왼쪽편에 []연산자를 사용하고 싶은 유혹이 있을 것이다. \n",
    "예를 들어 sport 가 \"golf\" 라는 문자열 값을 가지는데, 이를 \"wolf\"로 바꾸기 위하여 첫 글자를 \"w\"로 바꾸어 보자."
   ]
  },
  {
   "cell_type": "code",
   "execution_count": null,
   "metadata": {
    "Collapsed": "false"
   },
   "outputs": [],
   "source": [
    "sport = 'golf'\n",
    "sport[0] = 'w'"
   ]
  },
  {
   "cell_type": "markdown",
   "metadata": {
    "Collapsed": "false"
   },
   "source": [
    "<br><br>\n",
    "에러가 발생한 이유는 **<span style=\"color:red\">문자열은 불변(immutable)<span>**이기 때문이다.   \n",
    "문자열 중의 일부 문자를 바꿀 수 없다는 의미다.     \n",
    "최선의 방법은 문자열 전체를 새로 대입하든지, 원래 문자열을 변형한 새로운 문자열을 생성하는 것이다.  "
   ]
  },
  {
   "cell_type": "code",
   "execution_count": null,
   "metadata": {
    "Collapsed": "false"
   },
   "outputs": [],
   "source": [
    "sport = 'golf'\n",
    "sport = 'wolf'\n",
    "print(sport)"
   ]
  },
  {
   "cell_type": "code",
   "execution_count": null,
   "metadata": {
    "Collapsed": "false"
   },
   "outputs": [],
   "source": [
    "sport = 'golf'\n",
    "sport = 'w'+ sport[1:]\n",
    "print(sport)"
   ]
  },
  {
   "cell_type": "markdown",
   "metadata": {
    "Collapsed": "false"
   },
   "source": [
    "## 6. &nbsp;&nbsp;횟수 세기(counting) \n"
   ]
  },
  {
   "cell_type": "markdown",
   "metadata": {
    "Collapsed": "false"
   },
   "source": [
    "\n",
    "<br>\n",
    "다음 프로그램은 문자열에 문자 'a'가 나타나는 횟수를 카운트한다."
   ]
  },
  {
   "cell_type": "code",
   "execution_count": null,
   "metadata": {
    "Collapsed": "false"
   },
   "outputs": [],
   "source": [
    "word = 'banana'\n",
    "count = 0\n",
    "\n",
    "for letter in word: \n",
    "    if letter == 'a':\n",
    "        count = count + 1\n",
    "\n",
    "print(count)"
   ]
  },
  {
   "cell_type": "markdown",
   "metadata": {
    "Collapsed": "false"
   },
   "source": [
    "<br>\n",
    "위 프로그램은 카운터(counter)라고 부르는 연산 패턴을 보여준다.  \n",
    "변수 count는 0 으로 초기화 되고, 매번 'a'를 찾을 때마다 1씩 증가한다.   \n",
    "루프를 빠져 나갔을 때, count는 'a'가 나타난 총 횟수를 담고 있다."
   ]
  },
  {
   "cell_type": "markdown",
   "metadata": {
    "Collapsed": "false"
   },
   "source": [
    "<br><br>\n",
    "<span style=\"color:red\">연습문제 5.7 </span> &nbsp;&nbsp; \n",
    "매개변수 word는 문자열을 입력받고, 매개변수 letter는 문자를 입력받아, 위의 코드처럼, 문자열속에 문자가 몇 번 나타나는지를 세어서 반환하는 함수 count(word, letter)를 정의하라.\n",
    "\n",
    "\n",
    "함수 호출의 예\n",
    "\n",
    "<span style=\"color:blue\">\n",
    "count(\"banana\",\"a\") \n",
    "<span style=\"color:orange\">\n",
    "3       "
   ]
  },
  {
   "cell_type": "markdown",
   "metadata": {
    "Collapsed": "false"
   },
   "source": [
    "## 7.  &nbsp;&nbsp;in 연산자 \n"
   ]
  },
  {
   "cell_type": "markdown",
   "metadata": {
    "Collapsed": "false"
   },
   "source": [
    "<br>\n",
    "연산자 in 은 불 연산자로 두 개의 문자열을 받아, 첫 번째 문자열이 두 번째 문자열의 일부이면 참(True)을 반환한다."
   ]
  },
  {
   "cell_type": "code",
   "execution_count": null,
   "metadata": {
    "Collapsed": "false"
   },
   "outputs": [],
   "source": [
    "'a' in 'banana'"
   ]
  },
  {
   "cell_type": "code",
   "execution_count": null,
   "metadata": {
    "Collapsed": "false"
   },
   "outputs": [],
   "source": [
    "'na' in 'banana'"
   ]
  },
  {
   "cell_type": "code",
   "execution_count": null,
   "metadata": {
    "Collapsed": "false"
   },
   "outputs": [],
   "source": [
    "'banana' in 'banana'"
   ]
  },
  {
   "cell_type": "code",
   "execution_count": null,
   "metadata": {
    "Collapsed": "false"
   },
   "outputs": [],
   "source": [
    "'ka' in 'banana'"
   ]
  },
  {
   "cell_type": "markdown",
   "metadata": {
    "Collapsed": "false"
   },
   "source": [
    "<br><br>\n",
    "<span style=\"color:red\">연습문제 5.8 </span> &nbsp;&nbsp; \n",
    "매개변수 text1 과 text2로 각 각 문자열을 입력받아, text1의 문자열이 text2의 일부이면 True를 반환하고, 그렇지 않으면 False를 반환하는  함수 include(text1, text2)를 정의하라.\n",
    "\n",
    "\n",
    "함수 호출의 예\n",
    "\n",
    "<span style=\"color:blue\">\n",
    "include(\"na\",\"banana\"))  \n",
    "<span style=\"color:orange\">\n",
    "True\n",
    "\n",
    "<span style=\"color:blue\">\n",
    "include(\"ka\",\"banana\"))  \n",
    "<span style=\"color:orange\">\n",
    "False"
   ]
  },
  {
   "cell_type": "markdown",
   "metadata": {
    "Collapsed": "false"
   },
   "source": [
    "<br><br><br>\n",
    "## 8.  &nbsp;&nbsp;문자열 끼리 비교 \n",
    "\n",
    "<br>\n",
    "비교 연산자도 문자열에서 동작한다."
   ]
  },
  {
   "cell_type": "code",
   "execution_count": null,
   "metadata": {
    "Collapsed": "false"
   },
   "outputs": [],
   "source": [
    "fruit = 'banana'\n",
    "fruit == \"banana\""
   ]
  },
  {
   "cell_type": "code",
   "execution_count": null,
   "metadata": {
    "Collapsed": "false"
   },
   "outputs": [],
   "source": [
    "\"anana\" < \"banana\""
   ]
  },
  {
   "cell_type": "markdown",
   "metadata": {
    "Collapsed": "false"
   },
   "source": [
    "<br><br>\n",
    "파이썬은 사람과 동일하는 방식으로 대문자와 소문자를 다루지 않는다.   \n",
    "모든 대문자는 어떤 소문자 보다 값이 작다. (즉 정렬하면 먼저 나온다.)."
   ]
  },
  {
   "cell_type": "code",
   "execution_count": null,
   "metadata": {
    "Collapsed": "false"
   },
   "outputs": [],
   "source": [
    "print(ord('A'))\n",
    "print(ord('a'))"
   ]
  },
  {
   "cell_type": "code",
   "execution_count": null,
   "metadata": {
    "Collapsed": "false"
   },
   "outputs": [],
   "source": [
    "print(chr(65))\n",
    "print(chr(97))"
   ]
  },
  {
   "cell_type": "markdown",
   "metadata": {
    "Collapsed": "false"
   },
   "source": [
    "<br><br>\n",
    "만일 문자열을 비교하거나 정렬하는 경우, 대소문자의 구별을 할 필요가 없을 때는,   \n",
    "문자를 모두 소문자나 대문자로 바꾼 후 실시한다.  \n",
    "문자열을 소문자나 대문자로 바꾸는 방법은 다음 절에 나온다."
   ]
  },
  {
   "cell_type": "markdown",
   "metadata": {
    "Collapsed": "false"
   },
   "source": [
    "## <span style=\"color:red\"> 9.  &nbsp;&nbsp;메쏘드, 문자열 메쏘드 \n"
   ]
  },
  {
   "cell_type": "markdown",
   "metadata": {
    "Collapsed": "false"
   },
   "source": [
    "<br>\n",
    "0장에서 파이썬을 소개할 때, 객체지향언어(object oriented language)라고 했다.  \n",
    "잠시 객체지향언어가 무엇인지 살펴보자.  \n",
    "클래스(class), 객체(object), 메쏘드(method)의 개념을 알아보자\n",
    "\n",
    "클래스(class)는 집합명사로 보면 된다.  \n",
    "클래스의 예로 학생(student), 개(dog), ....\n",
    "\n",
    "object(객체)는 클래스에 속한 사례를 뜻한다.  \n",
    "예를 들어, 김철수(Chul-Soo Kim)는 학생이라는 클래스에 속한 객체이다.  \n",
    "루루(LuLu)는 개(dog)라는 클래스에 속한 객체이다.  \n",
    "\n",
    "학생이라는 클래스에 속한 객체들은, 학생들이 할 수 있는 여러가지 활동(메쏘드)을 공유한다.  \n",
    "예를 들어, 물구나무를 선다, 수상스키를 탄다, 술을 먹는다. 잠을 잔다.  \n",
    "\n",
    "개라는 클래스에 속한 객체들은, 개들이 할 수 있는 여러가지 활동(메쏘드)을 공유한다.  \n",
    "예를를 들어, 짖는다, 냄새를 맡는다, 꼬리를 흔든다, 잠을 잔다.  \n",
    "\n",
    "학생도, 개도, 잠을 잔다.  \n",
    "\n",
    "개가 물구나무를 설 수 없다.  \n",
    "학생이 꼬리를 흔들 수 없다.  \n",
    "\n",
    "따라서, 김철수도 루루도 잠을 잔다.  \n",
    "루루는 물구나무를 설 수 없다.  \n",
    "김철수는 꼬리를 흔들 수 없다.  \n",
    "\n",
    "학생에 속하는 새로운 객체 이영희(Young-Hee Lee)가 만들어져도, 할 수 있는 활동은 학생이 할 수 있는 활동뿐이다.  \n",
    "\n",
    "실수로 이영희가 꼬리를 흔드는 일은 원천적으로 불가능하다.  \n",
    "\n",
    "이렇게 함으로써 복잡한 프로그램에서 오류를 막을 수 있는 장점이 있다.  "
   ]
  },
  {
   "cell_type": "markdown",
   "metadata": {
    "Collapsed": "false"
   },
   "source": [
    "<br><br>\n",
    "파이썬에서 문자열(string)은 데이터의 타입이다.   \n",
    "또한 문자열은 클래스이다.  \n",
    "문자열 클래스에서 사용가능한 메쏘드의 목록을 dir( ) 함수가 보여준다."
   ]
  },
  {
   "cell_type": "code",
   "execution_count": null,
   "metadata": {
    "Collapsed": "false"
   },
   "outputs": [],
   "source": [
    "dir(str)"
   ]
  },
  {
   "cell_type": "markdown",
   "metadata": {
    "Collapsed": "false"
   },
   "source": [
    "<br><br>\n",
    "객체에서 사용가능한 메쏘드를 보기 위해서 동일한 함수를 사용하는데, 결과는 클래스 이름을 적용할 때와 동일 하다."
   ]
  },
  {
   "cell_type": "code",
   "execution_count": null,
   "metadata": {
    "Collapsed": "false"
   },
   "outputs": [],
   "source": [
    "dir('banana')"
   ]
  },
  {
   "cell_type": "markdown",
   "metadata": {
    "Collapsed": "false"
   },
   "source": [
    "매개변수를 통해 입력을 받고 값을 반환한다는 점에서 메쏘드(method)를 호출하는 것은 함수를 호출하는 것과 유사하지만, 문법은 다르다.   \n",
    "구분자로 점을 사용해서 변수명에 메쏘드명을 붙여 메쏘드를 호출한다."
   ]
  },
  {
   "cell_type": "markdown",
   "metadata": {
    "Collapsed": "false"
   },
   "source": [
    "예를 들어, upper( ) 메쏘드는 문자열을 받아 모두 대문자로 변환된 새로운 문자열을 반환한다.   \n",
    "word에 문자열이 저장되었다고 하자.   \n",
    "이 경우, upper( )메쏘드는 upper(word) 대신에, word.upper( ) 메쏘드 문법을 사용한다."
   ]
  },
  {
   "cell_type": "code",
   "execution_count": null,
   "metadata": {
    "Collapsed": "false"
   },
   "outputs": [],
   "source": [
    "word = 'banana'\n",
    "new_word = word.upper()\n",
    "print(new_word)"
   ]
  },
  {
   "cell_type": "code",
   "execution_count": null,
   "metadata": {
    "Collapsed": "false"
   },
   "outputs": [],
   "source": [
    "word = 'banana'\n",
    "new_word = upper(word)\n",
    "print(new_word)"
   ]
  },
  {
   "cell_type": "markdown",
   "metadata": {
    "Collapsed": "false"
   },
   "source": [
    "<br><br>\n",
    "빈 괄호는 메쏘드 내부로 전달할 내용이 없다는 것을 나타낸다.  \n",
    "메쏘드를 부르는 것을 호출(invocation)이라고 부른다.   \n",
    "위의 경우, word에 upper() 메쏘드를 호출한다고 말한다.  \n",
    "문자열 변수명 대신에 문자열을 써도 된다."
   ]
  },
  {
   "cell_type": "code",
   "execution_count": null,
   "metadata": {
    "Collapsed": "false"
   },
   "outputs": [],
   "source": [
    "new_word=\"mango\".upper()\n",
    "print(new_word)"
   ]
  },
  {
   "cell_type": "code",
   "execution_count": null,
   "metadata": {
    "Collapsed": "false"
   },
   "outputs": [],
   "source": [
    "new_word=\"Mango\".upper()\n",
    "print(new_word)"
   ]
  },
  {
   "cell_type": "code",
   "execution_count": null,
   "metadata": {
    "Collapsed": "false"
   },
   "outputs": [],
   "source": [
    "new_word=\"MANGO\".lower()\n",
    "print(new_word)"
   ]
  },
  {
   "cell_type": "markdown",
   "metadata": {
    "Collapsed": "false"
   },
   "source": [
    "<br>\n",
    "문자열 안에 문자열의 위치를 찾는 find( )라는 문자열 메쏘드를 살펴보자.\n",
    "![](pic/pic5_1.jpg)"
   ]
  },
  {
   "cell_type": "code",
   "execution_count": null,
   "metadata": {
    "Collapsed": "false"
   },
   "outputs": [],
   "source": [
    "word = 'banana'\n",
    "index = word.find('a')\n",
    "print(index)"
   ]
  },
  {
   "cell_type": "markdown",
   "metadata": {
    "Collapsed": "false"
   },
   "source": [
    "<br>\n",
    "위 예제에서, word 문자열의 find( ) 메쏘드를 호출하여 매개 변수로 찾고자 하는 문자를 넘긴다.   \n",
    "find ( ) 메쏘드는 문자뿐만 아니라 부분 문자열(substring)도 찾을 수 있다."
   ]
  },
  {
   "cell_type": "code",
   "execution_count": null,
   "metadata": {
    "Collapsed": "false"
   },
   "outputs": [],
   "source": [
    "word=\"banana\"\n",
    "word.find('na')"
   ]
  },
  {
   "cell_type": "markdown",
   "metadata": {
    "Collapsed": "false"
   },
   "source": [
    "<br>\n",
    "두 번째 매개변수로 어디서부터 검색을 시작할지 인텍스를 넣을 수 있다."
   ]
  },
  {
   "cell_type": "code",
   "execution_count": null,
   "metadata": {
    "Collapsed": "false"
   },
   "outputs": [],
   "source": [
    "word=\"banana\"\n",
    "word.find('na',3)"
   ]
  },
  {
   "cell_type": "markdown",
   "metadata": {
    "Collapsed": "false"
   },
   "source": [
    "<br>\n",
    "strip( ) 메쏘드도 자주 사용되는데, 문자열 시작과 끝의 화이트스페이스(white space)\n",
    "(space 들, 탭, 새 줄 마크)을 제거할 수 있다. "
   ]
  },
  {
   "cell_type": "code",
   "execution_count": null,
   "metadata": {
    "Collapsed": "false"
   },
   "outputs": [],
   "source": [
    "line = '  Here we go  '\n",
    "line.strip()"
   ]
  },
  {
   "cell_type": "markdown",
   "metadata": {
    "Collapsed": "false"
   },
   "source": [
    "<br>\n",
    "startswith( ) 메쏘드는 매개변수 값으로 시작하는지를 체크하여 True 또는 False 를 반환한다."
   ]
  },
  {
   "cell_type": "code",
   "execution_count": null,
   "metadata": {
    "Collapsed": "false"
   },
   "outputs": [],
   "source": [
    "line = 'Please have a nice day'\n",
    "line.startswith('Please')"
   ]
  },
  {
   "cell_type": "code",
   "execution_count": null,
   "metadata": {
    "Collapsed": "false"
   },
   "outputs": [],
   "source": [
    "line = 'Please have a nice day'\n",
    "line.startswith('p')"
   ]
  },
  {
   "cell_type": "markdown",
   "metadata": {
    "Collapsed": "false"
   },
   "source": [
    "<br>\n",
    "startswith( )는 대소문자를 구별하여 결과를 반환하기 때문에,   \n",
    "먼저 lower () 메쏘드를 사용해서 소문자로 변환한 다음,     \n",
    "startswith( ) 메쏘드를 사용하는 경우가 자주 있다.  "
   ]
  },
  {
   "cell_type": "code",
   "execution_count": null,
   "metadata": {
    "Collapsed": "false"
   },
   "outputs": [],
   "source": [
    "line = 'Please have a nice day'\n",
    "line2=line.lower()\n",
    "line2.startswith('p')"
   ]
  },
  {
   "cell_type": "code",
   "execution_count": null,
   "metadata": {
    "Collapsed": "false"
   },
   "outputs": [],
   "source": [
    "line = 'Please have a nice day'\n",
    "line.lower().startswith('p')"
   ]
  },
  {
   "cell_type": "markdown",
   "metadata": {
    "Collapsed": "false"
   },
   "source": [
    "마지막 예제에서 문자열이 문자 ”p”로 시작하는지를 검증하기 위해서,  \n",
    "lower() 메쏘드를 호출하고 나서 바로 startswith() 메쏘드를 사용한다.   \n",
    "주의깊게 순서만 다룬다면, 한 줄에 다수 메쏘드를 호출할 수 있다."
   ]
  },
  {
   "cell_type": "markdown",
   "metadata": {
    "Collapsed": "false"
   },
   "source": [
    "<br><br>\n",
    "<span style=\"color:red\">연습문제 5.8 </span> &nbsp;&nbsp; \n",
    "count( )로 불리는 문자열 메쏘드가 있다. docs.python.org/library/string.html에서 count( ) 메쏘드에 대한 문서를 읽고,   \n",
    "문자열 'banana'에 'na'가 나온 횟수를 반환하는 메쏘드 호출 프로그램을 작성하라."
   ]
  },
  {
   "cell_type": "code",
   "execution_count": null,
   "metadata": {
    "Collapsed": "false"
   },
   "outputs": [],
   "source": []
  },
  {
   "cell_type": "markdown",
   "metadata": {
    "Collapsed": "false"
   },
   "source": [
    "## 10. &nbsp;&nbsp; 문자열 파싱(Parsing)\n"
   ]
  },
  {
   "cell_type": "markdown",
   "metadata": {
    "Collapsed": "false"
   },
   "source": [
    "\n",
    "<br>\n",
    "파싱(parsing)은 일련의 문자열을 의미있는 토큰(token)으로 분해하는 것을 가르킨다.\n",
    "\n",
    "종종, 문자열을 살펴 특정 부분 문자열(substring)을 찾고 싶다.  \n",
    "예를 들어, 아래와 같은 형식으로 작성된 일련의 라인이 주어졌다고 가정하자.\n",
    "\n",
    "<p style=\"font-family: Courier New; font-size: 1.15em; \">\n",
    "From stephen.marquard@uct.ac.za Sat Jan 5 09:14:16 2008\n",
    "\n",
    "각 라인마다 뒤쪽 전자우편 주소(즉, uct.ac.za)만 뽑아내고 싶다.   \n",
    "find( ) 메쏘드와 문자열 슬라이싱(slicing)을 사용해서 작업을 수행할 수 있다.   \n",
    "우선, 문자열에서 골뱅이(@, at-sign) 기호의 위치를 찾는다.   \n",
    "그리고, 골뱅이 기호뒤 첫 공백위치를 찾는다.   \n",
    "그리고 나서, 찾고자 하는 문자열을 뽑아내기 위해서 문자열 슬라이싱을 사용한다."
   ]
  },
  {
   "cell_type": "markdown",
   "metadata": {
    "Collapsed": "false"
   },
   "source": [
    "<br><br>\n",
    "find( ) 함수에 대한 간략한 설명을 보기 위하여 help( ) 함수를 사용해 보자."
   ]
  },
  {
   "cell_type": "code",
   "execution_count": null,
   "metadata": {
    "Collapsed": "false"
   },
   "outputs": [],
   "source": [
    "help(find)"
   ]
  },
  {
   "cell_type": "markdown",
   "metadata": {
    "Collapsed": "false"
   },
   "source": [
    "에러가 발생했다.  \n",
    "어떻게 하면 설명을 볼 수 있나?"
   ]
  },
  {
   "cell_type": "code",
   "execution_count": null,
   "metadata": {
    "Collapsed": "false"
   },
   "outputs": [],
   "source": []
  },
  {
   "cell_type": "markdown",
   "metadata": {
    "Collapsed": "false"
   },
   "source": [
    "<br><br>\n",
    "원래 문제로 돌아가자.\n",
    "\n",
    "<p style=\"font-family: Courier New; font-size: 1.15em; \">\n",
    "From stephen.marquard@uct.ac.za Sat Jan 5 09:14:16 2008\n",
    "\n",
    "각 라인마다 뒤쪽 전자우편 주소(즉, uct.ac.za)만 뽑아내고 싶다.   \n",
    "find( ) 메쏘드와 문자열 슬라이싱(slicing)을 사용해서 작업을 수행할 수 있다.   \n",
    "\n",
    "step 1: 문자열에서 골뱅이(@, at-sign) 기호의 위치를 찾는다.   \n",
    "step 2: 골뱅이 기호뒤 첫 공백위치를 찾는다.   \n",
    "step 3: 찾고자 하는 문자열을 뽑아내기 위해서 문자열 슬라이싱을 사용한다.\n",
    "\n",
    "먼저 step 1에서 골뱅이(@, at-sign) 기호의 위치를 position_1 이라 하자.\n",
    "다음 셀의 두번째 줄의 find( )메쏘드의 괄호안을 완성하면, <p style=\"color:orange\">21</p> 이 인쇄된다."
   ]
  },
  {
   "cell_type": "code",
   "execution_count": null,
   "metadata": {
    "Collapsed": "false"
   },
   "outputs": [],
   "source": [
    "line = 'From stephen.marquard@uct.ac.za Sat Jan 5 09:14:16 2008'\n",
    "position_1 = line.find('@')\n",
    "print(position_1)"
   ]
  },
  {
   "cell_type": "markdown",
   "metadata": {
    "Collapsed": "false"
   },
   "source": [
    "<br>\n",
    "step 2: 골뱅이 기호뒤 첫 공백위치를 찾는다. \n",
    "다음 셀의 두번째 줄의 find( )메쏘드의 괄호안을 완성하면, <p style=\"color:orange\">31</p> 이 인쇄된다.  \n",
    "\n",
    "\n",
    "(주의: 위에 있는 셀에 있는 코드가 성공적으로 수행 되어야 아래 셀이 정상적으로 작동 됩니다.)"
   ]
  },
  {
   "cell_type": "code",
   "execution_count": null,
   "metadata": {
    "Collapsed": "false"
   },
   "outputs": [],
   "source": [
    "position_2 = line.find(' ' ,position_1)\n",
    "print(position_2)"
   ]
  },
  {
   "cell_type": "markdown",
   "metadata": {
    "Collapsed": "false"
   },
   "source": [
    "step 3: 찾고자 하는 문자열을 뽑아내기 위해서 문자열 슬라이싱을 사용한다.\n",
    "\n",
    "<p style=\"color:orange\">uct.ac.za</p> 이 인쇄된다."
   ]
  },
  {
   "cell_type": "code",
   "execution_count": null,
   "metadata": {
    "Collapsed": "false"
   },
   "outputs": [],
   "source": [
    "eureka = line[        ]\n",
    "print(position_2)"
   ]
  },
  {
   "cell_type": "markdown",
   "metadata": {
    "Collapsed": "false"
   },
   "source": [
    "## 11.  &nbsp;&nbsp;디버깅 \n"
   ]
  },
  {
   "cell_type": "markdown",
   "metadata": {
    "Collapsed": "false"
   },
   "source": [
    "<br>\n",
    "프로그램을 작성할 때, 항상 자신에게 다음과 같이 질문을 하자.   \n",
    "”여기서 무엇이 잘못 될 수 있을까?”   \n",
    "혹은 ”내가 작성한 (완벽한 것처럼 보이는) 이 프로그램을 망가뜨리기 위해 사용자는 무슨 이상한 짓을 할 것인가?\"  \n",
    "\n",
    "예를 들어 앞장의 반복 while 루프를 시연하기 위해 사용한 프로그램을 살펴보자."
   ]
  },
  {
   "cell_type": "code",
   "execution_count": null,
   "metadata": {
    "Collapsed": "false",
    "collapsed": true,
    "jupyter": {
     "outputs_hidden": true
    }
   },
   "outputs": [],
   "source": [
    "while True:\n",
    "    line = input('> ')\n",
    "    if line[0] == '#' :\n",
    "        continue\n",
    "    if line == 'done':\n",
    "        break \n",
    "    print(line)\n",
    "\n",
    "prin('Done!')"
   ]
  },
  {
   "cell_type": "markdown",
   "metadata": {
    "Collapsed": "false"
   },
   "source": [
    "사용자가 입력값으로 빈 공백 줄을 입력하게 될 때 무엇이 발생하는지 살펴보자.\n",
    "위의 코드를 실행하여, 입력 프롬프트에 그냥 엔터키를 쳐보자."
   ]
  },
  {
   "cell_type": "markdown",
   "metadata": {
    "Collapsed": "false"
   },
   "source": [
    "입력 줄이 비어있을 때, 프로그램 코드 3번째 줄을 ”안전”하게 만드는 두 가지 방법이 있다.  \n",
    "하나는 빈 문자열이면 거짓(False)을 반환하도록 startswith( ) 메쏘드를 사용하는 것이다.\n",
    "\n",
    "<span style=\"font-family: Courier New; font-size: 1.15em;\">\n",
    "if line.startswith('#') :</span>"
   ]
  },
  {
   "cell_type": "markdown",
   "metadata": {
    "Collapsed": "false"
   },
   "source": [
    "두 번째 방법으로, 문자열에 적어도 하나 이상의 문자가 있는 경우만 두 번째 논리 표현식이 평가되도록 코드를 작성한다.\n",
    "\n",
    "<span style=\"font-family: Courier New; font-size: 1.15em;\">\n",
    "if len(line) > 0 and line[0] == '#' :<br><br>"
   ]
  },
  {
   "cell_type": "markdown",
   "metadata": {
    "Collapsed": "false"
   },
   "source": [
    "## <span style=\"color:red\">** 연습문제 **</span>  "
   ]
  },
  {
   "cell_type": "markdown",
   "metadata": {
    "Collapsed": "false"
   },
   "source": [
    "<br><br>\n",
    "<span style=\"color:red\">연습문제 5.9 </span> <br> \n",
    "다음 문자열에 대하여 find( ) 메쏘드와 문자열 슬라이싱을 사용하여 콜론(:) 문자 뒤의 문자열을 뽑아내고  \n",
    "float( ) 함수를 사용하여 뽑아낸 문자열을 부동 소수점 숫자로 변환하세요.\n",
    "\n",
    "<span style=\"font-family: Courier New; font-size: 1.15em;\">\n",
    "str = 'X-DSPAM-Confidence: 0.8475'"
   ]
  },
  {
   "cell_type": "markdown",
   "metadata": {
    "Collapsed": "false"
   },
   "source": [
    "<br><br><br>\n",
    "<span style=\"color:red\"> 어려운 문제 </span> <br>\n",
    "매개변수 text로 문자열을 받아들여,  그 문자열 내에서, 문자가 처음으로 나오는 경우는 그대로 두고,   \n",
    "그 문자가 두번째 또는 그 이후로 나오면 모두 \\* 로 바꾸어 반환하는 함수 star(text)를 작성하라.    \n",
    "예를 들면, 'hannam' 은 'han\\*\\*m' 이 된다.  \n",
    "\n",
    "힌트: s.replace(stra, strb) 메쏘드를 사용하면 편리하다.\n",
    "\n",
    "함수 호출의 예\n",
    "\n",
    "<span style=\"color:blue\">\n",
    "print(star(\"hannam\"))<br>  \n",
    "<span style=\"color:orange\">\n",
    "han**m<br><br>\n",
    "\n",
    "<span style=\"color:blue\">\n",
    "print(star(\"hallelujah\"))<br>  \n",
    "<span style=\"color:orange\">\n",
    "hal*e*uj**"
   ]
  }
 ],
 "metadata": {
  "anaconda-cloud": {},
  "kernelspec": {
   "display_name": "Python 3",
   "language": "python",
   "name": "python3"
  },
  "language_info": {
   "codemirror_mode": {
    "name": "ipython",
    "version": 3
   },
   "file_extension": ".py",
   "mimetype": "text/x-python",
   "name": "python",
   "nbconvert_exporter": "python",
   "pygments_lexer": "ipython3",
   "version": "3.7.6"
  }
 },
 "nbformat": 4,
 "nbformat_minor": 4
}
